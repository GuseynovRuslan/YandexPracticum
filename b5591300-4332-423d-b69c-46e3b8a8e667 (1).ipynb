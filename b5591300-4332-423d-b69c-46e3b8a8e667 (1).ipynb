{
 "cells": [
  {
   "cell_type": "markdown",
   "metadata": {},
   "source": [
    "**Руслан, привет!**\n",
    "\n",
    "Меня зовут Артемьева Саша, я буду проверять твой проект. Приятно познакомиться, хоть и заочно:)\n",
    "    \n",
    "Предлагаю общаться на «ты» :) Но если это не удобно - дай знать, и мы перейдем на \"вы\". \n",
    "\n",
    "Моя основная цель — не указать на совершенные тобою ошибки, а поделиться своим опытом и помочь тебе стать аналитиком данных. Ты уже проделал большую работу над проектом, но давай сделаем его еще лучше. Ниже ты найдешь мои комментарии - пожалуйста, не перемещай, не изменяй и не удаляй их. Я буду использовать цветовую разметку:\n",
    "\n",
    "<div class=\"alert alert-danger\">\n",
    "<b>❌ Комментарий ревьюера:</b> Так выделены самые важные замечания. Без их отработки проект не будет принят. </div>\n",
    "\n",
    "<div class=\"alert alert-warning\">\n",
    "<b>⚠️ Комментарий ревьюера:</b> Так выделены небольшие замечания. Одно-два таких замечания в проекте допустимы, но если их будет больше - тебе будет необходимо внести исправления. Это как тестовое задание при приеме на работу: очень много мелких ошибок могут стать причиной отказа кандидату. \n",
    "\n",
    "</div>\n",
    "\n",
    "<div class=\"alert alert-success\">\n",
    "<b>✔️ Комментарий ревьюера:</b> Так я выделяю все остальные комментарии.</div>\n",
    "\n",
    "Давай работать над проектом в диалоге: если ты что-то меняешь в проекте или отвечаешь на мои комменатри — пиши об этом. Мне будет легче отследить изменения, если ты выделишь свои комментарии:\n",
    "<div class=\"alert alert-info\"> <b>Комментарий студента:</b> Например, вот так.</div>\n",
    "\n",
    "Всё это поможет выполнить повторную проверку твоего проекта оперативнее. \n"
   ]
  },
  {
   "cell_type": "markdown",
   "metadata": {
    "toc": true
   },
   "source": [
    "<h1>Содержание<span class=\"tocSkip\"></span></h1>\n",
    "<div class=\"toc\"><ul class=\"toc-item\"><li><span><a href=\"#Изучение-данных-из-файла\" data-toc-modified-id=\"Изучение-данных-из-файла-1\"><span class=\"toc-item-num\">1&nbsp;&nbsp;</span>Изучение данных из файла</a></span><ul class=\"toc-item\"><li><span><a href=\"#Вывод\" data-toc-modified-id=\"Вывод-1.1\"><span class=\"toc-item-num\">1.1&nbsp;&nbsp;</span>Вывод</a></span></li></ul></li><li><span><a href=\"#Предобработка-данных\" data-toc-modified-id=\"Предобработка-данных-2\"><span class=\"toc-item-num\">2&nbsp;&nbsp;</span>Предобработка данных</a></span></li><li><span><a href=\"#Расчёты-и-добавление-результатов-в-таблицу\" data-toc-modified-id=\"Расчёты-и-добавление-результатов-в-таблицу-3\"><span class=\"toc-item-num\">3&nbsp;&nbsp;</span>Расчёты и добавление результатов в таблицу</a></span></li><li><span><a href=\"#Исследовательский-анализ-данных\" data-toc-modified-id=\"Исследовательский-анализ-данных-4\"><span class=\"toc-item-num\">4&nbsp;&nbsp;</span>Исследовательский анализ данных</a></span><ul class=\"toc-item\"><li><span><a href=\"#Задача\" data-toc-modified-id=\"Задача-4.1\"><span class=\"toc-item-num\">4.1&nbsp;&nbsp;</span>Задача</a></span></li><li><span><a href=\"#Задача\" data-toc-modified-id=\"Задача-4.2\"><span class=\"toc-item-num\">4.2&nbsp;&nbsp;</span>Задача</a></span></li><li><span><a href=\"#Задача\" data-toc-modified-id=\"Задача-4.3\"><span class=\"toc-item-num\">4.3&nbsp;&nbsp;</span>Задача</a></span></li><li><span><a href=\"#Задача\" data-toc-modified-id=\"Задача-4.4\"><span class=\"toc-item-num\">4.4&nbsp;&nbsp;</span>Задача</a></span></li></ul></li><li><span><a href=\"#Общий-вывод\" data-toc-modified-id=\"Общий-вывод-5\"><span class=\"toc-item-num\">5&nbsp;&nbsp;</span>Общий вывод</a></span></li><li><span><a href=\"#Чек-лист-готовности-проекта\" data-toc-modified-id=\"Чек-лист-готовности-проекта-6\"><span class=\"toc-item-num\">6&nbsp;&nbsp;</span>Чек-лист готовности проекта</a></span></li></ul></div>"
   ]
  },
  {
   "cell_type": "markdown",
   "metadata": {},
   "source": [
    "# Исследование объявлений о продаже квартир\n",
    "\n",
    "В вашем распоряжении данные сервиса Яндекc Недвижимость — архив объявлений о продаже квартир в Санкт-Петербурге и соседних населённых пунктах за несколько лет. Нужно научиться определять рыночную стоимость объектов недвижимости. Ваша задача — установить параметры. Это позволит построить автоматизированную систему: она отследит аномалии и мошенническую деятельность. \n",
    "\n",
    "По каждой квартире на продажу доступны два вида данных. Первые вписаны пользователем, вторые получены автоматически на основе картографических данных. Например, расстояние до центра, аэропорта, ближайшего парка и водоёма. \n",
    "\n",
    "- Шаг 1: Изучим датасет\n",
    "- Шаг 2: Определим, изучим и приведем к должному виду пропущенные значения и аномалии\n",
    "- Шаг 3: Обработаем таблицу и добавим новые значени для удобной работы с поставленными задачами\n",
    "- Шаг 4: Проведём исследование и построим гистограммы для наглядного примера\n",
    "- Шаг 5: Подведём общий вывод исследования, целью которого будут изучиение таких параметров, как: площадь, цена, число комнат, высота потолков, время продажи квартиры, факторы стоимости квартиры, выбивающиеся значения и тд."
   ]
  },
  {
   "cell_type": "markdown",
   "metadata": {},
   "source": [
    "<div class=\"alert alert-warning\">\n",
    "<b>⚠️ Комментарий ревьюера:</b> Молодец, что задал шапку профиля! Еще в ней стоит написать шаги исследования и цели, которые мы должны достигнуть в финале работы"
   ]
  },
  {
   "cell_type": "markdown",
   "metadata": {},
   "source": [
    "<div class=\"alert alert-info\">Добавил шаги и цель исследования"
   ]
  },
  {
   "cell_type": "markdown",
   "metadata": {},
   "source": [
    "<div class=\"alert alert-success\">\n",
    "<b>✔️ Комментарий ревьюера V2:</b> Отлично! Теперь вводная выглядит завершенной "
   ]
  },
  {
   "cell_type": "markdown",
   "metadata": {},
   "source": [
    "## Изучение данных из файла"
   ]
  },
  {
   "cell_type": "code",
   "execution_count": 1,
   "metadata": {},
   "outputs": [],
   "source": [
    "import pandas as pd"
   ]
  },
  {
   "cell_type": "code",
   "execution_count": 2,
   "metadata": {},
   "outputs": [
    {
     "data": {
      "text/html": [
       "<div>\n",
       "<style scoped>\n",
       "    .dataframe tbody tr th:only-of-type {\n",
       "        vertical-align: middle;\n",
       "    }\n",
       "\n",
       "    .dataframe tbody tr th {\n",
       "        vertical-align: top;\n",
       "    }\n",
       "\n",
       "    .dataframe thead th {\n",
       "        text-align: right;\n",
       "    }\n",
       "</style>\n",
       "<table border=\"1\" class=\"dataframe\">\n",
       "  <thead>\n",
       "    <tr style=\"text-align: right;\">\n",
       "      <th></th>\n",
       "      <th>total_images</th>\n",
       "      <th>last_price</th>\n",
       "      <th>total_area</th>\n",
       "      <th>first_day_exposition</th>\n",
       "      <th>rooms</th>\n",
       "      <th>ceiling_height</th>\n",
       "      <th>floors_total</th>\n",
       "      <th>living_area</th>\n",
       "      <th>floor</th>\n",
       "      <th>is_apartment</th>\n",
       "      <th>...</th>\n",
       "      <th>kitchen_area</th>\n",
       "      <th>balcony</th>\n",
       "      <th>locality_name</th>\n",
       "      <th>airports_nearest</th>\n",
       "      <th>cityCenters_nearest</th>\n",
       "      <th>parks_around3000</th>\n",
       "      <th>parks_nearest</th>\n",
       "      <th>ponds_around3000</th>\n",
       "      <th>ponds_nearest</th>\n",
       "      <th>days_exposition</th>\n",
       "    </tr>\n",
       "  </thead>\n",
       "  <tbody>\n",
       "    <tr>\n",
       "      <th>0</th>\n",
       "      <td>20</td>\n",
       "      <td>13000000.0</td>\n",
       "      <td>108.00</td>\n",
       "      <td>2019-03-07T00:00:00</td>\n",
       "      <td>3</td>\n",
       "      <td>2.70</td>\n",
       "      <td>16.0</td>\n",
       "      <td>51.00</td>\n",
       "      <td>8</td>\n",
       "      <td>NaN</td>\n",
       "      <td>...</td>\n",
       "      <td>25.00</td>\n",
       "      <td>NaN</td>\n",
       "      <td>Санкт-Петербург</td>\n",
       "      <td>18863.0</td>\n",
       "      <td>16028.0</td>\n",
       "      <td>1.0</td>\n",
       "      <td>482.0</td>\n",
       "      <td>2.0</td>\n",
       "      <td>755.0</td>\n",
       "      <td>NaN</td>\n",
       "    </tr>\n",
       "    <tr>\n",
       "      <th>1</th>\n",
       "      <td>7</td>\n",
       "      <td>3350000.0</td>\n",
       "      <td>40.40</td>\n",
       "      <td>2018-12-04T00:00:00</td>\n",
       "      <td>1</td>\n",
       "      <td>NaN</td>\n",
       "      <td>11.0</td>\n",
       "      <td>18.60</td>\n",
       "      <td>1</td>\n",
       "      <td>NaN</td>\n",
       "      <td>...</td>\n",
       "      <td>11.00</td>\n",
       "      <td>2.0</td>\n",
       "      <td>посёлок Шушары</td>\n",
       "      <td>12817.0</td>\n",
       "      <td>18603.0</td>\n",
       "      <td>0.0</td>\n",
       "      <td>NaN</td>\n",
       "      <td>0.0</td>\n",
       "      <td>NaN</td>\n",
       "      <td>81.0</td>\n",
       "    </tr>\n",
       "    <tr>\n",
       "      <th>2</th>\n",
       "      <td>10</td>\n",
       "      <td>5196000.0</td>\n",
       "      <td>56.00</td>\n",
       "      <td>2015-08-20T00:00:00</td>\n",
       "      <td>2</td>\n",
       "      <td>NaN</td>\n",
       "      <td>5.0</td>\n",
       "      <td>34.30</td>\n",
       "      <td>4</td>\n",
       "      <td>NaN</td>\n",
       "      <td>...</td>\n",
       "      <td>8.30</td>\n",
       "      <td>0.0</td>\n",
       "      <td>Санкт-Петербург</td>\n",
       "      <td>21741.0</td>\n",
       "      <td>13933.0</td>\n",
       "      <td>1.0</td>\n",
       "      <td>90.0</td>\n",
       "      <td>2.0</td>\n",
       "      <td>574.0</td>\n",
       "      <td>558.0</td>\n",
       "    </tr>\n",
       "    <tr>\n",
       "      <th>3</th>\n",
       "      <td>0</td>\n",
       "      <td>64900000.0</td>\n",
       "      <td>159.00</td>\n",
       "      <td>2015-07-24T00:00:00</td>\n",
       "      <td>3</td>\n",
       "      <td>NaN</td>\n",
       "      <td>14.0</td>\n",
       "      <td>NaN</td>\n",
       "      <td>9</td>\n",
       "      <td>NaN</td>\n",
       "      <td>...</td>\n",
       "      <td>NaN</td>\n",
       "      <td>0.0</td>\n",
       "      <td>Санкт-Петербург</td>\n",
       "      <td>28098.0</td>\n",
       "      <td>6800.0</td>\n",
       "      <td>2.0</td>\n",
       "      <td>84.0</td>\n",
       "      <td>3.0</td>\n",
       "      <td>234.0</td>\n",
       "      <td>424.0</td>\n",
       "    </tr>\n",
       "    <tr>\n",
       "      <th>4</th>\n",
       "      <td>2</td>\n",
       "      <td>10000000.0</td>\n",
       "      <td>100.00</td>\n",
       "      <td>2018-06-19T00:00:00</td>\n",
       "      <td>2</td>\n",
       "      <td>3.03</td>\n",
       "      <td>14.0</td>\n",
       "      <td>32.00</td>\n",
       "      <td>13</td>\n",
       "      <td>NaN</td>\n",
       "      <td>...</td>\n",
       "      <td>41.00</td>\n",
       "      <td>NaN</td>\n",
       "      <td>Санкт-Петербург</td>\n",
       "      <td>31856.0</td>\n",
       "      <td>8098.0</td>\n",
       "      <td>2.0</td>\n",
       "      <td>112.0</td>\n",
       "      <td>1.0</td>\n",
       "      <td>48.0</td>\n",
       "      <td>121.0</td>\n",
       "    </tr>\n",
       "    <tr>\n",
       "      <th>5</th>\n",
       "      <td>10</td>\n",
       "      <td>2890000.0</td>\n",
       "      <td>30.40</td>\n",
       "      <td>2018-09-10T00:00:00</td>\n",
       "      <td>1</td>\n",
       "      <td>NaN</td>\n",
       "      <td>12.0</td>\n",
       "      <td>14.40</td>\n",
       "      <td>5</td>\n",
       "      <td>NaN</td>\n",
       "      <td>...</td>\n",
       "      <td>9.10</td>\n",
       "      <td>NaN</td>\n",
       "      <td>городской посёлок Янино-1</td>\n",
       "      <td>NaN</td>\n",
       "      <td>NaN</td>\n",
       "      <td>NaN</td>\n",
       "      <td>NaN</td>\n",
       "      <td>NaN</td>\n",
       "      <td>NaN</td>\n",
       "      <td>55.0</td>\n",
       "    </tr>\n",
       "    <tr>\n",
       "      <th>6</th>\n",
       "      <td>6</td>\n",
       "      <td>3700000.0</td>\n",
       "      <td>37.30</td>\n",
       "      <td>2017-11-02T00:00:00</td>\n",
       "      <td>1</td>\n",
       "      <td>NaN</td>\n",
       "      <td>26.0</td>\n",
       "      <td>10.60</td>\n",
       "      <td>6</td>\n",
       "      <td>NaN</td>\n",
       "      <td>...</td>\n",
       "      <td>14.40</td>\n",
       "      <td>1.0</td>\n",
       "      <td>посёлок Парголово</td>\n",
       "      <td>52996.0</td>\n",
       "      <td>19143.0</td>\n",
       "      <td>0.0</td>\n",
       "      <td>NaN</td>\n",
       "      <td>0.0</td>\n",
       "      <td>NaN</td>\n",
       "      <td>155.0</td>\n",
       "    </tr>\n",
       "    <tr>\n",
       "      <th>7</th>\n",
       "      <td>5</td>\n",
       "      <td>7915000.0</td>\n",
       "      <td>71.60</td>\n",
       "      <td>2019-04-18T00:00:00</td>\n",
       "      <td>2</td>\n",
       "      <td>NaN</td>\n",
       "      <td>24.0</td>\n",
       "      <td>NaN</td>\n",
       "      <td>22</td>\n",
       "      <td>NaN</td>\n",
       "      <td>...</td>\n",
       "      <td>18.90</td>\n",
       "      <td>2.0</td>\n",
       "      <td>Санкт-Петербург</td>\n",
       "      <td>23982.0</td>\n",
       "      <td>11634.0</td>\n",
       "      <td>0.0</td>\n",
       "      <td>NaN</td>\n",
       "      <td>0.0</td>\n",
       "      <td>NaN</td>\n",
       "      <td>NaN</td>\n",
       "    </tr>\n",
       "    <tr>\n",
       "      <th>8</th>\n",
       "      <td>20</td>\n",
       "      <td>2900000.0</td>\n",
       "      <td>33.16</td>\n",
       "      <td>2018-05-23T00:00:00</td>\n",
       "      <td>1</td>\n",
       "      <td>NaN</td>\n",
       "      <td>27.0</td>\n",
       "      <td>15.43</td>\n",
       "      <td>26</td>\n",
       "      <td>NaN</td>\n",
       "      <td>...</td>\n",
       "      <td>8.81</td>\n",
       "      <td>NaN</td>\n",
       "      <td>посёлок Мурино</td>\n",
       "      <td>NaN</td>\n",
       "      <td>NaN</td>\n",
       "      <td>NaN</td>\n",
       "      <td>NaN</td>\n",
       "      <td>NaN</td>\n",
       "      <td>NaN</td>\n",
       "      <td>189.0</td>\n",
       "    </tr>\n",
       "    <tr>\n",
       "      <th>9</th>\n",
       "      <td>18</td>\n",
       "      <td>5400000.0</td>\n",
       "      <td>61.00</td>\n",
       "      <td>2017-02-26T00:00:00</td>\n",
       "      <td>3</td>\n",
       "      <td>2.50</td>\n",
       "      <td>9.0</td>\n",
       "      <td>43.60</td>\n",
       "      <td>7</td>\n",
       "      <td>NaN</td>\n",
       "      <td>...</td>\n",
       "      <td>6.50</td>\n",
       "      <td>2.0</td>\n",
       "      <td>Санкт-Петербург</td>\n",
       "      <td>50898.0</td>\n",
       "      <td>15008.0</td>\n",
       "      <td>0.0</td>\n",
       "      <td>NaN</td>\n",
       "      <td>0.0</td>\n",
       "      <td>NaN</td>\n",
       "      <td>289.0</td>\n",
       "    </tr>\n",
       "  </tbody>\n",
       "</table>\n",
       "<p>10 rows × 22 columns</p>\n",
       "</div>"
      ],
      "text/plain": [
       "   total_images  last_price  total_area first_day_exposition  rooms  \\\n",
       "0            20  13000000.0      108.00  2019-03-07T00:00:00      3   \n",
       "1             7   3350000.0       40.40  2018-12-04T00:00:00      1   \n",
       "2            10   5196000.0       56.00  2015-08-20T00:00:00      2   \n",
       "3             0  64900000.0      159.00  2015-07-24T00:00:00      3   \n",
       "4             2  10000000.0      100.00  2018-06-19T00:00:00      2   \n",
       "5            10   2890000.0       30.40  2018-09-10T00:00:00      1   \n",
       "6             6   3700000.0       37.30  2017-11-02T00:00:00      1   \n",
       "7             5   7915000.0       71.60  2019-04-18T00:00:00      2   \n",
       "8            20   2900000.0       33.16  2018-05-23T00:00:00      1   \n",
       "9            18   5400000.0       61.00  2017-02-26T00:00:00      3   \n",
       "\n",
       "   ceiling_height  floors_total  living_area  floor is_apartment  ...  \\\n",
       "0            2.70          16.0        51.00      8          NaN  ...   \n",
       "1             NaN          11.0        18.60      1          NaN  ...   \n",
       "2             NaN           5.0        34.30      4          NaN  ...   \n",
       "3             NaN          14.0          NaN      9          NaN  ...   \n",
       "4            3.03          14.0        32.00     13          NaN  ...   \n",
       "5             NaN          12.0        14.40      5          NaN  ...   \n",
       "6             NaN          26.0        10.60      6          NaN  ...   \n",
       "7             NaN          24.0          NaN     22          NaN  ...   \n",
       "8             NaN          27.0        15.43     26          NaN  ...   \n",
       "9            2.50           9.0        43.60      7          NaN  ...   \n",
       "\n",
       "   kitchen_area  balcony              locality_name  airports_nearest  \\\n",
       "0         25.00      NaN            Санкт-Петербург           18863.0   \n",
       "1         11.00      2.0             посёлок Шушары           12817.0   \n",
       "2          8.30      0.0            Санкт-Петербург           21741.0   \n",
       "3           NaN      0.0            Санкт-Петербург           28098.0   \n",
       "4         41.00      NaN            Санкт-Петербург           31856.0   \n",
       "5          9.10      NaN  городской посёлок Янино-1               NaN   \n",
       "6         14.40      1.0          посёлок Парголово           52996.0   \n",
       "7         18.90      2.0            Санкт-Петербург           23982.0   \n",
       "8          8.81      NaN             посёлок Мурино               NaN   \n",
       "9          6.50      2.0            Санкт-Петербург           50898.0   \n",
       "\n",
       "  cityCenters_nearest  parks_around3000  parks_nearest  ponds_around3000  \\\n",
       "0             16028.0               1.0          482.0               2.0   \n",
       "1             18603.0               0.0            NaN               0.0   \n",
       "2             13933.0               1.0           90.0               2.0   \n",
       "3              6800.0               2.0           84.0               3.0   \n",
       "4              8098.0               2.0          112.0               1.0   \n",
       "5                 NaN               NaN            NaN               NaN   \n",
       "6             19143.0               0.0            NaN               0.0   \n",
       "7             11634.0               0.0            NaN               0.0   \n",
       "8                 NaN               NaN            NaN               NaN   \n",
       "9             15008.0               0.0            NaN               0.0   \n",
       "\n",
       "   ponds_nearest  days_exposition  \n",
       "0          755.0              NaN  \n",
       "1            NaN             81.0  \n",
       "2          574.0            558.0  \n",
       "3          234.0            424.0  \n",
       "4           48.0            121.0  \n",
       "5            NaN             55.0  \n",
       "6            NaN            155.0  \n",
       "7            NaN              NaN  \n",
       "8            NaN            189.0  \n",
       "9            NaN            289.0  \n",
       "\n",
       "[10 rows x 22 columns]"
      ]
     },
     "metadata": {},
     "output_type": "display_data"
    }
   ],
   "source": [
    "data = pd.read_csv('/datasets/real_estate_data.csv', sep='\\t')\n",
    "\n",
    "display(data.head(10))"
   ]
  },
  {
   "cell_type": "code",
   "execution_count": 3,
   "metadata": {
    "scrolled": true
   },
   "outputs": [
    {
     "name": "stdout",
     "output_type": "stream",
     "text": [
      "<class 'pandas.core.frame.DataFrame'>\n",
      "RangeIndex: 23699 entries, 0 to 23698\n",
      "Data columns (total 22 columns):\n",
      " #   Column                Non-Null Count  Dtype  \n",
      "---  ------                --------------  -----  \n",
      " 0   total_images          23699 non-null  int64  \n",
      " 1   last_price            23699 non-null  float64\n",
      " 2   total_area            23699 non-null  float64\n",
      " 3   first_day_exposition  23699 non-null  object \n",
      " 4   rooms                 23699 non-null  int64  \n",
      " 5   ceiling_height        14504 non-null  float64\n",
      " 6   floors_total          23613 non-null  float64\n",
      " 7   living_area           21796 non-null  float64\n",
      " 8   floor                 23699 non-null  int64  \n",
      " 9   is_apartment          2775 non-null   object \n",
      " 10  studio                23699 non-null  bool   \n",
      " 11  open_plan             23699 non-null  bool   \n",
      " 12  kitchen_area          21421 non-null  float64\n",
      " 13  balcony               12180 non-null  float64\n",
      " 14  locality_name         23650 non-null  object \n",
      " 15  airports_nearest      18157 non-null  float64\n",
      " 16  cityCenters_nearest   18180 non-null  float64\n",
      " 17  parks_around3000      18181 non-null  float64\n",
      " 18  parks_nearest         8079 non-null   float64\n",
      " 19  ponds_around3000      18181 non-null  float64\n",
      " 20  ponds_nearest         9110 non-null   float64\n",
      " 21  days_exposition       20518 non-null  float64\n",
      "dtypes: bool(2), float64(14), int64(3), object(3)\n",
      "memory usage: 3.7+ MB\n"
     ]
    }
   ],
   "source": [
    "data.info()"
   ]
  },
  {
   "cell_type": "code",
   "execution_count": 4,
   "metadata": {},
   "outputs": [
    {
     "data": {
      "text/plain": [
       "total_images                0\n",
       "last_price                  0\n",
       "total_area                  0\n",
       "first_day_exposition        0\n",
       "rooms                       0\n",
       "ceiling_height           9195\n",
       "floors_total               86\n",
       "living_area              1903\n",
       "floor                       0\n",
       "is_apartment            20924\n",
       "studio                      0\n",
       "open_plan                   0\n",
       "kitchen_area             2278\n",
       "balcony                 11519\n",
       "locality_name              49\n",
       "airports_nearest         5542\n",
       "cityCenters_nearest      5519\n",
       "parks_around3000         5518\n",
       "parks_nearest           15620\n",
       "ponds_around3000         5518\n",
       "ponds_nearest           14589\n",
       "days_exposition          3181\n",
       "dtype: int64"
      ]
     },
     "execution_count": 4,
     "metadata": {},
     "output_type": "execute_result"
    }
   ],
   "source": [
    "data.isna().sum()"
   ]
  },
  {
   "cell_type": "markdown",
   "metadata": {},
   "source": [
    "<div class=\"alert alert-warning\">\n",
    "<b>⚠️ Комментарий ревьюера:</b> Я бы советовала сразу выводить долю пропусков. Так мы увидим, что можно отбросить, а с чем надо работать"
   ]
  },
  {
   "cell_type": "markdown",
   "metadata": {},
   "source": [
    "Из данных видно, что существует множество пропусков. Я считаю, что заполнять все пропуски не имеет смысла, так как некоторые продавцы просто не имели определенных следений о квартире."
   ]
  },
  {
   "cell_type": "code",
   "execution_count": 5,
   "metadata": {},
   "outputs": [
    {
     "data": {
      "text/plain": [
       "False    23699\n",
       "dtype: int64"
      ]
     },
     "execution_count": 5,
     "metadata": {},
     "output_type": "execute_result"
    }
   ],
   "source": [
    "data.duplicated().value_counts()"
   ]
  },
  {
   "cell_type": "code",
   "execution_count": 6,
   "metadata": {},
   "outputs": [
    {
     "data": {
      "text/plain": [
       "array([ 4,  1, 12,  8,  9, 22, 15,  6,  7,  3, 18, 13, 24, 21, 11,  2,  5,\n",
       "       19, 20, 14, 17, 23, 10])"
      ]
     },
     "execution_count": 6,
     "metadata": {},
     "output_type": "execute_result"
    }
   ],
   "source": [
    "data_floors = data[data['floors_total'].isna()]\n",
    "data_floors['floor'].unique()"
   ]
  },
  {
   "cell_type": "code",
   "execution_count": 7,
   "metadata": {},
   "outputs": [
    {
     "data": {
      "text/plain": [
       "array([False,  True])"
      ]
     },
     "execution_count": 7,
     "metadata": {},
     "output_type": "execute_result"
    }
   ],
   "source": [
    "data_apart = data[data['is_apartment'].isna()]\n",
    "data_apart['studio'].unique()"
   ]
  },
  {
   "cell_type": "code",
   "execution_count": 8,
   "metadata": {},
   "outputs": [
    {
     "data": {
      "text/plain": [
       "array([False,  True])"
      ]
     },
     "execution_count": 8,
     "metadata": {},
     "output_type": "execute_result"
    }
   ],
   "source": [
    "data_kitchen = data[data['kitchen_area'].isna()]\n",
    "data_kitchen['studio'].unique()"
   ]
  },
  {
   "cell_type": "code",
   "execution_count": 9,
   "metadata": {},
   "outputs": [
    {
     "data": {
      "text/plain": [
       "False    2725\n",
       "True       50\n",
       "Name: is_apartment, dtype: int64"
      ]
     },
     "execution_count": 9,
     "metadata": {},
     "output_type": "execute_result"
    }
   ],
   "source": [
    "data['is_apartment'].value_counts()"
   ]
  },
  {
   "cell_type": "markdown",
   "metadata": {},
   "source": [
    "Далее проверял имеется ли какая-нибудь закономерность в пропусках, но, к сожалению, ничего не нашел."
   ]
  },
  {
   "cell_type": "markdown",
   "metadata": {},
   "source": [
    "### Вывод"
   ]
  },
  {
   "cell_type": "markdown",
   "metadata": {},
   "source": [
    "Было выявленно множество пропусков и не одного дубликата. Очевидная закономерность не наблюдается. Предполагаю, что некоторые продавцы просто не имели определенных следений о квартире или они просто нерелевантны. Считаю необходимым заполнить пропуски в данных, где в этом есть смысл и необходимость."
   ]
  },
  {
   "cell_type": "markdown",
   "metadata": {},
   "source": [
    "## Предобработка данных"
   ]
  },
  {
   "cell_type": "code",
   "execution_count": 10,
   "metadata": {},
   "outputs": [],
   "source": [
    "data['floors_total'] = data['floors_total'].fillna(data['floors_total'].median())\n",
    "data['living_area'] = data['living_area'].fillna(data['living_area'].median())\n",
    "data['kitchen_area'] = data['kitchen_area'].fillna(data['kitchen_area'].median())\n",
    "data['balcony'] = data['balcony'].fillna(0)\n",
    "data['locality_name'] = data['locality_name'].fillna('Unknown')\n",
    "data['cityCenters_nearest'] = data['cityCenters_nearest'].fillna(data['cityCenters_nearest'].median())"
   ]
  },
  {
   "cell_type": "markdown",
   "metadata": {},
   "source": [
    "<div class=\"alert alert-warning\">\n",
    "<b>⚠️ Комментарий ревьюера:</b> Однотипные замены можно делать циклом"
   ]
  },
  {
   "cell_type": "code",
   "execution_count": 11,
   "metadata": {},
   "outputs": [
    {
     "data": {
      "text/html": [
       "<div>\n",
       "<style scoped>\n",
       "    .dataframe tbody tr th:only-of-type {\n",
       "        vertical-align: middle;\n",
       "    }\n",
       "\n",
       "    .dataframe tbody tr th {\n",
       "        vertical-align: top;\n",
       "    }\n",
       "\n",
       "    .dataframe thead th {\n",
       "        text-align: right;\n",
       "    }\n",
       "</style>\n",
       "<table border=\"1\" class=\"dataframe\">\n",
       "  <thead>\n",
       "    <tr style=\"text-align: right;\">\n",
       "      <th></th>\n",
       "      <th>total_images</th>\n",
       "      <th>last_price</th>\n",
       "      <th>total_area</th>\n",
       "      <th>first_day_exposition</th>\n",
       "      <th>rooms</th>\n",
       "      <th>ceiling_height</th>\n",
       "      <th>floors_total</th>\n",
       "      <th>living_area</th>\n",
       "      <th>floor</th>\n",
       "      <th>is_apartment</th>\n",
       "      <th>...</th>\n",
       "      <th>kitchen_area</th>\n",
       "      <th>balcony</th>\n",
       "      <th>locality_name</th>\n",
       "      <th>airports_nearest</th>\n",
       "      <th>cityCenters_nearest</th>\n",
       "      <th>parks_around3000</th>\n",
       "      <th>parks_nearest</th>\n",
       "      <th>ponds_around3000</th>\n",
       "      <th>ponds_nearest</th>\n",
       "      <th>days_exposition</th>\n",
       "    </tr>\n",
       "  </thead>\n",
       "  <tbody>\n",
       "    <tr>\n",
       "      <th>457</th>\n",
       "      <td>4</td>\n",
       "      <td>9788348.0</td>\n",
       "      <td>70.80</td>\n",
       "      <td>2015-08-01T00:00:00</td>\n",
       "      <td>2</td>\n",
       "      <td>NaN</td>\n",
       "      <td>9.0</td>\n",
       "      <td>38.40</td>\n",
       "      <td>12</td>\n",
       "      <td>NaN</td>\n",
       "      <td>...</td>\n",
       "      <td>10.63</td>\n",
       "      <td>0.0</td>\n",
       "      <td>Санкт-Петербург</td>\n",
       "      <td>37364.0</td>\n",
       "      <td>8322.0</td>\n",
       "      <td>2.0</td>\n",
       "      <td>309.0</td>\n",
       "      <td>2.0</td>\n",
       "      <td>706.0</td>\n",
       "      <td>727.0</td>\n",
       "    </tr>\n",
       "    <tr>\n",
       "      <th>2392</th>\n",
       "      <td>7</td>\n",
       "      <td>5395770.0</td>\n",
       "      <td>53.00</td>\n",
       "      <td>2017-06-29T00:00:00</td>\n",
       "      <td>2</td>\n",
       "      <td>NaN</td>\n",
       "      <td>9.0</td>\n",
       "      <td>29.00</td>\n",
       "      <td>22</td>\n",
       "      <td>NaN</td>\n",
       "      <td>...</td>\n",
       "      <td>9.00</td>\n",
       "      <td>0.0</td>\n",
       "      <td>Санкт-Петербург</td>\n",
       "      <td>43074.0</td>\n",
       "      <td>10820.0</td>\n",
       "      <td>0.0</td>\n",
       "      <td>NaN</td>\n",
       "      <td>0.0</td>\n",
       "      <td>NaN</td>\n",
       "      <td>48.0</td>\n",
       "    </tr>\n",
       "    <tr>\n",
       "      <th>2846</th>\n",
       "      <td>4</td>\n",
       "      <td>2325000.0</td>\n",
       "      <td>27.80</td>\n",
       "      <td>2016-09-21T00:00:00</td>\n",
       "      <td>1</td>\n",
       "      <td>NaN</td>\n",
       "      <td>9.0</td>\n",
       "      <td>19.40</td>\n",
       "      <td>15</td>\n",
       "      <td>NaN</td>\n",
       "      <td>...</td>\n",
       "      <td>9.10</td>\n",
       "      <td>0.0</td>\n",
       "      <td>Санкт-Петербург</td>\n",
       "      <td>22041.0</td>\n",
       "      <td>17369.0</td>\n",
       "      <td>0.0</td>\n",
       "      <td>NaN</td>\n",
       "      <td>1.0</td>\n",
       "      <td>374.0</td>\n",
       "      <td>307.0</td>\n",
       "    </tr>\n",
       "    <tr>\n",
       "      <th>3031</th>\n",
       "      <td>9</td>\n",
       "      <td>6400000.0</td>\n",
       "      <td>56.70</td>\n",
       "      <td>2018-03-27T00:00:00</td>\n",
       "      <td>2</td>\n",
       "      <td>NaN</td>\n",
       "      <td>9.0</td>\n",
       "      <td>32.00</td>\n",
       "      <td>12</td>\n",
       "      <td>NaN</td>\n",
       "      <td>...</td>\n",
       "      <td>12.00</td>\n",
       "      <td>0.0</td>\n",
       "      <td>Кудрово</td>\n",
       "      <td>NaN</td>\n",
       "      <td>13098.5</td>\n",
       "      <td>NaN</td>\n",
       "      <td>NaN</td>\n",
       "      <td>NaN</td>\n",
       "      <td>NaN</td>\n",
       "      <td>231.0</td>\n",
       "    </tr>\n",
       "    <tr>\n",
       "      <th>3438</th>\n",
       "      <td>10</td>\n",
       "      <td>4100000.0</td>\n",
       "      <td>38.00</td>\n",
       "      <td>2018-04-14T00:00:00</td>\n",
       "      <td>1</td>\n",
       "      <td>NaN</td>\n",
       "      <td>9.0</td>\n",
       "      <td>19.00</td>\n",
       "      <td>12</td>\n",
       "      <td>NaN</td>\n",
       "      <td>...</td>\n",
       "      <td>10.30</td>\n",
       "      <td>0.0</td>\n",
       "      <td>Кудрово</td>\n",
       "      <td>NaN</td>\n",
       "      <td>13098.5</td>\n",
       "      <td>NaN</td>\n",
       "      <td>NaN</td>\n",
       "      <td>NaN</td>\n",
       "      <td>NaN</td>\n",
       "      <td>95.0</td>\n",
       "    </tr>\n",
       "    <tr>\n",
       "      <th>4617</th>\n",
       "      <td>4</td>\n",
       "      <td>4275062.0</td>\n",
       "      <td>61.20</td>\n",
       "      <td>2017-04-27T00:00:00</td>\n",
       "      <td>2</td>\n",
       "      <td>NaN</td>\n",
       "      <td>9.0</td>\n",
       "      <td>32.00</td>\n",
       "      <td>12</td>\n",
       "      <td>NaN</td>\n",
       "      <td>...</td>\n",
       "      <td>12.20</td>\n",
       "      <td>0.0</td>\n",
       "      <td>Санкт-Петербург</td>\n",
       "      <td>22041.0</td>\n",
       "      <td>17369.0</td>\n",
       "      <td>0.0</td>\n",
       "      <td>NaN</td>\n",
       "      <td>1.0</td>\n",
       "      <td>374.0</td>\n",
       "      <td>72.0</td>\n",
       "    </tr>\n",
       "    <tr>\n",
       "      <th>4848</th>\n",
       "      <td>15</td>\n",
       "      <td>13000000.0</td>\n",
       "      <td>98.00</td>\n",
       "      <td>2017-02-08T00:00:00</td>\n",
       "      <td>3</td>\n",
       "      <td>NaN</td>\n",
       "      <td>9.0</td>\n",
       "      <td>30.00</td>\n",
       "      <td>18</td>\n",
       "      <td>NaN</td>\n",
       "      <td>...</td>\n",
       "      <td>9.10</td>\n",
       "      <td>0.0</td>\n",
       "      <td>Санкт-Петербург</td>\n",
       "      <td>37625.0</td>\n",
       "      <td>14153.0</td>\n",
       "      <td>0.0</td>\n",
       "      <td>NaN</td>\n",
       "      <td>0.0</td>\n",
       "      <td>NaN</td>\n",
       "      <td>29.0</td>\n",
       "    </tr>\n",
       "    <tr>\n",
       "      <th>5146</th>\n",
       "      <td>10</td>\n",
       "      <td>3085024.0</td>\n",
       "      <td>33.33</td>\n",
       "      <td>2018-10-06T00:00:00</td>\n",
       "      <td>1</td>\n",
       "      <td>NaN</td>\n",
       "      <td>9.0</td>\n",
       "      <td>11.00</td>\n",
       "      <td>12</td>\n",
       "      <td>NaN</td>\n",
       "      <td>...</td>\n",
       "      <td>9.10</td>\n",
       "      <td>0.0</td>\n",
       "      <td>Санкт-Петербург</td>\n",
       "      <td>47303.0</td>\n",
       "      <td>25865.0</td>\n",
       "      <td>1.0</td>\n",
       "      <td>400.0</td>\n",
       "      <td>1.0</td>\n",
       "      <td>492.0</td>\n",
       "      <td>140.0</td>\n",
       "    </tr>\n",
       "    <tr>\n",
       "      <th>5187</th>\n",
       "      <td>5</td>\n",
       "      <td>3300000.0</td>\n",
       "      <td>25.40</td>\n",
       "      <td>2018-11-02T00:00:00</td>\n",
       "      <td>0</td>\n",
       "      <td>NaN</td>\n",
       "      <td>9.0</td>\n",
       "      <td>30.00</td>\n",
       "      <td>15</td>\n",
       "      <td>NaN</td>\n",
       "      <td>...</td>\n",
       "      <td>9.10</td>\n",
       "      <td>0.0</td>\n",
       "      <td>посёлок Мурино</td>\n",
       "      <td>NaN</td>\n",
       "      <td>13098.5</td>\n",
       "      <td>NaN</td>\n",
       "      <td>NaN</td>\n",
       "      <td>NaN</td>\n",
       "      <td>NaN</td>\n",
       "      <td>3.0</td>\n",
       "    </tr>\n",
       "    <tr>\n",
       "      <th>5784</th>\n",
       "      <td>4</td>\n",
       "      <td>4262941.0</td>\n",
       "      <td>59.90</td>\n",
       "      <td>2017-04-02T00:00:00</td>\n",
       "      <td>2</td>\n",
       "      <td>NaN</td>\n",
       "      <td>9.0</td>\n",
       "      <td>31.70</td>\n",
       "      <td>18</td>\n",
       "      <td>NaN</td>\n",
       "      <td>...</td>\n",
       "      <td>11.90</td>\n",
       "      <td>0.0</td>\n",
       "      <td>Санкт-Петербург</td>\n",
       "      <td>22041.0</td>\n",
       "      <td>17369.0</td>\n",
       "      <td>0.0</td>\n",
       "      <td>NaN</td>\n",
       "      <td>1.0</td>\n",
       "      <td>374.0</td>\n",
       "      <td>127.0</td>\n",
       "    </tr>\n",
       "    <tr>\n",
       "      <th>5958</th>\n",
       "      <td>1</td>\n",
       "      <td>3200000.0</td>\n",
       "      <td>30.30</td>\n",
       "      <td>2018-09-07T00:00:00</td>\n",
       "      <td>0</td>\n",
       "      <td>NaN</td>\n",
       "      <td>9.0</td>\n",
       "      <td>30.00</td>\n",
       "      <td>13</td>\n",
       "      <td>NaN</td>\n",
       "      <td>...</td>\n",
       "      <td>9.10</td>\n",
       "      <td>0.0</td>\n",
       "      <td>Санкт-Петербург</td>\n",
       "      <td>22735.0</td>\n",
       "      <td>11618.0</td>\n",
       "      <td>1.0</td>\n",
       "      <td>835.0</td>\n",
       "      <td>1.0</td>\n",
       "      <td>652.0</td>\n",
       "      <td>68.0</td>\n",
       "    </tr>\n",
       "    <tr>\n",
       "      <th>6030</th>\n",
       "      <td>3</td>\n",
       "      <td>10900000.0</td>\n",
       "      <td>116.23</td>\n",
       "      <td>2017-05-05T00:00:00</td>\n",
       "      <td>4</td>\n",
       "      <td>NaN</td>\n",
       "      <td>9.0</td>\n",
       "      <td>30.00</td>\n",
       "      <td>24</td>\n",
       "      <td>NaN</td>\n",
       "      <td>...</td>\n",
       "      <td>9.10</td>\n",
       "      <td>0.0</td>\n",
       "      <td>Санкт-Петербург</td>\n",
       "      <td>35234.0</td>\n",
       "      <td>14674.0</td>\n",
       "      <td>0.0</td>\n",
       "      <td>NaN</td>\n",
       "      <td>1.0</td>\n",
       "      <td>844.0</td>\n",
       "      <td>83.0</td>\n",
       "    </tr>\n",
       "    <tr>\n",
       "      <th>7922</th>\n",
       "      <td>3</td>\n",
       "      <td>5426412.0</td>\n",
       "      <td>50.11</td>\n",
       "      <td>2016-06-08T00:00:00</td>\n",
       "      <td>2</td>\n",
       "      <td>NaN</td>\n",
       "      <td>9.0</td>\n",
       "      <td>26.94</td>\n",
       "      <td>24</td>\n",
       "      <td>NaN</td>\n",
       "      <td>...</td>\n",
       "      <td>11.13</td>\n",
       "      <td>0.0</td>\n",
       "      <td>Санкт-Петербург</td>\n",
       "      <td>7050.0</td>\n",
       "      <td>13266.0</td>\n",
       "      <td>1.0</td>\n",
       "      <td>868.0</td>\n",
       "      <td>0.0</td>\n",
       "      <td>NaN</td>\n",
       "      <td>14.0</td>\n",
       "    </tr>\n",
       "    <tr>\n",
       "      <th>8478</th>\n",
       "      <td>19</td>\n",
       "      <td>13500000.0</td>\n",
       "      <td>77.80</td>\n",
       "      <td>2019-04-17T00:00:00</td>\n",
       "      <td>2</td>\n",
       "      <td>2.80</td>\n",
       "      <td>9.0</td>\n",
       "      <td>39.41</td>\n",
       "      <td>21</td>\n",
       "      <td>NaN</td>\n",
       "      <td>...</td>\n",
       "      <td>13.27</td>\n",
       "      <td>2.0</td>\n",
       "      <td>Санкт-Петербург</td>\n",
       "      <td>12838.0</td>\n",
       "      <td>11477.0</td>\n",
       "      <td>1.0</td>\n",
       "      <td>593.0</td>\n",
       "      <td>1.0</td>\n",
       "      <td>130.0</td>\n",
       "      <td>NaN</td>\n",
       "    </tr>\n",
       "    <tr>\n",
       "      <th>9023</th>\n",
       "      <td>5</td>\n",
       "      <td>2900000.0</td>\n",
       "      <td>35.10</td>\n",
       "      <td>2018-07-18T00:00:00</td>\n",
       "      <td>1</td>\n",
       "      <td>NaN</td>\n",
       "      <td>9.0</td>\n",
       "      <td>30.00</td>\n",
       "      <td>11</td>\n",
       "      <td>NaN</td>\n",
       "      <td>...</td>\n",
       "      <td>9.10</td>\n",
       "      <td>0.0</td>\n",
       "      <td>городской посёлок Новоселье</td>\n",
       "      <td>NaN</td>\n",
       "      <td>13098.5</td>\n",
       "      <td>NaN</td>\n",
       "      <td>NaN</td>\n",
       "      <td>NaN</td>\n",
       "      <td>NaN</td>\n",
       "      <td>26.0</td>\n",
       "    </tr>\n",
       "    <tr>\n",
       "      <th>10013</th>\n",
       "      <td>4</td>\n",
       "      <td>4558637.0</td>\n",
       "      <td>64.40</td>\n",
       "      <td>2016-09-21T00:00:00</td>\n",
       "      <td>2</td>\n",
       "      <td>NaN</td>\n",
       "      <td>9.0</td>\n",
       "      <td>31.70</td>\n",
       "      <td>19</td>\n",
       "      <td>NaN</td>\n",
       "      <td>...</td>\n",
       "      <td>14.40</td>\n",
       "      <td>0.0</td>\n",
       "      <td>Санкт-Петербург</td>\n",
       "      <td>22041.0</td>\n",
       "      <td>17369.0</td>\n",
       "      <td>0.0</td>\n",
       "      <td>NaN</td>\n",
       "      <td>1.0</td>\n",
       "      <td>374.0</td>\n",
       "      <td>320.0</td>\n",
       "    </tr>\n",
       "    <tr>\n",
       "      <th>10027</th>\n",
       "      <td>4</td>\n",
       "      <td>4650259.0</td>\n",
       "      <td>67.50</td>\n",
       "      <td>2017-04-01T00:00:00</td>\n",
       "      <td>2</td>\n",
       "      <td>NaN</td>\n",
       "      <td>9.0</td>\n",
       "      <td>31.30</td>\n",
       "      <td>20</td>\n",
       "      <td>NaN</td>\n",
       "      <td>...</td>\n",
       "      <td>14.40</td>\n",
       "      <td>0.0</td>\n",
       "      <td>Санкт-Петербург</td>\n",
       "      <td>22041.0</td>\n",
       "      <td>17369.0</td>\n",
       "      <td>0.0</td>\n",
       "      <td>NaN</td>\n",
       "      <td>1.0</td>\n",
       "      <td>374.0</td>\n",
       "      <td>116.0</td>\n",
       "    </tr>\n",
       "    <tr>\n",
       "      <th>10058</th>\n",
       "      <td>9</td>\n",
       "      <td>3350000.0</td>\n",
       "      <td>25.00</td>\n",
       "      <td>2018-09-10T00:00:00</td>\n",
       "      <td>1</td>\n",
       "      <td>2.65</td>\n",
       "      <td>9.0</td>\n",
       "      <td>17.00</td>\n",
       "      <td>21</td>\n",
       "      <td>NaN</td>\n",
       "      <td>...</td>\n",
       "      <td>3.50</td>\n",
       "      <td>0.0</td>\n",
       "      <td>посёлок Шушары</td>\n",
       "      <td>NaN</td>\n",
       "      <td>13098.5</td>\n",
       "      <td>NaN</td>\n",
       "      <td>NaN</td>\n",
       "      <td>NaN</td>\n",
       "      <td>NaN</td>\n",
       "      <td>23.0</td>\n",
       "    </tr>\n",
       "    <tr>\n",
       "      <th>10531</th>\n",
       "      <td>3</td>\n",
       "      <td>6595420.0</td>\n",
       "      <td>61.80</td>\n",
       "      <td>2016-05-21T00:00:00</td>\n",
       "      <td>2</td>\n",
       "      <td>NaN</td>\n",
       "      <td>9.0</td>\n",
       "      <td>30.01</td>\n",
       "      <td>12</td>\n",
       "      <td>NaN</td>\n",
       "      <td>...</td>\n",
       "      <td>10.08</td>\n",
       "      <td>0.0</td>\n",
       "      <td>Санкт-Петербург</td>\n",
       "      <td>7050.0</td>\n",
       "      <td>13266.0</td>\n",
       "      <td>1.0</td>\n",
       "      <td>868.0</td>\n",
       "      <td>0.0</td>\n",
       "      <td>NaN</td>\n",
       "      <td>112.0</td>\n",
       "    </tr>\n",
       "    <tr>\n",
       "      <th>10983</th>\n",
       "      <td>6</td>\n",
       "      <td>4670000.0</td>\n",
       "      <td>37.80</td>\n",
       "      <td>2019-03-13T00:00:00</td>\n",
       "      <td>1</td>\n",
       "      <td>NaN</td>\n",
       "      <td>9.0</td>\n",
       "      <td>16.90</td>\n",
       "      <td>14</td>\n",
       "      <td>NaN</td>\n",
       "      <td>...</td>\n",
       "      <td>9.50</td>\n",
       "      <td>0.0</td>\n",
       "      <td>Санкт-Петербург</td>\n",
       "      <td>23982.0</td>\n",
       "      <td>11634.0</td>\n",
       "      <td>0.0</td>\n",
       "      <td>NaN</td>\n",
       "      <td>0.0</td>\n",
       "      <td>NaN</td>\n",
       "      <td>NaN</td>\n",
       "    </tr>\n",
       "    <tr>\n",
       "      <th>11129</th>\n",
       "      <td>10</td>\n",
       "      <td>3128418.0</td>\n",
       "      <td>34.53</td>\n",
       "      <td>2018-10-01T00:00:00</td>\n",
       "      <td>1</td>\n",
       "      <td>NaN</td>\n",
       "      <td>9.0</td>\n",
       "      <td>11.00</td>\n",
       "      <td>13</td>\n",
       "      <td>NaN</td>\n",
       "      <td>...</td>\n",
       "      <td>9.10</td>\n",
       "      <td>0.0</td>\n",
       "      <td>Санкт-Петербург</td>\n",
       "      <td>47303.0</td>\n",
       "      <td>25865.0</td>\n",
       "      <td>1.0</td>\n",
       "      <td>400.0</td>\n",
       "      <td>1.0</td>\n",
       "      <td>492.0</td>\n",
       "      <td>145.0</td>\n",
       "    </tr>\n",
       "    <tr>\n",
       "      <th>13438</th>\n",
       "      <td>4</td>\n",
       "      <td>4403541.0</td>\n",
       "      <td>65.30</td>\n",
       "      <td>2016-09-21T00:00:00</td>\n",
       "      <td>2</td>\n",
       "      <td>NaN</td>\n",
       "      <td>9.0</td>\n",
       "      <td>31.60</td>\n",
       "      <td>11</td>\n",
       "      <td>NaN</td>\n",
       "      <td>...</td>\n",
       "      <td>12.20</td>\n",
       "      <td>0.0</td>\n",
       "      <td>Санкт-Петербург</td>\n",
       "      <td>22041.0</td>\n",
       "      <td>17369.0</td>\n",
       "      <td>0.0</td>\n",
       "      <td>NaN</td>\n",
       "      <td>1.0</td>\n",
       "      <td>374.0</td>\n",
       "      <td>320.0</td>\n",
       "    </tr>\n",
       "    <tr>\n",
       "      <th>13622</th>\n",
       "      <td>3</td>\n",
       "      <td>7650000.0</td>\n",
       "      <td>88.84</td>\n",
       "      <td>2016-05-21T00:00:00</td>\n",
       "      <td>3</td>\n",
       "      <td>NaN</td>\n",
       "      <td>9.0</td>\n",
       "      <td>49.87</td>\n",
       "      <td>21</td>\n",
       "      <td>NaN</td>\n",
       "      <td>...</td>\n",
       "      <td>9.76</td>\n",
       "      <td>0.0</td>\n",
       "      <td>Санкт-Петербург</td>\n",
       "      <td>35234.0</td>\n",
       "      <td>14674.0</td>\n",
       "      <td>0.0</td>\n",
       "      <td>NaN</td>\n",
       "      <td>1.0</td>\n",
       "      <td>844.0</td>\n",
       "      <td>42.0</td>\n",
       "    </tr>\n",
       "    <tr>\n",
       "      <th>14094</th>\n",
       "      <td>5</td>\n",
       "      <td>3290000.0</td>\n",
       "      <td>33.00</td>\n",
       "      <td>2018-02-01T00:00:00</td>\n",
       "      <td>1</td>\n",
       "      <td>NaN</td>\n",
       "      <td>9.0</td>\n",
       "      <td>30.00</td>\n",
       "      <td>17</td>\n",
       "      <td>NaN</td>\n",
       "      <td>...</td>\n",
       "      <td>9.10</td>\n",
       "      <td>0.0</td>\n",
       "      <td>деревня Новое Девяткино</td>\n",
       "      <td>NaN</td>\n",
       "      <td>13098.5</td>\n",
       "      <td>NaN</td>\n",
       "      <td>NaN</td>\n",
       "      <td>NaN</td>\n",
       "      <td>NaN</td>\n",
       "      <td>440.0</td>\n",
       "    </tr>\n",
       "    <tr>\n",
       "      <th>14264</th>\n",
       "      <td>13</td>\n",
       "      <td>14000000.0</td>\n",
       "      <td>94.00</td>\n",
       "      <td>2019-01-23T00:00:00</td>\n",
       "      <td>6</td>\n",
       "      <td>2.65</td>\n",
       "      <td>9.0</td>\n",
       "      <td>51.00</td>\n",
       "      <td>23</td>\n",
       "      <td>NaN</td>\n",
       "      <td>...</td>\n",
       "      <td>16.30</td>\n",
       "      <td>0.0</td>\n",
       "      <td>Санкт-Петербург</td>\n",
       "      <td>51333.0</td>\n",
       "      <td>13056.0</td>\n",
       "      <td>0.0</td>\n",
       "      <td>NaN</td>\n",
       "      <td>0.0</td>\n",
       "      <td>NaN</td>\n",
       "      <td>NaN</td>\n",
       "    </tr>\n",
       "    <tr>\n",
       "      <th>14526</th>\n",
       "      <td>1</td>\n",
       "      <td>5595000.0</td>\n",
       "      <td>52.47</td>\n",
       "      <td>2016-03-23T00:00:00</td>\n",
       "      <td>2</td>\n",
       "      <td>NaN</td>\n",
       "      <td>9.0</td>\n",
       "      <td>30.00</td>\n",
       "      <td>10</td>\n",
       "      <td>NaN</td>\n",
       "      <td>...</td>\n",
       "      <td>9.10</td>\n",
       "      <td>0.0</td>\n",
       "      <td>Санкт-Петербург</td>\n",
       "      <td>7050.0</td>\n",
       "      <td>13266.0</td>\n",
       "      <td>1.0</td>\n",
       "      <td>868.0</td>\n",
       "      <td>0.0</td>\n",
       "      <td>NaN</td>\n",
       "      <td>90.0</td>\n",
       "    </tr>\n",
       "    <tr>\n",
       "      <th>16591</th>\n",
       "      <td>8</td>\n",
       "      <td>4500000.0</td>\n",
       "      <td>37.60</td>\n",
       "      <td>2018-07-10T00:00:00</td>\n",
       "      <td>1</td>\n",
       "      <td>NaN</td>\n",
       "      <td>9.0</td>\n",
       "      <td>17.50</td>\n",
       "      <td>11</td>\n",
       "      <td>NaN</td>\n",
       "      <td>...</td>\n",
       "      <td>11.00</td>\n",
       "      <td>0.0</td>\n",
       "      <td>Санкт-Петербург</td>\n",
       "      <td>37625.0</td>\n",
       "      <td>14153.0</td>\n",
       "      <td>0.0</td>\n",
       "      <td>NaN</td>\n",
       "      <td>0.0</td>\n",
       "      <td>NaN</td>\n",
       "      <td>8.0</td>\n",
       "    </tr>\n",
       "    <tr>\n",
       "      <th>16850</th>\n",
       "      <td>4</td>\n",
       "      <td>6188957.0</td>\n",
       "      <td>90.20</td>\n",
       "      <td>2016-09-21T00:00:00</td>\n",
       "      <td>3</td>\n",
       "      <td>NaN</td>\n",
       "      <td>9.0</td>\n",
       "      <td>47.70</td>\n",
       "      <td>14</td>\n",
       "      <td>NaN</td>\n",
       "      <td>...</td>\n",
       "      <td>16.70</td>\n",
       "      <td>0.0</td>\n",
       "      <td>Санкт-Петербург</td>\n",
       "      <td>22041.0</td>\n",
       "      <td>17369.0</td>\n",
       "      <td>0.0</td>\n",
       "      <td>NaN</td>\n",
       "      <td>1.0</td>\n",
       "      <td>374.0</td>\n",
       "      <td>320.0</td>\n",
       "    </tr>\n",
       "    <tr>\n",
       "      <th>17498</th>\n",
       "      <td>4</td>\n",
       "      <td>4252249.0</td>\n",
       "      <td>60.20</td>\n",
       "      <td>2017-04-01T00:00:00</td>\n",
       "      <td>2</td>\n",
       "      <td>NaN</td>\n",
       "      <td>9.0</td>\n",
       "      <td>31.80</td>\n",
       "      <td>13</td>\n",
       "      <td>NaN</td>\n",
       "      <td>...</td>\n",
       "      <td>12.10</td>\n",
       "      <td>0.0</td>\n",
       "      <td>Санкт-Петербург</td>\n",
       "      <td>22041.0</td>\n",
       "      <td>17369.0</td>\n",
       "      <td>0.0</td>\n",
       "      <td>NaN</td>\n",
       "      <td>1.0</td>\n",
       "      <td>374.0</td>\n",
       "      <td>128.0</td>\n",
       "    </tr>\n",
       "    <tr>\n",
       "      <th>19452</th>\n",
       "      <td>5</td>\n",
       "      <td>9500000.0</td>\n",
       "      <td>76.80</td>\n",
       "      <td>2019-04-11T00:00:00</td>\n",
       "      <td>3</td>\n",
       "      <td>NaN</td>\n",
       "      <td>9.0</td>\n",
       "      <td>30.00</td>\n",
       "      <td>10</td>\n",
       "      <td>NaN</td>\n",
       "      <td>...</td>\n",
       "      <td>9.10</td>\n",
       "      <td>0.0</td>\n",
       "      <td>Санкт-Петербург</td>\n",
       "      <td>36628.0</td>\n",
       "      <td>14780.0</td>\n",
       "      <td>0.0</td>\n",
       "      <td>NaN</td>\n",
       "      <td>0.0</td>\n",
       "      <td>NaN</td>\n",
       "      <td>NaN</td>\n",
       "    </tr>\n",
       "    <tr>\n",
       "      <th>20146</th>\n",
       "      <td>16</td>\n",
       "      <td>3850000.0</td>\n",
       "      <td>36.00</td>\n",
       "      <td>2018-10-12T00:00:00</td>\n",
       "      <td>1</td>\n",
       "      <td>NaN</td>\n",
       "      <td>9.0</td>\n",
       "      <td>19.00</td>\n",
       "      <td>15</td>\n",
       "      <td>NaN</td>\n",
       "      <td>...</td>\n",
       "      <td>8.50</td>\n",
       "      <td>0.0</td>\n",
       "      <td>посёлок Стрельна</td>\n",
       "      <td>28276.0</td>\n",
       "      <td>23454.0</td>\n",
       "      <td>0.0</td>\n",
       "      <td>NaN</td>\n",
       "      <td>0.0</td>\n",
       "      <td>NaN</td>\n",
       "      <td>183.0</td>\n",
       "    </tr>\n",
       "    <tr>\n",
       "      <th>20738</th>\n",
       "      <td>5</td>\n",
       "      <td>4480000.0</td>\n",
       "      <td>54.22</td>\n",
       "      <td>2018-02-01T00:00:00</td>\n",
       "      <td>2</td>\n",
       "      <td>NaN</td>\n",
       "      <td>9.0</td>\n",
       "      <td>30.00</td>\n",
       "      <td>10</td>\n",
       "      <td>NaN</td>\n",
       "      <td>...</td>\n",
       "      <td>9.10</td>\n",
       "      <td>0.0</td>\n",
       "      <td>посёлок Мурино</td>\n",
       "      <td>NaN</td>\n",
       "      <td>13098.5</td>\n",
       "      <td>NaN</td>\n",
       "      <td>NaN</td>\n",
       "      <td>NaN</td>\n",
       "      <td>NaN</td>\n",
       "      <td>42.0</td>\n",
       "    </tr>\n",
       "    <tr>\n",
       "      <th>21273</th>\n",
       "      <td>3</td>\n",
       "      <td>6300000.0</td>\n",
       "      <td>70.02</td>\n",
       "      <td>2015-03-28T00:00:00</td>\n",
       "      <td>2</td>\n",
       "      <td>NaN</td>\n",
       "      <td>9.0</td>\n",
       "      <td>34.87</td>\n",
       "      <td>19</td>\n",
       "      <td>NaN</td>\n",
       "      <td>...</td>\n",
       "      <td>10.13</td>\n",
       "      <td>0.0</td>\n",
       "      <td>Санкт-Петербург</td>\n",
       "      <td>35234.0</td>\n",
       "      <td>14674.0</td>\n",
       "      <td>0.0</td>\n",
       "      <td>NaN</td>\n",
       "      <td>1.0</td>\n",
       "      <td>844.0</td>\n",
       "      <td>516.0</td>\n",
       "    </tr>\n",
       "    <tr>\n",
       "      <th>21651</th>\n",
       "      <td>4</td>\n",
       "      <td>7143060.0</td>\n",
       "      <td>44.70</td>\n",
       "      <td>2019-01-11T00:00:00</td>\n",
       "      <td>1</td>\n",
       "      <td>3.00</td>\n",
       "      <td>9.0</td>\n",
       "      <td>13.79</td>\n",
       "      <td>19</td>\n",
       "      <td>NaN</td>\n",
       "      <td>...</td>\n",
       "      <td>9.10</td>\n",
       "      <td>0.0</td>\n",
       "      <td>Санкт-Петербург</td>\n",
       "      <td>9222.0</td>\n",
       "      <td>11340.0</td>\n",
       "      <td>0.0</td>\n",
       "      <td>NaN</td>\n",
       "      <td>0.0</td>\n",
       "      <td>NaN</td>\n",
       "      <td>NaN</td>\n",
       "    </tr>\n",
       "    <tr>\n",
       "      <th>21753</th>\n",
       "      <td>7</td>\n",
       "      <td>6800000.0</td>\n",
       "      <td>57.00</td>\n",
       "      <td>2017-05-01T00:00:00</td>\n",
       "      <td>2</td>\n",
       "      <td>NaN</td>\n",
       "      <td>9.0</td>\n",
       "      <td>30.00</td>\n",
       "      <td>21</td>\n",
       "      <td>NaN</td>\n",
       "      <td>...</td>\n",
       "      <td>9.10</td>\n",
       "      <td>0.0</td>\n",
       "      <td>Санкт-Петербург</td>\n",
       "      <td>17618.0</td>\n",
       "      <td>14600.0</td>\n",
       "      <td>2.0</td>\n",
       "      <td>104.0</td>\n",
       "      <td>0.0</td>\n",
       "      <td>NaN</td>\n",
       "      <td>36.0</td>\n",
       "    </tr>\n",
       "    <tr>\n",
       "      <th>22656</th>\n",
       "      <td>4</td>\n",
       "      <td>4574160.0</td>\n",
       "      <td>64.50</td>\n",
       "      <td>2017-04-02T00:00:00</td>\n",
       "      <td>2</td>\n",
       "      <td>NaN</td>\n",
       "      <td>9.0</td>\n",
       "      <td>31.70</td>\n",
       "      <td>20</td>\n",
       "      <td>NaN</td>\n",
       "      <td>...</td>\n",
       "      <td>14.40</td>\n",
       "      <td>0.0</td>\n",
       "      <td>Санкт-Петербург</td>\n",
       "      <td>22041.0</td>\n",
       "      <td>17369.0</td>\n",
       "      <td>0.0</td>\n",
       "      <td>NaN</td>\n",
       "      <td>1.0</td>\n",
       "      <td>374.0</td>\n",
       "      <td>127.0</td>\n",
       "    </tr>\n",
       "    <tr>\n",
       "      <th>23590</th>\n",
       "      <td>0</td>\n",
       "      <td>21187872.0</td>\n",
       "      <td>123.30</td>\n",
       "      <td>2017-04-25T00:00:00</td>\n",
       "      <td>3</td>\n",
       "      <td>NaN</td>\n",
       "      <td>9.0</td>\n",
       "      <td>50.40</td>\n",
       "      <td>18</td>\n",
       "      <td>NaN</td>\n",
       "      <td>...</td>\n",
       "      <td>23.60</td>\n",
       "      <td>0.0</td>\n",
       "      <td>Санкт-Петербург</td>\n",
       "      <td>19095.0</td>\n",
       "      <td>4529.0</td>\n",
       "      <td>0.0</td>\n",
       "      <td>NaN</td>\n",
       "      <td>0.0</td>\n",
       "      <td>NaN</td>\n",
       "      <td>104.0</td>\n",
       "    </tr>\n",
       "  </tbody>\n",
       "</table>\n",
       "<p>37 rows × 22 columns</p>\n",
       "</div>"
      ],
      "text/plain": [
       "       total_images  last_price  total_area first_day_exposition  rooms  \\\n",
       "457               4   9788348.0       70.80  2015-08-01T00:00:00      2   \n",
       "2392              7   5395770.0       53.00  2017-06-29T00:00:00      2   \n",
       "2846              4   2325000.0       27.80  2016-09-21T00:00:00      1   \n",
       "3031              9   6400000.0       56.70  2018-03-27T00:00:00      2   \n",
       "3438             10   4100000.0       38.00  2018-04-14T00:00:00      1   \n",
       "4617              4   4275062.0       61.20  2017-04-27T00:00:00      2   \n",
       "4848             15  13000000.0       98.00  2017-02-08T00:00:00      3   \n",
       "5146             10   3085024.0       33.33  2018-10-06T00:00:00      1   \n",
       "5187              5   3300000.0       25.40  2018-11-02T00:00:00      0   \n",
       "5784              4   4262941.0       59.90  2017-04-02T00:00:00      2   \n",
       "5958              1   3200000.0       30.30  2018-09-07T00:00:00      0   \n",
       "6030              3  10900000.0      116.23  2017-05-05T00:00:00      4   \n",
       "7922              3   5426412.0       50.11  2016-06-08T00:00:00      2   \n",
       "8478             19  13500000.0       77.80  2019-04-17T00:00:00      2   \n",
       "9023              5   2900000.0       35.10  2018-07-18T00:00:00      1   \n",
       "10013             4   4558637.0       64.40  2016-09-21T00:00:00      2   \n",
       "10027             4   4650259.0       67.50  2017-04-01T00:00:00      2   \n",
       "10058             9   3350000.0       25.00  2018-09-10T00:00:00      1   \n",
       "10531             3   6595420.0       61.80  2016-05-21T00:00:00      2   \n",
       "10983             6   4670000.0       37.80  2019-03-13T00:00:00      1   \n",
       "11129            10   3128418.0       34.53  2018-10-01T00:00:00      1   \n",
       "13438             4   4403541.0       65.30  2016-09-21T00:00:00      2   \n",
       "13622             3   7650000.0       88.84  2016-05-21T00:00:00      3   \n",
       "14094             5   3290000.0       33.00  2018-02-01T00:00:00      1   \n",
       "14264            13  14000000.0       94.00  2019-01-23T00:00:00      6   \n",
       "14526             1   5595000.0       52.47  2016-03-23T00:00:00      2   \n",
       "16591             8   4500000.0       37.60  2018-07-10T00:00:00      1   \n",
       "16850             4   6188957.0       90.20  2016-09-21T00:00:00      3   \n",
       "17498             4   4252249.0       60.20  2017-04-01T00:00:00      2   \n",
       "19452             5   9500000.0       76.80  2019-04-11T00:00:00      3   \n",
       "20146            16   3850000.0       36.00  2018-10-12T00:00:00      1   \n",
       "20738             5   4480000.0       54.22  2018-02-01T00:00:00      2   \n",
       "21273             3   6300000.0       70.02  2015-03-28T00:00:00      2   \n",
       "21651             4   7143060.0       44.70  2019-01-11T00:00:00      1   \n",
       "21753             7   6800000.0       57.00  2017-05-01T00:00:00      2   \n",
       "22656             4   4574160.0       64.50  2017-04-02T00:00:00      2   \n",
       "23590             0  21187872.0      123.30  2017-04-25T00:00:00      3   \n",
       "\n",
       "       ceiling_height  floors_total  living_area  floor is_apartment  ...  \\\n",
       "457               NaN           9.0        38.40     12          NaN  ...   \n",
       "2392              NaN           9.0        29.00     22          NaN  ...   \n",
       "2846              NaN           9.0        19.40     15          NaN  ...   \n",
       "3031              NaN           9.0        32.00     12          NaN  ...   \n",
       "3438              NaN           9.0        19.00     12          NaN  ...   \n",
       "4617              NaN           9.0        32.00     12          NaN  ...   \n",
       "4848              NaN           9.0        30.00     18          NaN  ...   \n",
       "5146              NaN           9.0        11.00     12          NaN  ...   \n",
       "5187              NaN           9.0        30.00     15          NaN  ...   \n",
       "5784              NaN           9.0        31.70     18          NaN  ...   \n",
       "5958              NaN           9.0        30.00     13          NaN  ...   \n",
       "6030              NaN           9.0        30.00     24          NaN  ...   \n",
       "7922              NaN           9.0        26.94     24          NaN  ...   \n",
       "8478             2.80           9.0        39.41     21          NaN  ...   \n",
       "9023              NaN           9.0        30.00     11          NaN  ...   \n",
       "10013             NaN           9.0        31.70     19          NaN  ...   \n",
       "10027             NaN           9.0        31.30     20          NaN  ...   \n",
       "10058            2.65           9.0        17.00     21          NaN  ...   \n",
       "10531             NaN           9.0        30.01     12          NaN  ...   \n",
       "10983             NaN           9.0        16.90     14          NaN  ...   \n",
       "11129             NaN           9.0        11.00     13          NaN  ...   \n",
       "13438             NaN           9.0        31.60     11          NaN  ...   \n",
       "13622             NaN           9.0        49.87     21          NaN  ...   \n",
       "14094             NaN           9.0        30.00     17          NaN  ...   \n",
       "14264            2.65           9.0        51.00     23          NaN  ...   \n",
       "14526             NaN           9.0        30.00     10          NaN  ...   \n",
       "16591             NaN           9.0        17.50     11          NaN  ...   \n",
       "16850             NaN           9.0        47.70     14          NaN  ...   \n",
       "17498             NaN           9.0        31.80     13          NaN  ...   \n",
       "19452             NaN           9.0        30.00     10          NaN  ...   \n",
       "20146             NaN           9.0        19.00     15          NaN  ...   \n",
       "20738             NaN           9.0        30.00     10          NaN  ...   \n",
       "21273             NaN           9.0        34.87     19          NaN  ...   \n",
       "21651            3.00           9.0        13.79     19          NaN  ...   \n",
       "21753             NaN           9.0        30.00     21          NaN  ...   \n",
       "22656             NaN           9.0        31.70     20          NaN  ...   \n",
       "23590             NaN           9.0        50.40     18          NaN  ...   \n",
       "\n",
       "       kitchen_area  balcony                locality_name  airports_nearest  \\\n",
       "457           10.63      0.0              Санкт-Петербург           37364.0   \n",
       "2392           9.00      0.0              Санкт-Петербург           43074.0   \n",
       "2846           9.10      0.0              Санкт-Петербург           22041.0   \n",
       "3031          12.00      0.0                      Кудрово               NaN   \n",
       "3438          10.30      0.0                      Кудрово               NaN   \n",
       "4617          12.20      0.0              Санкт-Петербург           22041.0   \n",
       "4848           9.10      0.0              Санкт-Петербург           37625.0   \n",
       "5146           9.10      0.0              Санкт-Петербург           47303.0   \n",
       "5187           9.10      0.0               посёлок Мурино               NaN   \n",
       "5784          11.90      0.0              Санкт-Петербург           22041.0   \n",
       "5958           9.10      0.0              Санкт-Петербург           22735.0   \n",
       "6030           9.10      0.0              Санкт-Петербург           35234.0   \n",
       "7922          11.13      0.0              Санкт-Петербург            7050.0   \n",
       "8478          13.27      2.0              Санкт-Петербург           12838.0   \n",
       "9023           9.10      0.0  городской посёлок Новоселье               NaN   \n",
       "10013         14.40      0.0              Санкт-Петербург           22041.0   \n",
       "10027         14.40      0.0              Санкт-Петербург           22041.0   \n",
       "10058          3.50      0.0               посёлок Шушары               NaN   \n",
       "10531         10.08      0.0              Санкт-Петербург            7050.0   \n",
       "10983          9.50      0.0              Санкт-Петербург           23982.0   \n",
       "11129          9.10      0.0              Санкт-Петербург           47303.0   \n",
       "13438         12.20      0.0              Санкт-Петербург           22041.0   \n",
       "13622          9.76      0.0              Санкт-Петербург           35234.0   \n",
       "14094          9.10      0.0      деревня Новое Девяткино               NaN   \n",
       "14264         16.30      0.0              Санкт-Петербург           51333.0   \n",
       "14526          9.10      0.0              Санкт-Петербург            7050.0   \n",
       "16591         11.00      0.0              Санкт-Петербург           37625.0   \n",
       "16850         16.70      0.0              Санкт-Петербург           22041.0   \n",
       "17498         12.10      0.0              Санкт-Петербург           22041.0   \n",
       "19452          9.10      0.0              Санкт-Петербург           36628.0   \n",
       "20146          8.50      0.0             посёлок Стрельна           28276.0   \n",
       "20738          9.10      0.0               посёлок Мурино               NaN   \n",
       "21273         10.13      0.0              Санкт-Петербург           35234.0   \n",
       "21651          9.10      0.0              Санкт-Петербург            9222.0   \n",
       "21753          9.10      0.0              Санкт-Петербург           17618.0   \n",
       "22656         14.40      0.0              Санкт-Петербург           22041.0   \n",
       "23590         23.60      0.0              Санкт-Петербург           19095.0   \n",
       "\n",
       "      cityCenters_nearest  parks_around3000  parks_nearest  ponds_around3000  \\\n",
       "457                8322.0               2.0          309.0               2.0   \n",
       "2392              10820.0               0.0            NaN               0.0   \n",
       "2846              17369.0               0.0            NaN               1.0   \n",
       "3031              13098.5               NaN            NaN               NaN   \n",
       "3438              13098.5               NaN            NaN               NaN   \n",
       "4617              17369.0               0.0            NaN               1.0   \n",
       "4848              14153.0               0.0            NaN               0.0   \n",
       "5146              25865.0               1.0          400.0               1.0   \n",
       "5187              13098.5               NaN            NaN               NaN   \n",
       "5784              17369.0               0.0            NaN               1.0   \n",
       "5958              11618.0               1.0          835.0               1.0   \n",
       "6030              14674.0               0.0            NaN               1.0   \n",
       "7922              13266.0               1.0          868.0               0.0   \n",
       "8478              11477.0               1.0          593.0               1.0   \n",
       "9023              13098.5               NaN            NaN               NaN   \n",
       "10013             17369.0               0.0            NaN               1.0   \n",
       "10027             17369.0               0.0            NaN               1.0   \n",
       "10058             13098.5               NaN            NaN               NaN   \n",
       "10531             13266.0               1.0          868.0               0.0   \n",
       "10983             11634.0               0.0            NaN               0.0   \n",
       "11129             25865.0               1.0          400.0               1.0   \n",
       "13438             17369.0               0.0            NaN               1.0   \n",
       "13622             14674.0               0.0            NaN               1.0   \n",
       "14094             13098.5               NaN            NaN               NaN   \n",
       "14264             13056.0               0.0            NaN               0.0   \n",
       "14526             13266.0               1.0          868.0               0.0   \n",
       "16591             14153.0               0.0            NaN               0.0   \n",
       "16850             17369.0               0.0            NaN               1.0   \n",
       "17498             17369.0               0.0            NaN               1.0   \n",
       "19452             14780.0               0.0            NaN               0.0   \n",
       "20146             23454.0               0.0            NaN               0.0   \n",
       "20738             13098.5               NaN            NaN               NaN   \n",
       "21273             14674.0               0.0            NaN               1.0   \n",
       "21651             11340.0               0.0            NaN               0.0   \n",
       "21753             14600.0               2.0          104.0               0.0   \n",
       "22656             17369.0               0.0            NaN               1.0   \n",
       "23590              4529.0               0.0            NaN               0.0   \n",
       "\n",
       "       ponds_nearest  days_exposition  \n",
       "457            706.0            727.0  \n",
       "2392             NaN             48.0  \n",
       "2846           374.0            307.0  \n",
       "3031             NaN            231.0  \n",
       "3438             NaN             95.0  \n",
       "4617           374.0             72.0  \n",
       "4848             NaN             29.0  \n",
       "5146           492.0            140.0  \n",
       "5187             NaN              3.0  \n",
       "5784           374.0            127.0  \n",
       "5958           652.0             68.0  \n",
       "6030           844.0             83.0  \n",
       "7922             NaN             14.0  \n",
       "8478           130.0              NaN  \n",
       "9023             NaN             26.0  \n",
       "10013          374.0            320.0  \n",
       "10027          374.0            116.0  \n",
       "10058            NaN             23.0  \n",
       "10531            NaN            112.0  \n",
       "10983            NaN              NaN  \n",
       "11129          492.0            145.0  \n",
       "13438          374.0            320.0  \n",
       "13622          844.0             42.0  \n",
       "14094            NaN            440.0  \n",
       "14264            NaN              NaN  \n",
       "14526            NaN             90.0  \n",
       "16591            NaN              8.0  \n",
       "16850          374.0            320.0  \n",
       "17498          374.0            128.0  \n",
       "19452            NaN              NaN  \n",
       "20146            NaN            183.0  \n",
       "20738            NaN             42.0  \n",
       "21273          844.0            516.0  \n",
       "21651            NaN              NaN  \n",
       "21753            NaN             36.0  \n",
       "22656          374.0            127.0  \n",
       "23590            NaN            104.0  \n",
       "\n",
       "[37 rows x 22 columns]"
      ]
     },
     "execution_count": 11,
     "metadata": {},
     "output_type": "execute_result"
    }
   ],
   "source": [
    "# Пройдемся в цикле по уникальным значениям floor\n",
    "data[data.floor > data['floors_total']]"
   ]
  },
  {
   "cell_type": "code",
   "execution_count": 12,
   "metadata": {},
   "outputs": [
    {
     "name": "stdout",
     "output_type": "stream",
     "text": [
      "<class 'pandas.core.frame.DataFrame'>\n",
      "RangeIndex: 23699 entries, 0 to 23698\n",
      "Data columns (total 22 columns):\n",
      " #   Column                Non-Null Count  Dtype  \n",
      "---  ------                --------------  -----  \n",
      " 0   total_images          23699 non-null  int64  \n",
      " 1   last_price            23699 non-null  int64  \n",
      " 2   total_area            23699 non-null  int64  \n",
      " 3   first_day_exposition  23699 non-null  object \n",
      " 4   rooms                 23699 non-null  int64  \n",
      " 5   ceiling_height        14504 non-null  float64\n",
      " 6   floors_total          23699 non-null  int64  \n",
      " 7   living_area           23699 non-null  int64  \n",
      " 8   floor                 23699 non-null  int64  \n",
      " 9   is_apartment          2775 non-null   object \n",
      " 10  studio                23699 non-null  bool   \n",
      " 11  open_plan             23699 non-null  bool   \n",
      " 12  kitchen_area          23699 non-null  int64  \n",
      " 13  balcony               23699 non-null  int64  \n",
      " 14  locality_name         23699 non-null  object \n",
      " 15  airports_nearest      18157 non-null  float64\n",
      " 16  cityCenters_nearest   23699 non-null  int64  \n",
      " 17  parks_around3000      18181 non-null  float64\n",
      " 18  parks_nearest         8079 non-null   float64\n",
      " 19  ponds_around3000      18181 non-null  float64\n",
      " 20  ponds_nearest         9110 non-null   float64\n",
      " 21  days_exposition       20518 non-null  float64\n",
      "dtypes: bool(2), float64(7), int64(10), object(3)\n",
      "memory usage: 3.7+ MB\n"
     ]
    }
   ],
   "source": [
    "data = data.astype({'last_price': 'int64', 'total_area': 'int64', 'floors_total': 'int64', \n",
    "                    'living_area': 'int64', 'kitchen_area': 'int64', 'balcony': 'int64', \n",
    "                    'cityCenters_nearest': 'int64'})\n",
    "\n",
    "data.info()"
   ]
  },
  {
   "cell_type": "code",
   "execution_count": 13,
   "metadata": {},
   "outputs": [],
   "source": [
    "data['first_day_exposition'] = pd.to_datetime(data['first_day_exposition'], format='%Y-%m-%d %H:%M:%S')"
   ]
  },
  {
   "cell_type": "code",
   "execution_count": 14,
   "metadata": {
    "scrolled": true
   },
   "outputs": [
    {
     "data": {
      "text/html": [
       "<div>\n",
       "<style scoped>\n",
       "    .dataframe tbody tr th:only-of-type {\n",
       "        vertical-align: middle;\n",
       "    }\n",
       "\n",
       "    .dataframe tbody tr th {\n",
       "        vertical-align: top;\n",
       "    }\n",
       "\n",
       "    .dataframe thead th {\n",
       "        text-align: right;\n",
       "    }\n",
       "</style>\n",
       "<table border=\"1\" class=\"dataframe\">\n",
       "  <thead>\n",
       "    <tr style=\"text-align: right;\">\n",
       "      <th></th>\n",
       "      <th>total_images</th>\n",
       "      <th>last_price</th>\n",
       "      <th>total_area</th>\n",
       "      <th>first_day_exposition</th>\n",
       "      <th>rooms</th>\n",
       "      <th>ceiling_height</th>\n",
       "      <th>floors_total</th>\n",
       "      <th>living_area</th>\n",
       "      <th>floor</th>\n",
       "      <th>is_apartment</th>\n",
       "      <th>...</th>\n",
       "      <th>kitchen_area</th>\n",
       "      <th>balcony</th>\n",
       "      <th>locality_name</th>\n",
       "      <th>airports_nearest</th>\n",
       "      <th>cityCenters_nearest</th>\n",
       "      <th>parks_around3000</th>\n",
       "      <th>parks_nearest</th>\n",
       "      <th>ponds_around3000</th>\n",
       "      <th>ponds_nearest</th>\n",
       "      <th>days_exposition</th>\n",
       "    </tr>\n",
       "  </thead>\n",
       "  <tbody>\n",
       "    <tr>\n",
       "      <th>0</th>\n",
       "      <td>20</td>\n",
       "      <td>13000000</td>\n",
       "      <td>108</td>\n",
       "      <td>2019-03-07</td>\n",
       "      <td>3</td>\n",
       "      <td>2.70</td>\n",
       "      <td>16</td>\n",
       "      <td>51</td>\n",
       "      <td>8</td>\n",
       "      <td>NaN</td>\n",
       "      <td>...</td>\n",
       "      <td>25</td>\n",
       "      <td>0</td>\n",
       "      <td>Санкт-Петербург</td>\n",
       "      <td>18863.0</td>\n",
       "      <td>16028</td>\n",
       "      <td>1.0</td>\n",
       "      <td>482.0</td>\n",
       "      <td>2.0</td>\n",
       "      <td>755.0</td>\n",
       "      <td>NaN</td>\n",
       "    </tr>\n",
       "    <tr>\n",
       "      <th>1</th>\n",
       "      <td>7</td>\n",
       "      <td>3350000</td>\n",
       "      <td>40</td>\n",
       "      <td>2018-12-04</td>\n",
       "      <td>1</td>\n",
       "      <td>NaN</td>\n",
       "      <td>11</td>\n",
       "      <td>18</td>\n",
       "      <td>1</td>\n",
       "      <td>NaN</td>\n",
       "      <td>...</td>\n",
       "      <td>11</td>\n",
       "      <td>2</td>\n",
       "      <td>посёлок Шушары</td>\n",
       "      <td>12817.0</td>\n",
       "      <td>18603</td>\n",
       "      <td>0.0</td>\n",
       "      <td>NaN</td>\n",
       "      <td>0.0</td>\n",
       "      <td>NaN</td>\n",
       "      <td>81.0</td>\n",
       "    </tr>\n",
       "    <tr>\n",
       "      <th>2</th>\n",
       "      <td>10</td>\n",
       "      <td>5196000</td>\n",
       "      <td>56</td>\n",
       "      <td>2015-08-20</td>\n",
       "      <td>2</td>\n",
       "      <td>NaN</td>\n",
       "      <td>5</td>\n",
       "      <td>34</td>\n",
       "      <td>4</td>\n",
       "      <td>NaN</td>\n",
       "      <td>...</td>\n",
       "      <td>8</td>\n",
       "      <td>0</td>\n",
       "      <td>Санкт-Петербург</td>\n",
       "      <td>21741.0</td>\n",
       "      <td>13933</td>\n",
       "      <td>1.0</td>\n",
       "      <td>90.0</td>\n",
       "      <td>2.0</td>\n",
       "      <td>574.0</td>\n",
       "      <td>558.0</td>\n",
       "    </tr>\n",
       "    <tr>\n",
       "      <th>3</th>\n",
       "      <td>0</td>\n",
       "      <td>64900000</td>\n",
       "      <td>159</td>\n",
       "      <td>2015-07-24</td>\n",
       "      <td>3</td>\n",
       "      <td>NaN</td>\n",
       "      <td>14</td>\n",
       "      <td>30</td>\n",
       "      <td>9</td>\n",
       "      <td>NaN</td>\n",
       "      <td>...</td>\n",
       "      <td>9</td>\n",
       "      <td>0</td>\n",
       "      <td>Санкт-Петербург</td>\n",
       "      <td>28098.0</td>\n",
       "      <td>6800</td>\n",
       "      <td>2.0</td>\n",
       "      <td>84.0</td>\n",
       "      <td>3.0</td>\n",
       "      <td>234.0</td>\n",
       "      <td>424.0</td>\n",
       "    </tr>\n",
       "    <tr>\n",
       "      <th>4</th>\n",
       "      <td>2</td>\n",
       "      <td>10000000</td>\n",
       "      <td>100</td>\n",
       "      <td>2018-06-19</td>\n",
       "      <td>2</td>\n",
       "      <td>3.03</td>\n",
       "      <td>14</td>\n",
       "      <td>32</td>\n",
       "      <td>13</td>\n",
       "      <td>NaN</td>\n",
       "      <td>...</td>\n",
       "      <td>41</td>\n",
       "      <td>0</td>\n",
       "      <td>Санкт-Петербург</td>\n",
       "      <td>31856.0</td>\n",
       "      <td>8098</td>\n",
       "      <td>2.0</td>\n",
       "      <td>112.0</td>\n",
       "      <td>1.0</td>\n",
       "      <td>48.0</td>\n",
       "      <td>121.0</td>\n",
       "    </tr>\n",
       "    <tr>\n",
       "      <th>5</th>\n",
       "      <td>10</td>\n",
       "      <td>2890000</td>\n",
       "      <td>30</td>\n",
       "      <td>2018-09-10</td>\n",
       "      <td>1</td>\n",
       "      <td>NaN</td>\n",
       "      <td>12</td>\n",
       "      <td>14</td>\n",
       "      <td>5</td>\n",
       "      <td>NaN</td>\n",
       "      <td>...</td>\n",
       "      <td>9</td>\n",
       "      <td>0</td>\n",
       "      <td>городской посёлок Янино-1</td>\n",
       "      <td>NaN</td>\n",
       "      <td>13098</td>\n",
       "      <td>NaN</td>\n",
       "      <td>NaN</td>\n",
       "      <td>NaN</td>\n",
       "      <td>NaN</td>\n",
       "      <td>55.0</td>\n",
       "    </tr>\n",
       "    <tr>\n",
       "      <th>6</th>\n",
       "      <td>6</td>\n",
       "      <td>3700000</td>\n",
       "      <td>37</td>\n",
       "      <td>2017-11-02</td>\n",
       "      <td>1</td>\n",
       "      <td>NaN</td>\n",
       "      <td>26</td>\n",
       "      <td>10</td>\n",
       "      <td>6</td>\n",
       "      <td>NaN</td>\n",
       "      <td>...</td>\n",
       "      <td>14</td>\n",
       "      <td>1</td>\n",
       "      <td>посёлок Парголово</td>\n",
       "      <td>52996.0</td>\n",
       "      <td>19143</td>\n",
       "      <td>0.0</td>\n",
       "      <td>NaN</td>\n",
       "      <td>0.0</td>\n",
       "      <td>NaN</td>\n",
       "      <td>155.0</td>\n",
       "    </tr>\n",
       "    <tr>\n",
       "      <th>7</th>\n",
       "      <td>5</td>\n",
       "      <td>7915000</td>\n",
       "      <td>71</td>\n",
       "      <td>2019-04-18</td>\n",
       "      <td>2</td>\n",
       "      <td>NaN</td>\n",
       "      <td>24</td>\n",
       "      <td>30</td>\n",
       "      <td>22</td>\n",
       "      <td>NaN</td>\n",
       "      <td>...</td>\n",
       "      <td>18</td>\n",
       "      <td>2</td>\n",
       "      <td>Санкт-Петербург</td>\n",
       "      <td>23982.0</td>\n",
       "      <td>11634</td>\n",
       "      <td>0.0</td>\n",
       "      <td>NaN</td>\n",
       "      <td>0.0</td>\n",
       "      <td>NaN</td>\n",
       "      <td>NaN</td>\n",
       "    </tr>\n",
       "    <tr>\n",
       "      <th>8</th>\n",
       "      <td>20</td>\n",
       "      <td>2900000</td>\n",
       "      <td>33</td>\n",
       "      <td>2018-05-23</td>\n",
       "      <td>1</td>\n",
       "      <td>NaN</td>\n",
       "      <td>27</td>\n",
       "      <td>15</td>\n",
       "      <td>26</td>\n",
       "      <td>NaN</td>\n",
       "      <td>...</td>\n",
       "      <td>8</td>\n",
       "      <td>0</td>\n",
       "      <td>посёлок Мурино</td>\n",
       "      <td>NaN</td>\n",
       "      <td>13098</td>\n",
       "      <td>NaN</td>\n",
       "      <td>NaN</td>\n",
       "      <td>NaN</td>\n",
       "      <td>NaN</td>\n",
       "      <td>189.0</td>\n",
       "    </tr>\n",
       "    <tr>\n",
       "      <th>9</th>\n",
       "      <td>18</td>\n",
       "      <td>5400000</td>\n",
       "      <td>61</td>\n",
       "      <td>2017-02-26</td>\n",
       "      <td>3</td>\n",
       "      <td>2.50</td>\n",
       "      <td>9</td>\n",
       "      <td>43</td>\n",
       "      <td>7</td>\n",
       "      <td>NaN</td>\n",
       "      <td>...</td>\n",
       "      <td>6</td>\n",
       "      <td>2</td>\n",
       "      <td>Санкт-Петербург</td>\n",
       "      <td>50898.0</td>\n",
       "      <td>15008</td>\n",
       "      <td>0.0</td>\n",
       "      <td>NaN</td>\n",
       "      <td>0.0</td>\n",
       "      <td>NaN</td>\n",
       "      <td>289.0</td>\n",
       "    </tr>\n",
       "  </tbody>\n",
       "</table>\n",
       "<p>10 rows × 22 columns</p>\n",
       "</div>"
      ],
      "text/plain": [
       "   total_images  last_price  total_area first_day_exposition  rooms  \\\n",
       "0            20    13000000         108           2019-03-07      3   \n",
       "1             7     3350000          40           2018-12-04      1   \n",
       "2            10     5196000          56           2015-08-20      2   \n",
       "3             0    64900000         159           2015-07-24      3   \n",
       "4             2    10000000         100           2018-06-19      2   \n",
       "5            10     2890000          30           2018-09-10      1   \n",
       "6             6     3700000          37           2017-11-02      1   \n",
       "7             5     7915000          71           2019-04-18      2   \n",
       "8            20     2900000          33           2018-05-23      1   \n",
       "9            18     5400000          61           2017-02-26      3   \n",
       "\n",
       "   ceiling_height  floors_total  living_area  floor is_apartment  ...  \\\n",
       "0            2.70            16           51      8          NaN  ...   \n",
       "1             NaN            11           18      1          NaN  ...   \n",
       "2             NaN             5           34      4          NaN  ...   \n",
       "3             NaN            14           30      9          NaN  ...   \n",
       "4            3.03            14           32     13          NaN  ...   \n",
       "5             NaN            12           14      5          NaN  ...   \n",
       "6             NaN            26           10      6          NaN  ...   \n",
       "7             NaN            24           30     22          NaN  ...   \n",
       "8             NaN            27           15     26          NaN  ...   \n",
       "9            2.50             9           43      7          NaN  ...   \n",
       "\n",
       "   kitchen_area  balcony              locality_name  airports_nearest  \\\n",
       "0            25        0            Санкт-Петербург           18863.0   \n",
       "1            11        2             посёлок Шушары           12817.0   \n",
       "2             8        0            Санкт-Петербург           21741.0   \n",
       "3             9        0            Санкт-Петербург           28098.0   \n",
       "4            41        0            Санкт-Петербург           31856.0   \n",
       "5             9        0  городской посёлок Янино-1               NaN   \n",
       "6            14        1          посёлок Парголово           52996.0   \n",
       "7            18        2            Санкт-Петербург           23982.0   \n",
       "8             8        0             посёлок Мурино               NaN   \n",
       "9             6        2            Санкт-Петербург           50898.0   \n",
       "\n",
       "  cityCenters_nearest  parks_around3000  parks_nearest  ponds_around3000  \\\n",
       "0               16028               1.0          482.0               2.0   \n",
       "1               18603               0.0            NaN               0.0   \n",
       "2               13933               1.0           90.0               2.0   \n",
       "3                6800               2.0           84.0               3.0   \n",
       "4                8098               2.0          112.0               1.0   \n",
       "5               13098               NaN            NaN               NaN   \n",
       "6               19143               0.0            NaN               0.0   \n",
       "7               11634               0.0            NaN               0.0   \n",
       "8               13098               NaN            NaN               NaN   \n",
       "9               15008               0.0            NaN               0.0   \n",
       "\n",
       "   ponds_nearest  days_exposition  \n",
       "0          755.0              NaN  \n",
       "1            NaN             81.0  \n",
       "2          574.0            558.0  \n",
       "3          234.0            424.0  \n",
       "4           48.0            121.0  \n",
       "5            NaN             55.0  \n",
       "6            NaN            155.0  \n",
       "7            NaN              NaN  \n",
       "8            NaN            189.0  \n",
       "9            NaN            289.0  \n",
       "\n",
       "[10 rows x 22 columns]"
      ]
     },
     "metadata": {},
     "output_type": "display_data"
    }
   ],
   "source": [
    "display(data.head(10))"
   ]
  },
  {
   "cell_type": "markdown",
   "metadata": {},
   "source": [
    "Изменим вид некоторых столбцов для репрезентабельности, так как далее нужно будет с ними работать."
   ]
  },
  {
   "cell_type": "markdown",
   "metadata": {},
   "source": [
    "<div class=\"alert alert-success\">\n",
    "<b>✔️ Комментарий ревьюера:</b> В принципе, можно оставить пропуски как есть. Отсутсвие значений - тоже важный маркер, который не стоит прятать"
   ]
  },
  {
   "cell_type": "markdown",
   "metadata": {},
   "source": [
    "## Расчёты и добавление результатов в таблицу"
   ]
  },
  {
   "cell_type": "code",
   "execution_count": 15,
   "metadata": {},
   "outputs": [],
   "source": [
    "data['price_area'] = data['last_price'] / data['total_area']"
   ]
  },
  {
   "cell_type": "code",
   "execution_count": 16,
   "metadata": {},
   "outputs": [],
   "source": [
    "data['weekday'] = data['first_day_exposition'].dt.weekday\n",
    "data['month'] = data['first_day_exposition'].dt.month\n",
    "data['year'] = data['first_day_exposition'].dt.year"
   ]
  },
  {
   "cell_type": "markdown",
   "metadata": {},
   "source": [
    "<div class=\"alert alert-warning\">\n",
    "<b>⚠️ Комментарий ревьюера:</b> Обычно в датафреймах содержатся данные за несколько лет. Важно выбрать корректный метод для вычленения месяца, иначе месяца разных годов могут стать одним месяцем (метод month может привести к ошибке). Обрати внимание на метод astype('datetime64[M]'). Для его использования не нужно обращаться к pd.DatetimeIndex. В данной работе нам не нужно разделять месяца разных годов. Это практичеый совет на будущее:) "
   ]
  },
  {
   "cell_type": "markdown",
   "metadata": {},
   "source": [
    "<div class=\"alert alert-info\"> Я понял, про astype вечно забываю)"
   ]
  },
  {
   "cell_type": "code",
   "execution_count": 17,
   "metadata": {},
   "outputs": [],
   "source": [
    "def floor_number(row):\n",
    "    \n",
    "    floor = row['floor']\n",
    "    floors = row['floors_total']\n",
    "    if floor == 1:\n",
    "        return 'First'\n",
    "    elif floor == floors:\n",
    "        return 'Last'\n",
    "    else:\n",
    "        return 'Other'\n",
    "    \n",
    "data['floor_id'] = data.apply(floor_number, axis=1)"
   ]
  },
  {
   "cell_type": "code",
   "execution_count": 18,
   "metadata": {},
   "outputs": [],
   "source": [
    "data['proportion_living_area'] = data['living_area'] / data['total_area']\n",
    "data['proportion_kitchen_area'] = data['kitchen_area'] / data['total_area']"
   ]
  },
  {
   "cell_type": "code",
   "execution_count": 19,
   "metadata": {},
   "outputs": [
    {
     "data": {
      "text/html": [
       "<div>\n",
       "<style scoped>\n",
       "    .dataframe tbody tr th:only-of-type {\n",
       "        vertical-align: middle;\n",
       "    }\n",
       "\n",
       "    .dataframe tbody tr th {\n",
       "        vertical-align: top;\n",
       "    }\n",
       "\n",
       "    .dataframe thead th {\n",
       "        text-align: right;\n",
       "    }\n",
       "</style>\n",
       "<table border=\"1\" class=\"dataframe\">\n",
       "  <thead>\n",
       "    <tr style=\"text-align: right;\">\n",
       "      <th></th>\n",
       "      <th>total_images</th>\n",
       "      <th>last_price</th>\n",
       "      <th>total_area</th>\n",
       "      <th>first_day_exposition</th>\n",
       "      <th>rooms</th>\n",
       "      <th>ceiling_height</th>\n",
       "      <th>floors_total</th>\n",
       "      <th>living_area</th>\n",
       "      <th>floor</th>\n",
       "      <th>is_apartment</th>\n",
       "      <th>...</th>\n",
       "      <th>ponds_around3000</th>\n",
       "      <th>ponds_nearest</th>\n",
       "      <th>days_exposition</th>\n",
       "      <th>price_area</th>\n",
       "      <th>weekday</th>\n",
       "      <th>month</th>\n",
       "      <th>year</th>\n",
       "      <th>floor_id</th>\n",
       "      <th>proportion_living_area</th>\n",
       "      <th>proportion_kitchen_area</th>\n",
       "    </tr>\n",
       "  </thead>\n",
       "  <tbody>\n",
       "    <tr>\n",
       "      <th>0</th>\n",
       "      <td>20</td>\n",
       "      <td>13000000</td>\n",
       "      <td>108</td>\n",
       "      <td>2019-03-07</td>\n",
       "      <td>3</td>\n",
       "      <td>2.70</td>\n",
       "      <td>16</td>\n",
       "      <td>51</td>\n",
       "      <td>8</td>\n",
       "      <td>NaN</td>\n",
       "      <td>...</td>\n",
       "      <td>2.0</td>\n",
       "      <td>755.0</td>\n",
       "      <td>NaN</td>\n",
       "      <td>120370.370370</td>\n",
       "      <td>3</td>\n",
       "      <td>3</td>\n",
       "      <td>2019</td>\n",
       "      <td>Other</td>\n",
       "      <td>0.472222</td>\n",
       "      <td>0.231481</td>\n",
       "    </tr>\n",
       "    <tr>\n",
       "      <th>1</th>\n",
       "      <td>7</td>\n",
       "      <td>3350000</td>\n",
       "      <td>40</td>\n",
       "      <td>2018-12-04</td>\n",
       "      <td>1</td>\n",
       "      <td>NaN</td>\n",
       "      <td>11</td>\n",
       "      <td>18</td>\n",
       "      <td>1</td>\n",
       "      <td>NaN</td>\n",
       "      <td>...</td>\n",
       "      <td>0.0</td>\n",
       "      <td>NaN</td>\n",
       "      <td>81.0</td>\n",
       "      <td>83750.000000</td>\n",
       "      <td>1</td>\n",
       "      <td>12</td>\n",
       "      <td>2018</td>\n",
       "      <td>First</td>\n",
       "      <td>0.450000</td>\n",
       "      <td>0.275000</td>\n",
       "    </tr>\n",
       "    <tr>\n",
       "      <th>2</th>\n",
       "      <td>10</td>\n",
       "      <td>5196000</td>\n",
       "      <td>56</td>\n",
       "      <td>2015-08-20</td>\n",
       "      <td>2</td>\n",
       "      <td>NaN</td>\n",
       "      <td>5</td>\n",
       "      <td>34</td>\n",
       "      <td>4</td>\n",
       "      <td>NaN</td>\n",
       "      <td>...</td>\n",
       "      <td>2.0</td>\n",
       "      <td>574.0</td>\n",
       "      <td>558.0</td>\n",
       "      <td>92785.714286</td>\n",
       "      <td>3</td>\n",
       "      <td>8</td>\n",
       "      <td>2015</td>\n",
       "      <td>Other</td>\n",
       "      <td>0.607143</td>\n",
       "      <td>0.142857</td>\n",
       "    </tr>\n",
       "    <tr>\n",
       "      <th>3</th>\n",
       "      <td>0</td>\n",
       "      <td>64900000</td>\n",
       "      <td>159</td>\n",
       "      <td>2015-07-24</td>\n",
       "      <td>3</td>\n",
       "      <td>NaN</td>\n",
       "      <td>14</td>\n",
       "      <td>30</td>\n",
       "      <td>9</td>\n",
       "      <td>NaN</td>\n",
       "      <td>...</td>\n",
       "      <td>3.0</td>\n",
       "      <td>234.0</td>\n",
       "      <td>424.0</td>\n",
       "      <td>408176.100629</td>\n",
       "      <td>4</td>\n",
       "      <td>7</td>\n",
       "      <td>2015</td>\n",
       "      <td>Other</td>\n",
       "      <td>0.188679</td>\n",
       "      <td>0.056604</td>\n",
       "    </tr>\n",
       "    <tr>\n",
       "      <th>4</th>\n",
       "      <td>2</td>\n",
       "      <td>10000000</td>\n",
       "      <td>100</td>\n",
       "      <td>2018-06-19</td>\n",
       "      <td>2</td>\n",
       "      <td>3.03</td>\n",
       "      <td>14</td>\n",
       "      <td>32</td>\n",
       "      <td>13</td>\n",
       "      <td>NaN</td>\n",
       "      <td>...</td>\n",
       "      <td>1.0</td>\n",
       "      <td>48.0</td>\n",
       "      <td>121.0</td>\n",
       "      <td>100000.000000</td>\n",
       "      <td>1</td>\n",
       "      <td>6</td>\n",
       "      <td>2018</td>\n",
       "      <td>Other</td>\n",
       "      <td>0.320000</td>\n",
       "      <td>0.410000</td>\n",
       "    </tr>\n",
       "    <tr>\n",
       "      <th>5</th>\n",
       "      <td>10</td>\n",
       "      <td>2890000</td>\n",
       "      <td>30</td>\n",
       "      <td>2018-09-10</td>\n",
       "      <td>1</td>\n",
       "      <td>NaN</td>\n",
       "      <td>12</td>\n",
       "      <td>14</td>\n",
       "      <td>5</td>\n",
       "      <td>NaN</td>\n",
       "      <td>...</td>\n",
       "      <td>NaN</td>\n",
       "      <td>NaN</td>\n",
       "      <td>55.0</td>\n",
       "      <td>96333.333333</td>\n",
       "      <td>0</td>\n",
       "      <td>9</td>\n",
       "      <td>2018</td>\n",
       "      <td>Other</td>\n",
       "      <td>0.466667</td>\n",
       "      <td>0.300000</td>\n",
       "    </tr>\n",
       "    <tr>\n",
       "      <th>6</th>\n",
       "      <td>6</td>\n",
       "      <td>3700000</td>\n",
       "      <td>37</td>\n",
       "      <td>2017-11-02</td>\n",
       "      <td>1</td>\n",
       "      <td>NaN</td>\n",
       "      <td>26</td>\n",
       "      <td>10</td>\n",
       "      <td>6</td>\n",
       "      <td>NaN</td>\n",
       "      <td>...</td>\n",
       "      <td>0.0</td>\n",
       "      <td>NaN</td>\n",
       "      <td>155.0</td>\n",
       "      <td>100000.000000</td>\n",
       "      <td>3</td>\n",
       "      <td>11</td>\n",
       "      <td>2017</td>\n",
       "      <td>Other</td>\n",
       "      <td>0.270270</td>\n",
       "      <td>0.378378</td>\n",
       "    </tr>\n",
       "    <tr>\n",
       "      <th>7</th>\n",
       "      <td>5</td>\n",
       "      <td>7915000</td>\n",
       "      <td>71</td>\n",
       "      <td>2019-04-18</td>\n",
       "      <td>2</td>\n",
       "      <td>NaN</td>\n",
       "      <td>24</td>\n",
       "      <td>30</td>\n",
       "      <td>22</td>\n",
       "      <td>NaN</td>\n",
       "      <td>...</td>\n",
       "      <td>0.0</td>\n",
       "      <td>NaN</td>\n",
       "      <td>NaN</td>\n",
       "      <td>111478.873239</td>\n",
       "      <td>3</td>\n",
       "      <td>4</td>\n",
       "      <td>2019</td>\n",
       "      <td>Other</td>\n",
       "      <td>0.422535</td>\n",
       "      <td>0.253521</td>\n",
       "    </tr>\n",
       "    <tr>\n",
       "      <th>8</th>\n",
       "      <td>20</td>\n",
       "      <td>2900000</td>\n",
       "      <td>33</td>\n",
       "      <td>2018-05-23</td>\n",
       "      <td>1</td>\n",
       "      <td>NaN</td>\n",
       "      <td>27</td>\n",
       "      <td>15</td>\n",
       "      <td>26</td>\n",
       "      <td>NaN</td>\n",
       "      <td>...</td>\n",
       "      <td>NaN</td>\n",
       "      <td>NaN</td>\n",
       "      <td>189.0</td>\n",
       "      <td>87878.787879</td>\n",
       "      <td>2</td>\n",
       "      <td>5</td>\n",
       "      <td>2018</td>\n",
       "      <td>Other</td>\n",
       "      <td>0.454545</td>\n",
       "      <td>0.242424</td>\n",
       "    </tr>\n",
       "    <tr>\n",
       "      <th>9</th>\n",
       "      <td>18</td>\n",
       "      <td>5400000</td>\n",
       "      <td>61</td>\n",
       "      <td>2017-02-26</td>\n",
       "      <td>3</td>\n",
       "      <td>2.50</td>\n",
       "      <td>9</td>\n",
       "      <td>43</td>\n",
       "      <td>7</td>\n",
       "      <td>NaN</td>\n",
       "      <td>...</td>\n",
       "      <td>0.0</td>\n",
       "      <td>NaN</td>\n",
       "      <td>289.0</td>\n",
       "      <td>88524.590164</td>\n",
       "      <td>6</td>\n",
       "      <td>2</td>\n",
       "      <td>2017</td>\n",
       "      <td>Other</td>\n",
       "      <td>0.704918</td>\n",
       "      <td>0.098361</td>\n",
       "    </tr>\n",
       "  </tbody>\n",
       "</table>\n",
       "<p>10 rows × 29 columns</p>\n",
       "</div>"
      ],
      "text/plain": [
       "   total_images  last_price  total_area first_day_exposition  rooms  \\\n",
       "0            20    13000000         108           2019-03-07      3   \n",
       "1             7     3350000          40           2018-12-04      1   \n",
       "2            10     5196000          56           2015-08-20      2   \n",
       "3             0    64900000         159           2015-07-24      3   \n",
       "4             2    10000000         100           2018-06-19      2   \n",
       "5            10     2890000          30           2018-09-10      1   \n",
       "6             6     3700000          37           2017-11-02      1   \n",
       "7             5     7915000          71           2019-04-18      2   \n",
       "8            20     2900000          33           2018-05-23      1   \n",
       "9            18     5400000          61           2017-02-26      3   \n",
       "\n",
       "   ceiling_height  floors_total  living_area  floor is_apartment  ...  \\\n",
       "0            2.70            16           51      8          NaN  ...   \n",
       "1             NaN            11           18      1          NaN  ...   \n",
       "2             NaN             5           34      4          NaN  ...   \n",
       "3             NaN            14           30      9          NaN  ...   \n",
       "4            3.03            14           32     13          NaN  ...   \n",
       "5             NaN            12           14      5          NaN  ...   \n",
       "6             NaN            26           10      6          NaN  ...   \n",
       "7             NaN            24           30     22          NaN  ...   \n",
       "8             NaN            27           15     26          NaN  ...   \n",
       "9            2.50             9           43      7          NaN  ...   \n",
       "\n",
       "   ponds_around3000  ponds_nearest  days_exposition     price_area weekday  \\\n",
       "0               2.0          755.0              NaN  120370.370370       3   \n",
       "1               0.0            NaN             81.0   83750.000000       1   \n",
       "2               2.0          574.0            558.0   92785.714286       3   \n",
       "3               3.0          234.0            424.0  408176.100629       4   \n",
       "4               1.0           48.0            121.0  100000.000000       1   \n",
       "5               NaN            NaN             55.0   96333.333333       0   \n",
       "6               0.0            NaN            155.0  100000.000000       3   \n",
       "7               0.0            NaN              NaN  111478.873239       3   \n",
       "8               NaN            NaN            189.0   87878.787879       2   \n",
       "9               0.0            NaN            289.0   88524.590164       6   \n",
       "\n",
       "   month  year  floor_id  proportion_living_area  proportion_kitchen_area  \n",
       "0      3  2019     Other                0.472222                 0.231481  \n",
       "1     12  2018     First                0.450000                 0.275000  \n",
       "2      8  2015     Other                0.607143                 0.142857  \n",
       "3      7  2015     Other                0.188679                 0.056604  \n",
       "4      6  2018     Other                0.320000                 0.410000  \n",
       "5      9  2018     Other                0.466667                 0.300000  \n",
       "6     11  2017     Other                0.270270                 0.378378  \n",
       "7      4  2019     Other                0.422535                 0.253521  \n",
       "8      5  2018     Other                0.454545                 0.242424  \n",
       "9      2  2017     Other                0.704918                 0.098361  \n",
       "\n",
       "[10 rows x 29 columns]"
      ]
     },
     "execution_count": 19,
     "metadata": {},
     "output_type": "execute_result"
    }
   ],
   "source": [
    "data.head(10)"
   ]
  },
  {
   "cell_type": "markdown",
   "metadata": {},
   "source": [
    "## Исследовательский анализ данных"
   ]
  },
  {
   "cell_type": "code",
   "execution_count": 20,
   "metadata": {},
   "outputs": [
    {
     "name": "stdout",
     "output_type": "stream",
     "text": [
      "Maximal Value: 763000000\n",
      "Minimal Value: 12190\n",
      "Mean: 6541548.771551542\n",
      "Median: 4650000.0\n"
     ]
    }
   ],
   "source": [
    "print('Maximal Value:', data['last_price'].max())\n",
    "print('Minimal Value:', data['last_price'].min())\n",
    "print('Mean:', data['last_price'].mean())\n",
    "print('Median:', data['last_price'].median())"
   ]
  },
  {
   "cell_type": "code",
   "execution_count": 21,
   "metadata": {
    "scrolled": true
   },
   "outputs": [
    {
     "data": {
      "text/plain": [
       "array([[<AxesSubplot:title={'center':'last_price'}>]], dtype=object)"
      ]
     },
     "execution_count": 21,
     "metadata": {},
     "output_type": "execute_result"
    },
    {
     "data": {
      "image/png": "[encoded data removed]",
      "text/plain": [
       "<Figure size 432x288 with 1 Axes>"
      ]
     },
     "metadata": {
      "needs_background": "light"
     },
     "output_type": "display_data"
    }
   ],
   "source": [
    "data.hist('last_price', bins = (100), range = (0 , 100000000))"
   ]
  },
  {
   "cell_type": "markdown",
   "metadata": {},
   "source": [
    "Цены на квартиры, стандартный график для подобных больших городов."
   ]
  },
  {
   "cell_type": "markdown",
   "metadata": {},
   "source": [
    "<div class=\"alert alert-warning\">\n",
    "<b>⚠️ Комментарий ревьюера:</b> Вы еще не проходили подписи графиков (осей), но можно их добавить, чтобы гистограмма стала информативнее. Можно почитать здесь, как добавить подписи: \n",
    "    \n",
    "    \n",
    "    https://mode.com/example-gallery/python_histogram/"
   ]
  },
  {
   "cell_type": "code",
   "execution_count": 22,
   "metadata": {},
   "outputs": [
    {
     "name": "stdout",
     "output_type": "stream",
     "text": [
      "Maximal Value: 900\n",
      "Minimal Value: 12\n",
      "Mean: 60.120511413983714\n",
      "Median: 52.0\n"
     ]
    }
   ],
   "source": [
    "print('Maximal Value:', data['total_area'].max())\n",
    "print('Minimal Value:', data['total_area'].min())\n",
    "print('Mean:', data['total_area'].mean())\n",
    "print('Median:', data['total_area'].median())"
   ]
  },
  {
   "cell_type": "code",
   "execution_count": 23,
   "metadata": {},
   "outputs": [
    {
     "data": {
      "text/plain": [
       "array([[<AxesSubplot:title={'center':'total_area'}>]], dtype=object)"
      ]
     },
     "execution_count": 23,
     "metadata": {},
     "output_type": "execute_result"
    },
    {
     "data": {
      "image/png": "[encoded data removed]",
      "text/plain": [
       "<Figure size 432x288 with 1 Axes>"
      ]
     },
     "metadata": {
      "needs_background": "light"
     },
     "output_type": "display_data"
    }
   ],
   "source": [
    "data.hist('total_area', bins= (100), range= (0, 500))"
   ]
  },
  {
   "cell_type": "markdown",
   "metadata": {},
   "source": [
    "Площадь жилья, большие значения обусловлены, порой, старыми домами XVIII - XIX веков, при большой площади цены на них вовсе не астрономические."
   ]
  },
  {
   "cell_type": "code",
   "execution_count": 24,
   "metadata": {},
   "outputs": [
    {
     "name": "stdout",
     "output_type": "stream",
     "text": [
      "Maximal Value: 19\n",
      "Minimal Value: 0\n",
      "Mean: 2.070635891809781\n",
      "Median: 2.0\n"
     ]
    }
   ],
   "source": [
    "print('Maximal Value:', data['rooms'].max())\n",
    "print('Minimal Value:', data['rooms'].min())\n",
    "print('Mean:', data['rooms'].mean())\n",
    "print('Median:', data['rooms'].median())"
   ]
  },
  {
   "cell_type": "code",
   "execution_count": 25,
   "metadata": {},
   "outputs": [
    {
     "data": {
      "text/plain": [
       "array([[<AxesSubplot:title={'center':'rooms'}>]], dtype=object)"
      ]
     },
     "execution_count": 25,
     "metadata": {},
     "output_type": "execute_result"
    },
    {
     "data": {
      "image/png": "[encoded data removed]",
      "text/plain": [
       "<Figure size 432x288 with 1 Axes>"
      ]
     },
     "metadata": {
      "needs_background": "light"
     },
     "output_type": "display_data"
    }
   ],
   "source": [
    "data.hist('rooms', bins= (10), range= (0, 10))"
   ]
  },
  {
   "cell_type": "markdown",
   "metadata": {},
   "source": [
    "Количество комнат, ничего необычного, за исключением нулевых значений. Однако они обозначают студии, количество комнат которых изначально равно 0."
   ]
  },
  {
   "cell_type": "code",
   "execution_count": 26,
   "metadata": {},
   "outputs": [
    {
     "name": "stdout",
     "output_type": "stream",
     "text": [
      "Maximal Value: 100.0\n",
      "Minimal Value: 1.0\n",
      "Mean: 2.77149889685604\n",
      "Median: 2.65\n"
     ]
    }
   ],
   "source": [
    "print('Maximal Value:', data['ceiling_height'].max())\n",
    "print('Minimal Value:', data['ceiling_height'].min())\n",
    "print('Mean:', data['ceiling_height'].mean())\n",
    "print('Median:', data['ceiling_height'].median())"
   ]
  },
  {
   "cell_type": "code",
   "execution_count": 27,
   "metadata": {
    "scrolled": true
   },
   "outputs": [
    {
     "data": {
      "text/plain": [
       "array([[<AxesSubplot:title={'center':'ceiling_height'}>]], dtype=object)"
      ]
     },
     "execution_count": 27,
     "metadata": {},
     "output_type": "execute_result"
    },
    {
     "data": {
      "image/png": "[encoded data removed]",
      "text/plain": [
       "<Figure size 432x288 with 1 Axes>"
      ]
     },
     "metadata": {
      "needs_background": "light"
     },
     "output_type": "display_data"
    }
   ],
   "source": [
    "data.hist('ceiling_height', bins= (10), range= (0, 10))"
   ]
  },
  {
   "cell_type": "markdown",
   "metadata": {},
   "source": [
    "Высота потолков, вроде ничего необычного, больша часть 2-3 метра, однако встречаются исключения вплоть до 5 метров. Возможно, учитывая исторический центр Санкт-Питербурга - это старинные дома, возможно даже дворянские усадьбы."
   ]
  },
  {
   "cell_type": "markdown",
   "metadata": {},
   "source": [
    "<div class=\"alert alert-warning\">\n",
    "<b>⚠️ Комментарий ревьюера:</b>  Построенные гистограмы очень важно описывать одним-двумя предложениями. Тебе как аналитику понятно, что на них происходит, должно быть понятно и стороннему человеку"
   ]
  },
  {
   "cell_type": "markdown",
   "metadata": {},
   "source": [
    "<div class=\"alert alert-info\"> Добавил описания"
   ]
  },
  {
   "cell_type": "markdown",
   "metadata": {},
   "source": [
    "### Задача "
   ]
  },
  {
   "cell_type": "code",
   "execution_count": 28,
   "metadata": {},
   "outputs": [
    {
     "name": "stdout",
     "output_type": "stream",
     "text": [
      "Maximal Value: 1580.0\n",
      "Minimal Value: 1.0\n",
      "Mean: 180.88863436982163\n",
      "Median: 95.0\n"
     ]
    }
   ],
   "source": [
    "print('Maximal Value:', data['days_exposition'].max())\n",
    "print('Minimal Value:', data['days_exposition'].min())\n",
    "print('Mean:', data['days_exposition'].mean())\n",
    "print('Median:', data['days_exposition'].median())"
   ]
  },
  {
   "cell_type": "code",
   "execution_count": 29,
   "metadata": {},
   "outputs": [
    {
     "data": {
      "text/plain": [
       "array([[<AxesSubplot:title={'center':'days_exposition'}>]], dtype=object)"
      ]
     },
     "execution_count": 29,
     "metadata": {},
     "output_type": "execute_result"
    },
    {
     "data": {
      "image/png": "[encoded data removed]",
      "text/plain": [
       "<Figure size 432x288 with 1 Axes>"
      ]
     },
     "metadata": {
      "needs_background": "light"
     },
     "output_type": "display_data"
    }
   ],
   "source": [
    "data.hist('days_exposition', bins= (100), range= (0, 500))"
   ]
  },
  {
   "cell_type": "markdown",
   "metadata": {},
   "source": [
    "Из данного графика видно, что большенство квартир продаются в первые 100 дней после объявления. Можно сказать, что это довольно бысто, так как среднее время продажи занимает 180 дней. Если продажа занимает больше 300 дней, то ее можно считать как черезмерно затяжную."
   ]
  },
  {
   "cell_type": "markdown",
   "metadata": {},
   "source": [
    "<div class=\"alert alert-success\">\n",
    "<b>✔️ Комментарий ревьюера:</b> Верно"
   ]
  },
  {
   "cell_type": "markdown",
   "metadata": {},
   "source": [
    "### Задача"
   ]
  },
  {
   "cell_type": "code",
   "execution_count": 30,
   "metadata": {},
   "outputs": [],
   "source": [
    "data = data.query('40000 <= last_price <= 0.2*100000000 & total_area <= 150 & rooms <= 6')"
   ]
  },
  {
   "cell_type": "markdown",
   "metadata": {},
   "source": [
    "<div class=\"alert alert-warning\">\n",
    "<b>⚠️ Комментарий ревьюера:</b> Я бы также советовала обработать аномалии в высоте потолков"
   ]
  },
  {
   "cell_type": "markdown",
   "metadata": {},
   "source": [
    "<div class=\"alert alert-info\"> Я хотел, однако прочел что в Питере, в особенности в центре, потолки высотой 4 или даже 5 метров вполне имеют место быть."
   ]
  },
  {
   "cell_type": "markdown",
   "metadata": {},
   "source": [
    "<div class=\"alert alert-success\">\n",
    "<b>✔️ Комментарий ревьюера V2:</b> В данных есть аномалильно низкие потолки. По САНПИН высота потолка в жилом помещении не может быть ниже 2.5 м"
   ]
  },
  {
   "cell_type": "code",
   "execution_count": 31,
   "metadata": {},
   "outputs": [
    {
     "data": {
      "text/plain": [
       "array([[<AxesSubplot:title={'center':'ceiling_height'}>]], dtype=object)"
      ]
     },
     "execution_count": 31,
     "metadata": {},
     "output_type": "execute_result"
    },
    {
     "data": {
      "image/png": "[encoded data removed]",
      "text/plain": [
       "<Figure size 432x288 with 1 Axes>"
      ]
     },
     "metadata": {
      "needs_background": "light"
     },
     "output_type": "display_data"
    },
    {
     "data": {
      "image/png": "[encoded data removed]",
      "text/plain": [
       "<Figure size 432x288 with 1 Axes>"
      ]
     },
     "metadata": {
      "needs_background": "light"
     },
     "output_type": "display_data"
    },
    {
     "data": {
      "image/png": "[encoded data removed]",
      "text/plain": [
       "<Figure size 432x288 with 1 Axes>"
      ]
     },
     "metadata": {
      "needs_background": "light"
     },
     "output_type": "display_data"
    },
    {
     "data": {
      "image/png": "[encoded data removed]",
      "text/plain": [
       "<Figure size 432x288 with 1 Axes>"
      ]
     },
     "metadata": {
      "needs_background": "light"
     },
     "output_type": "display_data"
    }
   ],
   "source": [
    "data.hist('last_price', bins = (100), range = (0 , 20000000))\n",
    "data.hist('total_area', bins= (50), range= (0, 150))\n",
    "data.hist('rooms', bins= (5), range= (0, 5))\n",
    "data.hist('ceiling_height', bins= (6), range= (0, 6))"
   ]
  },
  {
   "cell_type": "markdown",
   "metadata": {},
   "source": [
    "После удаления редких и выбивающихся значений графики не сильно изменились."
   ]
  },
  {
   "cell_type": "code",
   "execution_count": 32,
   "metadata": {},
   "outputs": [
    {
     "data": {
      "text/plain": [
       "total_images                   0\n",
       "last_price                     0\n",
       "total_area                     0\n",
       "first_day_exposition           0\n",
       "rooms                          0\n",
       "ceiling_height              8902\n",
       "floors_total                   0\n",
       "living_area                    0\n",
       "floor                          0\n",
       "is_apartment               20127\n",
       "studio                         0\n",
       "open_plan                      0\n",
       "kitchen_area                   0\n",
       "balcony                        0\n",
       "locality_name                  0\n",
       "airports_nearest            5512\n",
       "cityCenters_nearest            0\n",
       "parks_around3000            5494\n",
       "parks_nearest              15338\n",
       "ponds_around3000            5494\n",
       "ponds_nearest              14319\n",
       "days_exposition             2939\n",
       "price_area                     0\n",
       "weekday                        0\n",
       "month                          0\n",
       "year                           0\n",
       "floor_id                       0\n",
       "proportion_living_area         0\n",
       "proportion_kitchen_area        0\n",
       "dtype: int64"
      ]
     },
     "execution_count": 32,
     "metadata": {},
     "output_type": "execute_result"
    }
   ],
   "source": [
    "# Проверим\n",
    "data.isna().sum()"
   ]
  },
  {
   "cell_type": "code",
   "execution_count": 33,
   "metadata": {},
   "outputs": [
    {
     "data": {
      "text/html": [
       "<div>\n",
       "<style scoped>\n",
       "    .dataframe tbody tr th:only-of-type {\n",
       "        vertical-align: middle;\n",
       "    }\n",
       "\n",
       "    .dataframe tbody tr th {\n",
       "        vertical-align: top;\n",
       "    }\n",
       "\n",
       "    .dataframe thead th {\n",
       "        text-align: right;\n",
       "    }\n",
       "</style>\n",
       "<table border=\"1\" class=\"dataframe\">\n",
       "  <thead>\n",
       "    <tr style=\"text-align: right;\">\n",
       "      <th></th>\n",
       "      <th>last_price</th>\n",
       "      <th>total_area</th>\n",
       "      <th>rooms</th>\n",
       "      <th>ceiling_height</th>\n",
       "    </tr>\n",
       "  </thead>\n",
       "  <tbody>\n",
       "    <tr>\n",
       "      <th>min</th>\n",
       "      <td>430000.0</td>\n",
       "      <td>12.0</td>\n",
       "      <td>0.0</td>\n",
       "      <td>1.0</td>\n",
       "    </tr>\n",
       "    <tr>\n",
       "      <th>max</th>\n",
       "      <td>20000000.0</td>\n",
       "      <td>150.0</td>\n",
       "      <td>6.0</td>\n",
       "      <td>100.0</td>\n",
       "    </tr>\n",
       "  </tbody>\n",
       "</table>\n",
       "</div>"
      ],
      "text/plain": [
       "     last_price  total_area  rooms  ceiling_height\n",
       "min    430000.0        12.0    0.0             1.0\n",
       "max  20000000.0       150.0    6.0           100.0"
      ]
     },
     "execution_count": 33,
     "metadata": {},
     "output_type": "execute_result"
    }
   ],
   "source": [
    "data[['last_price', 'total_area','rooms', 'ceiling_height' ]].describe().loc[['min', 'max']]"
   ]
  },
  {
   "cell_type": "markdown",
   "metadata": {},
   "source": [
    "### Задача"
   ]
  },
  {
   "cell_type": "code",
   "execution_count": 34,
   "metadata": {},
   "outputs": [
    {
     "data": {
      "text/plain": [
       "<AxesSubplot:xlabel='last_price', ylabel='total_area'>"
      ]
     },
     "execution_count": 34,
     "metadata": {},
     "output_type": "execute_result"
    },
    {
     "data": {
      "image/png": "[encoded data removed]",
      "text/plain": [
       "<Figure size 432x288 with 1 Axes>"
      ]
     },
     "metadata": {
      "needs_background": "light"
     },
     "output_type": "display_data"
    }
   ],
   "source": [
    "data.plot(x = 'last_price', y = 'total_area', kind = 'scatter', alpha = 0.3)"
   ]
  },
  {
   "cell_type": "code",
   "execution_count": 35,
   "metadata": {},
   "outputs": [
    {
     "name": "stdout",
     "output_type": "stream",
     "text": [
      "0.7609811855644492\n"
     ]
    }
   ],
   "source": [
    "print(data['last_price'].corr(data['total_area']))"
   ]
  },
  {
   "cell_type": "markdown",
   "metadata": {},
   "source": [
    "Из графика видна значительная корреляция между ценой и площадью квартиры. Можно сказать, что чем больше площадь продаваемой квартиры, тем выше ее цена."
   ]
  },
  {
   "cell_type": "code",
   "execution_count": 36,
   "metadata": {},
   "outputs": [
    {
     "data": {
      "text/plain": [
       "<AxesSubplot:xlabel='last_price', ylabel='rooms'>"
      ]
     },
     "execution_count": 36,
     "metadata": {},
     "output_type": "execute_result"
    },
    {
     "data": {
      "image/png": "[encoded data removed]",
      "text/plain": [
       "<Figure size 432x288 with 1 Axes>"
      ]
     },
     "metadata": {
      "needs_background": "light"
     },
     "output_type": "display_data"
    }
   ],
   "source": [
    "data.plot(x = 'last_price', y = 'rooms', kind = 'scatter', alpha=0.3)"
   ]
  },
  {
   "cell_type": "code",
   "execution_count": 37,
   "metadata": {},
   "outputs": [
    {
     "name": "stdout",
     "output_type": "stream",
     "text": [
      "0.47611552850229544\n"
     ]
    }
   ],
   "source": [
    "print(data['last_price'].corr(data['rooms']))"
   ]
  },
  {
   "cell_type": "code",
   "execution_count": 38,
   "metadata": {},
   "outputs": [
    {
     "data": {
      "image/png": "[encoded data removed]",
      "text/plain": [
       "<Figure size 432x288 with 1 Axes>"
      ]
     },
     "metadata": {
      "needs_background": "light"
     },
     "output_type": "display_data"
    }
   ],
   "source": [
    "import matplotlib.pyplot as plt\n",
    "\n",
    "data.groupby('rooms')['last_price'].median().plot()\n",
    "\n",
    "\n",
    "plt.title('Заголовок')\n",
    "plt.xlabel('Подпись')\n",
    "plt.ylabel('Подпись')\n",
    "plt.show()"
   ]
  },
  {
   "cell_type": "markdown",
   "metadata": {},
   "source": [
    "Видна слабая корреляция между ценой и количеством комнат."
   ]
  },
  {
   "cell_type": "code",
   "execution_count": 39,
   "metadata": {},
   "outputs": [],
   "source": [
    "data_first_last = data.query('floor_id != \"Other\"')"
   ]
  },
  {
   "cell_type": "code",
   "execution_count": 40,
   "metadata": {},
   "outputs": [
    {
     "data": {
      "text/html": [
       "<div>\n",
       "<style scoped>\n",
       "    .dataframe tbody tr th:only-of-type {\n",
       "        vertical-align: middle;\n",
       "    }\n",
       "\n",
       "    .dataframe tbody tr th {\n",
       "        vertical-align: top;\n",
       "    }\n",
       "\n",
       "    .dataframe thead th {\n",
       "        text-align: right;\n",
       "    }\n",
       "</style>\n",
       "<table border=\"1\" class=\"dataframe\">\n",
       "  <thead>\n",
       "    <tr style=\"text-align: right;\">\n",
       "      <th></th>\n",
       "      <th>last_price</th>\n",
       "    </tr>\n",
       "    <tr>\n",
       "      <th>floor_id</th>\n",
       "      <th></th>\n",
       "    </tr>\n",
       "  </thead>\n",
       "  <tbody>\n",
       "    <tr>\n",
       "      <th>First</th>\n",
       "      <td>3880000</td>\n",
       "    </tr>\n",
       "    <tr>\n",
       "      <th>Last</th>\n",
       "      <td>4190000</td>\n",
       "    </tr>\n",
       "    <tr>\n",
       "      <th>Other</th>\n",
       "      <td>4700000</td>\n",
       "    </tr>\n",
       "  </tbody>\n",
       "</table>\n",
       "</div>"
      ],
      "text/plain": [
       "          last_price\n",
       "floor_id            \n",
       "First        3880000\n",
       "Last         4190000\n",
       "Other        4700000"
      ]
     },
     "execution_count": 40,
     "metadata": {},
     "output_type": "execute_result"
    }
   ],
   "source": [
    "data.pivot_table(index = 'floor_id', values= 'last_price', aggfunc = 'median')"
   ]
  },
  {
   "cell_type": "markdown",
   "metadata": {},
   "source": [
    "Нашел три медианы по которым видно, что квартиры на последнем этаже стоят дороже чем квартиры на первом этаже. Тем не менее, квартиры, которые находятся ни на первом и ни на последнем этаже, являются самыми дорогими."
   ]
  },
  {
   "cell_type": "code",
   "execution_count": 41,
   "metadata": {},
   "outputs": [
    {
     "name": "stdout",
     "output_type": "stream",
     "text": [
      "0.13764574667701396\n"
     ]
    }
   ],
   "source": [
    "print(data_first_last['last_price'].corr(data_first_last['floors_total']))"
   ]
  },
  {
   "cell_type": "code",
   "execution_count": 42,
   "metadata": {},
   "outputs": [
    {
     "data": {
      "text/plain": [
       "<AxesSubplot:xlabel='last_price', ylabel='cityCenters_nearest'>"
      ]
     },
     "execution_count": 42,
     "metadata": {},
     "output_type": "execute_result"
    },
    {
     "data": {
      "image/png": "[encoded data removed]",
      "text/plain": [
       "<Figure size 432x288 with 1 Axes>"
      ]
     },
     "metadata": {
      "needs_background": "light"
     },
     "output_type": "display_data"
    }
   ],
   "source": [
    "data.plot(x = 'last_price', y = 'cityCenters_nearest', kind = 'scatter', alpha=0.3) "
   ]
  },
  {
   "cell_type": "markdown",
   "metadata": {},
   "source": [
    "По графику можно сказать, что чем ближе к центру, тем больше дорогих квартир можно встретить. Хотя, конечно, дорогие и дешевые квартиры можно встретить везде."
   ]
  },
  {
   "cell_type": "code",
   "execution_count": 43,
   "metadata": {},
   "outputs": [
    {
     "name": "stdout",
     "output_type": "stream",
     "text": [
      "-0.2757628405295848\n"
     ]
    }
   ],
   "source": [
    "print(data['last_price'].corr(data['cityCenters_nearest']))"
   ]
  },
  {
   "cell_type": "code",
   "execution_count": 44,
   "metadata": {},
   "outputs": [
    {
     "data": {
      "text/plain": [
       "<AxesSubplot:xlabel='last_price', ylabel='weekday'>"
      ]
     },
     "execution_count": 44,
     "metadata": {},
     "output_type": "execute_result"
    },
    {
     "data": {
      "image/png": "[encoded data removed]",
      "text/plain": [
       "<Figure size 432x288 with 1 Axes>"
      ]
     },
     "metadata": {
      "needs_background": "light"
     },
     "output_type": "display_data"
    }
   ],
   "source": [
    "data.plot(x = 'last_price', y = 'weekday', kind = 'scatter', alpha=0.3)"
   ]
  },
  {
   "cell_type": "code",
   "execution_count": 45,
   "metadata": {},
   "outputs": [
    {
     "data": {
      "image/png": "[encoded data removed]",
      "text/plain": [
       "<Figure size 432x288 with 1 Axes>"
      ]
     },
     "metadata": {
      "needs_background": "light"
     },
     "output_type": "display_data"
    }
   ],
   "source": [
    "data.groupby('weekday')['last_price'].median().plot()\n",
    "\n",
    "\n",
    "plt.xlabel('weekday')\n",
    "plt.ylabel('last_price')\n",
    "plt.show()"
   ]
  },
  {
   "cell_type": "markdown",
   "metadata": {},
   "source": [
    "Видно, что в первые две недели месяца покупается в основном дорогие квартиры, особенно в течение первой недели. Близже к концу месяца, покупается недвижимость уже дешевле."
   ]
  },
  {
   "cell_type": "code",
   "execution_count": 46,
   "metadata": {},
   "outputs": [
    {
     "name": "stdout",
     "output_type": "stream",
     "text": [
      "-0.016576681539202148\n"
     ]
    }
   ],
   "source": [
    "print(data['last_price'].corr(data['weekday']))"
   ]
  },
  {
   "cell_type": "code",
   "execution_count": 47,
   "metadata": {
    "scrolled": true
   },
   "outputs": [
    {
     "data": {
      "image/png": "[encoded data removed]",
      "text/plain": [
       "<Figure size 432x288 with 1 Axes>"
      ]
     },
     "metadata": {
      "needs_background": "light"
     },
     "output_type": "display_data"
    }
   ],
   "source": [
    "data.groupby('month')['last_price'].median().plot()\n",
    "\n",
    "\n",
    "plt.xlabel('month')\n",
    "plt.ylabel('last_price')\n",
    "plt.show()"
   ]
  },
  {
   "cell_type": "markdown",
   "metadata": {},
   "source": [
    "Весной и осенью стоимость покупки квартир выше, нежели зимой. А вот летом покупается, в основном, недвижимость дешевле чем в другое время года."
   ]
  },
  {
   "cell_type": "code",
   "execution_count": 48,
   "metadata": {},
   "outputs": [
    {
     "name": "stdout",
     "output_type": "stream",
     "text": [
      "0.006851581037271649\n"
     ]
    }
   ],
   "source": [
    "print(data['last_price'].corr(data['month']))"
   ]
  },
  {
   "cell_type": "code",
   "execution_count": 49,
   "metadata": {
    "scrolled": true
   },
   "outputs": [
    {
     "data": {
      "image/png": "[encoded data removed]",
      "text/plain": [
       "<Figure size 432x288 with 1 Axes>"
      ]
     },
     "metadata": {
      "needs_background": "light"
     },
     "output_type": "display_data"
    }
   ],
   "source": [
    "data.groupby('year')['last_price'].median().plot()\n",
    "\n",
    "\n",
    "plt.xlabel('year')\n",
    "plt.ylabel('last_price')\n",
    "plt.show()"
   ]
  },
  {
   "cell_type": "markdown",
   "metadata": {},
   "source": [
    "Видно, что после 2014 года, цены на недвижимость начали падать, но в 2018 году виден небольшой скачок."
   ]
  },
  {
   "cell_type": "code",
   "execution_count": 50,
   "metadata": {},
   "outputs": [
    {
     "name": "stdout",
     "output_type": "stream",
     "text": [
      "-0.020650766124544844\n"
     ]
    }
   ],
   "source": [
    "print(data['last_price'].corr(data['year']))"
   ]
  },
  {
   "cell_type": "markdown",
   "metadata": {},
   "source": [
    "Остальные параметры показали слабую корреляция с ценой."
   ]
  },
  {
   "cell_type": "markdown",
   "metadata": {},
   "source": [
    "<div class=\"alert alert-warning\">\n",
    "<b>⚠️ Комментарий ревьюера:</b> Зависимость действительно лучше всего показывает корреляция Пирсона. На параметрах 'last_price',  'total_area', 'rooms', 'cityCenters_nearest'коэффициент корреляции Пирсона работает хорошо. Но применение его к остальным параметрам - типу этажа, дню недели, году, и месяцу - не эффективно, т.к. цена квартиры зависит от них не линейно. Остальные параметры можно рассмотреть на обычных диаграммах, к примеру, столбчатых или линейных, сгруппировав данные по нужным параметрам и рассмотрев среднее цены.\n",
    "    \n",
    "Более наглядно можно было бы сделать следующим образом:\n",
    "    \n",
    "1) построить корреляцию матрицей для нужных параметров\n",
    " \n",
    "df[['last_price','total_area', 'rooms', 'cityCenters_nearest']].corr()\n",
    "    \n",
    "2) интерпретировать получившийся коэффициент\n",
    "    \n",
    "3) для визуализации параметров использовать простой и полезный метод sns.pairplot - он отобразит корреляцию всех графиков компактным \"полотном\"\n",
    "    \n",
    "4) для остальных параметров построить обычные графики\n",
    "    \n",
    "</div>"
   ]
  },
  {
   "cell_type": "code",
   "execution_count": 51,
   "metadata": {},
   "outputs": [
    {
     "data": {
      "text/html": [
       "<div>\n",
       "<style scoped>\n",
       "    .dataframe tbody tr th:only-of-type {\n",
       "        vertical-align: middle;\n",
       "    }\n",
       "\n",
       "    .dataframe tbody tr th {\n",
       "        vertical-align: top;\n",
       "    }\n",
       "\n",
       "    .dataframe thead th {\n",
       "        text-align: right;\n",
       "    }\n",
       "</style>\n",
       "<table border=\"1\" class=\"dataframe\">\n",
       "  <thead>\n",
       "    <tr style=\"text-align: right;\">\n",
       "      <th></th>\n",
       "      <th>total_amount</th>\n",
       "      <th>average</th>\n",
       "    </tr>\n",
       "    <tr>\n",
       "      <th>locality_name</th>\n",
       "      <th></th>\n",
       "      <th></th>\n",
       "    </tr>\n",
       "  </thead>\n",
       "  <tbody>\n",
       "    <tr>\n",
       "      <th>Санкт-Петербург</th>\n",
       "      <td>14862</td>\n",
       "      <td>109424.943772</td>\n",
       "    </tr>\n",
       "    <tr>\n",
       "      <th>посёлок Мурино</th>\n",
       "      <td>522</td>\n",
       "      <td>86379.968978</td>\n",
       "    </tr>\n",
       "    <tr>\n",
       "      <th>посёлок Шушары</th>\n",
       "      <td>440</td>\n",
       "      <td>79068.602928</td>\n",
       "    </tr>\n",
       "    <tr>\n",
       "      <th>Всеволожск</th>\n",
       "      <td>396</td>\n",
       "      <td>67586.709265</td>\n",
       "    </tr>\n",
       "    <tr>\n",
       "      <th>Пушкин</th>\n",
       "      <td>356</td>\n",
       "      <td>102357.289837</td>\n",
       "    </tr>\n",
       "    <tr>\n",
       "      <th>Колпино</th>\n",
       "      <td>337</td>\n",
       "      <td>75644.775388</td>\n",
       "    </tr>\n",
       "    <tr>\n",
       "      <th>посёлок Парголово</th>\n",
       "      <td>326</td>\n",
       "      <td>90833.211024</td>\n",
       "    </tr>\n",
       "    <tr>\n",
       "      <th>Гатчина</th>\n",
       "      <td>307</td>\n",
       "      <td>69045.519030</td>\n",
       "    </tr>\n",
       "    <tr>\n",
       "      <th>деревня Кудрово</th>\n",
       "      <td>299</td>\n",
       "      <td>93002.173472</td>\n",
       "    </tr>\n",
       "    <tr>\n",
       "      <th>Выборг</th>\n",
       "      <td>235</td>\n",
       "      <td>58231.416486</td>\n",
       "    </tr>\n",
       "  </tbody>\n",
       "</table>\n",
       "</div>"
      ],
      "text/plain": [
       "                   total_amount        average\n",
       "locality_name                                 \n",
       "Санкт-Петербург           14862  109424.943772\n",
       "посёлок Мурино              522   86379.968978\n",
       "посёлок Шушары              440   79068.602928\n",
       "Всеволожск                  396   67586.709265\n",
       "Пушкин                      356  102357.289837\n",
       "Колпино                     337   75644.775388\n",
       "посёлок Парголово           326   90833.211024\n",
       "Гатчина                     307   69045.519030\n",
       "деревня Кудрово             299   93002.173472\n",
       "Выборг                      235   58231.416486"
      ]
     },
     "execution_count": 51,
     "metadata": {},
     "output_type": "execute_result"
    }
   ],
   "source": [
    "top_data = data.pivot_table(index='locality_name', values='price_area', aggfunc=['count', 'mean'])\n",
    "top_data.columns = ['total_amount', 'average']\n",
    "top_data.sort_values('total_amount', ascending = False).head(10)"
   ]
  },
  {
   "cell_type": "code",
   "execution_count": 52,
   "metadata": {},
   "outputs": [],
   "source": [
    "top_data_average = top_data.sort_values('total_amount', ascending = False).head(10)"
   ]
  },
  {
   "cell_type": "code",
   "execution_count": 53,
   "metadata": {},
   "outputs": [
    {
     "data": {
      "text/html": [
       "<div>\n",
       "<style scoped>\n",
       "    .dataframe tbody tr th:only-of-type {\n",
       "        vertical-align: middle;\n",
       "    }\n",
       "\n",
       "    .dataframe tbody tr th {\n",
       "        vertical-align: top;\n",
       "    }\n",
       "\n",
       "    .dataframe thead th {\n",
       "        text-align: right;\n",
       "    }\n",
       "</style>\n",
       "<table border=\"1\" class=\"dataframe\">\n",
       "  <thead>\n",
       "    <tr style=\"text-align: right;\">\n",
       "      <th></th>\n",
       "      <th>total_amount</th>\n",
       "      <th>average</th>\n",
       "    </tr>\n",
       "    <tr>\n",
       "      <th>locality_name</th>\n",
       "      <th></th>\n",
       "      <th></th>\n",
       "    </tr>\n",
       "  </thead>\n",
       "  <tbody>\n",
       "    <tr>\n",
       "      <th>Санкт-Петербург</th>\n",
       "      <td>14862</td>\n",
       "      <td>109424.943772</td>\n",
       "    </tr>\n",
       "    <tr>\n",
       "      <th>Пушкин</th>\n",
       "      <td>356</td>\n",
       "      <td>102357.289837</td>\n",
       "    </tr>\n",
       "    <tr>\n",
       "      <th>деревня Кудрово</th>\n",
       "      <td>299</td>\n",
       "      <td>93002.173472</td>\n",
       "    </tr>\n",
       "    <tr>\n",
       "      <th>посёлок Парголово</th>\n",
       "      <td>326</td>\n",
       "      <td>90833.211024</td>\n",
       "    </tr>\n",
       "    <tr>\n",
       "      <th>посёлок Мурино</th>\n",
       "      <td>522</td>\n",
       "      <td>86379.968978</td>\n",
       "    </tr>\n",
       "    <tr>\n",
       "      <th>посёлок Шушары</th>\n",
       "      <td>440</td>\n",
       "      <td>79068.602928</td>\n",
       "    </tr>\n",
       "    <tr>\n",
       "      <th>Колпино</th>\n",
       "      <td>337</td>\n",
       "      <td>75644.775388</td>\n",
       "    </tr>\n",
       "    <tr>\n",
       "      <th>Гатчина</th>\n",
       "      <td>307</td>\n",
       "      <td>69045.519030</td>\n",
       "    </tr>\n",
       "    <tr>\n",
       "      <th>Всеволожск</th>\n",
       "      <td>396</td>\n",
       "      <td>67586.709265</td>\n",
       "    </tr>\n",
       "    <tr>\n",
       "      <th>Выборг</th>\n",
       "      <td>235</td>\n",
       "      <td>58231.416486</td>\n",
       "    </tr>\n",
       "  </tbody>\n",
       "</table>\n",
       "</div>"
      ],
      "text/plain": [
       "                   total_amount        average\n",
       "locality_name                                 \n",
       "Санкт-Петербург           14862  109424.943772\n",
       "Пушкин                      356  102357.289837\n",
       "деревня Кудрово             299   93002.173472\n",
       "посёлок Парголово           326   90833.211024\n",
       "посёлок Мурино              522   86379.968978\n",
       "посёлок Шушары              440   79068.602928\n",
       "Колпино                     337   75644.775388\n",
       "Гатчина                     307   69045.519030\n",
       "Всеволожск                  396   67586.709265\n",
       "Выборг                      235   58231.416486"
      ]
     },
     "execution_count": 53,
     "metadata": {},
     "output_type": "execute_result"
    }
   ],
   "source": [
    "top_data_average.sort_values('average', ascending = False)"
   ]
  },
  {
   "cell_type": "code",
   "execution_count": 54,
   "metadata": {},
   "outputs": [
    {
     "data": {
      "text/html": [
       "<div>\n",
       "<style scoped>\n",
       "    .dataframe tbody tr th:only-of-type {\n",
       "        vertical-align: middle;\n",
       "    }\n",
       "\n",
       "    .dataframe tbody tr th {\n",
       "        vertical-align: top;\n",
       "    }\n",
       "\n",
       "    .dataframe thead th {\n",
       "        text-align: right;\n",
       "    }\n",
       "</style>\n",
       "<table border=\"1\" class=\"dataframe\">\n",
       "  <thead>\n",
       "    <tr style=\"text-align: right;\">\n",
       "      <th></th>\n",
       "      <th>total_amount</th>\n",
       "      <th>average</th>\n",
       "    </tr>\n",
       "    <tr>\n",
       "      <th>locality_name</th>\n",
       "      <th></th>\n",
       "      <th></th>\n",
       "    </tr>\n",
       "  </thead>\n",
       "  <tbody>\n",
       "    <tr>\n",
       "      <th>Выборг</th>\n",
       "      <td>235</td>\n",
       "      <td>58231.416486</td>\n",
       "    </tr>\n",
       "    <tr>\n",
       "      <th>Всеволожск</th>\n",
       "      <td>396</td>\n",
       "      <td>67586.709265</td>\n",
       "    </tr>\n",
       "    <tr>\n",
       "      <th>Гатчина</th>\n",
       "      <td>307</td>\n",
       "      <td>69045.519030</td>\n",
       "    </tr>\n",
       "    <tr>\n",
       "      <th>Колпино</th>\n",
       "      <td>337</td>\n",
       "      <td>75644.775388</td>\n",
       "    </tr>\n",
       "    <tr>\n",
       "      <th>посёлок Шушары</th>\n",
       "      <td>440</td>\n",
       "      <td>79068.602928</td>\n",
       "    </tr>\n",
       "    <tr>\n",
       "      <th>посёлок Мурино</th>\n",
       "      <td>522</td>\n",
       "      <td>86379.968978</td>\n",
       "    </tr>\n",
       "    <tr>\n",
       "      <th>посёлок Парголово</th>\n",
       "      <td>326</td>\n",
       "      <td>90833.211024</td>\n",
       "    </tr>\n",
       "    <tr>\n",
       "      <th>деревня Кудрово</th>\n",
       "      <td>299</td>\n",
       "      <td>93002.173472</td>\n",
       "    </tr>\n",
       "    <tr>\n",
       "      <th>Пушкин</th>\n",
       "      <td>356</td>\n",
       "      <td>102357.289837</td>\n",
       "    </tr>\n",
       "    <tr>\n",
       "      <th>Санкт-Петербург</th>\n",
       "      <td>14862</td>\n",
       "      <td>109424.943772</td>\n",
       "    </tr>\n",
       "  </tbody>\n",
       "</table>\n",
       "</div>"
      ],
      "text/plain": [
       "                   total_amount        average\n",
       "locality_name                                 \n",
       "Выборг                      235   58231.416486\n",
       "Всеволожск                  396   67586.709265\n",
       "Гатчина                     307   69045.519030\n",
       "Колпино                     337   75644.775388\n",
       "посёлок Шушары              440   79068.602928\n",
       "посёлок Мурино              522   86379.968978\n",
       "посёлок Парголово           326   90833.211024\n",
       "деревня Кудрово             299   93002.173472\n",
       "Пушкин                      356  102357.289837\n",
       "Санкт-Петербург           14862  109424.943772"
      ]
     },
     "execution_count": 54,
     "metadata": {},
     "output_type": "execute_result"
    }
   ],
   "source": [
    "top_data_average.sort_values('average', ascending = True)"
   ]
  },
  {
   "cell_type": "markdown",
   "metadata": {},
   "source": [
    "Санкт-Петербург имеет больше всех объявлений и самую большую цену за квадратный метр. Из топ 10 населеных пунктов по объявлениям, Выборг  же имеет самую низкую цену за квадратный метр из топ 10 пунктов по обьявлениям."
   ]
  },
  {
   "cell_type": "markdown",
   "metadata": {},
   "source": [
    "<div class=\"alert alert-warning\">\n",
    "<b>⚠️ Комментарий ревьюера:</b> Можем также отобразить данные на графике, чтобы не выводить скучную табицу с данными"
   ]
  },
  {
   "cell_type": "markdown",
   "metadata": {},
   "source": [
    "### Задача "
   ]
  },
  {
   "cell_type": "code",
   "execution_count": 55,
   "metadata": {},
   "outputs": [],
   "source": [
    "data_center = data.query('locality_name == \"Санкт-Петербург\"')"
   ]
  },
  {
   "cell_type": "code",
   "execution_count": 56,
   "metadata": {
    "scrolled": true
   },
   "outputs": [
    {
     "name": "stderr",
     "output_type": "stream",
     "text": [
      "/tmp/ipykernel_85/595870584.py:2: SettingWithCopyWarning: \n",
      "A value is trying to be set on a copy of a slice from a DataFrame.\n",
      "Try using .loc[row_indexer,col_indexer] = value instead\n",
      "\n",
      "See the caveats in the documentation: https://pandas.pydata.org/pandas-docs/stable/user_guide/indexing.html#returning-a-view-versus-a-copy\n",
      "  data_center['to_center'] = data_center['cityCenters_nearest'] / 1000\n"
     ]
    }
   ],
   "source": [
    "# Не понял что означает ошибка в красном поле\n",
    "data_center['to_center'] = data_center['cityCenters_nearest'] / 1000"
   ]
  },
  {
   "cell_type": "code",
   "execution_count": 57,
   "metadata": {},
   "outputs": [
    {
     "data": {
      "text/plain": [
       "<AxesSubplot:xlabel='to_center'>"
      ]
     },
     "execution_count": 57,
     "metadata": {},
     "output_type": "execute_result"
    },
    {
     "data": {
      "image/png": "[encoded data removed]",
      "text/plain": [
       "<Figure size 432x288 with 1 Axes>"
      ]
     },
     "metadata": {
      "needs_background": "light"
     },
     "output_type": "display_data"
    },
    {
     "data": {
      "image/png": "[encoded data removed]",
      "text/plain": [
       "<Figure size 432x288 with 1 Axes>"
      ]
     },
     "metadata": {
      "needs_background": "light"
     },
     "output_type": "display_data"
    }
   ],
   "source": [
    "data['to_center'] = data['cityCenters_nearest'] / 1000\n",
    "data_center_km = data.query('locality_name == \"Санкт-Петербург\"').pivot_table(index='to_center', values='last_price', \n",
    "                                                                              aggfunc='mean')\n",
    "\n",
    "\n",
    "data_center_km.plot()\n",
    "data_center_km.plot(xlim=(0,5))"
   ]
  },
  {
   "cell_type": "code",
   "execution_count": 58,
   "metadata": {},
   "outputs": [
    {
     "data": {
      "text/plain": [
       "0        16.028\n",
       "1        18.603\n",
       "2        13.933\n",
       "4         8.098\n",
       "5        13.098\n",
       "          ...  \n",
       "23694     4.232\n",
       "23695    13.098\n",
       "23696    13.098\n",
       "23697    10.364\n",
       "23698    13.098\n",
       "Name: to_center, Length: 22796, dtype: float64"
      ]
     },
     "execution_count": 58,
     "metadata": {},
     "output_type": "execute_result"
    }
   ],
   "source": [
    "data['to_center']"
   ]
  },
  {
   "cell_type": "code",
   "execution_count": 59,
   "metadata": {},
   "outputs": [
    {
     "data": {
      "image/png": "[encoded data removed]",
      "text/plain": [
       "<Figure size 720x360 with 1 Axes>"
      ]
     },
     "metadata": {
      "needs_background": "light"
     },
     "output_type": "display_data"
    }
   ],
   "source": [
    "# Для удобства лучше использовать точеченую диограмму, но нужно привести к целому типу километры\n",
    "df = data.copy()\n",
    "\n",
    "df['to_center'] = df['to_center'].astype('int')\n",
    "\n",
    "kms = sorted(df.query('to_center < 25')['to_center'].unique())\n",
    "\n",
    "df.query('to_center < 25').groupby('to_center')['last_price'].median().plot(figsize=(10,5), marker='d')\n",
    "\n",
    "\n",
    "plt.title('Заголовок')\n",
    "plt.xlabel('Подпись')\n",
    "plt.ylabel('Подпись')\n",
    "\n",
    "# Отметим километры\n",
    "plt.xticks(kms);"
   ]
  },
  {
   "cell_type": "code",
   "execution_count": 60,
   "metadata": {},
   "outputs": [],
   "source": [
    "major_data = data.query('locality_name == \"Санкт-Петербург\" & to_center <= 3')"
   ]
  },
  {
   "cell_type": "markdown",
   "metadata": {},
   "source": [
    "<div class=\"alert alert-warning\">\n",
    "<b>⚠️ Комментарий ревьюера:</b>  По графику виден еще один всплеск в районе 6-7 км, после чего он плавно идет на спад. Я бы советовала чуть расширить центр"
   ]
  },
  {
   "cell_type": "markdown",
   "metadata": {},
   "source": [
    "<div class=\"alert alert-info\"> Увеличил с 2.5 до 3, или нужно побольше расширить?"
   ]
  },
  {
   "cell_type": "markdown",
   "metadata": {},
   "source": [
    "<div class=\"alert alert-success\">\n",
    "<b>✔️ Комментарий ревьюера V2:</b> Я бы советовала до 7-10"
   ]
  },
  {
   "cell_type": "code",
   "execution_count": 61,
   "metadata": {},
   "outputs": [
    {
     "name": "stdout",
     "output_type": "stream",
     "text": [
      "Maximal Value: 20000000\n",
      "Minimal Value: 2100000\n",
      "Mean: 9633903.66395112\n",
      "Median: 9000000.0\n"
     ]
    }
   ],
   "source": [
    "print('Maximal Value:', major_data['last_price'].max())\n",
    "print('Minimal Value:', major_data['last_price'].min())\n",
    "print('Mean:', major_data['last_price'].mean())\n",
    "print('Median:', major_data['last_price'].median())"
   ]
  },
  {
   "cell_type": "code",
   "execution_count": 62,
   "metadata": {},
   "outputs": [
    {
     "data": {
      "text/plain": [
       "array([[<AxesSubplot:title={'center':'last_price'}>]], dtype=object)"
      ]
     },
     "execution_count": 62,
     "metadata": {},
     "output_type": "execute_result"
    },
    {
     "data": {
      "image/png": "[encoded data removed]",
      "text/plain": [
       "<Figure size 432x288 with 1 Axes>"
      ]
     },
     "metadata": {
      "needs_background": "light"
     },
     "output_type": "display_data"
    }
   ],
   "source": [
    "major_data.hist('last_price', bins = (30), range = (0 , 20000000))"
   ]
  },
  {
   "cell_type": "code",
   "execution_count": 63,
   "metadata": {},
   "outputs": [
    {
     "name": "stdout",
     "output_type": "stream",
     "text": [
      "Maximal Value: 150\n",
      "Minimal Value: 12\n",
      "Mean: 79.77596741344196\n",
      "Median: 78.0\n"
     ]
    }
   ],
   "source": [
    "print('Maximal Value:', major_data['total_area'].max())\n",
    "print('Minimal Value:', major_data['total_area'].min())\n",
    "print('Mean:', major_data['total_area'].mean())\n",
    "print('Median:', major_data['total_area'].median())"
   ]
  },
  {
   "cell_type": "code",
   "execution_count": 64,
   "metadata": {},
   "outputs": [
    {
     "data": {
      "text/plain": [
       "array([[<AxesSubplot:title={'center':'total_area'}>]], dtype=object)"
      ]
     },
     "execution_count": 64,
     "metadata": {},
     "output_type": "execute_result"
    },
    {
     "data": {
      "image/png": "[encoded data removed]",
      "text/plain": [
       "<Figure size 432x288 with 1 Axes>"
      ]
     },
     "metadata": {
      "needs_background": "light"
     },
     "output_type": "display_data"
    }
   ],
   "source": [
    "major_data.hist('total_area', bins= (20), range= (0, 150))"
   ]
  },
  {
   "cell_type": "code",
   "execution_count": 65,
   "metadata": {},
   "outputs": [
    {
     "name": "stdout",
     "output_type": "stream",
     "text": [
      "Maximal Value: 6\n",
      "Minimal Value: 0\n",
      "Mean: 2.7657841140529533\n",
      "Median: 3.0\n"
     ]
    }
   ],
   "source": [
    "print('Maximal Value:', major_data['rooms'].max())\n",
    "print('Minimal Value:', major_data['rooms'].min())\n",
    "print('Mean:', major_data['rooms'].mean())\n",
    "print('Median:', major_data['rooms'].median())"
   ]
  },
  {
   "cell_type": "code",
   "execution_count": 66,
   "metadata": {},
   "outputs": [
    {
     "data": {
      "text/plain": [
       "array([[<AxesSubplot:title={'center':'rooms'}>]], dtype=object)"
      ]
     },
     "execution_count": 66,
     "metadata": {},
     "output_type": "execute_result"
    },
    {
     "data": {
      "image/png": "[encoded data removed]",
      "text/plain": [
       "<Figure size 432x288 with 1 Axes>"
      ]
     },
     "metadata": {
      "needs_background": "light"
     },
     "output_type": "display_data"
    }
   ],
   "source": [
    "major_data.hist('rooms', bins= (6), range= (0, 6))"
   ]
  },
  {
   "cell_type": "code",
   "execution_count": 67,
   "metadata": {},
   "outputs": [
    {
     "name": "stdout",
     "output_type": "stream",
     "text": [
      "Maximal Value: 5.8\n",
      "Minimal Value: 2.5\n",
      "Mean: 3.205272206303725\n",
      "Median: 3.17\n"
     ]
    }
   ],
   "source": [
    "print('Maximal Value:', major_data['ceiling_height'].max())\n",
    "print('Minimal Value:', major_data['ceiling_height'].min())\n",
    "print('Mean:', major_data['ceiling_height'].mean())\n",
    "print('Median:', major_data['ceiling_height'].median())"
   ]
  },
  {
   "cell_type": "code",
   "execution_count": 68,
   "metadata": {},
   "outputs": [
    {
     "data": {
      "image/png": "[encoded data removed]",
      "text/plain": [
       "<Figure size 432x288 with 1 Axes>"
      ]
     },
     "metadata": {
      "needs_background": "light"
     },
     "output_type": "display_data"
    }
   ],
   "source": [
    "major_data.groupby('rooms')['last_price'].median().plot()\n",
    "\n",
    "\n",
    "plt.xlabel('rooms')\n",
    "plt.ylabel('last_price')\n",
    "plt.show()"
   ]
  },
  {
   "cell_type": "markdown",
   "metadata": {},
   "source": [
    "Сравнивая с первичными данными видно, что средная стоимость покупки увеличилась (покупаются квартиры дороже). Также увеличивается и общая площадь проданых квартир. Остальные параметры также увеличились. "
   ]
  },
  {
   "cell_type": "code",
   "execution_count": 69,
   "metadata": {},
   "outputs": [
    {
     "data": {
      "image/png": "[encoded data removed]",
      "text/plain": [
       "<Figure size 432x288 with 1 Axes>"
      ]
     },
     "metadata": {
      "needs_background": "light"
     },
     "output_type": "display_data"
    }
   ],
   "source": [
    "major_data.groupby('rooms')['last_price'].median().plot()\n",
    "\n",
    "\n",
    "plt.xlabel('rooms')\n",
    "plt.ylabel('last_price')\n",
    "plt.show()"
   ]
  },
  {
   "cell_type": "code",
   "execution_count": 70,
   "metadata": {},
   "outputs": [
    {
     "name": "stdout",
     "output_type": "stream",
     "text": [
      "0.47611552850229544\n"
     ]
    }
   ],
   "source": [
    "print(data['last_price'].corr(data['rooms']))"
   ]
  },
  {
   "cell_type": "code",
   "execution_count": 71,
   "metadata": {},
   "outputs": [
    {
     "data": {
      "image/png": "[encoded data removed]",
      "text/plain": [
       "<Figure size 432x288 with 1 Axes>"
      ]
     },
     "metadata": {
      "needs_background": "light"
     },
     "output_type": "display_data"
    }
   ],
   "source": [
    "major_data.groupby('to_center')['last_price'].median().plot()\n",
    "\n",
    "\n",
    "plt.xlabel('to_center')\n",
    "plt.ylabel('last_price')\n",
    "plt.show()"
   ]
  },
  {
   "cell_type": "code",
   "execution_count": 72,
   "metadata": {},
   "outputs": [
    {
     "name": "stdout",
     "output_type": "stream",
     "text": [
      "-0.2757628405295848\n"
     ]
    }
   ],
   "source": [
    "print(data['last_price'].corr(data['to_center']))"
   ]
  },
  {
   "cell_type": "code",
   "execution_count": 73,
   "metadata": {},
   "outputs": [
    {
     "data": {
      "image/png": "[encoded data removed]",
      "text/plain": [
       "<Figure size 432x288 with 1 Axes>"
      ]
     },
     "metadata": {
      "needs_background": "light"
     },
     "output_type": "display_data"
    }
   ],
   "source": [
    "major_data.groupby('floor')['last_price'].median().plot()\n",
    "\n",
    "\n",
    "plt.xlabel('floor')\n",
    "plt.ylabel('last_price')\n",
    "plt.show()"
   ]
  },
  {
   "cell_type": "code",
   "execution_count": 74,
   "metadata": {},
   "outputs": [
    {
     "data": {
      "text/html": [
       "<div>\n",
       "<style scoped>\n",
       "    .dataframe tbody tr th:only-of-type {\n",
       "        vertical-align: middle;\n",
       "    }\n",
       "\n",
       "    .dataframe tbody tr th {\n",
       "        vertical-align: top;\n",
       "    }\n",
       "\n",
       "    .dataframe thead th {\n",
       "        text-align: right;\n",
       "    }\n",
       "</style>\n",
       "<table border=\"1\" class=\"dataframe\">\n",
       "  <thead>\n",
       "    <tr style=\"text-align: right;\">\n",
       "      <th></th>\n",
       "      <th>last_price</th>\n",
       "    </tr>\n",
       "    <tr>\n",
       "      <th>floor_id</th>\n",
       "      <th></th>\n",
       "    </tr>\n",
       "  </thead>\n",
       "  <tbody>\n",
       "    <tr>\n",
       "      <th>First</th>\n",
       "      <td>7200000</td>\n",
       "    </tr>\n",
       "    <tr>\n",
       "      <th>Last</th>\n",
       "      <td>9000000</td>\n",
       "    </tr>\n",
       "    <tr>\n",
       "      <th>Other</th>\n",
       "      <td>9375000</td>\n",
       "    </tr>\n",
       "  </tbody>\n",
       "</table>\n",
       "</div>"
      ],
      "text/plain": [
       "          last_price\n",
       "floor_id            \n",
       "First        7200000\n",
       "Last         9000000\n",
       "Other        9375000"
      ]
     },
     "execution_count": 74,
     "metadata": {},
     "output_type": "execute_result"
    }
   ],
   "source": [
    "major_data.pivot_table(index = 'floor_id', values = 'last_price', aggfunc = 'median')"
   ]
  },
  {
   "cell_type": "markdown",
   "metadata": {},
   "source": [
    "Цены намного выше чем в данных в начале. Но тенденция оталось прежней."
   ]
  },
  {
   "cell_type": "code",
   "execution_count": 75,
   "metadata": {},
   "outputs": [
    {
     "name": "stdout",
     "output_type": "stream",
     "text": [
      "0.09716544764698264\n"
     ]
    }
   ],
   "source": [
    "print(data['last_price'].corr(data['floor']))"
   ]
  },
  {
   "cell_type": "code",
   "execution_count": 76,
   "metadata": {},
   "outputs": [
    {
     "data": {
      "image/png": "[encoded data removed]",
      "text/plain": [
       "<Figure size 432x288 with 1 Axes>"
      ]
     },
     "metadata": {
      "needs_background": "light"
     },
     "output_type": "display_data"
    }
   ],
   "source": [
    "data.groupby('weekday')['last_price'].median().plot()\n",
    "\n",
    "\n",
    "plt.xlabel('weekday')\n",
    "plt.ylabel('last_price')\n",
    "plt.show()"
   ]
  },
  {
   "cell_type": "code",
   "execution_count": 77,
   "metadata": {},
   "outputs": [
    {
     "name": "stdout",
     "output_type": "stream",
     "text": [
      "-0.016576681539202148\n"
     ]
    }
   ],
   "source": [
    "print(data['last_price'].corr(data['weekday']))"
   ]
  },
  {
   "cell_type": "code",
   "execution_count": 78,
   "metadata": {},
   "outputs": [
    {
     "data": {
      "image/png": "[encoded data removed]",
      "text/plain": [
       "<Figure size 432x288 with 1 Axes>"
      ]
     },
     "metadata": {
      "needs_background": "light"
     },
     "output_type": "display_data"
    }
   ],
   "source": [
    "data.groupby('month')['last_price'].median().plot()\n",
    "\n",
    "\n",
    "plt.xlabel('month')\n",
    "plt.ylabel('last_price')\n",
    "plt.show()"
   ]
  },
  {
   "cell_type": "code",
   "execution_count": 79,
   "metadata": {},
   "outputs": [
    {
     "name": "stdout",
     "output_type": "stream",
     "text": [
      "0.006851581037271649\n"
     ]
    }
   ],
   "source": [
    "print(data['last_price'].corr(data['month']))"
   ]
  },
  {
   "cell_type": "code",
   "execution_count": 80,
   "metadata": {
    "scrolled": true
   },
   "outputs": [
    {
     "data": {
      "image/png": "[encoded data removed]",
      "text/plain": [
       "<Figure size 432x288 with 1 Axes>"
      ]
     },
     "metadata": {
      "needs_background": "light"
     },
     "output_type": "display_data"
    }
   ],
   "source": [
    "data.groupby('year')['last_price'].median().plot()\n",
    "\n",
    "\n",
    "plt.xlabel('year')\n",
    "plt.ylabel('last_price')\n",
    "plt.show()"
   ]
  },
  {
   "cell_type": "code",
   "execution_count": 81,
   "metadata": {},
   "outputs": [
    {
     "name": "stdout",
     "output_type": "stream",
     "text": [
      "-0.020650766124544844\n"
     ]
    }
   ],
   "source": [
    "print(data['last_price'].corr(data['year']))"
   ]
  },
  {
   "cell_type": "markdown",
   "metadata": {},
   "source": [
    "<div class=\"alert alert-warning\">\n",
    "<b>⚠️ Комментарий ревьюера:</b> Здесь также лучше убрать из корреляционного рассмотрения параметры без линейной зависимости от цены и рассмотреть их, к примеру, на барчартах"
   ]
  },
  {
   "cell_type": "markdown",
   "metadata": {},
   "source": [
    "## Общий вывод"
   ]
  },
  {
   "cell_type": "markdown",
   "metadata": {},
   "source": [
    "С самого начала было выявленно множество пропусков в некоторых столбцах. Отсутствующие данные были заполнены исходя из их важности в дальнейшем анализе. Дубликаты не были выявлены.\n",
    "\n",
    "При анализе данных были удалены редкие значения и изучены корреляции некоторых параметров. В результате изучения этих данных было выявленно, что существует значительная положительная корреляция между ценой и площадью квартиры. Также было выявленно, что населеный пункт \"Санкт-Петербург\" имеет больше всего обьявлений и имеет самую дорогую недвижимость, особенно в пределах 2.5 от центра города.\n",
    "\n",
    "Остальные параметры показали, что дорогие покупки происходят весной и осенью в начале месяца. Также было выявлено, что цены на квартиры стремительно падали с 2014 года, но уже 2018 произошел небошьшое скачок вверх.\n",
    "\n",
    "Если смотреть проданные квартиры в Санк-Петербурге изолированно, то видно, что квартиры в среднем дороже и больше, но преследуют туже тенденцию."
   ]
  },
  {
   "cell_type": "markdown",
   "metadata": {},
   "source": [
    "Общие данные:"
   ]
  },
  {
   "cell_type": "code",
   "execution_count": 82,
   "metadata": {},
   "outputs": [
    {
     "name": "stdout",
     "output_type": "stream",
     "text": [
      "Maximal Value: 20000000\n",
      "Minimal Value: 430000\n",
      "Mean: 5337671.254299\n",
      "Median: 4500000.0\n"
     ]
    }
   ],
   "source": [
    "print('Maximal Value:', data['last_price'].max())\n",
    "print('Minimal Value:', data['last_price'].min())\n",
    "print('Mean:', data['last_price'].mean())\n",
    "print('Median:', data['last_price'].median())"
   ]
  },
  {
   "cell_type": "code",
   "execution_count": 83,
   "metadata": {},
   "outputs": [
    {
     "name": "stdout",
     "output_type": "stream",
     "text": [
      "Maximal Value: 150\n",
      "Minimal Value: 12\n",
      "Mean: 55.42845236006317\n",
      "Median: 50.0\n"
     ]
    }
   ],
   "source": [
    "print('Maximal Value:', data['total_area'].max())\n",
    "print('Minimal Value:', data['total_area'].min())\n",
    "print('Mean:', data['total_area'].mean())\n",
    "print('Median:', data['total_area'].median())"
   ]
  },
  {
   "cell_type": "code",
   "execution_count": 84,
   "metadata": {},
   "outputs": [
    {
     "name": "stdout",
     "output_type": "stream",
     "text": [
      "Maximal Value: 6\n",
      "Minimal Value: 0\n",
      "Mean: 1.9847341638884015\n",
      "Median: 2.0\n"
     ]
    }
   ],
   "source": [
    "print('Maximal Value:', data['rooms'].max())\n",
    "print('Minimal Value:', data['rooms'].min())\n",
    "print('Mean:', data['rooms'].mean())\n",
    "print('Median:', data['rooms'].median())"
   ]
  },
  {
   "cell_type": "code",
   "execution_count": 85,
   "metadata": {},
   "outputs": [
    {
     "name": "stdout",
     "output_type": "stream",
     "text": [
      "Maximal Value: 100.0\n",
      "Minimal Value: 1.0\n",
      "Mean: 2.7528530300849288\n",
      "Median: 2.65\n"
     ]
    }
   ],
   "source": [
    "print('Maximal Value:', data['ceiling_height'].max())\n",
    "print('Minimal Value:', data['ceiling_height'].min())\n",
    "print('Mean:', data['ceiling_height'].mean())\n",
    "print('Median:', data['ceiling_height'].median())"
   ]
  },
  {
   "cell_type": "code",
   "execution_count": 86,
   "metadata": {},
   "outputs": [
    {
     "name": "stdout",
     "output_type": "stream",
     "text": [
      "Maximal Value: 20000000\n",
      "Minimal Value: 2100000\n",
      "Mean: 9633903.66395112\n",
      "Median: 9000000.0\n"
     ]
    }
   ],
   "source": [
    "print('Maximal Value:', major_data['last_price'].max())\n",
    "print('Minimal Value:', major_data['last_price'].min())\n",
    "print('Mean:', major_data['last_price'].mean())\n",
    "print('Median:', major_data['last_price'].median())"
   ]
  },
  {
   "cell_type": "code",
   "execution_count": 87,
   "metadata": {},
   "outputs": [
    {
     "name": "stdout",
     "output_type": "stream",
     "text": [
      "Maximal Value: 150\n",
      "Minimal Value: 12\n",
      "Mean: 79.77596741344196\n",
      "Median: 78.0\n"
     ]
    }
   ],
   "source": [
    "print('Maximal Value:', major_data['total_area'].max())\n",
    "print('Minimal Value:', major_data['total_area'].min())\n",
    "print('Mean:', major_data['total_area'].mean())\n",
    "print('Median:', major_data['total_area'].median())"
   ]
  },
  {
   "cell_type": "code",
   "execution_count": 88,
   "metadata": {
    "scrolled": true
   },
   "outputs": [
    {
     "name": "stdout",
     "output_type": "stream",
     "text": [
      "Maximal Value: 6\n",
      "Minimal Value: 0\n",
      "Mean: 2.7657841140529533\n",
      "Median: 3.0\n"
     ]
    }
   ],
   "source": [
    "print('Maximal Value:', major_data['rooms'].max())\n",
    "print('Minimal Value:', major_data['rooms'].min())\n",
    "print('Mean:', major_data['rooms'].mean())\n",
    "print('Median:', major_data['rooms'].median())"
   ]
  },
  {
   "cell_type": "code",
   "execution_count": 89,
   "metadata": {},
   "outputs": [
    {
     "name": "stdout",
     "output_type": "stream",
     "text": [
      "Maximal Value: 5.8\n",
      "Minimal Value: 2.5\n",
      "Mean: 3.205272206303725\n",
      "Median: 3.17\n"
     ]
    }
   ],
   "source": [
    "print('Maximal Value:', major_data['ceiling_height'].max())\n",
    "print('Minimal Value:', major_data['ceiling_height'].min())\n",
    "print('Mean:', major_data['ceiling_height'].mean())\n",
    "print('Median:', major_data['ceiling_height'].median())"
   ]
  },
  {
   "cell_type": "markdown",
   "metadata": {},
   "source": [
    "<div class=\"alert alert-warning\">\n",
    "<b>⚠️ Комментарий ревьюера:</b> Если ты даешь здесь общие данные, я бы советовала дать их в сравнении с данными по центру Питера "
   ]
  },
  {
   "cell_type": "markdown",
   "metadata": {},
   "source": [
    "<div class=\"alert alert-success\">\n",
    "<b>✔️ Комментарий ревьюера:</b> Вывод отражает цели исследования"
   ]
  },
  {
   "cell_type": "markdown",
   "metadata": {},
   "source": [
    "## Чек-лист готовности проекта\n",
    "\n",
    "Поставьте 'x' в выполненных пунктах. Далее нажмите Shift+Enter."
   ]
  },
  {
   "cell_type": "markdown",
   "metadata": {},
   "source": [
    "- [x]  открыт файл\n",
    "- [x]  файлы изучены (выведены первые строки, метод `info()`)\n",
    "- [x]  определены пропущенные значения\n",
    "- [x]  заполнены пропущенные значения\n",
    "- [x]  есть пояснение, какие пропущенные значения обнаружены\n",
    "- [x]  изменены типы данных\n",
    "- [x]  есть пояснение, в каких столбцах изменены типы и почему\n",
    "- [x]  посчитано и добавлено в таблицу: цена квадратного метра\n",
    "- [x]  посчитано и добавлено в таблицу: день недели, месяц и год публикации объявления\n",
    "- [x]  посчитано и добавлено в таблицу: этаж квартиры; варианты — первый, последний, другой\n",
    "- [x]  посчитано и добавлено в таблицу: соотношение жилой и общей площади, а также отношение площади кухни к общей\n",
    "- [x]  изучены следующие параметры: площадь, цена, число комнат, высота потолков\n",
    "- [x]  построены гистограммы для каждого параметра\n",
    "- [x]  выполнено задание: «Изучите время продажи квартиры. Постройте гистограмму. Посчитайте среднее и медиану. Опишите, сколько обычно занимает продажа. Когда можно считать, что продажи прошли очень быстро, а когда необычно долго?»\n",
    "- [x]  выполнено задание: «Уберите редкие и выбивающиеся значения. Опишите, какие особенности обнаружили».\n",
    "- [x]  выполнено задание: «Какие факторы больше всего влияют на стоимость квартиры? Изучите, зависит ли цена от квадратного метра, числа комнат, этажа (первого или последнего), удалённости от центра. Также изучите зависимость от даты размещения: дня недели, месяца и года». \n",
    "- [x]  выполнено задание: «Выберите 10 населённых пунктов с наибольшим числом объявлений. Посчитайте среднюю цену квадратного метра в этих населённых пунктах. Выделите населённые пункты с самой высокой и низкой стоимостью жилья. Эти данные можно найти по имени в столбце `locality_name`».\n",
    "- [x]  выполнено задание: «Изучите предложения квартир: для каждой квартиры есть информация о расстоянии до центра. Выделите квартиры в Санкт-Петербурге (`locality_name`). Ваша задача — выяснить, какая область входит в центр. Создайте столбец с расстоянием до центра в километрах: округлите до целых значений. После этого посчитайте среднюю цену для каждого километра. Постройте график: он должен показывать, как цена зависит от удалённости от центра. Определите границу, где график сильно меняется — это и будет центральная зона».\n",
    "- [x]  выполнено задание: «Выделите сегмент квартир в центре. Проанализируйте эту территорию и изучите следующие параметры: площадь, цена, число комнат, высота потолков. Также выделите факторы, которые влияют на стоимость квартиры (число комнат, этаж, удалённость от центра, дата размещения объявления). Сделайте выводы. Отличаются ли они от общих выводов по всей базе?»\n",
    "- [x]  в каждом этапе есть выводы\n",
    "- [x]  есть общий вывод"
   ]
  },
  {
   "cell_type": "markdown",
   "metadata": {},
   "source": [
    "<div class=\"alert alert-success\">\n",
    "<b>✔️ Комментарий ревьюера:</b> Спасибо за проект! Видно, что ты старался и он получился очень сильным. Ты аккуратно работаешь с данными и выносишь качественные предположения - как настоящий аналитик. Давай сделаем его еще лучше: немного поработаем с корреляцией (расширим анализ и обогатим визуализацией). Оставила направляющие комментарии. Возвращаю тебе работу, чтобы ты смог задать вопросы. Буду ждать твою работу на финальное ревью!\n",
    "</div>"
   ]
  },
  {
   "cell_type": "markdown",
   "metadata": {},
   "source": [
    "<div class=\"alert alert-success\">\n",
    "<b>✔️ Комментарий ревьюера V2:</b> Спасибо за проработку комментариев! Теперь все отлично. Если у тебя возникнут вопросы, смело задавай мне их через куратора. Удачи на следующих этапах!"
   ]
  },
  {
   "cell_type": "code",
   "execution_count": null,
   "metadata": {},
   "outputs": [],
   "source": []
  }
 ],
 "metadata": {
  "ExecuteTimeLog": [
   {
    "duration": 400,
    "start_time": "2022-08-14T13:45:08.571Z"
   },
   {
    "duration": 176,
    "start_time": "2022-08-14T13:45:08.973Z"
   },
   {
    "duration": 14,
    "start_time": "2022-08-14T13:45:09.150Z"
   },
   {
    "duration": 7,
    "start_time": "2022-08-14T13:45:09.166Z"
   },
   {
    "duration": 23,
    "start_time": "2022-08-14T13:45:09.174Z"
   },
   {
    "duration": 6,
    "start_time": "2022-08-14T13:45:09.198Z"
   },
   {
    "duration": 9,
    "start_time": "2022-08-14T13:45:09.205Z"
   },
   {
    "duration": 6,
    "start_time": "2022-08-14T13:45:09.215Z"
   },
   {
    "duration": 32,
    "start_time": "2022-08-14T13:45:09.223Z"
   },
   {
    "duration": 10,
    "start_time": "2022-08-14T13:45:09.258Z"
   },
   {
    "duration": 46,
    "start_time": "2022-08-14T13:45:09.269Z"
   },
   {
    "duration": 42,
    "start_time": "2022-08-14T13:45:09.316Z"
   },
   {
    "duration": 6,
    "start_time": "2022-08-14T13:45:09.360Z"
   },
   {
    "duration": 24,
    "start_time": "2022-08-14T13:45:09.368Z"
   },
   {
    "duration": 12,
    "start_time": "2022-08-14T13:45:09.394Z"
   },
   {
    "duration": 13,
    "start_time": "2022-08-14T13:45:09.407Z"
   },
   {
    "duration": 287,
    "start_time": "2022-08-14T13:45:09.421Z"
   },
   {
    "duration": 5,
    "start_time": "2022-08-14T13:45:09.709Z"
   },
   {
    "duration": 22,
    "start_time": "2022-08-14T13:45:09.715Z"
   },
   {
    "duration": 17,
    "start_time": "2022-08-14T13:45:09.738Z"
   },
   {
    "duration": 616,
    "start_time": "2022-08-14T13:45:09.756Z"
   },
   {
    "duration": 6,
    "start_time": "2022-08-14T13:45:10.374Z"
   },
   {
    "duration": 228,
    "start_time": "2022-08-14T13:45:10.381Z"
   },
   {
    "duration": 6,
    "start_time": "2022-08-14T13:45:10.611Z"
   },
   {
    "duration": 139,
    "start_time": "2022-08-14T13:45:10.618Z"
   },
   {
    "duration": 6,
    "start_time": "2022-08-14T13:45:10.759Z"
   },
   {
    "duration": 130,
    "start_time": "2022-08-14T13:45:10.766Z"
   },
   {
    "duration": 6,
    "start_time": "2022-08-14T13:45:10.900Z"
   },
   {
    "duration": 226,
    "start_time": "2022-08-14T13:45:10.907Z"
   },
   {
    "duration": 11,
    "start_time": "2022-08-14T13:45:11.134Z"
   },
   {
    "duration": 618,
    "start_time": "2022-08-14T13:45:11.154Z"
   },
   {
    "duration": 9,
    "start_time": "2022-08-14T13:45:11.773Z"
   },
   {
    "duration": 22,
    "start_time": "2022-08-14T13:45:11.783Z"
   },
   {
    "duration": 287,
    "start_time": "2022-08-14T13:45:11.806Z"
   },
   {
    "duration": 4,
    "start_time": "2022-08-14T13:45:12.095Z"
   },
   {
    "duration": 170,
    "start_time": "2022-08-14T13:45:12.100Z"
   },
   {
    "duration": 4,
    "start_time": "2022-08-14T13:45:12.272Z"
   },
   {
    "duration": 117,
    "start_time": "2022-08-14T13:45:12.277Z"
   },
   {
    "duration": 8,
    "start_time": "2022-08-14T13:45:12.395Z"
   },
   {
    "duration": 14,
    "start_time": "2022-08-14T13:45:12.404Z"
   },
   {
    "duration": 4,
    "start_time": "2022-08-14T13:45:12.419Z"
   },
   {
    "duration": 196,
    "start_time": "2022-08-14T13:45:12.424Z"
   },
   {
    "duration": 4,
    "start_time": "2022-08-14T13:45:12.622Z"
   },
   {
    "duration": 186,
    "start_time": "2022-08-14T13:45:12.628Z"
   },
   {
    "duration": 116,
    "start_time": "2022-08-14T13:45:12.815Z"
   },
   {
    "duration": 4,
    "start_time": "2022-08-14T13:45:12.932Z"
   },
   {
    "duration": 129,
    "start_time": "2022-08-14T13:45:12.937Z"
   },
   {
    "duration": 12,
    "start_time": "2022-08-14T13:45:13.068Z"
   },
   {
    "duration": 118,
    "start_time": "2022-08-14T13:45:13.085Z"
   },
   {
    "duration": 4,
    "start_time": "2022-08-14T13:45:13.205Z"
   },
   {
    "duration": 22,
    "start_time": "2022-08-14T13:45:13.210Z"
   },
   {
    "duration": 3,
    "start_time": "2022-08-14T13:45:13.233Z"
   },
   {
    "duration": 23,
    "start_time": "2022-08-14T13:45:13.237Z"
   },
   {
    "duration": 10,
    "start_time": "2022-08-14T13:45:13.261Z"
   },
   {
    "duration": 9,
    "start_time": "2022-08-14T13:45:13.272Z"
   },
   {
    "duration": 3,
    "start_time": "2022-08-14T13:45:13.283Z"
   },
   {
    "duration": 299,
    "start_time": "2022-08-14T13:45:13.287Z"
   },
   {
    "duration": 5,
    "start_time": "2022-08-14T13:45:13.587Z"
   },
   {
    "duration": 207,
    "start_time": "2022-08-14T13:45:13.593Z"
   },
   {
    "duration": 8,
    "start_time": "2022-08-14T13:45:13.802Z"
   },
   {
    "duration": 8,
    "start_time": "2022-08-14T13:45:13.812Z"
   },
   {
    "duration": 162,
    "start_time": "2022-08-14T13:45:13.821Z"
   },
   {
    "duration": 5,
    "start_time": "2022-08-14T13:45:13.984Z"
   },
   {
    "duration": 208,
    "start_time": "2022-08-14T13:45:13.991Z"
   },
   {
    "duration": 5,
    "start_time": "2022-08-14T13:45:14.200Z"
   },
   {
    "duration": 131,
    "start_time": "2022-08-14T13:45:14.207Z"
   },
   {
    "duration": 6,
    "start_time": "2022-08-14T13:45:14.339Z"
   },
   {
    "duration": 110,
    "start_time": "2022-08-14T13:45:14.355Z"
   },
   {
    "duration": 106,
    "start_time": "2022-08-14T13:45:14.467Z"
   },
   {
    "duration": 4,
    "start_time": "2022-08-14T13:45:14.574Z"
   },
   {
    "duration": 131,
    "start_time": "2022-08-14T13:45:14.579Z"
   },
   {
    "duration": 5,
    "start_time": "2022-08-14T13:45:14.711Z"
   },
   {
    "duration": 108,
    "start_time": "2022-08-14T13:45:14.717Z"
   },
   {
    "duration": 11,
    "start_time": "2022-08-14T13:45:14.827Z"
   },
   {
    "duration": 15,
    "start_time": "2022-08-14T13:45:14.839Z"
   },
   {
    "duration": 122,
    "start_time": "2022-08-14T13:45:14.856Z"
   },
   {
    "duration": 4,
    "start_time": "2022-08-14T13:45:14.980Z"
   },
   {
    "duration": 137,
    "start_time": "2022-08-14T13:45:14.986Z"
   },
   {
    "duration": 5,
    "start_time": "2022-08-14T13:45:15.125Z"
   },
   {
    "duration": 124,
    "start_time": "2022-08-14T13:45:15.131Z"
   },
   {
    "duration": 4,
    "start_time": "2022-08-14T13:45:15.256Z"
   },
   {
    "duration": 9,
    "start_time": "2022-08-14T13:45:15.264Z"
   },
   {
    "duration": 6,
    "start_time": "2022-08-14T13:45:15.274Z"
   },
   {
    "duration": 7,
    "start_time": "2022-08-14T13:45:15.282Z"
   },
   {
    "duration": 6,
    "start_time": "2022-08-14T13:45:15.291Z"
   },
   {
    "duration": 5,
    "start_time": "2022-08-14T13:45:15.298Z"
   },
   {
    "duration": 5,
    "start_time": "2022-08-14T13:45:15.304Z"
   },
   {
    "duration": 9,
    "start_time": "2022-08-14T13:45:15.311Z"
   },
   {
    "duration": 6,
    "start_time": "2022-08-14T13:45:15.355Z"
   }
  ],
  "kernelspec": {
   "display_name": "Python 3 (ipykernel)",
   "language": "python",
   "name": "python3"
  },
  "language_info": {
   "codemirror_mode": {
    "name": "ipython",
    "version": 3
   },
   "file_extension": ".py",
   "mimetype": "text/x-python",
   "name": "python",
   "nbconvert_exporter": "python",
   "pygments_lexer": "ipython3",
   "version": "3.9.5"
  },
  "toc": {
   "base_numbering": 1,
   "nav_menu": {},
   "number_sections": true,
   "sideBar": true,
   "skip_h1_title": true,
   "title_cell": "Содержание",
   "title_sidebar": "Contents",
   "toc_cell": true,
   "toc_position": {
    "height": "calc(100% - 180px)",
    "left": "10px",
    "top": "150px",
    "width": "261.67px"
   },
   "toc_section_display": true,
   "toc_window_display": true
  }
 },
 "nbformat": 4,
 "nbformat_minor": 4
}
