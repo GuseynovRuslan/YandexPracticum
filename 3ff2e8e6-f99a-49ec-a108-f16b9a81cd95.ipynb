{
 "cells": [
  {
   "cell_type": "markdown",
   "metadata": {},
   "source": [
    "Привет, Руслан!\n",
    "\n",
    "Меня зовут Вячеслав Погорелый, и я буду проводить ревью твоего первого проекта. \n",
    "\n",
    "Предлагаю перейти на \"ты\", если не против)\n",
    "\n",
    "Но если это не удобно - дай знать, и мы перейдем на \"вы\". Моя главная задача — не находить сделанные тобою ошибки, а передать свой опыт и помочь тебе стать аналитиком данных.\n",
    "\n",
    "Я отметил комментарии и замечания разным цветом далее по тексту markdown:\n",
    "\n",
    "---    \n",
    "<div class=\"alert alert-block alert-danger\">\n",
    "    \n",
    "### Ошибка\n",
    "    \n",
    "Критическое замечание, которые следует исправить.\n",
    "</div> \n",
    "    \n",
    "---\n",
    "    \n",
    "<div class=\"alert alert-block alert-warning\">\n",
    "    \n",
    "### Совет\n",
    "    \n",
    "Замечание\\совет на будущее.\n",
    "</div>\n",
    "    \n",
    "---\n",
    "    \n",
    "<div class=\"alert alert-block alert-success\">\n",
    "    \n",
    "### Успех\n",
    "    \n",
    "Когда всё сделано правильно.\n",
    "</div>\n",
    "    \n",
    "    \n",
    "    \n",
    "Будет здорово, если для ответов ты выберешь любой **<font color=\"maroon\">читабельный и заметный цвет</font>**, так мне будет проще все проверить.\n",
    "\n",
    "\n",
    "При доработке проекта попрошу тебя сохранить и не видоизменять заметки ревьюера, это осложняет повторную проверку."
   ]
  },
  {
   "cell_type": "markdown",
   "metadata": {},
   "source": [
    "<div class=\"alert alert-block alert-success\">\n",
    "    \n",
    "## Итоговый комментарии от ревьюера:\n",
    "    \n",
    "#### Успех \n",
    "\n",
    "Забегая вперед, скажу, что проект получился отличный. У тебя есть хорошая база, которая позволяет отвечать на поставленные вопросы. Ты здорово описываешь каждое действие. Я не сомневаюсь, что из тебя получится хороший аналитик. В качестве рекомендации, хочу, чтобы ты чаще визуализировал результат. Так твоя работа будет восприниматься еще лучше.\n",
    "    \n",
    "    \n",
    "В проекте есть одно замечение. Уверен, учесть его в работе тебе не составит труда. Буду ждать доработанный проект. Удачи!\n",
    "</div>"
   ]
  },
  {
   "cell_type": "markdown",
   "metadata": {},
   "source": [
    "<div class=\"alert alert-block alert-success\">\n",
    "    \n",
    "## Итоговый комментарии от ревьюера ver.2\n",
    "    \n",
    "#### Успех \n",
    "\n",
    "Руслан, спасибо тебе за оперативное исправление замечаний. Сейчас в проекте все идеально и я его принимаю. На твой вопрос я ответил в комментарии. \n",
    "    \n",
    "    \n",
    "Желаю тебе удачи в дальнейшей учебе. Ты справишься обязательно:) \n",
    "</div>"
   ]
  },
  {
   "cell_type": "markdown",
   "metadata": {},
   "source": [
    "## Шаг. Изучение данных"
   ]
  },
  {
   "cell_type": "code",
   "execution_count": 1,
   "metadata": {},
   "outputs": [],
   "source": [
    "import pandas as pd\n",
    "import numpy as np\n",
    "import matplotlib.pyplot as plt\n",
    "from scipy import stats as st\n",
    "import seaborn"
   ]
  },
  {
   "cell_type": "code",
   "execution_count": 2,
   "metadata": {},
   "outputs": [],
   "source": [
    "import warnings\n",
    "\n",
    "warnings.filterwarnings('ignore')"
   ]
  },
  {
   "cell_type": "markdown",
   "metadata": {},
   "source": [
    "<div class=\"alert alert-block alert-success\">\n",
    " \n",
    "### Комментарий ревьюера\n",
    "    \n",
    "#### Успех\n",
    "    \n",
    "Отлично, что используешь возможность убирать красные предупреждения. \n",
    "</div>"
   ]
  },
  {
   "cell_type": "code",
   "execution_count": 3,
   "metadata": {},
   "outputs": [
    {
     "data": {
      "text/html": [
       "<div>\n",
       "<style scoped>\n",
       "    .dataframe tbody tr th:only-of-type {\n",
       "        vertical-align: middle;\n",
       "    }\n",
       "\n",
       "    .dataframe tbody tr th {\n",
       "        vertical-align: top;\n",
       "    }\n",
       "\n",
       "    .dataframe thead th {\n",
       "        text-align: right;\n",
       "    }\n",
       "</style>\n",
       "<table border=\"1\" class=\"dataframe\">\n",
       "  <thead>\n",
       "    <tr style=\"text-align: right;\">\n",
       "      <th></th>\n",
       "      <th>Name</th>\n",
       "      <th>Platform</th>\n",
       "      <th>Year_of_Release</th>\n",
       "      <th>Genre</th>\n",
       "      <th>NA_sales</th>\n",
       "      <th>EU_sales</th>\n",
       "      <th>JP_sales</th>\n",
       "      <th>Other_sales</th>\n",
       "      <th>Critic_Score</th>\n",
       "      <th>User_Score</th>\n",
       "      <th>Rating</th>\n",
       "    </tr>\n",
       "  </thead>\n",
       "  <tbody>\n",
       "    <tr>\n",
       "      <th>0</th>\n",
       "      <td>Wii Sports</td>\n",
       "      <td>Wii</td>\n",
       "      <td>2006.0</td>\n",
       "      <td>Sports</td>\n",
       "      <td>41.36</td>\n",
       "      <td>28.96</td>\n",
       "      <td>3.77</td>\n",
       "      <td>8.45</td>\n",
       "      <td>76.0</td>\n",
       "      <td>8</td>\n",
       "      <td>E</td>\n",
       "    </tr>\n",
       "    <tr>\n",
       "      <th>1</th>\n",
       "      <td>Super Mario Bros.</td>\n",
       "      <td>NES</td>\n",
       "      <td>1985.0</td>\n",
       "      <td>Platform</td>\n",
       "      <td>29.08</td>\n",
       "      <td>3.58</td>\n",
       "      <td>6.81</td>\n",
       "      <td>0.77</td>\n",
       "      <td>NaN</td>\n",
       "      <td>NaN</td>\n",
       "      <td>NaN</td>\n",
       "    </tr>\n",
       "    <tr>\n",
       "      <th>2</th>\n",
       "      <td>Mario Kart Wii</td>\n",
       "      <td>Wii</td>\n",
       "      <td>2008.0</td>\n",
       "      <td>Racing</td>\n",
       "      <td>15.68</td>\n",
       "      <td>12.76</td>\n",
       "      <td>3.79</td>\n",
       "      <td>3.29</td>\n",
       "      <td>82.0</td>\n",
       "      <td>8.3</td>\n",
       "      <td>E</td>\n",
       "    </tr>\n",
       "    <tr>\n",
       "      <th>3</th>\n",
       "      <td>Wii Sports Resort</td>\n",
       "      <td>Wii</td>\n",
       "      <td>2009.0</td>\n",
       "      <td>Sports</td>\n",
       "      <td>15.61</td>\n",
       "      <td>10.93</td>\n",
       "      <td>3.28</td>\n",
       "      <td>2.95</td>\n",
       "      <td>80.0</td>\n",
       "      <td>8</td>\n",
       "      <td>E</td>\n",
       "    </tr>\n",
       "    <tr>\n",
       "      <th>4</th>\n",
       "      <td>Pokemon Red/Pokemon Blue</td>\n",
       "      <td>GB</td>\n",
       "      <td>1996.0</td>\n",
       "      <td>Role-Playing</td>\n",
       "      <td>11.27</td>\n",
       "      <td>8.89</td>\n",
       "      <td>10.22</td>\n",
       "      <td>1.00</td>\n",
       "      <td>NaN</td>\n",
       "      <td>NaN</td>\n",
       "      <td>NaN</td>\n",
       "    </tr>\n",
       "    <tr>\n",
       "      <th>5</th>\n",
       "      <td>Tetris</td>\n",
       "      <td>GB</td>\n",
       "      <td>1989.0</td>\n",
       "      <td>Puzzle</td>\n",
       "      <td>23.20</td>\n",
       "      <td>2.26</td>\n",
       "      <td>4.22</td>\n",
       "      <td>0.58</td>\n",
       "      <td>NaN</td>\n",
       "      <td>NaN</td>\n",
       "      <td>NaN</td>\n",
       "    </tr>\n",
       "    <tr>\n",
       "      <th>6</th>\n",
       "      <td>New Super Mario Bros.</td>\n",
       "      <td>DS</td>\n",
       "      <td>2006.0</td>\n",
       "      <td>Platform</td>\n",
       "      <td>11.28</td>\n",
       "      <td>9.14</td>\n",
       "      <td>6.50</td>\n",
       "      <td>2.88</td>\n",
       "      <td>89.0</td>\n",
       "      <td>8.5</td>\n",
       "      <td>E</td>\n",
       "    </tr>\n",
       "    <tr>\n",
       "      <th>7</th>\n",
       "      <td>Wii Play</td>\n",
       "      <td>Wii</td>\n",
       "      <td>2006.0</td>\n",
       "      <td>Misc</td>\n",
       "      <td>13.96</td>\n",
       "      <td>9.18</td>\n",
       "      <td>2.93</td>\n",
       "      <td>2.84</td>\n",
       "      <td>58.0</td>\n",
       "      <td>6.6</td>\n",
       "      <td>E</td>\n",
       "    </tr>\n",
       "    <tr>\n",
       "      <th>8</th>\n",
       "      <td>New Super Mario Bros. Wii</td>\n",
       "      <td>Wii</td>\n",
       "      <td>2009.0</td>\n",
       "      <td>Platform</td>\n",
       "      <td>14.44</td>\n",
       "      <td>6.94</td>\n",
       "      <td>4.70</td>\n",
       "      <td>2.24</td>\n",
       "      <td>87.0</td>\n",
       "      <td>8.4</td>\n",
       "      <td>E</td>\n",
       "    </tr>\n",
       "    <tr>\n",
       "      <th>9</th>\n",
       "      <td>Duck Hunt</td>\n",
       "      <td>NES</td>\n",
       "      <td>1984.0</td>\n",
       "      <td>Shooter</td>\n",
       "      <td>26.93</td>\n",
       "      <td>0.63</td>\n",
       "      <td>0.28</td>\n",
       "      <td>0.47</td>\n",
       "      <td>NaN</td>\n",
       "      <td>NaN</td>\n",
       "      <td>NaN</td>\n",
       "    </tr>\n",
       "  </tbody>\n",
       "</table>\n",
       "</div>"
      ],
      "text/plain": [
       "                        Name Platform  Year_of_Release         Genre  \\\n",
       "0                 Wii Sports      Wii           2006.0        Sports   \n",
       "1          Super Mario Bros.      NES           1985.0      Platform   \n",
       "2             Mario Kart Wii      Wii           2008.0        Racing   \n",
       "3          Wii Sports Resort      Wii           2009.0        Sports   \n",
       "4   Pokemon Red/Pokemon Blue       GB           1996.0  Role-Playing   \n",
       "5                     Tetris       GB           1989.0        Puzzle   \n",
       "6      New Super Mario Bros.       DS           2006.0      Platform   \n",
       "7                   Wii Play      Wii           2006.0          Misc   \n",
       "8  New Super Mario Bros. Wii      Wii           2009.0      Platform   \n",
       "9                  Duck Hunt      NES           1984.0       Shooter   \n",
       "\n",
       "   NA_sales  EU_sales  JP_sales  Other_sales  Critic_Score User_Score Rating  \n",
       "0     41.36     28.96      3.77         8.45          76.0          8      E  \n",
       "1     29.08      3.58      6.81         0.77           NaN        NaN    NaN  \n",
       "2     15.68     12.76      3.79         3.29          82.0        8.3      E  \n",
       "3     15.61     10.93      3.28         2.95          80.0          8      E  \n",
       "4     11.27      8.89     10.22         1.00           NaN        NaN    NaN  \n",
       "5     23.20      2.26      4.22         0.58           NaN        NaN    NaN  \n",
       "6     11.28      9.14      6.50         2.88          89.0        8.5      E  \n",
       "7     13.96      9.18      2.93         2.84          58.0        6.6      E  \n",
       "8     14.44      6.94      4.70         2.24          87.0        8.4      E  \n",
       "9     26.93      0.63      0.28         0.47           NaN        NaN    NaN  "
      ]
     },
     "metadata": {},
     "output_type": "display_data"
    }
   ],
   "source": [
    "data = pd.read_csv('/datasets/games.csv')\n",
    "\n",
    "display(data.head(10))"
   ]
  },
  {
   "cell_type": "code",
   "execution_count": 4,
   "metadata": {},
   "outputs": [
    {
     "name": "stdout",
     "output_type": "stream",
     "text": [
      "<class 'pandas.core.frame.DataFrame'>\n",
      "RangeIndex: 16715 entries, 0 to 16714\n",
      "Data columns (total 11 columns):\n",
      " #   Column           Non-Null Count  Dtype  \n",
      "---  ------           --------------  -----  \n",
      " 0   Name             16713 non-null  object \n",
      " 1   Platform         16715 non-null  object \n",
      " 2   Year_of_Release  16446 non-null  float64\n",
      " 3   Genre            16713 non-null  object \n",
      " 4   NA_sales         16715 non-null  float64\n",
      " 5   EU_sales         16715 non-null  float64\n",
      " 6   JP_sales         16715 non-null  float64\n",
      " 7   Other_sales      16715 non-null  float64\n",
      " 8   Critic_Score     8137 non-null   float64\n",
      " 9   User_Score       10014 non-null  object \n",
      " 10  Rating           9949 non-null   object \n",
      "dtypes: float64(6), object(5)\n",
      "memory usage: 1.4+ MB\n"
     ]
    }
   ],
   "source": [
    "data.info()"
   ]
  },
  {
   "cell_type": "markdown",
   "metadata": {},
   "source": [
    "<div class=\"alert alert-block alert-success\">\n",
    " \n",
    "### Комментарий ревьюера\n",
    "    \n",
    "#### Успех\n",
    "    \n",
    "Так, информацию о таблице получили, здорово. \n",
    "</div>"
   ]
  },
  {
   "cell_type": "code",
   "execution_count": 5,
   "metadata": {},
   "outputs": [
    {
     "data": {
      "text/plain": [
       "Name                  2\n",
       "Platform              0\n",
       "Year_of_Release     269\n",
       "Genre                 2\n",
       "NA_sales              0\n",
       "EU_sales              0\n",
       "JP_sales              0\n",
       "Other_sales           0\n",
       "Critic_Score       8578\n",
       "User_Score         6701\n",
       "Rating             6766\n",
       "dtype: int64"
      ]
     },
     "execution_count": 5,
     "metadata": {},
     "output_type": "execute_result"
    }
   ],
   "source": [
    "data.isna().sum()"
   ]
  },
  {
   "cell_type": "code",
   "execution_count": 6,
   "metadata": {},
   "outputs": [
    {
     "data": {
      "text/plain": [
       "array(['8', nan, '8.3', '8.5', '6.6', '8.4', '8.6', '7.7', '6.3', '7.4',\n",
       "       '8.2', '9', '7.9', '8.1', '8.7', '7.1', '3.4', '5.3', '4.8', '3.2',\n",
       "       '8.9', '6.4', '7.8', '7.5', '2.6', '7.2', '9.2', '7', '7.3', '4.3',\n",
       "       '7.6', '5.7', '5', '9.1', '6.5', 'tbd', '8.8', '6.9', '9.4', '6.8',\n",
       "       '6.1', '6.7', '5.4', '4', '4.9', '4.5', '9.3', '6.2', '4.2', '6',\n",
       "       '3.7', '4.1', '5.8', '5.6', '5.5', '4.4', '4.6', '5.9', '3.9',\n",
       "       '3.1', '2.9', '5.2', '3.3', '4.7', '5.1', '3.5', '2.5', '1.9', '3',\n",
       "       '2.7', '2.2', '2', '9.5', '2.1', '3.6', '2.8', '1.8', '3.8', '0',\n",
       "       '1.6', '9.6', '2.4', '1.7', '1.1', '0.3', '1.5', '0.7', '1.2',\n",
       "       '2.3', '0.5', '1.3', '0.2', '0.6', '1.4', '0.9', '1', '9.7'],\n",
       "      dtype=object)"
      ]
     },
     "execution_count": 6,
     "metadata": {},
     "output_type": "execute_result"
    }
   ],
   "source": [
    "data['User_Score'].unique()"
   ]
  },
  {
   "cell_type": "code",
   "execution_count": 7,
   "metadata": {},
   "outputs": [
    {
     "data": {
      "text/html": [
       "<div>\n",
       "<style scoped>\n",
       "    .dataframe tbody tr th:only-of-type {\n",
       "        vertical-align: middle;\n",
       "    }\n",
       "\n",
       "    .dataframe tbody tr th {\n",
       "        vertical-align: top;\n",
       "    }\n",
       "\n",
       "    .dataframe thead th {\n",
       "        text-align: right;\n",
       "    }\n",
       "</style>\n",
       "<table border=\"1\" class=\"dataframe\">\n",
       "  <thead>\n",
       "    <tr style=\"text-align: right;\">\n",
       "      <th></th>\n",
       "      <th>Name</th>\n",
       "      <th>Platform</th>\n",
       "      <th>Year_of_Release</th>\n",
       "      <th>Genre</th>\n",
       "      <th>NA_sales</th>\n",
       "      <th>EU_sales</th>\n",
       "      <th>JP_sales</th>\n",
       "      <th>Other_sales</th>\n",
       "      <th>Critic_Score</th>\n",
       "      <th>User_Score</th>\n",
       "      <th>Rating</th>\n",
       "    </tr>\n",
       "  </thead>\n",
       "  <tbody>\n",
       "    <tr>\n",
       "      <th>119</th>\n",
       "      <td>Zumba Fitness</td>\n",
       "      <td>Wii</td>\n",
       "      <td>2010.0</td>\n",
       "      <td>Sports</td>\n",
       "      <td>3.45</td>\n",
       "      <td>2.59</td>\n",
       "      <td>0.00</td>\n",
       "      <td>0.66</td>\n",
       "      <td>NaN</td>\n",
       "      <td>tbd</td>\n",
       "      <td>E</td>\n",
       "    </tr>\n",
       "    <tr>\n",
       "      <th>301</th>\n",
       "      <td>Namco Museum: 50th Anniversary</td>\n",
       "      <td>PS2</td>\n",
       "      <td>2005.0</td>\n",
       "      <td>Misc</td>\n",
       "      <td>2.08</td>\n",
       "      <td>1.35</td>\n",
       "      <td>0.00</td>\n",
       "      <td>0.54</td>\n",
       "      <td>61.0</td>\n",
       "      <td>tbd</td>\n",
       "      <td>E10+</td>\n",
       "    </tr>\n",
       "    <tr>\n",
       "      <th>520</th>\n",
       "      <td>Zumba Fitness 2</td>\n",
       "      <td>Wii</td>\n",
       "      <td>2011.0</td>\n",
       "      <td>Sports</td>\n",
       "      <td>1.51</td>\n",
       "      <td>1.03</td>\n",
       "      <td>0.00</td>\n",
       "      <td>0.27</td>\n",
       "      <td>NaN</td>\n",
       "      <td>tbd</td>\n",
       "      <td>T</td>\n",
       "    </tr>\n",
       "    <tr>\n",
       "      <th>645</th>\n",
       "      <td>uDraw Studio</td>\n",
       "      <td>Wii</td>\n",
       "      <td>2010.0</td>\n",
       "      <td>Misc</td>\n",
       "      <td>1.65</td>\n",
       "      <td>0.57</td>\n",
       "      <td>0.00</td>\n",
       "      <td>0.20</td>\n",
       "      <td>71.0</td>\n",
       "      <td>tbd</td>\n",
       "      <td>E</td>\n",
       "    </tr>\n",
       "    <tr>\n",
       "      <th>657</th>\n",
       "      <td>Frogger's Adventures: Temple of the Frog</td>\n",
       "      <td>GBA</td>\n",
       "      <td>NaN</td>\n",
       "      <td>Adventure</td>\n",
       "      <td>2.15</td>\n",
       "      <td>0.18</td>\n",
       "      <td>0.00</td>\n",
       "      <td>0.07</td>\n",
       "      <td>73.0</td>\n",
       "      <td>tbd</td>\n",
       "      <td>E</td>\n",
       "    </tr>\n",
       "    <tr>\n",
       "      <th>718</th>\n",
       "      <td>Just Dance Kids</td>\n",
       "      <td>Wii</td>\n",
       "      <td>2010.0</td>\n",
       "      <td>Misc</td>\n",
       "      <td>1.52</td>\n",
       "      <td>0.54</td>\n",
       "      <td>0.00</td>\n",
       "      <td>0.18</td>\n",
       "      <td>NaN</td>\n",
       "      <td>tbd</td>\n",
       "      <td>E</td>\n",
       "    </tr>\n",
       "    <tr>\n",
       "      <th>726</th>\n",
       "      <td>Dance Dance Revolution X2</td>\n",
       "      <td>PS2</td>\n",
       "      <td>2009.0</td>\n",
       "      <td>Simulation</td>\n",
       "      <td>1.09</td>\n",
       "      <td>0.85</td>\n",
       "      <td>0.00</td>\n",
       "      <td>0.28</td>\n",
       "      <td>NaN</td>\n",
       "      <td>tbd</td>\n",
       "      <td>E10+</td>\n",
       "    </tr>\n",
       "    <tr>\n",
       "      <th>821</th>\n",
       "      <td>The Incredibles</td>\n",
       "      <td>GBA</td>\n",
       "      <td>2004.0</td>\n",
       "      <td>Action</td>\n",
       "      <td>1.15</td>\n",
       "      <td>0.77</td>\n",
       "      <td>0.04</td>\n",
       "      <td>0.10</td>\n",
       "      <td>55.0</td>\n",
       "      <td>tbd</td>\n",
       "      <td>E</td>\n",
       "    </tr>\n",
       "    <tr>\n",
       "      <th>881</th>\n",
       "      <td>Who wants to be a millionaire</td>\n",
       "      <td>PC</td>\n",
       "      <td>1999.0</td>\n",
       "      <td>Misc</td>\n",
       "      <td>1.94</td>\n",
       "      <td>0.00</td>\n",
       "      <td>0.00</td>\n",
       "      <td>0.00</td>\n",
       "      <td>NaN</td>\n",
       "      <td>tbd</td>\n",
       "      <td>E</td>\n",
       "    </tr>\n",
       "    <tr>\n",
       "      <th>1047</th>\n",
       "      <td>Tetris Worlds</td>\n",
       "      <td>GBA</td>\n",
       "      <td>2001.0</td>\n",
       "      <td>Puzzle</td>\n",
       "      <td>1.25</td>\n",
       "      <td>0.39</td>\n",
       "      <td>0.00</td>\n",
       "      <td>0.06</td>\n",
       "      <td>65.0</td>\n",
       "      <td>tbd</td>\n",
       "      <td>E</td>\n",
       "    </tr>\n",
       "  </tbody>\n",
       "</table>\n",
       "</div>"
      ],
      "text/plain": [
       "                                          Name Platform  Year_of_Release  \\\n",
       "119                              Zumba Fitness      Wii           2010.0   \n",
       "301             Namco Museum: 50th Anniversary      PS2           2005.0   \n",
       "520                            Zumba Fitness 2      Wii           2011.0   \n",
       "645                               uDraw Studio      Wii           2010.0   \n",
       "657   Frogger's Adventures: Temple of the Frog      GBA              NaN   \n",
       "718                            Just Dance Kids      Wii           2010.0   \n",
       "726                  Dance Dance Revolution X2      PS2           2009.0   \n",
       "821                            The Incredibles      GBA           2004.0   \n",
       "881              Who wants to be a millionaire       PC           1999.0   \n",
       "1047                             Tetris Worlds      GBA           2001.0   \n",
       "\n",
       "           Genre  NA_sales  EU_sales  JP_sales  Other_sales  Critic_Score  \\\n",
       "119       Sports      3.45      2.59      0.00         0.66           NaN   \n",
       "301         Misc      2.08      1.35      0.00         0.54          61.0   \n",
       "520       Sports      1.51      1.03      0.00         0.27           NaN   \n",
       "645         Misc      1.65      0.57      0.00         0.20          71.0   \n",
       "657    Adventure      2.15      0.18      0.00         0.07          73.0   \n",
       "718         Misc      1.52      0.54      0.00         0.18           NaN   \n",
       "726   Simulation      1.09      0.85      0.00         0.28           NaN   \n",
       "821       Action      1.15      0.77      0.04         0.10          55.0   \n",
       "881         Misc      1.94      0.00      0.00         0.00           NaN   \n",
       "1047      Puzzle      1.25      0.39      0.00         0.06          65.0   \n",
       "\n",
       "     User_Score Rating  \n",
       "119         tbd      E  \n",
       "301         tbd   E10+  \n",
       "520         tbd      T  \n",
       "645         tbd      E  \n",
       "657         tbd      E  \n",
       "718         tbd      E  \n",
       "726         tbd   E10+  \n",
       "821         tbd      E  \n",
       "881         tbd      E  \n",
       "1047        tbd      E  "
      ]
     },
     "metadata": {},
     "output_type": "display_data"
    }
   ],
   "source": [
    "data_tbd = data.query('User_Score == \"tbd\"')\n",
    "\n",
    "display(data_tbd.head(10))"
   ]
  },
  {
   "cell_type": "markdown",
   "metadata": {},
   "source": [
    "<div class=\"alert alert-block alert-warning\">\n",
    " \n",
    "### Комментарий ревьюера\n",
    "    \n",
    "#### Совет\n",
    "    \n",
    "Здесь вывод таблицы у тебя бы сработал и без использоания команды display(), поскольку это последняя строчка в ячейке кода.\n",
    "</div>"
   ]
  },
  {
   "cell_type": "code",
   "execution_count": 8,
   "metadata": {},
   "outputs": [
    {
     "data": {
      "text/plain": [
       "2424"
      ]
     },
     "execution_count": 8,
     "metadata": {},
     "output_type": "execute_result"
    }
   ],
   "source": [
    "data_tbd['User_Score'].count()"
   ]
  },
  {
   "cell_type": "markdown",
   "metadata": {},
   "source": [
    "Значение tbd - to be determined часто попадается, нужно будет обработать."
   ]
  },
  {
   "cell_type": "code",
   "execution_count": 9,
   "metadata": {},
   "outputs": [
    {
     "data": {
      "text/plain": [
       "0"
      ]
     },
     "execution_count": 9,
     "metadata": {},
     "output_type": "execute_result"
    }
   ],
   "source": [
    "data.duplicated().sum()"
   ]
  },
  {
   "cell_type": "markdown",
   "metadata": {},
   "source": [
    "Вывод:\n",
    "\n",
    "Было выявлено множество пропусков в некоторых столбцах, а также интересное значение tbd, которое нужно проанализировать далее. Большенство пропусков находятся в последних трёх столбцах. Могу предположить, что оценки просто не успели добавить, так как игра только вышла, либо их и не собираются добавлять, так как игра имеет очень низкие продажи, либо данные потеряны. Дубликаты отсутствуют."
   ]
  },
  {
   "cell_type": "markdown",
   "metadata": {},
   "source": [
    "<div class=\"alert alert-block alert-success\">\n",
    " \n",
    "### Комментарий ревьюера\n",
    "    \n",
    "#### Успех\n",
    "    \n",
    "Хорошее знакомство с данными у тебя получилось. Получена первичная информация и намечен небольшой план дальнейших действий. \n",
    "</div>"
   ]
  },
  {
   "cell_type": "markdown",
   "metadata": {},
   "source": [
    "## Шаг. Обработка данных"
   ]
  },
  {
   "cell_type": "code",
   "execution_count": 10,
   "metadata": {},
   "outputs": [
    {
     "data": {
      "text/plain": [
       "Index(['name', 'platform', 'year_of_release', 'genre', 'na_sales', 'eu_sales',\n",
       "       'jp_sales', 'other_sales', 'critic_score', 'user_score', 'rating'],\n",
       "      dtype='object')"
      ]
     },
     "execution_count": 10,
     "metadata": {},
     "output_type": "execute_result"
    }
   ],
   "source": [
    "data = data.rename(columns={'Name':'name',\n",
    "                            'Platform' : 'platform', \n",
    "                            'Year_of_Release' : 'year_of_release',\n",
    "                            'Genre' : 'genre', \n",
    "                            'NA_sales' : 'na_sales', \n",
    "                            'EU_sales' : 'eu_sales', \n",
    "                            'JP_sales' : 'jp_sales', \n",
    "                            'Other_sales' : 'other_sales', \n",
    "                            'Critic_Score' : 'critic_score', \n",
    "                            'User_Score' : 'user_score', \n",
    "                            'Rating' : 'rating'})\n",
    "\n",
    "data.columns"
   ]
  },
  {
   "cell_type": "markdown",
   "metadata": {},
   "source": [
    "<div class=\"alert alert-block alert-warning\">\n",
    " \n",
    "### Комментарий ревьюера\n",
    "    \n",
    "#### Совет\n",
    "    \n",
    "Для перевода к нижнему регистру используй df.columns = df.columns.str.lower()\n",
    "</div>"
   ]
  },
  {
   "cell_type": "code",
   "execution_count": 11,
   "metadata": {},
   "outputs": [],
   "source": [
    "data['user_score'] = data['user_score'].replace('tbd', 0)\n",
    "data['user_score'] = data['user_score'].fillna(0)"
   ]
  },
  {
   "cell_type": "markdown",
   "metadata": {},
   "source": [
    "Значение tbd - to be determined означает, что результаты будут в будущем добавлены. К сожалению, это аббревиатура будет мешать в дальнейшем. Думаю, что можно заменить на 0."
   ]
  },
  {
   "cell_type": "markdown",
   "metadata": {},
   "source": [
    "<div class=\"alert alert-block alert-success\">\n",
    " \n",
    "### Комментарий ревьюера\n",
    "    \n",
    "#### Успех\n",
    "    \n",
    "В целом, соглашусь\n",
    "</div>"
   ]
  },
  {
   "cell_type": "code",
   "execution_count": 12,
   "metadata": {},
   "outputs": [],
   "source": [
    "data['rating'] = data['rating'].fillna('Unkown')\n",
    "data = data.dropna(subset = ['year_of_release'])"
   ]
  },
  {
   "cell_type": "markdown",
   "metadata": {},
   "source": [
    "Считаю, что пропуски в rating можно заполнить как unknown, а в столбце year_of_release их можно дропнуть, пропусков совсем мало."
   ]
  },
  {
   "cell_type": "code",
   "execution_count": 13,
   "metadata": {},
   "outputs": [
    {
     "name": "stdout",
     "output_type": "stream",
     "text": [
      "<class 'pandas.core.frame.DataFrame'>\n",
      "Int64Index: 16446 entries, 0 to 16714\n",
      "Data columns (total 11 columns):\n",
      " #   Column           Non-Null Count  Dtype  \n",
      "---  ------           --------------  -----  \n",
      " 0   name             16444 non-null  object \n",
      " 1   platform         16446 non-null  object \n",
      " 2   year_of_release  16446 non-null  int64  \n",
      " 3   genre            16444 non-null  object \n",
      " 4   na_sales         16446 non-null  float64\n",
      " 5   eu_sales         16446 non-null  float64\n",
      " 6   jp_sales         16446 non-null  float64\n",
      " 7   other_sales      16446 non-null  float64\n",
      " 8   critic_score     7983 non-null   float64\n",
      " 9   user_score       16446 non-null  float64\n",
      " 10  rating           16446 non-null  object \n",
      "dtypes: float64(6), int64(1), object(4)\n",
      "memory usage: 1.5+ MB\n"
     ]
    }
   ],
   "source": [
    "data = data.astype({'year_of_release' : 'int64', \n",
    "                    'user_score' : 'float64'})\n",
    "\n",
    "data.info()"
   ]
  },
  {
   "cell_type": "markdown",
   "metadata": {},
   "source": [
    "<div class=\"alert alert-block alert-warning\">\n",
    " \n",
    "### Комментарий ревьюера\n",
    "    \n",
    "#### совет\n",
    "    \n",
    "Для экономии вычислительной памяти можно перевести данные в int32 или float32 \n",
    "</div>"
   ]
  },
  {
   "cell_type": "code",
   "execution_count": 14,
   "metadata": {},
   "outputs": [
    {
     "data": {
      "text/html": [
       "<div>\n",
       "<style scoped>\n",
       "    .dataframe tbody tr th:only-of-type {\n",
       "        vertical-align: middle;\n",
       "    }\n",
       "\n",
       "    .dataframe tbody tr th {\n",
       "        vertical-align: top;\n",
       "    }\n",
       "\n",
       "    .dataframe thead th {\n",
       "        text-align: right;\n",
       "    }\n",
       "</style>\n",
       "<table border=\"1\" class=\"dataframe\">\n",
       "  <thead>\n",
       "    <tr style=\"text-align: right;\">\n",
       "      <th></th>\n",
       "      <th>name</th>\n",
       "      <th>platform</th>\n",
       "      <th>year_of_release</th>\n",
       "      <th>genre</th>\n",
       "      <th>na_sales</th>\n",
       "      <th>eu_sales</th>\n",
       "      <th>jp_sales</th>\n",
       "      <th>other_sales</th>\n",
       "      <th>critic_score</th>\n",
       "      <th>user_score</th>\n",
       "      <th>rating</th>\n",
       "    </tr>\n",
       "  </thead>\n",
       "  <tbody>\n",
       "    <tr>\n",
       "      <th>0</th>\n",
       "      <td>Wii Sports</td>\n",
       "      <td>Wii</td>\n",
       "      <td>2006</td>\n",
       "      <td>Sports</td>\n",
       "      <td>41.36</td>\n",
       "      <td>28.96</td>\n",
       "      <td>3.77</td>\n",
       "      <td>8.45</td>\n",
       "      <td>76.0</td>\n",
       "      <td>8.0</td>\n",
       "      <td>E</td>\n",
       "    </tr>\n",
       "    <tr>\n",
       "      <th>1</th>\n",
       "      <td>Super Mario Bros.</td>\n",
       "      <td>NES</td>\n",
       "      <td>1985</td>\n",
       "      <td>Platform</td>\n",
       "      <td>29.08</td>\n",
       "      <td>3.58</td>\n",
       "      <td>6.81</td>\n",
       "      <td>0.77</td>\n",
       "      <td>NaN</td>\n",
       "      <td>0.0</td>\n",
       "      <td>Unkown</td>\n",
       "    </tr>\n",
       "    <tr>\n",
       "      <th>2</th>\n",
       "      <td>Mario Kart Wii</td>\n",
       "      <td>Wii</td>\n",
       "      <td>2008</td>\n",
       "      <td>Racing</td>\n",
       "      <td>15.68</td>\n",
       "      <td>12.76</td>\n",
       "      <td>3.79</td>\n",
       "      <td>3.29</td>\n",
       "      <td>82.0</td>\n",
       "      <td>8.3</td>\n",
       "      <td>E</td>\n",
       "    </tr>\n",
       "    <tr>\n",
       "      <th>3</th>\n",
       "      <td>Wii Sports Resort</td>\n",
       "      <td>Wii</td>\n",
       "      <td>2009</td>\n",
       "      <td>Sports</td>\n",
       "      <td>15.61</td>\n",
       "      <td>10.93</td>\n",
       "      <td>3.28</td>\n",
       "      <td>2.95</td>\n",
       "      <td>80.0</td>\n",
       "      <td>8.0</td>\n",
       "      <td>E</td>\n",
       "    </tr>\n",
       "    <tr>\n",
       "      <th>4</th>\n",
       "      <td>Pokemon Red/Pokemon Blue</td>\n",
       "      <td>GB</td>\n",
       "      <td>1996</td>\n",
       "      <td>Role-Playing</td>\n",
       "      <td>11.27</td>\n",
       "      <td>8.89</td>\n",
       "      <td>10.22</td>\n",
       "      <td>1.00</td>\n",
       "      <td>NaN</td>\n",
       "      <td>0.0</td>\n",
       "      <td>Unkown</td>\n",
       "    </tr>\n",
       "    <tr>\n",
       "      <th>5</th>\n",
       "      <td>Tetris</td>\n",
       "      <td>GB</td>\n",
       "      <td>1989</td>\n",
       "      <td>Puzzle</td>\n",
       "      <td>23.20</td>\n",
       "      <td>2.26</td>\n",
       "      <td>4.22</td>\n",
       "      <td>0.58</td>\n",
       "      <td>NaN</td>\n",
       "      <td>0.0</td>\n",
       "      <td>Unkown</td>\n",
       "    </tr>\n",
       "    <tr>\n",
       "      <th>6</th>\n",
       "      <td>New Super Mario Bros.</td>\n",
       "      <td>DS</td>\n",
       "      <td>2006</td>\n",
       "      <td>Platform</td>\n",
       "      <td>11.28</td>\n",
       "      <td>9.14</td>\n",
       "      <td>6.50</td>\n",
       "      <td>2.88</td>\n",
       "      <td>89.0</td>\n",
       "      <td>8.5</td>\n",
       "      <td>E</td>\n",
       "    </tr>\n",
       "    <tr>\n",
       "      <th>7</th>\n",
       "      <td>Wii Play</td>\n",
       "      <td>Wii</td>\n",
       "      <td>2006</td>\n",
       "      <td>Misc</td>\n",
       "      <td>13.96</td>\n",
       "      <td>9.18</td>\n",
       "      <td>2.93</td>\n",
       "      <td>2.84</td>\n",
       "      <td>58.0</td>\n",
       "      <td>6.6</td>\n",
       "      <td>E</td>\n",
       "    </tr>\n",
       "    <tr>\n",
       "      <th>8</th>\n",
       "      <td>New Super Mario Bros. Wii</td>\n",
       "      <td>Wii</td>\n",
       "      <td>2009</td>\n",
       "      <td>Platform</td>\n",
       "      <td>14.44</td>\n",
       "      <td>6.94</td>\n",
       "      <td>4.70</td>\n",
       "      <td>2.24</td>\n",
       "      <td>87.0</td>\n",
       "      <td>8.4</td>\n",
       "      <td>E</td>\n",
       "    </tr>\n",
       "    <tr>\n",
       "      <th>9</th>\n",
       "      <td>Duck Hunt</td>\n",
       "      <td>NES</td>\n",
       "      <td>1984</td>\n",
       "      <td>Shooter</td>\n",
       "      <td>26.93</td>\n",
       "      <td>0.63</td>\n",
       "      <td>0.28</td>\n",
       "      <td>0.47</td>\n",
       "      <td>NaN</td>\n",
       "      <td>0.0</td>\n",
       "      <td>Unkown</td>\n",
       "    </tr>\n",
       "  </tbody>\n",
       "</table>\n",
       "</div>"
      ],
      "text/plain": [
       "                        name platform  year_of_release         genre  \\\n",
       "0                 Wii Sports      Wii             2006        Sports   \n",
       "1          Super Mario Bros.      NES             1985      Platform   \n",
       "2             Mario Kart Wii      Wii             2008        Racing   \n",
       "3          Wii Sports Resort      Wii             2009        Sports   \n",
       "4   Pokemon Red/Pokemon Blue       GB             1996  Role-Playing   \n",
       "5                     Tetris       GB             1989        Puzzle   \n",
       "6      New Super Mario Bros.       DS             2006      Platform   \n",
       "7                   Wii Play      Wii             2006          Misc   \n",
       "8  New Super Mario Bros. Wii      Wii             2009      Platform   \n",
       "9                  Duck Hunt      NES             1984       Shooter   \n",
       "\n",
       "   na_sales  eu_sales  jp_sales  other_sales  critic_score  user_score  rating  \n",
       "0     41.36     28.96      3.77         8.45          76.0         8.0       E  \n",
       "1     29.08      3.58      6.81         0.77           NaN         0.0  Unkown  \n",
       "2     15.68     12.76      3.79         3.29          82.0         8.3       E  \n",
       "3     15.61     10.93      3.28         2.95          80.0         8.0       E  \n",
       "4     11.27      8.89     10.22         1.00           NaN         0.0  Unkown  \n",
       "5     23.20      2.26      4.22         0.58           NaN         0.0  Unkown  \n",
       "6     11.28      9.14      6.50         2.88          89.0         8.5       E  \n",
       "7     13.96      9.18      2.93         2.84          58.0         6.6       E  \n",
       "8     14.44      6.94      4.70         2.24          87.0         8.4       E  \n",
       "9     26.93      0.63      0.28         0.47           NaN         0.0  Unkown  "
      ]
     },
     "execution_count": 14,
     "metadata": {},
     "output_type": "execute_result"
    }
   ],
   "source": [
    "data.head(10)"
   ]
  },
  {
   "cell_type": "code",
   "execution_count": 15,
   "metadata": {},
   "outputs": [
    {
     "data": {
      "text/html": [
       "<div>\n",
       "<style scoped>\n",
       "    .dataframe tbody tr th:only-of-type {\n",
       "        vertical-align: middle;\n",
       "    }\n",
       "\n",
       "    .dataframe tbody tr th {\n",
       "        vertical-align: top;\n",
       "    }\n",
       "\n",
       "    .dataframe thead th {\n",
       "        text-align: right;\n",
       "    }\n",
       "</style>\n",
       "<table border=\"1\" class=\"dataframe\">\n",
       "  <thead>\n",
       "    <tr style=\"text-align: right;\">\n",
       "      <th></th>\n",
       "      <th>name</th>\n",
       "      <th>platform</th>\n",
       "      <th>year_of_release</th>\n",
       "      <th>genre</th>\n",
       "      <th>na_sales</th>\n",
       "      <th>eu_sales</th>\n",
       "      <th>jp_sales</th>\n",
       "      <th>other_sales</th>\n",
       "      <th>critic_score</th>\n",
       "      <th>user_score</th>\n",
       "      <th>rating</th>\n",
       "      <th>total_sales</th>\n",
       "    </tr>\n",
       "  </thead>\n",
       "  <tbody>\n",
       "    <tr>\n",
       "      <th>0</th>\n",
       "      <td>Wii Sports</td>\n",
       "      <td>Wii</td>\n",
       "      <td>2006</td>\n",
       "      <td>Sports</td>\n",
       "      <td>41.36</td>\n",
       "      <td>28.96</td>\n",
       "      <td>3.77</td>\n",
       "      <td>8.45</td>\n",
       "      <td>76.0</td>\n",
       "      <td>8.0</td>\n",
       "      <td>E</td>\n",
       "      <td>82.54</td>\n",
       "    </tr>\n",
       "    <tr>\n",
       "      <th>1</th>\n",
       "      <td>Super Mario Bros.</td>\n",
       "      <td>NES</td>\n",
       "      <td>1985</td>\n",
       "      <td>Platform</td>\n",
       "      <td>29.08</td>\n",
       "      <td>3.58</td>\n",
       "      <td>6.81</td>\n",
       "      <td>0.77</td>\n",
       "      <td>NaN</td>\n",
       "      <td>0.0</td>\n",
       "      <td>Unkown</td>\n",
       "      <td>40.24</td>\n",
       "    </tr>\n",
       "    <tr>\n",
       "      <th>2</th>\n",
       "      <td>Mario Kart Wii</td>\n",
       "      <td>Wii</td>\n",
       "      <td>2008</td>\n",
       "      <td>Racing</td>\n",
       "      <td>15.68</td>\n",
       "      <td>12.76</td>\n",
       "      <td>3.79</td>\n",
       "      <td>3.29</td>\n",
       "      <td>82.0</td>\n",
       "      <td>8.3</td>\n",
       "      <td>E</td>\n",
       "      <td>35.52</td>\n",
       "    </tr>\n",
       "    <tr>\n",
       "      <th>3</th>\n",
       "      <td>Wii Sports Resort</td>\n",
       "      <td>Wii</td>\n",
       "      <td>2009</td>\n",
       "      <td>Sports</td>\n",
       "      <td>15.61</td>\n",
       "      <td>10.93</td>\n",
       "      <td>3.28</td>\n",
       "      <td>2.95</td>\n",
       "      <td>80.0</td>\n",
       "      <td>8.0</td>\n",
       "      <td>E</td>\n",
       "      <td>32.77</td>\n",
       "    </tr>\n",
       "    <tr>\n",
       "      <th>4</th>\n",
       "      <td>Pokemon Red/Pokemon Blue</td>\n",
       "      <td>GB</td>\n",
       "      <td>1996</td>\n",
       "      <td>Role-Playing</td>\n",
       "      <td>11.27</td>\n",
       "      <td>8.89</td>\n",
       "      <td>10.22</td>\n",
       "      <td>1.00</td>\n",
       "      <td>NaN</td>\n",
       "      <td>0.0</td>\n",
       "      <td>Unkown</td>\n",
       "      <td>31.38</td>\n",
       "    </tr>\n",
       "    <tr>\n",
       "      <th>5</th>\n",
       "      <td>Tetris</td>\n",
       "      <td>GB</td>\n",
       "      <td>1989</td>\n",
       "      <td>Puzzle</td>\n",
       "      <td>23.20</td>\n",
       "      <td>2.26</td>\n",
       "      <td>4.22</td>\n",
       "      <td>0.58</td>\n",
       "      <td>NaN</td>\n",
       "      <td>0.0</td>\n",
       "      <td>Unkown</td>\n",
       "      <td>30.26</td>\n",
       "    </tr>\n",
       "    <tr>\n",
       "      <th>6</th>\n",
       "      <td>New Super Mario Bros.</td>\n",
       "      <td>DS</td>\n",
       "      <td>2006</td>\n",
       "      <td>Platform</td>\n",
       "      <td>11.28</td>\n",
       "      <td>9.14</td>\n",
       "      <td>6.50</td>\n",
       "      <td>2.88</td>\n",
       "      <td>89.0</td>\n",
       "      <td>8.5</td>\n",
       "      <td>E</td>\n",
       "      <td>29.80</td>\n",
       "    </tr>\n",
       "    <tr>\n",
       "      <th>7</th>\n",
       "      <td>Wii Play</td>\n",
       "      <td>Wii</td>\n",
       "      <td>2006</td>\n",
       "      <td>Misc</td>\n",
       "      <td>13.96</td>\n",
       "      <td>9.18</td>\n",
       "      <td>2.93</td>\n",
       "      <td>2.84</td>\n",
       "      <td>58.0</td>\n",
       "      <td>6.6</td>\n",
       "      <td>E</td>\n",
       "      <td>28.91</td>\n",
       "    </tr>\n",
       "    <tr>\n",
       "      <th>8</th>\n",
       "      <td>New Super Mario Bros. Wii</td>\n",
       "      <td>Wii</td>\n",
       "      <td>2009</td>\n",
       "      <td>Platform</td>\n",
       "      <td>14.44</td>\n",
       "      <td>6.94</td>\n",
       "      <td>4.70</td>\n",
       "      <td>2.24</td>\n",
       "      <td>87.0</td>\n",
       "      <td>8.4</td>\n",
       "      <td>E</td>\n",
       "      <td>28.32</td>\n",
       "    </tr>\n",
       "    <tr>\n",
       "      <th>9</th>\n",
       "      <td>Duck Hunt</td>\n",
       "      <td>NES</td>\n",
       "      <td>1984</td>\n",
       "      <td>Shooter</td>\n",
       "      <td>26.93</td>\n",
       "      <td>0.63</td>\n",
       "      <td>0.28</td>\n",
       "      <td>0.47</td>\n",
       "      <td>NaN</td>\n",
       "      <td>0.0</td>\n",
       "      <td>Unkown</td>\n",
       "      <td>28.31</td>\n",
       "    </tr>\n",
       "  </tbody>\n",
       "</table>\n",
       "</div>"
      ],
      "text/plain": [
       "                        name platform  year_of_release         genre  \\\n",
       "0                 Wii Sports      Wii             2006        Sports   \n",
       "1          Super Mario Bros.      NES             1985      Platform   \n",
       "2             Mario Kart Wii      Wii             2008        Racing   \n",
       "3          Wii Sports Resort      Wii             2009        Sports   \n",
       "4   Pokemon Red/Pokemon Blue       GB             1996  Role-Playing   \n",
       "5                     Tetris       GB             1989        Puzzle   \n",
       "6      New Super Mario Bros.       DS             2006      Platform   \n",
       "7                   Wii Play      Wii             2006          Misc   \n",
       "8  New Super Mario Bros. Wii      Wii             2009      Platform   \n",
       "9                  Duck Hunt      NES             1984       Shooter   \n",
       "\n",
       "   na_sales  eu_sales  jp_sales  other_sales  critic_score  user_score  \\\n",
       "0     41.36     28.96      3.77         8.45          76.0         8.0   \n",
       "1     29.08      3.58      6.81         0.77           NaN         0.0   \n",
       "2     15.68     12.76      3.79         3.29          82.0         8.3   \n",
       "3     15.61     10.93      3.28         2.95          80.0         8.0   \n",
       "4     11.27      8.89     10.22         1.00           NaN         0.0   \n",
       "5     23.20      2.26      4.22         0.58           NaN         0.0   \n",
       "6     11.28      9.14      6.50         2.88          89.0         8.5   \n",
       "7     13.96      9.18      2.93         2.84          58.0         6.6   \n",
       "8     14.44      6.94      4.70         2.24          87.0         8.4   \n",
       "9     26.93      0.63      0.28         0.47           NaN         0.0   \n",
       "\n",
       "   rating  total_sales  \n",
       "0       E        82.54  \n",
       "1  Unkown        40.24  \n",
       "2       E        35.52  \n",
       "3       E        32.77  \n",
       "4  Unkown        31.38  \n",
       "5  Unkown        30.26  \n",
       "6       E        29.80  \n",
       "7       E        28.91  \n",
       "8       E        28.32  \n",
       "9  Unkown        28.31  "
      ]
     },
     "metadata": {},
     "output_type": "display_data"
    }
   ],
   "source": [
    "def sales_sum (row):\n",
    "    eu = row['eu_sales']\n",
    "    na = row['na_sales']\n",
    "    jp = row['jp_sales']\n",
    "    other = row['other_sales']\n",
    "    total = eu + na + jp + other\n",
    "    return total \n",
    "\n",
    "data['total_sales'] = data.apply(sales_sum, axis = 1)\n",
    "display(data.head(10))"
   ]
  },
  {
   "cell_type": "markdown",
   "metadata": {},
   "source": [
    "<div class=\"alert alert-block alert-success\">\n",
    " \n",
    "### Комментарий ревьюера\n",
    "    \n",
    "#### Успех\n",
    "    \n",
    "Супер, что сделал автоматизацию. Единственный момент, что ради такого простого действия можно было и не заморачиваться:) \n",
    "</div>"
   ]
  },
  {
   "cell_type": "code",
   "execution_count": 16,
   "metadata": {},
   "outputs": [
    {
     "data": {
      "text/plain": [
       "eu_sales       2400.21\n",
       "jp_sales       1290.67\n",
       "na_sales       4343.20\n",
       "other_sales     782.71\n",
       "dtype: float64"
      ]
     },
     "metadata": {},
     "output_type": "display_data"
    }
   ],
   "source": [
    "data_sum = data.pivot_table(index = 'platform', values = ['na_sales', 'eu_sales', 'jp_sales', 'other_sales'], aggfunc = 'sum')\n",
    "\n",
    "display(data_sum.sum())"
   ]
  },
  {
   "cell_type": "markdown",
   "metadata": {},
   "source": [
    "Вывод:\n",
    "\n",
    "Были отредактированы названия столбцов, а так же измененны их типы для дальнейшего анализа данных. Также были добавленны кумулятивные продажи по регионам."
   ]
  },
  {
   "cell_type": "markdown",
   "metadata": {},
   "source": [
    "<div class=\"alert alert-block alert-success\">\n",
    " \n",
    "### Комментарий ревьюера\n",
    "    \n",
    "#### Успех\n",
    "    \n",
    "Хорошая предобработка у тебя получилась. Все на своих местах и верно подобраны команды для действий.  \n",
    "</div>"
   ]
  },
  {
   "cell_type": "markdown",
   "metadata": {},
   "source": [
    "## Шаг. Исследовательский анализ данных "
   ]
  },
  {
   "cell_type": "code",
   "execution_count": 17,
   "metadata": {},
   "outputs": [
    {
     "data": {
      "text/html": [
       "<div>\n",
       "<style scoped>\n",
       "    .dataframe tbody tr th:only-of-type {\n",
       "        vertical-align: middle;\n",
       "    }\n",
       "\n",
       "    .dataframe tbody tr th {\n",
       "        vertical-align: top;\n",
       "    }\n",
       "\n",
       "    .dataframe thead th {\n",
       "        text-align: right;\n",
       "    }\n",
       "</style>\n",
       "<table border=\"1\" class=\"dataframe\">\n",
       "  <thead>\n",
       "    <tr style=\"text-align: right;\">\n",
       "      <th></th>\n",
       "      <th>amount</th>\n",
       "    </tr>\n",
       "    <tr>\n",
       "      <th>year_of_release</th>\n",
       "      <th></th>\n",
       "    </tr>\n",
       "  </thead>\n",
       "  <tbody>\n",
       "    <tr>\n",
       "      <th>1980</th>\n",
       "      <td>9</td>\n",
       "    </tr>\n",
       "    <tr>\n",
       "      <th>1981</th>\n",
       "      <td>46</td>\n",
       "    </tr>\n",
       "    <tr>\n",
       "      <th>1982</th>\n",
       "      <td>36</td>\n",
       "    </tr>\n",
       "    <tr>\n",
       "      <th>1983</th>\n",
       "      <td>17</td>\n",
       "    </tr>\n",
       "    <tr>\n",
       "      <th>1984</th>\n",
       "      <td>14</td>\n",
       "    </tr>\n",
       "    <tr>\n",
       "      <th>1985</th>\n",
       "      <td>14</td>\n",
       "    </tr>\n",
       "    <tr>\n",
       "      <th>1986</th>\n",
       "      <td>21</td>\n",
       "    </tr>\n",
       "    <tr>\n",
       "      <th>1987</th>\n",
       "      <td>16</td>\n",
       "    </tr>\n",
       "    <tr>\n",
       "      <th>1988</th>\n",
       "      <td>15</td>\n",
       "    </tr>\n",
       "    <tr>\n",
       "      <th>1989</th>\n",
       "      <td>17</td>\n",
       "    </tr>\n",
       "    <tr>\n",
       "      <th>1990</th>\n",
       "      <td>16</td>\n",
       "    </tr>\n",
       "    <tr>\n",
       "      <th>1991</th>\n",
       "      <td>41</td>\n",
       "    </tr>\n",
       "    <tr>\n",
       "      <th>1992</th>\n",
       "      <td>43</td>\n",
       "    </tr>\n",
       "    <tr>\n",
       "      <th>1993</th>\n",
       "      <td>60</td>\n",
       "    </tr>\n",
       "    <tr>\n",
       "      <th>1994</th>\n",
       "      <td>121</td>\n",
       "    </tr>\n",
       "    <tr>\n",
       "      <th>1995</th>\n",
       "      <td>219</td>\n",
       "    </tr>\n",
       "    <tr>\n",
       "      <th>1996</th>\n",
       "      <td>263</td>\n",
       "    </tr>\n",
       "    <tr>\n",
       "      <th>1997</th>\n",
       "      <td>289</td>\n",
       "    </tr>\n",
       "    <tr>\n",
       "      <th>1998</th>\n",
       "      <td>379</td>\n",
       "    </tr>\n",
       "    <tr>\n",
       "      <th>1999</th>\n",
       "      <td>338</td>\n",
       "    </tr>\n",
       "    <tr>\n",
       "      <th>2000</th>\n",
       "      <td>350</td>\n",
       "    </tr>\n",
       "    <tr>\n",
       "      <th>2001</th>\n",
       "      <td>482</td>\n",
       "    </tr>\n",
       "    <tr>\n",
       "      <th>2002</th>\n",
       "      <td>829</td>\n",
       "    </tr>\n",
       "    <tr>\n",
       "      <th>2003</th>\n",
       "      <td>775</td>\n",
       "    </tr>\n",
       "    <tr>\n",
       "      <th>2004</th>\n",
       "      <td>762</td>\n",
       "    </tr>\n",
       "    <tr>\n",
       "      <th>2005</th>\n",
       "      <td>939</td>\n",
       "    </tr>\n",
       "    <tr>\n",
       "      <th>2006</th>\n",
       "      <td>1006</td>\n",
       "    </tr>\n",
       "    <tr>\n",
       "      <th>2007</th>\n",
       "      <td>1197</td>\n",
       "    </tr>\n",
       "    <tr>\n",
       "      <th>2008</th>\n",
       "      <td>1427</td>\n",
       "    </tr>\n",
       "    <tr>\n",
       "      <th>2009</th>\n",
       "      <td>1426</td>\n",
       "    </tr>\n",
       "    <tr>\n",
       "      <th>2010</th>\n",
       "      <td>1255</td>\n",
       "    </tr>\n",
       "    <tr>\n",
       "      <th>2011</th>\n",
       "      <td>1136</td>\n",
       "    </tr>\n",
       "    <tr>\n",
       "      <th>2012</th>\n",
       "      <td>653</td>\n",
       "    </tr>\n",
       "    <tr>\n",
       "      <th>2013</th>\n",
       "      <td>544</td>\n",
       "    </tr>\n",
       "    <tr>\n",
       "      <th>2014</th>\n",
       "      <td>581</td>\n",
       "    </tr>\n",
       "    <tr>\n",
       "      <th>2015</th>\n",
       "      <td>606</td>\n",
       "    </tr>\n",
       "    <tr>\n",
       "      <th>2016</th>\n",
       "      <td>502</td>\n",
       "    </tr>\n",
       "  </tbody>\n",
       "</table>\n",
       "</div>"
      ],
      "text/plain": [
       "                 amount\n",
       "year_of_release        \n",
       "1980                  9\n",
       "1981                 46\n",
       "1982                 36\n",
       "1983                 17\n",
       "1984                 14\n",
       "1985                 14\n",
       "1986                 21\n",
       "1987                 16\n",
       "1988                 15\n",
       "1989                 17\n",
       "1990                 16\n",
       "1991                 41\n",
       "1992                 43\n",
       "1993                 60\n",
       "1994                121\n",
       "1995                219\n",
       "1996                263\n",
       "1997                289\n",
       "1998                379\n",
       "1999                338\n",
       "2000                350\n",
       "2001                482\n",
       "2002                829\n",
       "2003                775\n",
       "2004                762\n",
       "2005                939\n",
       "2006               1006\n",
       "2007               1197\n",
       "2008               1427\n",
       "2009               1426\n",
       "2010               1255\n",
       "2011               1136\n",
       "2012                653\n",
       "2013                544\n",
       "2014                581\n",
       "2015                606\n",
       "2016                502"
      ]
     },
     "execution_count": 17,
     "metadata": {},
     "output_type": "execute_result"
    }
   ],
   "source": [
    "data_year = data.pivot_table(index = 'year_of_release', values = 'name', aggfunc = 'count')\n",
    "data_year.columns  = ['amount']\n",
    "\n",
    "data_year"
   ]
  },
  {
   "cell_type": "code",
   "execution_count": 18,
   "metadata": {},
   "outputs": [],
   "source": [
    "data_year = data_year.query('amount > 400')"
   ]
  },
  {
   "cell_type": "markdown",
   "metadata": {},
   "source": [
    "<div class=\"alert alert-block alert-warning\">\n",
    " \n",
    "### Комментарий ревьюера\n",
    "    \n",
    "#### Совет\n",
    "    \n",
    "Ты верно показал тенденции по продажам игр за каждый год. Сюда бы еще добавить визуализацию в виде графика  \n",
    "</div>"
   ]
  },
  {
   "cell_type": "markdown",
   "metadata": {},
   "source": [
    "Не думаю, что нам нужны данные продаж 90х. Многие платформы устарели и рынок сильно изменился."
   ]
  },
  {
   "cell_type": "code",
   "execution_count": 19,
   "metadata": {},
   "outputs": [
    {
     "data": {
      "text/html": [
       "<div>\n",
       "<style scoped>\n",
       "    .dataframe tbody tr th:only-of-type {\n",
       "        vertical-align: middle;\n",
       "    }\n",
       "\n",
       "    .dataframe tbody tr th {\n",
       "        vertical-align: top;\n",
       "    }\n",
       "\n",
       "    .dataframe thead th {\n",
       "        text-align: right;\n",
       "    }\n",
       "</style>\n",
       "<table border=\"1\" class=\"dataframe\">\n",
       "  <thead>\n",
       "    <tr style=\"text-align: right;\">\n",
       "      <th></th>\n",
       "      <th>total_sales</th>\n",
       "    </tr>\n",
       "    <tr>\n",
       "      <th>platform</th>\n",
       "      <th></th>\n",
       "    </tr>\n",
       "  </thead>\n",
       "  <tbody>\n",
       "    <tr>\n",
       "      <th>PS2</th>\n",
       "      <td>1233.56</td>\n",
       "    </tr>\n",
       "    <tr>\n",
       "      <th>X360</th>\n",
       "      <td>961.24</td>\n",
       "    </tr>\n",
       "    <tr>\n",
       "      <th>PS3</th>\n",
       "      <td>931.34</td>\n",
       "    </tr>\n",
       "    <tr>\n",
       "      <th>Wii</th>\n",
       "      <td>891.18</td>\n",
       "    </tr>\n",
       "    <tr>\n",
       "      <th>DS</th>\n",
       "      <td>802.78</td>\n",
       "    </tr>\n",
       "    <tr>\n",
       "      <th>PS</th>\n",
       "      <td>727.58</td>\n",
       "    </tr>\n",
       "    <tr>\n",
       "      <th>PS4</th>\n",
       "      <td>314.14</td>\n",
       "    </tr>\n",
       "    <tr>\n",
       "      <th>GBA</th>\n",
       "      <td>312.88</td>\n",
       "    </tr>\n",
       "    <tr>\n",
       "      <th>PSP</th>\n",
       "      <td>289.53</td>\n",
       "    </tr>\n",
       "    <tr>\n",
       "      <th>3DS</th>\n",
       "      <td>257.81</td>\n",
       "    </tr>\n",
       "    <tr>\n",
       "      <th>PC</th>\n",
       "      <td>255.76</td>\n",
       "    </tr>\n",
       "    <tr>\n",
       "      <th>GB</th>\n",
       "      <td>254.43</td>\n",
       "    </tr>\n",
       "    <tr>\n",
       "      <th>XB</th>\n",
       "      <td>251.57</td>\n",
       "    </tr>\n",
       "    <tr>\n",
       "      <th>NES</th>\n",
       "      <td>251.05</td>\n",
       "    </tr>\n",
       "    <tr>\n",
       "      <th>N64</th>\n",
       "      <td>218.01</td>\n",
       "    </tr>\n",
       "    <tr>\n",
       "      <th>SNES</th>\n",
       "      <td>200.04</td>\n",
       "    </tr>\n",
       "    <tr>\n",
       "      <th>GC</th>\n",
       "      <td>196.73</td>\n",
       "    </tr>\n",
       "    <tr>\n",
       "      <th>XOne</th>\n",
       "      <td>159.32</td>\n",
       "    </tr>\n",
       "    <tr>\n",
       "      <th>2600</th>\n",
       "      <td>86.48</td>\n",
       "    </tr>\n",
       "    <tr>\n",
       "      <th>WiiU</th>\n",
       "      <td>82.19</td>\n",
       "    </tr>\n",
       "    <tr>\n",
       "      <th>PSV</th>\n",
       "      <td>53.81</td>\n",
       "    </tr>\n",
       "    <tr>\n",
       "      <th>SAT</th>\n",
       "      <td>33.59</td>\n",
       "    </tr>\n",
       "    <tr>\n",
       "      <th>GEN</th>\n",
       "      <td>30.77</td>\n",
       "    </tr>\n",
       "    <tr>\n",
       "      <th>DC</th>\n",
       "      <td>15.95</td>\n",
       "    </tr>\n",
       "    <tr>\n",
       "      <th>SCD</th>\n",
       "      <td>1.86</td>\n",
       "    </tr>\n",
       "    <tr>\n",
       "      <th>NG</th>\n",
       "      <td>1.44</td>\n",
       "    </tr>\n",
       "    <tr>\n",
       "      <th>WS</th>\n",
       "      <td>1.42</td>\n",
       "    </tr>\n",
       "    <tr>\n",
       "      <th>TG16</th>\n",
       "      <td>0.16</td>\n",
       "    </tr>\n",
       "    <tr>\n",
       "      <th>3DO</th>\n",
       "      <td>0.10</td>\n",
       "    </tr>\n",
       "    <tr>\n",
       "      <th>GG</th>\n",
       "      <td>0.04</td>\n",
       "    </tr>\n",
       "    <tr>\n",
       "      <th>PCFX</th>\n",
       "      <td>0.03</td>\n",
       "    </tr>\n",
       "  </tbody>\n",
       "</table>\n",
       "</div>"
      ],
      "text/plain": [
       "          total_sales\n",
       "platform             \n",
       "PS2           1233.56\n",
       "X360           961.24\n",
       "PS3            931.34\n",
       "Wii            891.18\n",
       "DS             802.78\n",
       "PS             727.58\n",
       "PS4            314.14\n",
       "GBA            312.88\n",
       "PSP            289.53\n",
       "3DS            257.81\n",
       "PC             255.76\n",
       "GB             254.43\n",
       "XB             251.57\n",
       "NES            251.05\n",
       "N64            218.01\n",
       "SNES           200.04\n",
       "GC             196.73\n",
       "XOne           159.32\n",
       "2600            86.48\n",
       "WiiU            82.19\n",
       "PSV             53.81\n",
       "SAT             33.59\n",
       "GEN             30.77\n",
       "DC              15.95\n",
       "SCD              1.86\n",
       "NG               1.44\n",
       "WS               1.42\n",
       "TG16             0.16\n",
       "3DO              0.10\n",
       "GG               0.04\n",
       "PCFX             0.03"
      ]
     },
     "execution_count": 19,
     "metadata": {},
     "output_type": "execute_result"
    }
   ],
   "source": [
    "data_platform = data.pivot_table(index = 'platform', values = 'total_sales', aggfunc = 'sum')\n",
    "\n",
    "data_platform.sort_values('total_sales', ascending = False)"
   ]
  },
  {
   "cell_type": "markdown",
   "metadata": {},
   "source": [
    "<div class=\"alert alert-block alert-success\">\n",
    " \n",
    "### Комментарий ревьюера\n",
    "    \n",
    "#### Успех\n",
    "    \n",
    "Топ платформы по продажам тоже определены. Здорово. \n",
    "</div>"
   ]
  },
  {
   "cell_type": "markdown",
   "metadata": {},
   "source": [
    "16й год, а Wii все еще имеет больше продаж! Возьму топ 5 платформ и проанализирую их."
   ]
  },
  {
   "cell_type": "code",
   "execution_count": 20,
   "metadata": {},
   "outputs": [
    {
     "data": {
      "text/html": [
       "<div>\n",
       "<style scoped>\n",
       "    .dataframe tbody tr th:only-of-type {\n",
       "        vertical-align: middle;\n",
       "    }\n",
       "\n",
       "    .dataframe tbody tr th {\n",
       "        vertical-align: top;\n",
       "    }\n",
       "\n",
       "    .dataframe thead th {\n",
       "        text-align: right;\n",
       "    }\n",
       "</style>\n",
       "<table border=\"1\" class=\"dataframe\">\n",
       "  <thead>\n",
       "    <tr style=\"text-align: right;\">\n",
       "      <th></th>\n",
       "      <th>name</th>\n",
       "      <th>platform</th>\n",
       "      <th>year_of_release</th>\n",
       "      <th>genre</th>\n",
       "      <th>na_sales</th>\n",
       "      <th>eu_sales</th>\n",
       "      <th>jp_sales</th>\n",
       "      <th>other_sales</th>\n",
       "      <th>critic_score</th>\n",
       "      <th>user_score</th>\n",
       "      <th>rating</th>\n",
       "      <th>total_sales</th>\n",
       "    </tr>\n",
       "  </thead>\n",
       "  <tbody>\n",
       "    <tr>\n",
       "      <th>0</th>\n",
       "      <td>Wii Sports</td>\n",
       "      <td>Wii</td>\n",
       "      <td>2006</td>\n",
       "      <td>Sports</td>\n",
       "      <td>41.36</td>\n",
       "      <td>28.96</td>\n",
       "      <td>3.77</td>\n",
       "      <td>8.45</td>\n",
       "      <td>76.0</td>\n",
       "      <td>8.0</td>\n",
       "      <td>E</td>\n",
       "      <td>82.54</td>\n",
       "    </tr>\n",
       "    <tr>\n",
       "      <th>2</th>\n",
       "      <td>Mario Kart Wii</td>\n",
       "      <td>Wii</td>\n",
       "      <td>2008</td>\n",
       "      <td>Racing</td>\n",
       "      <td>15.68</td>\n",
       "      <td>12.76</td>\n",
       "      <td>3.79</td>\n",
       "      <td>3.29</td>\n",
       "      <td>82.0</td>\n",
       "      <td>8.3</td>\n",
       "      <td>E</td>\n",
       "      <td>35.52</td>\n",
       "    </tr>\n",
       "    <tr>\n",
       "      <th>3</th>\n",
       "      <td>Wii Sports Resort</td>\n",
       "      <td>Wii</td>\n",
       "      <td>2009</td>\n",
       "      <td>Sports</td>\n",
       "      <td>15.61</td>\n",
       "      <td>10.93</td>\n",
       "      <td>3.28</td>\n",
       "      <td>2.95</td>\n",
       "      <td>80.0</td>\n",
       "      <td>8.0</td>\n",
       "      <td>E</td>\n",
       "      <td>32.77</td>\n",
       "    </tr>\n",
       "    <tr>\n",
       "      <th>6</th>\n",
       "      <td>New Super Mario Bros.</td>\n",
       "      <td>DS</td>\n",
       "      <td>2006</td>\n",
       "      <td>Platform</td>\n",
       "      <td>11.28</td>\n",
       "      <td>9.14</td>\n",
       "      <td>6.50</td>\n",
       "      <td>2.88</td>\n",
       "      <td>89.0</td>\n",
       "      <td>8.5</td>\n",
       "      <td>E</td>\n",
       "      <td>29.80</td>\n",
       "    </tr>\n",
       "    <tr>\n",
       "      <th>7</th>\n",
       "      <td>Wii Play</td>\n",
       "      <td>Wii</td>\n",
       "      <td>2006</td>\n",
       "      <td>Misc</td>\n",
       "      <td>13.96</td>\n",
       "      <td>9.18</td>\n",
       "      <td>2.93</td>\n",
       "      <td>2.84</td>\n",
       "      <td>58.0</td>\n",
       "      <td>6.6</td>\n",
       "      <td>E</td>\n",
       "      <td>28.91</td>\n",
       "    </tr>\n",
       "    <tr>\n",
       "      <th>8</th>\n",
       "      <td>New Super Mario Bros. Wii</td>\n",
       "      <td>Wii</td>\n",
       "      <td>2009</td>\n",
       "      <td>Platform</td>\n",
       "      <td>14.44</td>\n",
       "      <td>6.94</td>\n",
       "      <td>4.70</td>\n",
       "      <td>2.24</td>\n",
       "      <td>87.0</td>\n",
       "      <td>8.4</td>\n",
       "      <td>E</td>\n",
       "      <td>28.32</td>\n",
       "    </tr>\n",
       "    <tr>\n",
       "      <th>10</th>\n",
       "      <td>Nintendogs</td>\n",
       "      <td>DS</td>\n",
       "      <td>2005</td>\n",
       "      <td>Simulation</td>\n",
       "      <td>9.05</td>\n",
       "      <td>10.95</td>\n",
       "      <td>1.93</td>\n",
       "      <td>2.74</td>\n",
       "      <td>NaN</td>\n",
       "      <td>0.0</td>\n",
       "      <td>Unkown</td>\n",
       "      <td>24.67</td>\n",
       "    </tr>\n",
       "    <tr>\n",
       "      <th>11</th>\n",
       "      <td>Mario Kart DS</td>\n",
       "      <td>DS</td>\n",
       "      <td>2005</td>\n",
       "      <td>Racing</td>\n",
       "      <td>9.71</td>\n",
       "      <td>7.47</td>\n",
       "      <td>4.13</td>\n",
       "      <td>1.90</td>\n",
       "      <td>91.0</td>\n",
       "      <td>8.6</td>\n",
       "      <td>E</td>\n",
       "      <td>23.21</td>\n",
       "    </tr>\n",
       "    <tr>\n",
       "      <th>13</th>\n",
       "      <td>Wii Fit</td>\n",
       "      <td>Wii</td>\n",
       "      <td>2007</td>\n",
       "      <td>Sports</td>\n",
       "      <td>8.92</td>\n",
       "      <td>8.03</td>\n",
       "      <td>3.60</td>\n",
       "      <td>2.15</td>\n",
       "      <td>80.0</td>\n",
       "      <td>7.7</td>\n",
       "      <td>E</td>\n",
       "      <td>22.70</td>\n",
       "    </tr>\n",
       "    <tr>\n",
       "      <th>14</th>\n",
       "      <td>Kinect Adventures!</td>\n",
       "      <td>X360</td>\n",
       "      <td>2010</td>\n",
       "      <td>Misc</td>\n",
       "      <td>15.00</td>\n",
       "      <td>4.89</td>\n",
       "      <td>0.24</td>\n",
       "      <td>1.69</td>\n",
       "      <td>61.0</td>\n",
       "      <td>6.3</td>\n",
       "      <td>E</td>\n",
       "      <td>21.82</td>\n",
       "    </tr>\n",
       "  </tbody>\n",
       "</table>\n",
       "</div>"
      ],
      "text/plain": [
       "                         name platform  year_of_release       genre  na_sales  \\\n",
       "0                  Wii Sports      Wii             2006      Sports     41.36   \n",
       "2              Mario Kart Wii      Wii             2008      Racing     15.68   \n",
       "3           Wii Sports Resort      Wii             2009      Sports     15.61   \n",
       "6       New Super Mario Bros.       DS             2006    Platform     11.28   \n",
       "7                    Wii Play      Wii             2006        Misc     13.96   \n",
       "8   New Super Mario Bros. Wii      Wii             2009    Platform     14.44   \n",
       "10                 Nintendogs       DS             2005  Simulation      9.05   \n",
       "11              Mario Kart DS       DS             2005      Racing      9.71   \n",
       "13                    Wii Fit      Wii             2007      Sports      8.92   \n",
       "14         Kinect Adventures!     X360             2010        Misc     15.00   \n",
       "\n",
       "    eu_sales  jp_sales  other_sales  critic_score  user_score  rating  \\\n",
       "0      28.96      3.77         8.45          76.0         8.0       E   \n",
       "2      12.76      3.79         3.29          82.0         8.3       E   \n",
       "3      10.93      3.28         2.95          80.0         8.0       E   \n",
       "6       9.14      6.50         2.88          89.0         8.5       E   \n",
       "7       9.18      2.93         2.84          58.0         6.6       E   \n",
       "8       6.94      4.70         2.24          87.0         8.4       E   \n",
       "10     10.95      1.93         2.74           NaN         0.0  Unkown   \n",
       "11      7.47      4.13         1.90          91.0         8.6       E   \n",
       "13      8.03      3.60         2.15          80.0         7.7       E   \n",
       "14      4.89      0.24         1.69          61.0         6.3       E   \n",
       "\n",
       "    total_sales  \n",
       "0         82.54  \n",
       "2         35.52  \n",
       "3         32.77  \n",
       "6         29.80  \n",
       "7         28.91  \n",
       "8         28.32  \n",
       "10        24.67  \n",
       "11        23.21  \n",
       "13        22.70  \n",
       "14        21.82  "
      ]
     },
     "execution_count": 20,
     "metadata": {},
     "output_type": "execute_result"
    }
   ],
   "source": [
    "data_platform = data_platform.query('total_sales > 250')\n",
    "data_top_plat = data.query('platform in @data_platform.index')\n",
    "data_top_plat = data.query('year_of_release in @data_year.index')\n",
    "\n",
    "data_top_plat.head(10)"
   ]
  },
  {
   "cell_type": "code",
   "execution_count": 21,
   "metadata": {},
   "outputs": [],
   "source": [
    "wii = data_top_plat.query('platform == \"Wii\"').pivot_table(index = 'year_of_release', values = 'total_sales', aggfunc = 'sum')\n",
    "ps2 = data_top_plat.query('platform == \"PS2\"').pivot_table(index  = 'year_of_release', values = 'total_sales', aggfunc = 'sum')\n",
    "x360 = data_top_plat.query('platform == \"X360\"').pivot_table(index  = 'year_of_release', values = 'total_sales', aggfunc = 'sum')\n",
    "ds = data_top_plat.query('platform == \"DS\"').pivot_table(index  = 'year_of_release', values = 'total_sales', aggfunc = 'sum')\n",
    "ps3 = data_top_plat.query('platform == \"PS3\"').pivot_table(index  = 'year_of_release', values = 'total_sales', aggfunc = 'sum')"
   ]
  },
  {
   "cell_type": "code",
   "execution_count": 22,
   "metadata": {},
   "outputs": [
    {
     "data": {
      "text/plain": [
       "<matplotlib.legend.Legend at 0x7f04e1dc4400>"
      ]
     },
     "execution_count": 22,
     "metadata": {},
     "output_type": "execute_result"
    },
    {
     "data": {
      "image/png": "[encoded data removed]",
      "text/plain": [
       "<Figure size 432x288 with 1 Axes>"
      ]
     },
     "metadata": {
      "needs_background": "light"
     },
     "output_type": "display_data"
    }
   ],
   "source": [
    "plt.plot(wii, color = 'tomato')\n",
    "plt.plot(ps2, color = 'blue')\n",
    "plt.plot(x360, color = 'forestgreen')\n",
    "plt.plot(ps3, color = 'navy')\n",
    "plt.plot(ds, color = 'goldenrod')\n",
    "\n",
    "plt.title('sales_of_gaming_platforms')\n",
    "\n",
    "plt.legend(['Wii', 'PS2', 'X360', 'PS3', 'DS'])"
   ]
  },
  {
   "cell_type": "markdown",
   "metadata": {},
   "source": [
    "<div class=\"alert alert-block alert-success\">\n",
    " \n",
    "### Комментарий ревьюера\n",
    "    \n",
    "#### Успех\n",
    "    \n",
    "Теперь вы видим, как вели они себя за послледние несколько лет.  \n",
    "</div>"
   ]
  },
  {
   "cell_type": "markdown",
   "metadata": {},
   "source": [
    "Приставки, в основном, держутся 10 лет в продаже. Видно, что с новым поколением продаж все меньше. Необходимо посмотреть как дела обстоят с самыми новыми консолями."
   ]
  },
  {
   "cell_type": "code",
   "execution_count": 23,
   "metadata": {},
   "outputs": [],
   "source": [
    "ps4 = data.query('platform == \"PS4\"').pivot_table(index = 'year_of_release', values = 'total_sales', aggfunc = 'sum')\n",
    "xb = data.query('platform == \"XB\"').pivot_table(index = 'year_of_release', values = 'total_sales', aggfunc = 'sum')\n",
    "xone = data.query('platform == \"XOne\"').pivot_table(index = 'year_of_release', values = 'total_sales', aggfunc = 'sum')"
   ]
  },
  {
   "cell_type": "code",
   "execution_count": 24,
   "metadata": {},
   "outputs": [
    {
     "data": {
      "text/plain": [
       "<matplotlib.legend.Legend at 0x7f04e1d5aac0>"
      ]
     },
     "execution_count": 24,
     "metadata": {},
     "output_type": "execute_result"
    },
    {
     "data": {
      "image/png": "[encoded data removed]",
      "text/plain": [
       "<Figure size 432x288 with 1 Axes>"
      ]
     },
     "metadata": {
      "needs_background": "light"
     },
     "output_type": "display_data"
    }
   ],
   "source": [
    "plt.plot(ps2, color = 'blue')\n",
    "plt.plot(ps3)\n",
    "plt.plot(ps4, color = 'darkblue')\n",
    "plt.plot(xb, color = 'lime')\n",
    "plt.plot(x360, color = 'green')\n",
    "plt.plot(xone, color = 'darkolivegreen')\n",
    "\n",
    "plt.title('sales_of_gaming_platforms')\n",
    "\n",
    "plt.legend(['PS2', 'PS3', 'PS4', 'XB', 'X360', 'XONE'])"
   ]
  },
  {
   "cell_type": "markdown",
   "metadata": {},
   "source": [
    "<div class=\"alert alert-block alert-warning\">\n",
    " \n",
    "### Комментарий ревьюера\n",
    "    \n",
    "#### Совет\n",
    "    \n",
    "Тоже достаточно хороший график. Рекомендую делать масштаб чуть крупнее.\n",
    "</div>"
   ]
  },
  {
   "cell_type": "markdown",
   "metadata": {},
   "source": [
    "До этого консоли держались около 10 лет, за исключкнием XB. Продажи игр все падают и их еще меньше на новых консолях (и это понятно, ибо с каждым поколением цены на консоли растут, а средний доход людей не учеличивается). Новые консоли вышли в 2013 году и уже через 3 года намечается низкое падение до уровня тех продаж, когда уже поступали в продажу новые платформы (10-20 мил.). Видно, что в этот раз продолжительность нового поколения будет точно меньше предыдущего. Не хотелось бы менять их каждый год как ипфон).\n",
    "\n",
    "Считаю, что актуальный период начался с выпуском в продажу новых консолей (PS4 & Xone)."
   ]
  },
  {
   "cell_type": "code",
   "execution_count": 25,
   "metadata": {},
   "outputs": [
    {
     "data": {
      "text/html": [
       "<div>\n",
       "<style scoped>\n",
       "    .dataframe tbody tr th:only-of-type {\n",
       "        vertical-align: middle;\n",
       "    }\n",
       "\n",
       "    .dataframe tbody tr th {\n",
       "        vertical-align: top;\n",
       "    }\n",
       "\n",
       "    .dataframe thead th {\n",
       "        text-align: right;\n",
       "    }\n",
       "</style>\n",
       "<table border=\"1\" class=\"dataframe\">\n",
       "  <thead>\n",
       "    <tr style=\"text-align: right;\">\n",
       "      <th></th>\n",
       "      <th>name</th>\n",
       "      <th>platform</th>\n",
       "      <th>year_of_release</th>\n",
       "      <th>genre</th>\n",
       "      <th>na_sales</th>\n",
       "      <th>eu_sales</th>\n",
       "      <th>jp_sales</th>\n",
       "      <th>other_sales</th>\n",
       "      <th>critic_score</th>\n",
       "      <th>user_score</th>\n",
       "      <th>rating</th>\n",
       "      <th>total_sales</th>\n",
       "    </tr>\n",
       "  </thead>\n",
       "  <tbody>\n",
       "    <tr>\n",
       "      <th>16</th>\n",
       "      <td>Grand Theft Auto V</td>\n",
       "      <td>PS3</td>\n",
       "      <td>2013</td>\n",
       "      <td>Action</td>\n",
       "      <td>7.02</td>\n",
       "      <td>9.09</td>\n",
       "      <td>0.98</td>\n",
       "      <td>3.96</td>\n",
       "      <td>97.0</td>\n",
       "      <td>8.2</td>\n",
       "      <td>M</td>\n",
       "      <td>21.05</td>\n",
       "    </tr>\n",
       "    <tr>\n",
       "      <th>23</th>\n",
       "      <td>Grand Theft Auto V</td>\n",
       "      <td>X360</td>\n",
       "      <td>2013</td>\n",
       "      <td>Action</td>\n",
       "      <td>9.66</td>\n",
       "      <td>5.14</td>\n",
       "      <td>0.06</td>\n",
       "      <td>1.41</td>\n",
       "      <td>97.0</td>\n",
       "      <td>8.1</td>\n",
       "      <td>M</td>\n",
       "      <td>16.27</td>\n",
       "    </tr>\n",
       "    <tr>\n",
       "      <th>31</th>\n",
       "      <td>Call of Duty: Black Ops 3</td>\n",
       "      <td>PS4</td>\n",
       "      <td>2015</td>\n",
       "      <td>Shooter</td>\n",
       "      <td>6.03</td>\n",
       "      <td>5.86</td>\n",
       "      <td>0.36</td>\n",
       "      <td>2.38</td>\n",
       "      <td>NaN</td>\n",
       "      <td>0.0</td>\n",
       "      <td>Unkown</td>\n",
       "      <td>14.63</td>\n",
       "    </tr>\n",
       "    <tr>\n",
       "      <th>33</th>\n",
       "      <td>Pokemon X/Pokemon Y</td>\n",
       "      <td>3DS</td>\n",
       "      <td>2013</td>\n",
       "      <td>Role-Playing</td>\n",
       "      <td>5.28</td>\n",
       "      <td>4.19</td>\n",
       "      <td>4.35</td>\n",
       "      <td>0.78</td>\n",
       "      <td>NaN</td>\n",
       "      <td>0.0</td>\n",
       "      <td>Unkown</td>\n",
       "      <td>14.60</td>\n",
       "    </tr>\n",
       "    <tr>\n",
       "      <th>42</th>\n",
       "      <td>Grand Theft Auto V</td>\n",
       "      <td>PS4</td>\n",
       "      <td>2014</td>\n",
       "      <td>Action</td>\n",
       "      <td>3.96</td>\n",
       "      <td>6.31</td>\n",
       "      <td>0.38</td>\n",
       "      <td>1.97</td>\n",
       "      <td>97.0</td>\n",
       "      <td>8.3</td>\n",
       "      <td>M</td>\n",
       "      <td>12.62</td>\n",
       "    </tr>\n",
       "    <tr>\n",
       "      <th>...</th>\n",
       "      <td>...</td>\n",
       "      <td>...</td>\n",
       "      <td>...</td>\n",
       "      <td>...</td>\n",
       "      <td>...</td>\n",
       "      <td>...</td>\n",
       "      <td>...</td>\n",
       "      <td>...</td>\n",
       "      <td>...</td>\n",
       "      <td>...</td>\n",
       "      <td>...</td>\n",
       "      <td>...</td>\n",
       "    </tr>\n",
       "    <tr>\n",
       "      <th>16703</th>\n",
       "      <td>Strawberry Nauts</td>\n",
       "      <td>PSV</td>\n",
       "      <td>2016</td>\n",
       "      <td>Adventure</td>\n",
       "      <td>0.00</td>\n",
       "      <td>0.00</td>\n",
       "      <td>0.01</td>\n",
       "      <td>0.00</td>\n",
       "      <td>NaN</td>\n",
       "      <td>0.0</td>\n",
       "      <td>Unkown</td>\n",
       "      <td>0.01</td>\n",
       "    </tr>\n",
       "    <tr>\n",
       "      <th>16707</th>\n",
       "      <td>Aiyoku no Eustia</td>\n",
       "      <td>PSV</td>\n",
       "      <td>2014</td>\n",
       "      <td>Misc</td>\n",
       "      <td>0.00</td>\n",
       "      <td>0.00</td>\n",
       "      <td>0.01</td>\n",
       "      <td>0.00</td>\n",
       "      <td>NaN</td>\n",
       "      <td>0.0</td>\n",
       "      <td>Unkown</td>\n",
       "      <td>0.01</td>\n",
       "    </tr>\n",
       "    <tr>\n",
       "      <th>16710</th>\n",
       "      <td>Samurai Warriors: Sanada Maru</td>\n",
       "      <td>PS3</td>\n",
       "      <td>2016</td>\n",
       "      <td>Action</td>\n",
       "      <td>0.00</td>\n",
       "      <td>0.00</td>\n",
       "      <td>0.01</td>\n",
       "      <td>0.00</td>\n",
       "      <td>NaN</td>\n",
       "      <td>0.0</td>\n",
       "      <td>Unkown</td>\n",
       "      <td>0.01</td>\n",
       "    </tr>\n",
       "    <tr>\n",
       "      <th>16712</th>\n",
       "      <td>Haitaka no Psychedelica</td>\n",
       "      <td>PSV</td>\n",
       "      <td>2016</td>\n",
       "      <td>Adventure</td>\n",
       "      <td>0.00</td>\n",
       "      <td>0.00</td>\n",
       "      <td>0.01</td>\n",
       "      <td>0.00</td>\n",
       "      <td>NaN</td>\n",
       "      <td>0.0</td>\n",
       "      <td>Unkown</td>\n",
       "      <td>0.01</td>\n",
       "    </tr>\n",
       "    <tr>\n",
       "      <th>16714</th>\n",
       "      <td>Winning Post 8 2016</td>\n",
       "      <td>PSV</td>\n",
       "      <td>2016</td>\n",
       "      <td>Simulation</td>\n",
       "      <td>0.00</td>\n",
       "      <td>0.00</td>\n",
       "      <td>0.01</td>\n",
       "      <td>0.00</td>\n",
       "      <td>NaN</td>\n",
       "      <td>0.0</td>\n",
       "      <td>Unkown</td>\n",
       "      <td>0.01</td>\n",
       "    </tr>\n",
       "  </tbody>\n",
       "</table>\n",
       "<p>2233 rows × 12 columns</p>\n",
       "</div>"
      ],
      "text/plain": [
       "                                name platform  year_of_release         genre  \\\n",
       "16                Grand Theft Auto V      PS3             2013        Action   \n",
       "23                Grand Theft Auto V     X360             2013        Action   \n",
       "31         Call of Duty: Black Ops 3      PS4             2015       Shooter   \n",
       "33               Pokemon X/Pokemon Y      3DS             2013  Role-Playing   \n",
       "42                Grand Theft Auto V      PS4             2014        Action   \n",
       "...                              ...      ...              ...           ...   \n",
       "16703               Strawberry Nauts      PSV             2016     Adventure   \n",
       "16707               Aiyoku no Eustia      PSV             2014          Misc   \n",
       "16710  Samurai Warriors: Sanada Maru      PS3             2016        Action   \n",
       "16712        Haitaka no Psychedelica      PSV             2016     Adventure   \n",
       "16714            Winning Post 8 2016      PSV             2016    Simulation   \n",
       "\n",
       "       na_sales  eu_sales  jp_sales  other_sales  critic_score  user_score  \\\n",
       "16         7.02      9.09      0.98         3.96          97.0         8.2   \n",
       "23         9.66      5.14      0.06         1.41          97.0         8.1   \n",
       "31         6.03      5.86      0.36         2.38           NaN         0.0   \n",
       "33         5.28      4.19      4.35         0.78           NaN         0.0   \n",
       "42         3.96      6.31      0.38         1.97          97.0         8.3   \n",
       "...         ...       ...       ...          ...           ...         ...   \n",
       "16703      0.00      0.00      0.01         0.00           NaN         0.0   \n",
       "16707      0.00      0.00      0.01         0.00           NaN         0.0   \n",
       "16710      0.00      0.00      0.01         0.00           NaN         0.0   \n",
       "16712      0.00      0.00      0.01         0.00           NaN         0.0   \n",
       "16714      0.00      0.00      0.01         0.00           NaN         0.0   \n",
       "\n",
       "       rating  total_sales  \n",
       "16          M        21.05  \n",
       "23          M        16.27  \n",
       "31     Unkown        14.63  \n",
       "33     Unkown        14.60  \n",
       "42          M        12.62  \n",
       "...       ...          ...  \n",
       "16703  Unkown         0.01  \n",
       "16707  Unkown         0.01  \n",
       "16710  Unkown         0.01  \n",
       "16712  Unkown         0.01  \n",
       "16714  Unkown         0.01  \n",
       "\n",
       "[2233 rows x 12 columns]"
      ]
     },
     "execution_count": 25,
     "metadata": {},
     "output_type": "execute_result"
    }
   ],
   "source": [
    "data_13_16 = data.query('year_of_release > 2012')\n",
    "\n",
    "data_13_16"
   ]
  },
  {
   "cell_type": "markdown",
   "metadata": {},
   "source": [
    "<div class=\"alert alert-block alert-warning\">\n",
    " \n",
    "### Комментарий ревьюера\n",
    "    \n",
    "#### Совет\n",
    "    \n",
    "Для целей прогнозирования продаж на следующий год даже в традиционных бизнесах редко берут данные более чем за 2-3 года. А в такой динамично меняющейся индустрии, как компьютерные игры и вовсе не стоит брать слишком большой временной интервал - иначе обязательно захватишь уже отжившие тренды. Но и слишком короткий период тоже брать не стоит..  \n",
    "</div>"
   ]
  },
  {
   "cell_type": "code",
   "execution_count": 26,
   "metadata": {},
   "outputs": [
    {
     "data": {
      "text/html": [
       "<div>\n",
       "<style scoped>\n",
       "    .dataframe tbody tr th:only-of-type {\n",
       "        vertical-align: middle;\n",
       "    }\n",
       "\n",
       "    .dataframe tbody tr th {\n",
       "        vertical-align: top;\n",
       "    }\n",
       "\n",
       "    .dataframe thead th {\n",
       "        text-align: right;\n",
       "    }\n",
       "</style>\n",
       "<table border=\"1\" class=\"dataframe\">\n",
       "  <thead>\n",
       "    <tr style=\"text-align: right;\">\n",
       "      <th></th>\n",
       "      <th></th>\n",
       "      <th>total_sales</th>\n",
       "    </tr>\n",
       "    <tr>\n",
       "      <th>platform</th>\n",
       "      <th>year_of_release</th>\n",
       "      <th></th>\n",
       "    </tr>\n",
       "  </thead>\n",
       "  <tbody>\n",
       "    <tr>\n",
       "      <th rowspan=\"4\" valign=\"top\">3DS</th>\n",
       "      <th>2013</th>\n",
       "      <td>56.57</td>\n",
       "    </tr>\n",
       "    <tr>\n",
       "      <th>2014</th>\n",
       "      <td>43.76</td>\n",
       "    </tr>\n",
       "    <tr>\n",
       "      <th>2015</th>\n",
       "      <td>27.78</td>\n",
       "    </tr>\n",
       "    <tr>\n",
       "      <th>2016</th>\n",
       "      <td>15.14</td>\n",
       "    </tr>\n",
       "    <tr>\n",
       "      <th>DS</th>\n",
       "      <th>2013</th>\n",
       "      <td>1.54</td>\n",
       "    </tr>\n",
       "    <tr>\n",
       "      <th rowspan=\"4\" valign=\"top\">PC</th>\n",
       "      <th>2013</th>\n",
       "      <td>12.38</td>\n",
       "    </tr>\n",
       "    <tr>\n",
       "      <th>2014</th>\n",
       "      <td>13.28</td>\n",
       "    </tr>\n",
       "    <tr>\n",
       "      <th>2015</th>\n",
       "      <td>8.52</td>\n",
       "    </tr>\n",
       "    <tr>\n",
       "      <th>2016</th>\n",
       "      <td>5.25</td>\n",
       "    </tr>\n",
       "    <tr>\n",
       "      <th rowspan=\"4\" valign=\"top\">PS3</th>\n",
       "      <th>2013</th>\n",
       "      <td>113.25</td>\n",
       "    </tr>\n",
       "    <tr>\n",
       "      <th>2014</th>\n",
       "      <td>47.76</td>\n",
       "    </tr>\n",
       "    <tr>\n",
       "      <th>2015</th>\n",
       "      <td>16.82</td>\n",
       "    </tr>\n",
       "    <tr>\n",
       "      <th>2016</th>\n",
       "      <td>3.60</td>\n",
       "    </tr>\n",
       "    <tr>\n",
       "      <th rowspan=\"4\" valign=\"top\">PS4</th>\n",
       "      <th>2013</th>\n",
       "      <td>25.99</td>\n",
       "    </tr>\n",
       "    <tr>\n",
       "      <th>2014</th>\n",
       "      <td>100.00</td>\n",
       "    </tr>\n",
       "    <tr>\n",
       "      <th>2015</th>\n",
       "      <td>118.90</td>\n",
       "    </tr>\n",
       "    <tr>\n",
       "      <th>2016</th>\n",
       "      <td>69.25</td>\n",
       "    </tr>\n",
       "    <tr>\n",
       "      <th rowspan=\"3\" valign=\"top\">PSP</th>\n",
       "      <th>2013</th>\n",
       "      <td>3.14</td>\n",
       "    </tr>\n",
       "    <tr>\n",
       "      <th>2014</th>\n",
       "      <td>0.24</td>\n",
       "    </tr>\n",
       "    <tr>\n",
       "      <th>2015</th>\n",
       "      <td>0.12</td>\n",
       "    </tr>\n",
       "    <tr>\n",
       "      <th rowspan=\"4\" valign=\"top\">PSV</th>\n",
       "      <th>2013</th>\n",
       "      <td>10.59</td>\n",
       "    </tr>\n",
       "    <tr>\n",
       "      <th>2014</th>\n",
       "      <td>11.90</td>\n",
       "    </tr>\n",
       "    <tr>\n",
       "      <th>2015</th>\n",
       "      <td>6.25</td>\n",
       "    </tr>\n",
       "    <tr>\n",
       "      <th>2016</th>\n",
       "      <td>4.25</td>\n",
       "    </tr>\n",
       "    <tr>\n",
       "      <th rowspan=\"4\" valign=\"top\">Wii</th>\n",
       "      <th>2013</th>\n",
       "      <td>8.59</td>\n",
       "    </tr>\n",
       "    <tr>\n",
       "      <th>2014</th>\n",
       "      <td>3.75</td>\n",
       "    </tr>\n",
       "    <tr>\n",
       "      <th>2015</th>\n",
       "      <td>1.14</td>\n",
       "    </tr>\n",
       "    <tr>\n",
       "      <th>2016</th>\n",
       "      <td>0.18</td>\n",
       "    </tr>\n",
       "    <tr>\n",
       "      <th rowspan=\"4\" valign=\"top\">WiiU</th>\n",
       "      <th>2013</th>\n",
       "      <td>21.65</td>\n",
       "    </tr>\n",
       "    <tr>\n",
       "      <th>2014</th>\n",
       "      <td>22.03</td>\n",
       "    </tr>\n",
       "    <tr>\n",
       "      <th>2015</th>\n",
       "      <td>16.35</td>\n",
       "    </tr>\n",
       "    <tr>\n",
       "      <th>2016</th>\n",
       "      <td>4.60</td>\n",
       "    </tr>\n",
       "    <tr>\n",
       "      <th rowspan=\"4\" valign=\"top\">X360</th>\n",
       "      <th>2013</th>\n",
       "      <td>88.58</td>\n",
       "    </tr>\n",
       "    <tr>\n",
       "      <th>2014</th>\n",
       "      <td>34.74</td>\n",
       "    </tr>\n",
       "    <tr>\n",
       "      <th>2015</th>\n",
       "      <td>11.96</td>\n",
       "    </tr>\n",
       "    <tr>\n",
       "      <th>2016</th>\n",
       "      <td>1.52</td>\n",
       "    </tr>\n",
       "    <tr>\n",
       "      <th rowspan=\"4\" valign=\"top\">XOne</th>\n",
       "      <th>2013</th>\n",
       "      <td>18.96</td>\n",
       "    </tr>\n",
       "    <tr>\n",
       "      <th>2014</th>\n",
       "      <td>54.07</td>\n",
       "    </tr>\n",
       "    <tr>\n",
       "      <th>2015</th>\n",
       "      <td>60.14</td>\n",
       "    </tr>\n",
       "    <tr>\n",
       "      <th>2016</th>\n",
       "      <td>26.15</td>\n",
       "    </tr>\n",
       "  </tbody>\n",
       "</table>\n",
       "</div>"
      ],
      "text/plain": [
       "                          total_sales\n",
       "platform year_of_release             \n",
       "3DS      2013                   56.57\n",
       "         2014                   43.76\n",
       "         2015                   27.78\n",
       "         2016                   15.14\n",
       "DS       2013                    1.54\n",
       "PC       2013                   12.38\n",
       "         2014                   13.28\n",
       "         2015                    8.52\n",
       "         2016                    5.25\n",
       "PS3      2013                  113.25\n",
       "         2014                   47.76\n",
       "         2015                   16.82\n",
       "         2016                    3.60\n",
       "PS4      2013                   25.99\n",
       "         2014                  100.00\n",
       "         2015                  118.90\n",
       "         2016                   69.25\n",
       "PSP      2013                    3.14\n",
       "         2014                    0.24\n",
       "         2015                    0.12\n",
       "PSV      2013                   10.59\n",
       "         2014                   11.90\n",
       "         2015                    6.25\n",
       "         2016                    4.25\n",
       "Wii      2013                    8.59\n",
       "         2014                    3.75\n",
       "         2015                    1.14\n",
       "         2016                    0.18\n",
       "WiiU     2013                   21.65\n",
       "         2014                   22.03\n",
       "         2015                   16.35\n",
       "         2016                    4.60\n",
       "X360     2013                   88.58\n",
       "         2014                   34.74\n",
       "         2015                   11.96\n",
       "         2016                    1.52\n",
       "XOne     2013                   18.96\n",
       "         2014                   54.07\n",
       "         2015                   60.14\n",
       "         2016                   26.15"
      ]
     },
     "execution_count": 26,
     "metadata": {},
     "output_type": "execute_result"
    }
   ],
   "source": [
    "data_13_16.groupby(['platform', 'year_of_release']).agg({'total_sales' : 'sum'})"
   ]
  },
  {
   "cell_type": "markdown",
   "metadata": {},
   "source": [
    "<div class=\"alert alert-block alert-success\">\n",
    " \n",
    "### Комментарий ревьюера\n",
    "    \n",
    "#### Успех\n",
    "    \n",
    "Достаточно хорошо показал данные по плататформам за актуальный период.  \n",
    "</div>"
   ]
  },
  {
   "cell_type": "code",
   "execution_count": 27,
   "metadata": {},
   "outputs": [
    {
     "data": {
      "text/html": [
       "<div>\n",
       "<style scoped>\n",
       "    .dataframe tbody tr th:only-of-type {\n",
       "        vertical-align: middle;\n",
       "    }\n",
       "\n",
       "    .dataframe tbody tr th {\n",
       "        vertical-align: top;\n",
       "    }\n",
       "\n",
       "    .dataframe thead th {\n",
       "        text-align: right;\n",
       "    }\n",
       "</style>\n",
       "<table border=\"1\" class=\"dataframe\">\n",
       "  <thead>\n",
       "    <tr style=\"text-align: right;\">\n",
       "      <th></th>\n",
       "      <th>total_sales</th>\n",
       "    </tr>\n",
       "    <tr>\n",
       "      <th>platform</th>\n",
       "      <th></th>\n",
       "    </tr>\n",
       "  </thead>\n",
       "  <tbody>\n",
       "    <tr>\n",
       "      <th>PS4</th>\n",
       "      <td>314.14</td>\n",
       "    </tr>\n",
       "    <tr>\n",
       "      <th>PS3</th>\n",
       "      <td>181.43</td>\n",
       "    </tr>\n",
       "    <tr>\n",
       "      <th>XOne</th>\n",
       "      <td>159.32</td>\n",
       "    </tr>\n",
       "    <tr>\n",
       "      <th>3DS</th>\n",
       "      <td>143.25</td>\n",
       "    </tr>\n",
       "    <tr>\n",
       "      <th>X360</th>\n",
       "      <td>136.80</td>\n",
       "    </tr>\n",
       "    <tr>\n",
       "      <th>WiiU</th>\n",
       "      <td>64.63</td>\n",
       "    </tr>\n",
       "    <tr>\n",
       "      <th>PC</th>\n",
       "      <td>39.43</td>\n",
       "    </tr>\n",
       "    <tr>\n",
       "      <th>PSV</th>\n",
       "      <td>32.99</td>\n",
       "    </tr>\n",
       "    <tr>\n",
       "      <th>Wii</th>\n",
       "      <td>13.66</td>\n",
       "    </tr>\n",
       "    <tr>\n",
       "      <th>PSP</th>\n",
       "      <td>3.50</td>\n",
       "    </tr>\n",
       "    <tr>\n",
       "      <th>DS</th>\n",
       "      <td>1.54</td>\n",
       "    </tr>\n",
       "  </tbody>\n",
       "</table>\n",
       "</div>"
      ],
      "text/plain": [
       "          total_sales\n",
       "platform             \n",
       "PS4            314.14\n",
       "PS3            181.43\n",
       "XOne           159.32\n",
       "3DS            143.25\n",
       "X360           136.80\n",
       "WiiU            64.63\n",
       "PC              39.43\n",
       "PSV             32.99\n",
       "Wii             13.66\n",
       "PSP              3.50\n",
       "DS               1.54"
      ]
     },
     "metadata": {},
     "output_type": "display_data"
    }
   ],
   "source": [
    "top_data_13_16 = data_13_16.pivot_table(index = 'platform', values = 'total_sales', aggfunc = 'sum')\n",
    "\n",
    "display(top_data_13_16.sort_values('total_sales', ascending = False))"
   ]
  },
  {
   "cell_type": "markdown",
   "metadata": {},
   "source": [
    "<div class=\"alert alert-block alert-success\">\n",
    " \n",
    "### Комментарий ревьюера\n",
    "    \n",
    "#### Успех\n",
    "    \n",
    "А вот здесь уже и список Топ-платформ определен. \n",
    "</div>"
   ]
  },
  {
   "cell_type": "code",
   "execution_count": 28,
   "metadata": {},
   "outputs": [
    {
     "data": {
      "text/plain": [
       "<AxesSubplot:xlabel='platform'>"
      ]
     },
     "execution_count": 28,
     "metadata": {},
     "output_type": "execute_result"
    },
    {
     "data": {
      "image/png": "[encoded data removed]",
      "text/plain": [
       "<Figure size 432x288 with 1 Axes>"
      ]
     },
     "metadata": {
      "needs_background": "light"
     },
     "output_type": "display_data"
    }
   ],
   "source": [
    "top_data_13_16.plot(color = 'purple')"
   ]
  },
  {
   "cell_type": "markdown",
   "metadata": {},
   "source": [
    "PS4 на коне! В top5 входят еще платформы прошлого поколения, но это ненадолго, так как их продажи игр стремительно падают. А если смотреть на картину в общем, то за 2016 сбавили все.\n",
    "\n",
    "Оставляем первую пятерку"
   ]
  },
  {
   "cell_type": "code",
   "execution_count": 29,
   "metadata": {},
   "outputs": [
    {
     "data": {
      "text/html": [
       "<div>\n",
       "<style scoped>\n",
       "    .dataframe tbody tr th:only-of-type {\n",
       "        vertical-align: middle;\n",
       "    }\n",
       "\n",
       "    .dataframe tbody tr th {\n",
       "        vertical-align: top;\n",
       "    }\n",
       "\n",
       "    .dataframe thead th {\n",
       "        text-align: right;\n",
       "    }\n",
       "</style>\n",
       "<table border=\"1\" class=\"dataframe\">\n",
       "  <thead>\n",
       "    <tr style=\"text-align: right;\">\n",
       "      <th></th>\n",
       "      <th>name</th>\n",
       "      <th>platform</th>\n",
       "      <th>year_of_release</th>\n",
       "      <th>genre</th>\n",
       "      <th>na_sales</th>\n",
       "      <th>eu_sales</th>\n",
       "      <th>jp_sales</th>\n",
       "      <th>other_sales</th>\n",
       "      <th>critic_score</th>\n",
       "      <th>user_score</th>\n",
       "      <th>rating</th>\n",
       "      <th>total_sales</th>\n",
       "    </tr>\n",
       "  </thead>\n",
       "  <tbody>\n",
       "    <tr>\n",
       "      <th>16</th>\n",
       "      <td>Grand Theft Auto V</td>\n",
       "      <td>PS3</td>\n",
       "      <td>2013</td>\n",
       "      <td>Action</td>\n",
       "      <td>7.02</td>\n",
       "      <td>9.09</td>\n",
       "      <td>0.98</td>\n",
       "      <td>3.96</td>\n",
       "      <td>97.0</td>\n",
       "      <td>8.2</td>\n",
       "      <td>M</td>\n",
       "      <td>21.05</td>\n",
       "    </tr>\n",
       "    <tr>\n",
       "      <th>23</th>\n",
       "      <td>Grand Theft Auto V</td>\n",
       "      <td>X360</td>\n",
       "      <td>2013</td>\n",
       "      <td>Action</td>\n",
       "      <td>9.66</td>\n",
       "      <td>5.14</td>\n",
       "      <td>0.06</td>\n",
       "      <td>1.41</td>\n",
       "      <td>97.0</td>\n",
       "      <td>8.1</td>\n",
       "      <td>M</td>\n",
       "      <td>16.27</td>\n",
       "    </tr>\n",
       "    <tr>\n",
       "      <th>31</th>\n",
       "      <td>Call of Duty: Black Ops 3</td>\n",
       "      <td>PS4</td>\n",
       "      <td>2015</td>\n",
       "      <td>Shooter</td>\n",
       "      <td>6.03</td>\n",
       "      <td>5.86</td>\n",
       "      <td>0.36</td>\n",
       "      <td>2.38</td>\n",
       "      <td>NaN</td>\n",
       "      <td>0.0</td>\n",
       "      <td>Unkown</td>\n",
       "      <td>14.63</td>\n",
       "    </tr>\n",
       "    <tr>\n",
       "      <th>33</th>\n",
       "      <td>Pokemon X/Pokemon Y</td>\n",
       "      <td>3DS</td>\n",
       "      <td>2013</td>\n",
       "      <td>Role-Playing</td>\n",
       "      <td>5.28</td>\n",
       "      <td>4.19</td>\n",
       "      <td>4.35</td>\n",
       "      <td>0.78</td>\n",
       "      <td>NaN</td>\n",
       "      <td>0.0</td>\n",
       "      <td>Unkown</td>\n",
       "      <td>14.60</td>\n",
       "    </tr>\n",
       "    <tr>\n",
       "      <th>42</th>\n",
       "      <td>Grand Theft Auto V</td>\n",
       "      <td>PS4</td>\n",
       "      <td>2014</td>\n",
       "      <td>Action</td>\n",
       "      <td>3.96</td>\n",
       "      <td>6.31</td>\n",
       "      <td>0.38</td>\n",
       "      <td>1.97</td>\n",
       "      <td>97.0</td>\n",
       "      <td>8.3</td>\n",
       "      <td>M</td>\n",
       "      <td>12.62</td>\n",
       "    </tr>\n",
       "    <tr>\n",
       "      <th>...</th>\n",
       "      <td>...</td>\n",
       "      <td>...</td>\n",
       "      <td>...</td>\n",
       "      <td>...</td>\n",
       "      <td>...</td>\n",
       "      <td>...</td>\n",
       "      <td>...</td>\n",
       "      <td>...</td>\n",
       "      <td>...</td>\n",
       "      <td>...</td>\n",
       "      <td>...</td>\n",
       "      <td>...</td>\n",
       "    </tr>\n",
       "    <tr>\n",
       "      <th>16672</th>\n",
       "      <td>Metal Gear Solid V: The Definitive Experience</td>\n",
       "      <td>XOne</td>\n",
       "      <td>2016</td>\n",
       "      <td>Action</td>\n",
       "      <td>0.01</td>\n",
       "      <td>0.00</td>\n",
       "      <td>0.00</td>\n",
       "      <td>0.00</td>\n",
       "      <td>NaN</td>\n",
       "      <td>0.0</td>\n",
       "      <td>M</td>\n",
       "      <td>0.01</td>\n",
       "    </tr>\n",
       "    <tr>\n",
       "      <th>16674</th>\n",
       "      <td>Tsukigime Ranko's Longest Day</td>\n",
       "      <td>PS3</td>\n",
       "      <td>2014</td>\n",
       "      <td>Action</td>\n",
       "      <td>0.00</td>\n",
       "      <td>0.01</td>\n",
       "      <td>0.00</td>\n",
       "      <td>0.00</td>\n",
       "      <td>NaN</td>\n",
       "      <td>0.0</td>\n",
       "      <td>Unkown</td>\n",
       "      <td>0.01</td>\n",
       "    </tr>\n",
       "    <tr>\n",
       "      <th>16677</th>\n",
       "      <td>Aikatsu Stars! My Special Appeal</td>\n",
       "      <td>3DS</td>\n",
       "      <td>2016</td>\n",
       "      <td>Action</td>\n",
       "      <td>0.00</td>\n",
       "      <td>0.00</td>\n",
       "      <td>0.01</td>\n",
       "      <td>0.00</td>\n",
       "      <td>NaN</td>\n",
       "      <td>0.0</td>\n",
       "      <td>Unkown</td>\n",
       "      <td>0.01</td>\n",
       "    </tr>\n",
       "    <tr>\n",
       "      <th>16691</th>\n",
       "      <td>Dynasty Warriors: Eiketsuden</td>\n",
       "      <td>PS3</td>\n",
       "      <td>2016</td>\n",
       "      <td>Action</td>\n",
       "      <td>0.00</td>\n",
       "      <td>0.00</td>\n",
       "      <td>0.01</td>\n",
       "      <td>0.00</td>\n",
       "      <td>NaN</td>\n",
       "      <td>0.0</td>\n",
       "      <td>Unkown</td>\n",
       "      <td>0.01</td>\n",
       "    </tr>\n",
       "    <tr>\n",
       "      <th>16710</th>\n",
       "      <td>Samurai Warriors: Sanada Maru</td>\n",
       "      <td>PS3</td>\n",
       "      <td>2016</td>\n",
       "      <td>Action</td>\n",
       "      <td>0.00</td>\n",
       "      <td>0.00</td>\n",
       "      <td>0.01</td>\n",
       "      <td>0.00</td>\n",
       "      <td>NaN</td>\n",
       "      <td>0.0</td>\n",
       "      <td>Unkown</td>\n",
       "      <td>0.01</td>\n",
       "    </tr>\n",
       "  </tbody>\n",
       "</table>\n",
       "<p>1588 rows × 12 columns</p>\n",
       "</div>"
      ],
      "text/plain": [
       "                                                name platform  \\\n",
       "16                                Grand Theft Auto V      PS3   \n",
       "23                                Grand Theft Auto V     X360   \n",
       "31                         Call of Duty: Black Ops 3      PS4   \n",
       "33                               Pokemon X/Pokemon Y      3DS   \n",
       "42                                Grand Theft Auto V      PS4   \n",
       "...                                              ...      ...   \n",
       "16672  Metal Gear Solid V: The Definitive Experience     XOne   \n",
       "16674                  Tsukigime Ranko's Longest Day      PS3   \n",
       "16677               Aikatsu Stars! My Special Appeal      3DS   \n",
       "16691                   Dynasty Warriors: Eiketsuden      PS3   \n",
       "16710                  Samurai Warriors: Sanada Maru      PS3   \n",
       "\n",
       "       year_of_release         genre  na_sales  eu_sales  jp_sales  \\\n",
       "16                2013        Action      7.02      9.09      0.98   \n",
       "23                2013        Action      9.66      5.14      0.06   \n",
       "31                2015       Shooter      6.03      5.86      0.36   \n",
       "33                2013  Role-Playing      5.28      4.19      4.35   \n",
       "42                2014        Action      3.96      6.31      0.38   \n",
       "...                ...           ...       ...       ...       ...   \n",
       "16672             2016        Action      0.01      0.00      0.00   \n",
       "16674             2014        Action      0.00      0.01      0.00   \n",
       "16677             2016        Action      0.00      0.00      0.01   \n",
       "16691             2016        Action      0.00      0.00      0.01   \n",
       "16710             2016        Action      0.00      0.00      0.01   \n",
       "\n",
       "       other_sales  critic_score  user_score  rating  total_sales  \n",
       "16            3.96          97.0         8.2       M        21.05  \n",
       "23            1.41          97.0         8.1       M        16.27  \n",
       "31            2.38           NaN         0.0  Unkown        14.63  \n",
       "33            0.78           NaN         0.0  Unkown        14.60  \n",
       "42            1.97          97.0         8.3       M        12.62  \n",
       "...            ...           ...         ...     ...          ...  \n",
       "16672         0.00           NaN         0.0       M         0.01  \n",
       "16674         0.00           NaN         0.0  Unkown         0.01  \n",
       "16677         0.00           NaN         0.0  Unkown         0.01  \n",
       "16691         0.00           NaN         0.0  Unkown         0.01  \n",
       "16710         0.00           NaN         0.0  Unkown         0.01  \n",
       "\n",
       "[1588 rows x 12 columns]"
      ]
     },
     "metadata": {},
     "output_type": "display_data"
    }
   ],
   "source": [
    "top_data_13_16 = top_data_13_16.query('total_sales > 50')\n",
    "data_13_16 = data_13_16.query('platform in @top_data_13_16.index')\n",
    "\n",
    "display(data_13_16)"
   ]
  },
  {
   "cell_type": "markdown",
   "metadata": {},
   "source": [
    "<div class=\"alert alert-block alert-success\">\n",
    " \n",
    "### Комментарий ревьюера\n",
    "    \n",
    "#### Успех\n",
    "    \n",
    "Верное решение. Соглашусь.\n",
    "</div>"
   ]
  },
  {
   "cell_type": "code",
   "execution_count": 30,
   "metadata": {},
   "outputs": [],
   "source": [
    "data_13_16 = data_13_16.query('total_sales != 0')"
   ]
  },
  {
   "cell_type": "code",
   "execution_count": 31,
   "metadata": {},
   "outputs": [],
   "source": [
    "ps4 = data_13_16.query('platform == \"PS4\"').pivot_table(index = 'year_of_release', values = 'total_sales', aggfunc = 'sum')\n",
    "ps3 = data_13_16.query('platform == \"PS3\"').pivot_table(index = 'year_of_release', values = 'total_sales', aggfunc = 'sum')\n",
    "xone = data_13_16.query('platform == \"XOne\"').pivot_table(index = 'year_of_release', values = 'total_sales', aggfunc = 'sum')\n",
    "x360 = data_13_16.query('platform == \"X360\"').pivot_table(index = 'year_of_release', values = 'total_sales', aggfunc = 'sum')\n",
    "ds_3 = data_13_16.query('platform == \"3DS\"').pivot_table(index = 'year_of_release', values = 'total_sales', aggfunc = 'sum')"
   ]
  },
  {
   "cell_type": "code",
   "execution_count": 32,
   "metadata": {},
   "outputs": [
    {
     "data": {
      "text/plain": [
       "<AxesSubplot:>"
      ]
     },
     "execution_count": 32,
     "metadata": {},
     "output_type": "execute_result"
    },
    {
     "data": {
      "image/png": "[encoded data removed]",
      "text/plain": [
       "<Figure size 432x288 with 1 Axes>"
      ]
     },
     "metadata": {
      "needs_background": "light"
     },
     "output_type": "display_data"
    }
   ],
   "source": [
    "ps4.boxplot(color = 'blue')"
   ]
  },
  {
   "cell_type": "markdown",
   "metadata": {},
   "source": [
    "Медиана находится где-то около 32 мил. Первый квартиль 28 мил. Третий квартиль 47 мил."
   ]
  },
  {
   "cell_type": "code",
   "execution_count": 33,
   "metadata": {},
   "outputs": [
    {
     "data": {
      "text/plain": [
       "<AxesSubplot:>"
      ]
     },
     "execution_count": 33,
     "metadata": {},
     "output_type": "execute_result"
    },
    {
     "data": {
      "image/png": "[encoded data removed]",
      "text/plain": [
       "<Figure size 432x288 with 1 Axes>"
      ]
     },
     "metadata": {
      "needs_background": "light"
     },
     "output_type": "display_data"
    }
   ],
   "source": [
    "ps3.boxplot(color = 'blue')"
   ]
  },
  {
   "cell_type": "markdown",
   "metadata": {},
   "source": [
    "Медиана 10 мил. Первый квартиль 5 мил. Третий квартиль 28 мил."
   ]
  },
  {
   "cell_type": "code",
   "execution_count": 34,
   "metadata": {},
   "outputs": [
    {
     "data": {
      "text/plain": [
       "<AxesSubplot:>"
      ]
     },
     "execution_count": 34,
     "metadata": {},
     "output_type": "execute_result"
    },
    {
     "data": {
      "image/png": "[encoded data removed]",
      "text/plain": [
       "<Figure size 432x288 with 1 Axes>"
      ]
     },
     "metadata": {
      "needs_background": "light"
     },
     "output_type": "display_data"
    }
   ],
   "source": [
    "xone.boxplot(color = 'green')"
   ]
  },
  {
   "cell_type": "markdown",
   "metadata": {},
   "source": [
    "Медиана 12,5 мил. Первый квартиль 6 мил. Третий квартиль 20 мил."
   ]
  },
  {
   "cell_type": "code",
   "execution_count": 35,
   "metadata": {},
   "outputs": [
    {
     "data": {
      "text/plain": [
       "<AxesSubplot:>"
      ]
     },
     "execution_count": 35,
     "metadata": {},
     "output_type": "execute_result"
    },
    {
     "data": {
      "image/png": "[encoded data removed]",
      "text/plain": [
       "<Figure size 432x288 with 1 Axes>"
      ]
     },
     "metadata": {
      "needs_background": "light"
     },
     "output_type": "display_data"
    }
   ],
   "source": [
    "x360.boxplot(color = 'green')"
   ]
  },
  {
   "cell_type": "markdown",
   "metadata": {},
   "source": [
    "Медиана 7 мил. Первый квартиль 4 мил. Третий квартиль 36 мил."
   ]
  },
  {
   "cell_type": "code",
   "execution_count": 36,
   "metadata": {},
   "outputs": [
    {
     "data": {
      "text/plain": [
       "<AxesSubplot:>"
      ]
     },
     "execution_count": 36,
     "metadata": {},
     "output_type": "execute_result"
    },
    {
     "data": {
      "image/png": "[encoded data removed]",
      "text/plain": [
       "<Figure size 432x288 with 1 Axes>"
      ]
     },
     "metadata": {
      "needs_background": "light"
     },
     "output_type": "display_data"
    }
   ],
   "source": [
    "ds_3.boxplot(color = 'darkred')"
   ]
  },
  {
   "cell_type": "markdown",
   "metadata": {},
   "source": [
    "<div class=\"alert alert-block alert-success\">\n",
    " \n",
    "### Комментарий ревьюера\n",
    "    \n",
    "#### Успех\n",
    "    \n",
    "Тут ты правильно прошелся по графикам.\n",
    "</div>"
   ]
  },
  {
   "cell_type": "code",
   "execution_count": 37,
   "metadata": {},
   "outputs": [],
   "source": [
    "ps4 = data_13_16.query('platform == \"PS4\"')\n",
    "ps3 = data_13_16.query('platform == \"PS3\"')\n",
    "xone = data_13_16.query('platform == \"XOne\"')\n",
    "x360 = data_13_16.query('platform == \"X360\"')\n",
    "ds_3 = data_13_16.query('platform == \"3DS\"')"
   ]
  },
  {
   "cell_type": "code",
   "execution_count": 38,
   "metadata": {},
   "outputs": [
    {
     "data": {
      "text/plain": [
       "(0.0, 5.0)"
      ]
     },
     "execution_count": 38,
     "metadata": {},
     "output_type": "execute_result"
    },
    {
     "data": {
      "image/png": "[encoded data removed]",
      "text/plain": [
       "<Figure size 432x288 with 1 Axes>"
      ]
     },
     "metadata": {
      "needs_background": "light"
     },
     "output_type": "display_data"
    }
   ],
   "source": [
    "ps4o = ps4.boxplot('total_sales')\n",
    "ps4o.set_ylim([0,5])"
   ]
  },
  {
   "cell_type": "code",
   "execution_count": 39,
   "metadata": {},
   "outputs": [
    {
     "data": {
      "text/plain": [
       "(0.0, 3.0)"
      ]
     },
     "execution_count": 39,
     "metadata": {},
     "output_type": "execute_result"
    },
    {
     "data": {
      "image/png": "[encoded data removed]",
      "text/plain": [
       "<Figure size 432x288 with 1 Axes>"
      ]
     },
     "metadata": {
      "needs_background": "light"
     },
     "output_type": "display_data"
    }
   ],
   "source": [
    "ps3o = ps3.boxplot('total_sales')\n",
    "ps3o.set_ylim([0,3])"
   ]
  },
  {
   "cell_type": "code",
   "execution_count": 40,
   "metadata": {},
   "outputs": [
    {
     "data": {
      "text/plain": [
       "<AxesSubplot:>"
      ]
     },
     "execution_count": 40,
     "metadata": {},
     "output_type": "execute_result"
    },
    {
     "data": {
      "image/png": "[encoded data removed]",
      "text/plain": [
       "<Figure size 432x288 with 1 Axes>"
      ]
     },
     "metadata": {
      "needs_background": "light"
     },
     "output_type": "display_data"
    }
   ],
   "source": [
    "xone.boxplot('total_sales')"
   ]
  },
  {
   "cell_type": "code",
   "execution_count": 41,
   "metadata": {},
   "outputs": [
    {
     "data": {
      "text/plain": [
       "(0.0, 4.0)"
      ]
     },
     "execution_count": 41,
     "metadata": {},
     "output_type": "execute_result"
    },
    {
     "data": {
      "image/png": "[encoded data removed]",
      "text/plain": [
       "<Figure size 432x288 with 1 Axes>"
      ]
     },
     "metadata": {
      "needs_background": "light"
     },
     "output_type": "display_data"
    }
   ],
   "source": [
    "x360o = x360.boxplot('total_sales')\n",
    "x360o.set_ylim([0,4])"
   ]
  },
  {
   "cell_type": "code",
   "execution_count": 42,
   "metadata": {},
   "outputs": [
    {
     "data": {
      "text/plain": [
       "(0.0, 4.0)"
      ]
     },
     "execution_count": 42,
     "metadata": {},
     "output_type": "execute_result"
    },
    {
     "data": {
      "image/png": "[encoded data removed]",
      "text/plain": [
       "<Figure size 432x288 with 1 Axes>"
      ]
     },
     "metadata": {
      "needs_background": "light"
     },
     "output_type": "display_data"
    }
   ],
   "source": [
    "ds_3o = ds_3.boxplot('total_sales')\n",
    "ds_3o.set_ylim([0,4])"
   ]
  },
  {
   "cell_type": "code",
   "execution_count": 43,
   "metadata": {},
   "outputs": [
    {
     "data": {
      "text/plain": [
       "(0.0, 4.0)"
      ]
     },
     "execution_count": 43,
     "metadata": {},
     "output_type": "execute_result"
    },
    {
     "data": {
      "image/png": "[encoded data removed]",
      "text/plain": [
       "<Figure size 432x288 with 1 Axes>"
      ]
     },
     "metadata": {
      "needs_background": "light"
     },
     "output_type": "display_data"
    }
   ],
   "source": [
    "xone1 = xone.boxplot('total_sales')\n",
    "xone1.set_ylim([0,4])"
   ]
  },
  {
   "cell_type": "markdown",
   "metadata": {},
   "source": [
    "Медиана 15 мил. Первый квартиль 6,5 мил. Третий квартиль 24 мил."
   ]
  },
  {
   "cell_type": "markdown",
   "metadata": {},
   "source": [
    "<div class=\"alert alert-block alert-danger\">\n",
    " \n",
    "### Комментарий ревьюера\n",
    "    \n",
    "#### Ошибка\n",
    "    \n",
    "К сожалению, на этих графиках видны только выбросы, и совсем не видны медиана и 75% квантиль. Для более обоснованных выводов нужно сделатьсделать графики так, чтобы была отображена только нижняя часть boxplot-ов. Этого можно добиться, например, задав параметр ylim.\n",
    "</div>"
   ]
  },
  {
   "cell_type": "markdown",
   "metadata": {},
   "source": [
    "<font color=\"maroon\"> Исправил, установил уникальные диапазоны для большей нагядности к каждому графику. Однако, к графику xone не могу применить, всегда возникает ошибка, и как  заметил возникает она также, когда я запускаю код к графику отдельно. При полном перезапуске всех ячеек все идет нормально. Не подскажешь пожалуйста что не так?"
   ]
  },
  {
   "cell_type": "markdown",
   "metadata": {},
   "source": [
    "<div class=\"alert alert-block alert-warning\">\n",
    " \n",
    "### Комментарий ревьюера ver.2\n",
    "    \n",
    "#### Совет\n",
    "    \n",
    "Возможно ты как-то не так вызывал переменную. У меня все отлично отрисовалось. График выше.\n",
    "</div>"
   ]
  },
  {
   "cell_type": "markdown",
   "metadata": {},
   "source": [
    "<div class=\"alert alert-block alert-success\">\n",
    " \n",
    "# Комментарий ревьюера ver.2\n",
    "    \n",
    "#### Успех\n",
    "    \n",
    "Теперь исправлено. Сейчас на графиках видны медиана и квантили.\n",
    "</div>"
   ]
  },
  {
   "cell_type": "code",
   "execution_count": 44,
   "metadata": {},
   "outputs": [
    {
     "name": "stdout",
     "output_type": "stream",
     "text": [
      "Correlation_Ctitics: 0.406567902061781\n"
     ]
    }
   ],
   "source": [
    "ps4 = data_13_16.query('platform == \"PS4\"')\n",
    "ps4 = ps4.query('total_sales != 0')\n",
    "ps4 = ps4.query('critic_score != 0')\n",
    "print('Correlation_Ctitics:', ps4['total_sales'].corr(ps4['critic_score']))"
   ]
  },
  {
   "cell_type": "code",
   "execution_count": 45,
   "metadata": {},
   "outputs": [
    {
     "data": {
      "text/plain": [
       "<AxesSubplot:xlabel='critic_score'>"
      ]
     },
     "execution_count": 45,
     "metadata": {},
     "output_type": "execute_result"
    },
    {
     "data": {
      "image/png": "[encoded data removed]",
      "text/plain": [
       "<Figure size 720x360 with 1 Axes>"
      ]
     },
     "metadata": {
      "needs_background": "light"
     },
     "output_type": "display_data"
    }
   ],
   "source": [
    "ps4.groupby('critic_score')['total_sales'].mean().plot(figsize = (10,5), color = 'darkblue')"
   ]
  },
  {
   "cell_type": "code",
   "execution_count": 46,
   "metadata": {},
   "outputs": [
    {
     "data": {
      "text/plain": [
       "<AxesSubplot:xlabel='total_sales', ylabel='critic_score'>"
      ]
     },
     "execution_count": 46,
     "metadata": {},
     "output_type": "execute_result"
    },
    {
     "data": {
      "image/png": "[encoded data removed]",
      "text/plain": [
       "<Figure size 432x288 with 1 Axes>"
      ]
     },
     "metadata": {
      "needs_background": "light"
     },
     "output_type": "display_data"
    }
   ],
   "source": [
    "ps4.plot(y = 'critic_score', x = 'total_sales', kind = 'scatter')"
   ]
  },
  {
   "cell_type": "code",
   "execution_count": 47,
   "metadata": {},
   "outputs": [
    {
     "name": "stdout",
     "output_type": "stream",
     "text": [
      "Correlation_Ctitics: -0.031957110204556376\n"
     ]
    }
   ],
   "source": [
    "ps4 = ps4.query('user_score != 0')\n",
    "print('Correlation_Ctitics:', ps4['total_sales'].corr(ps4['user_score']))"
   ]
  },
  {
   "cell_type": "markdown",
   "metadata": {},
   "source": [
    "<div class=\"alert alert-block alert-success\">\n",
    " \n",
    "### Комментарий ревьюера\n",
    "    \n",
    "#### Успех\n",
    "    \n",
    "Здесь согласен. Зависимости у нас почти нет. \n",
    "</div>"
   ]
  },
  {
   "cell_type": "code",
   "execution_count": 48,
   "metadata": {},
   "outputs": [
    {
     "data": {
      "text/plain": [
       "<AxesSubplot:xlabel='user_score'>"
      ]
     },
     "execution_count": 48,
     "metadata": {},
     "output_type": "execute_result"
    },
    {
     "data": {
      "image/png": "[encoded data removed]",
      "text/plain": [
       "<Figure size 720x360 with 1 Axes>"
      ]
     },
     "metadata": {
      "needs_background": "light"
     },
     "output_type": "display_data"
    }
   ],
   "source": [
    "ps4.groupby('user_score')['total_sales'].mean().plot(figsize = (10,5), color = 'darkblue')"
   ]
  },
  {
   "cell_type": "code",
   "execution_count": 49,
   "metadata": {},
   "outputs": [
    {
     "data": {
      "text/plain": [
       "<AxesSubplot:xlabel='total_sales', ylabel='user_score'>"
      ]
     },
     "execution_count": 49,
     "metadata": {},
     "output_type": "execute_result"
    },
    {
     "data": {
      "image/png": "[encoded data removed]",
      "text/plain": [
       "<Figure size 432x288 with 1 Axes>"
      ]
     },
     "metadata": {
      "needs_background": "light"
     },
     "output_type": "display_data"
    }
   ],
   "source": [
    "ps4.plot(y = 'user_score', x = 'total_sales', kind = 'scatter')"
   ]
  },
  {
   "cell_type": "code",
   "execution_count": 50,
   "metadata": {},
   "outputs": [
    {
     "name": "stdout",
     "output_type": "stream",
     "text": [
      "Correlation_Ctitics: 0.41699832800840175\n"
     ]
    }
   ],
   "source": [
    "xone = data_13_16.query('platform == \"XOne\"')\n",
    "xone = xone.query('total_sales != 0')\n",
    "xone = xone.query('critic_score != 0')\n",
    "print('Correlation_Ctitics:', xone['total_sales'].corr(xone['critic_score']))"
   ]
  },
  {
   "cell_type": "markdown",
   "metadata": {},
   "source": [
    "<div class=\"alert alert-block alert-success\">\n",
    " \n",
    "### Комментарий ревьюера\n",
    "    \n",
    "#### Успех\n",
    "    \n",
    "А вот здесь уже слабая зависимость наблюдается. \n",
    "</div>"
   ]
  },
  {
   "cell_type": "code",
   "execution_count": 51,
   "metadata": {},
   "outputs": [
    {
     "data": {
      "text/plain": [
       "<AxesSubplot:xlabel='critic_score'>"
      ]
     },
     "execution_count": 51,
     "metadata": {},
     "output_type": "execute_result"
    },
    {
     "data": {
      "image/png": "[encoded data removed]",
      "text/plain": [
       "<Figure size 720x360 with 1 Axes>"
      ]
     },
     "metadata": {
      "needs_background": "light"
     },
     "output_type": "display_data"
    }
   ],
   "source": [
    "xone.groupby('critic_score')['total_sales'].mean().plot(figsize = (10,5), color = 'darkgreen')"
   ]
  },
  {
   "cell_type": "code",
   "execution_count": 52,
   "metadata": {},
   "outputs": [
    {
     "data": {
      "text/plain": [
       "<AxesSubplot:xlabel='total_sales', ylabel='critic_score'>"
      ]
     },
     "execution_count": 52,
     "metadata": {},
     "output_type": "execute_result"
    },
    {
     "data": {
      "image/png": "[encoded data removed]",
      "text/plain": [
       "<Figure size 432x288 with 1 Axes>"
      ]
     },
     "metadata": {
      "needs_background": "light"
     },
     "output_type": "display_data"
    }
   ],
   "source": [
    "xone.plot(y = 'critic_score', x = 'total_sales', kind = 'scatter')"
   ]
  },
  {
   "cell_type": "code",
   "execution_count": 53,
   "metadata": {},
   "outputs": [
    {
     "name": "stdout",
     "output_type": "stream",
     "text": [
      "Correlation_Ctitics: -0.06892505328279412\n"
     ]
    }
   ],
   "source": [
    "xone = xone.query('user_score != 0')\n",
    "print('Correlation_Ctitics:', xone['total_sales'].corr(xone['user_score']))"
   ]
  },
  {
   "cell_type": "markdown",
   "metadata": {},
   "source": [
    "<div class=\"alert alert-block alert-success\">\n",
    " \n",
    "### Комментарий ревьюера\n",
    "    \n",
    "#### Успех\n",
    "    \n",
    "А тут ее вновь нет \n",
    "</div>"
   ]
  },
  {
   "cell_type": "code",
   "execution_count": 54,
   "metadata": {},
   "outputs": [
    {
     "data": {
      "text/plain": [
       "<AxesSubplot:xlabel='user_score'>"
      ]
     },
     "execution_count": 54,
     "metadata": {},
     "output_type": "execute_result"
    },
    {
     "data": {
      "image/png": "[encoded data removed]",
      "text/plain": [
       "<Figure size 720x360 with 1 Axes>"
      ]
     },
     "metadata": {
      "needs_background": "light"
     },
     "output_type": "display_data"
    }
   ],
   "source": [
    "xone.groupby('user_score')['total_sales'].mean().plot(figsize = (10,5), color = 'darkgreen')"
   ]
  },
  {
   "cell_type": "code",
   "execution_count": 55,
   "metadata": {},
   "outputs": [
    {
     "data": {
      "text/plain": [
       "<AxesSubplot:xlabel='total_sales', ylabel='user_score'>"
      ]
     },
     "execution_count": 55,
     "metadata": {},
     "output_type": "execute_result"
    },
    {
     "data": {
      "image/png": "[encoded data removed]",
      "text/plain": [
       "<Figure size 432x288 with 1 Axes>"
      ]
     },
     "metadata": {
      "needs_background": "light"
     },
     "output_type": "display_data"
    }
   ],
   "source": [
    "xone.plot(y = 'user_score', x = 'total_sales', kind = 'scatter')"
   ]
  },
  {
   "cell_type": "code",
   "execution_count": 56,
   "metadata": {},
   "outputs": [
    {
     "name": "stdout",
     "output_type": "stream",
     "text": [
      "Correlation_Ctitics: 0.35705661422881035\n"
     ]
    }
   ],
   "source": [
    "ds_3 = data_13_16.query('platform == \"3DS\"')\n",
    "ds_3 = ds_3.query('total_sales != 0')\n",
    "ds_3 = ds_3.query('critic_score != 0')\n",
    "print('Correlation_Ctitics:', ds_3['total_sales'].corr(ds_3['critic_score']))"
   ]
  },
  {
   "cell_type": "code",
   "execution_count": 57,
   "metadata": {},
   "outputs": [
    {
     "data": {
      "text/plain": [
       "<AxesSubplot:xlabel='critic_score'>"
      ]
     },
     "execution_count": 57,
     "metadata": {},
     "output_type": "execute_result"
    },
    {
     "data": {
      "image/png": "[encoded data removed]",
      "text/plain": [
       "<Figure size 720x360 with 1 Axes>"
      ]
     },
     "metadata": {
      "needs_background": "light"
     },
     "output_type": "display_data"
    }
   ],
   "source": [
    "ds_3.groupby('critic_score')['total_sales'].mean().plot(figsize = (10,5), color = 'darkred')"
   ]
  },
  {
   "cell_type": "code",
   "execution_count": 58,
   "metadata": {},
   "outputs": [
    {
     "data": {
      "text/plain": [
       "<AxesSubplot:xlabel='total_sales', ylabel='critic_score'>"
      ]
     },
     "execution_count": 58,
     "metadata": {},
     "output_type": "execute_result"
    },
    {
     "data": {
      "image/png": "[encoded data removed]",
      "text/plain": [
       "<Figure size 432x288 with 1 Axes>"
      ]
     },
     "metadata": {
      "needs_background": "light"
     },
     "output_type": "display_data"
    }
   ],
   "source": [
    "ds_3.plot(y = 'critic_score', x = 'total_sales', kind = 'scatter')"
   ]
  },
  {
   "cell_type": "code",
   "execution_count": 59,
   "metadata": {},
   "outputs": [
    {
     "name": "stdout",
     "output_type": "stream",
     "text": [
      "Correlation_Ctitics: 0.24150411773563016\n"
     ]
    }
   ],
   "source": [
    "ds_3 = ds_3.query('user_score != 0')\n",
    "print('Correlation_Ctitics:', ds_3['total_sales'].corr(ds_3['user_score']))"
   ]
  },
  {
   "cell_type": "code",
   "execution_count": 60,
   "metadata": {},
   "outputs": [
    {
     "data": {
      "text/plain": [
       "<AxesSubplot:xlabel='user_score'>"
      ]
     },
     "execution_count": 60,
     "metadata": {},
     "output_type": "execute_result"
    },
    {
     "data": {
      "image/png": "[encoded data removed]",
      "text/plain": [
       "<Figure size 720x360 with 1 Axes>"
      ]
     },
     "metadata": {
      "needs_background": "light"
     },
     "output_type": "display_data"
    }
   ],
   "source": [
    "ds_3.groupby('user_score')['total_sales'].mean().plot(figsize = (10,5), color = 'darkred')"
   ]
  },
  {
   "cell_type": "code",
   "execution_count": 61,
   "metadata": {},
   "outputs": [
    {
     "data": {
      "text/plain": [
       "<AxesSubplot:xlabel='total_sales', ylabel='user_score'>"
      ]
     },
     "execution_count": 61,
     "metadata": {},
     "output_type": "execute_result"
    },
    {
     "data": {
      "image/png": "[encoded data removed]",
      "text/plain": [
       "<Figure size 432x288 with 1 Axes>"
      ]
     },
     "metadata": {
      "needs_background": "light"
     },
     "output_type": "display_data"
    }
   ],
   "source": [
    "ds_3.plot(y = 'user_score', x = 'total_sales', kind = 'scatter')"
   ]
  },
  {
   "cell_type": "markdown",
   "metadata": {},
   "source": [
    "Видна слабая зависимость, что чем высше оценка, тем выше продажи, но, в основном, все хаотично. У DS3 вообще все наоборот, если оценка выше 85 ио 8.5, то продажи игр начинают стремительно падать"
   ]
  },
  {
   "cell_type": "markdown",
   "metadata": {},
   "source": [
    "<div class=\"alert alert-block alert-warning\">\n",
    " \n",
    "### Комментарий ревьюера\n",
    "    \n",
    "#### Совет\n",
    "    \n",
    "Везде, где показатели ниже 0.6 - слабая зависимость.\n",
    "</div>"
   ]
  },
  {
   "cell_type": "code",
   "execution_count": 62,
   "metadata": {},
   "outputs": [
    {
     "data": {
      "text/plain": [
       "<AxesSubplot:xlabel='genre'>"
      ]
     },
     "execution_count": 62,
     "metadata": {},
     "output_type": "execute_result"
    },
    {
     "data": {
      "image/png": "[encoded data removed]",
      "text/plain": [
       "<Figure size 720x360 with 1 Axes>"
      ]
     },
     "metadata": {
      "needs_background": "light"
     },
     "output_type": "display_data"
    }
   ],
   "source": [
    "genre_games = data_13_16.pivot_table(index = 'genre', values = 'name', aggfunc = 'count')\n",
    "\n",
    "genre_games.plot(figsize = (10, 5), color = 'darkorchid')"
   ]
  },
  {
   "cell_type": "code",
   "execution_count": 63,
   "metadata": {},
   "outputs": [
    {
     "data": {
      "text/plain": [
       "<AxesSubplot:xlabel='genre'>"
      ]
     },
     "execution_count": 63,
     "metadata": {},
     "output_type": "execute_result"
    },
    {
     "data": {
      "image/png": "[encoded data removed]",
      "text/plain": [
       "<Figure size 720x360 with 1 Axes>"
      ]
     },
     "metadata": {
      "needs_background": "light"
     },
     "output_type": "display_data"
    }
   ],
   "source": [
    "genre_games = data_13_16.pivot_table(index = 'genre', values = 'total_sales', aggfunc = 'median')\n",
    "\n",
    "genre_games.plot(figsize = (10, 5), color = 'darkorchid')"
   ]
  },
  {
   "cell_type": "markdown",
   "metadata": {},
   "source": [
    "В общем, видно, что жанры action, shooter and sports сильно выделяется от остальных. Можно сказать, что пользователям нравится стрелялки с кучей экшона, ну и конечно футбол.\n",
    "\n",
    "Вывод:\n",
    "\n",
    "- До этого консоли держались около 10 лет, за исключкнием XB. Продажи игр все падают и их еще меньше на новых консолях (и это понятно, ибо с каждым поколением цены на консоли растут, а средний доход людей не учеличивается). Новые консоли вышли в 2013 году и уже через 3 года намечается низкое падение до уровня тех продаж, когда уже поступали в продажу новые платформы (10-20 мил.). Видно, что в этот раз продолжительность нового поколения будет точно меньше предыдущего.\n",
    "\n",
    "- По продажам игр на платформы - PS4 на коне! В  top5 входят еще платформы прошлого поколения, но это ненадолго, так как их продажи игр стремительно падают. А если смотреть на картину в общем, то за 2016 сбавили все.\n",
    "\n",
    "- Также была проанализирована связь между оценками критиков\\пользователей и продажами игра на разных консолях. Слабо видно, конечно, что при высокой оценке критиков, больше продаж. Но вот ситуация с оценками пользователей, очень хаотична. На DS3 вообще все наоборот, если оценка выше 85 ио 8.5, то продажи игр начинают стремительно падать.\n",
    "\n",
    "- По жанрам, в общем, видно, что жанры action, shooter and sports сильно выделяется от остальных. Можно сказать, что пользователям нравится стрелялки с кучей экшона, ну и конечно футбол."
   ]
  },
  {
   "cell_type": "markdown",
   "metadata": {},
   "source": [
    "<div class=\"alert alert-block alert-success\">\n",
    " \n",
    "### Комментарий ревьюера\n",
    "    \n",
    "#### Успех\n",
    "    \n",
    "Самым прибыльным жанром можно считать Шутеры. Тут ты прав. \n",
    "</div>"
   ]
  },
  {
   "cell_type": "markdown",
   "metadata": {},
   "source": [
    "## Шаг. Анализ по регионам "
   ]
  },
  {
   "cell_type": "markdown",
   "metadata": {},
   "source": [
    "North America (NA)"
   ]
  },
  {
   "cell_type": "code",
   "execution_count": 64,
   "metadata": {},
   "outputs": [
    {
     "data": {
      "text/html": [
       "<div>\n",
       "<style scoped>\n",
       "    .dataframe tbody tr th:only-of-type {\n",
       "        vertical-align: middle;\n",
       "    }\n",
       "\n",
       "    .dataframe tbody tr th {\n",
       "        vertical-align: top;\n",
       "    }\n",
       "\n",
       "    .dataframe thead th {\n",
       "        text-align: right;\n",
       "    }\n",
       "</style>\n",
       "<table border=\"1\" class=\"dataframe\">\n",
       "  <thead>\n",
       "    <tr style=\"text-align: right;\">\n",
       "      <th></th>\n",
       "      <th>na_sales</th>\n",
       "      <th>percent_total</th>\n",
       "    </tr>\n",
       "    <tr>\n",
       "      <th>platform</th>\n",
       "      <th></th>\n",
       "      <th></th>\n",
       "    </tr>\n",
       "  </thead>\n",
       "  <tbody>\n",
       "    <tr>\n",
       "      <th>PS4</th>\n",
       "      <td>108.74</td>\n",
       "      <td>0.26</td>\n",
       "    </tr>\n",
       "    <tr>\n",
       "      <th>XOne</th>\n",
       "      <td>93.12</td>\n",
       "      <td>0.22</td>\n",
       "    </tr>\n",
       "    <tr>\n",
       "      <th>X360</th>\n",
       "      <td>81.66</td>\n",
       "      <td>0.20</td>\n",
       "    </tr>\n",
       "    <tr>\n",
       "      <th>PS3</th>\n",
       "      <td>63.50</td>\n",
       "      <td>0.15</td>\n",
       "    </tr>\n",
       "    <tr>\n",
       "      <th>3DS</th>\n",
       "      <td>38.20</td>\n",
       "      <td>0.09</td>\n",
       "    </tr>\n",
       "  </tbody>\n",
       "</table>\n",
       "</div>"
      ],
      "text/plain": [
       "          na_sales  percent_total\n",
       "platform                         \n",
       "PS4         108.74           0.26\n",
       "XOne         93.12           0.22\n",
       "X360         81.66           0.20\n",
       "PS3          63.50           0.15\n",
       "3DS          38.20           0.09"
      ]
     },
     "metadata": {},
     "output_type": "display_data"
    }
   ],
   "source": [
    "data_na = data_13_16.pivot_table(index = 'platform', values = 'na_sales', aggfunc = 'sum').sort_values('na_sales', ascending = False)\n",
    "data_na['percent_total'] = round(data_na['na_sales'] / data_na['na_sales'].sum(), 2)\n",
    "display(data_na.head(5))"
   ]
  },
  {
   "cell_type": "code",
   "execution_count": 65,
   "metadata": {},
   "outputs": [
    {
     "data": {
      "text/html": [
       "<div>\n",
       "<style scoped>\n",
       "    .dataframe tbody tr th:only-of-type {\n",
       "        vertical-align: middle;\n",
       "    }\n",
       "\n",
       "    .dataframe tbody tr th {\n",
       "        vertical-align: top;\n",
       "    }\n",
       "\n",
       "    .dataframe thead th {\n",
       "        text-align: right;\n",
       "    }\n",
       "</style>\n",
       "<table border=\"1\" class=\"dataframe\">\n",
       "  <thead>\n",
       "    <tr style=\"text-align: right;\">\n",
       "      <th></th>\n",
       "      <th>na_sales</th>\n",
       "      <th>percent_total</th>\n",
       "    </tr>\n",
       "    <tr>\n",
       "      <th>genre</th>\n",
       "      <th></th>\n",
       "      <th></th>\n",
       "    </tr>\n",
       "  </thead>\n",
       "  <tbody>\n",
       "    <tr>\n",
       "      <th>Action</th>\n",
       "      <td>121.09</td>\n",
       "      <td>0.29</td>\n",
       "    </tr>\n",
       "    <tr>\n",
       "      <th>Shooter</th>\n",
       "      <td>105.97</td>\n",
       "      <td>0.26</td>\n",
       "    </tr>\n",
       "    <tr>\n",
       "      <th>Sports</th>\n",
       "      <td>64.66</td>\n",
       "      <td>0.16</td>\n",
       "    </tr>\n",
       "    <tr>\n",
       "      <th>Role-Playing</th>\n",
       "      <td>43.07</td>\n",
       "      <td>0.10</td>\n",
       "    </tr>\n",
       "    <tr>\n",
       "      <th>Misc</th>\n",
       "      <td>23.09</td>\n",
       "      <td>0.06</td>\n",
       "    </tr>\n",
       "  </tbody>\n",
       "</table>\n",
       "</div>"
      ],
      "text/plain": [
       "              na_sales  percent_total\n",
       "genre                                \n",
       "Action          121.09           0.29\n",
       "Shooter         105.97           0.26\n",
       "Sports           64.66           0.16\n",
       "Role-Playing     43.07           0.10\n",
       "Misc             23.09           0.06"
      ]
     },
     "metadata": {},
     "output_type": "display_data"
    }
   ],
   "source": [
    "data_na = data_13_16.pivot_table(index = 'genre', values = 'na_sales', aggfunc = 'sum').sort_values('na_sales', ascending = False)\n",
    "data_na['percent_total'] = round(data_na['na_sales'] / data_na['na_sales'].sum(), 2)\n",
    "display(data_na.head(5))"
   ]
  },
  {
   "cell_type": "code",
   "execution_count": 66,
   "metadata": {},
   "outputs": [
    {
     "data": {
      "text/plain": [
       "<AxesSubplot:xlabel='rating'>"
      ]
     },
     "execution_count": 66,
     "metadata": {},
     "output_type": "execute_result"
    },
    {
     "data": {
      "image/png": "[encoded data removed]",
      "text/plain": [
       "<Figure size 432x288 with 1 Axes>"
      ]
     },
     "metadata": {
      "needs_background": "light"
     },
     "output_type": "display_data"
    }
   ],
   "source": [
    "data_13_16.groupby('rating').agg({'na_sales' : 'sum'}).plot(color = 'crimson')"
   ]
  },
  {
   "cell_type": "markdown",
   "metadata": {},
   "source": [
    "<div class=\"alert alert-block alert-success\">\n",
    " \n",
    "### Комментарий ревьюера\n",
    "    \n",
    "#### Успех\n",
    "    \n",
    "И так, Северную Америку рассмотрели. Идем дальше. \n",
    "</div>"
   ]
  },
  {
   "cell_type": "markdown",
   "metadata": {},
   "source": [
    "European Union (EU)"
   ]
  },
  {
   "cell_type": "code",
   "execution_count": 67,
   "metadata": {},
   "outputs": [
    {
     "data": {
      "text/html": [
       "<div>\n",
       "<style scoped>\n",
       "    .dataframe tbody tr th:only-of-type {\n",
       "        vertical-align: middle;\n",
       "    }\n",
       "\n",
       "    .dataframe tbody tr th {\n",
       "        vertical-align: top;\n",
       "    }\n",
       "\n",
       "    .dataframe thead th {\n",
       "        text-align: right;\n",
       "    }\n",
       "</style>\n",
       "<table border=\"1\" class=\"dataframe\">\n",
       "  <thead>\n",
       "    <tr style=\"text-align: right;\">\n",
       "      <th></th>\n",
       "      <th>eu_sales</th>\n",
       "      <th>percent_total</th>\n",
       "    </tr>\n",
       "    <tr>\n",
       "      <th>platform</th>\n",
       "      <th></th>\n",
       "      <th></th>\n",
       "    </tr>\n",
       "  </thead>\n",
       "  <tbody>\n",
       "    <tr>\n",
       "      <th>PS4</th>\n",
       "      <td>141.09</td>\n",
       "      <td>0.40</td>\n",
       "    </tr>\n",
       "    <tr>\n",
       "      <th>PS3</th>\n",
       "      <td>67.81</td>\n",
       "      <td>0.19</td>\n",
       "    </tr>\n",
       "    <tr>\n",
       "      <th>XOne</th>\n",
       "      <td>51.59</td>\n",
       "      <td>0.15</td>\n",
       "    </tr>\n",
       "    <tr>\n",
       "      <th>X360</th>\n",
       "      <td>42.52</td>\n",
       "      <td>0.12</td>\n",
       "    </tr>\n",
       "    <tr>\n",
       "      <th>3DS</th>\n",
       "      <td>30.96</td>\n",
       "      <td>0.09</td>\n",
       "    </tr>\n",
       "  </tbody>\n",
       "</table>\n",
       "</div>"
      ],
      "text/plain": [
       "          eu_sales  percent_total\n",
       "platform                         \n",
       "PS4         141.09           0.40\n",
       "PS3          67.81           0.19\n",
       "XOne         51.59           0.15\n",
       "X360         42.52           0.12\n",
       "3DS          30.96           0.09"
      ]
     },
     "metadata": {},
     "output_type": "display_data"
    }
   ],
   "source": [
    "data_eu = data_13_16.pivot_table(index = 'platform', values = 'eu_sales', aggfunc = 'sum').sort_values('eu_sales', ascending = False)\n",
    "data_eu['percent_total'] = round(data_eu['eu_sales'] / data_eu['eu_sales'].sum(), 2)\n",
    "display(data_eu.head(5))"
   ]
  },
  {
   "cell_type": "code",
   "execution_count": 68,
   "metadata": {},
   "outputs": [
    {
     "data": {
      "text/html": [
       "<div>\n",
       "<style scoped>\n",
       "    .dataframe tbody tr th:only-of-type {\n",
       "        vertical-align: middle;\n",
       "    }\n",
       "\n",
       "    .dataframe tbody tr th {\n",
       "        vertical-align: top;\n",
       "    }\n",
       "\n",
       "    .dataframe thead th {\n",
       "        text-align: right;\n",
       "    }\n",
       "</style>\n",
       "<table border=\"1\" class=\"dataframe\">\n",
       "  <thead>\n",
       "    <tr style=\"text-align: right;\">\n",
       "      <th></th>\n",
       "      <th>eu_sales</th>\n",
       "      <th>percent_total</th>\n",
       "    </tr>\n",
       "    <tr>\n",
       "      <th>genre</th>\n",
       "      <th></th>\n",
       "      <th></th>\n",
       "    </tr>\n",
       "  </thead>\n",
       "  <tbody>\n",
       "    <tr>\n",
       "      <th>Action</th>\n",
       "      <td>110.28</td>\n",
       "      <td>0.31</td>\n",
       "    </tr>\n",
       "    <tr>\n",
       "      <th>Shooter</th>\n",
       "      <td>81.51</td>\n",
       "      <td>0.23</td>\n",
       "    </tr>\n",
       "    <tr>\n",
       "      <th>Sports</th>\n",
       "      <td>57.14</td>\n",
       "      <td>0.16</td>\n",
       "    </tr>\n",
       "    <tr>\n",
       "      <th>Role-Playing</th>\n",
       "      <td>33.17</td>\n",
       "      <td>0.09</td>\n",
       "    </tr>\n",
       "    <tr>\n",
       "      <th>Racing</th>\n",
       "      <td>19.31</td>\n",
       "      <td>0.05</td>\n",
       "    </tr>\n",
       "  </tbody>\n",
       "</table>\n",
       "</div>"
      ],
      "text/plain": [
       "              eu_sales  percent_total\n",
       "genre                                \n",
       "Action          110.28           0.31\n",
       "Shooter          81.51           0.23\n",
       "Sports           57.14           0.16\n",
       "Role-Playing     33.17           0.09\n",
       "Racing           19.31           0.05"
      ]
     },
     "metadata": {},
     "output_type": "display_data"
    }
   ],
   "source": [
    "data_eu = data_13_16.pivot_table(index = 'genre', values = 'eu_sales', aggfunc = 'sum').sort_values('eu_sales', ascending = False)\n",
    "data_eu['percent_total'] = round(data_eu['eu_sales'] / data_eu['eu_sales'].sum(), 2)\n",
    "display(data_eu.head(5))"
   ]
  },
  {
   "cell_type": "code",
   "execution_count": 69,
   "metadata": {},
   "outputs": [
    {
     "data": {
      "text/plain": [
       "<AxesSubplot:xlabel='rating'>"
      ]
     },
     "execution_count": 69,
     "metadata": {},
     "output_type": "execute_result"
    },
    {
     "data": {
      "image/png": "[encoded data removed]",
      "text/plain": [
       "<Figure size 432x288 with 1 Axes>"
      ]
     },
     "metadata": {
      "needs_background": "light"
     },
     "output_type": "display_data"
    }
   ],
   "source": [
    "data_13_16.groupby('rating').agg({'eu_sales' : 'sum'}).plot(color = 'crimson')"
   ]
  },
  {
   "cell_type": "markdown",
   "metadata": {},
   "source": [
    "<div class=\"alert alert-block alert-success\">\n",
    " \n",
    "### Комментарий ревьюера\n",
    "    \n",
    "#### Успех\n",
    "    \n",
    "Европа во-многом схожа. \n",
    "</div>"
   ]
  },
  {
   "cell_type": "markdown",
   "metadata": {},
   "source": [
    "Japan (JP)"
   ]
  },
  {
   "cell_type": "code",
   "execution_count": 70,
   "metadata": {},
   "outputs": [
    {
     "data": {
      "text/html": [
       "<div>\n",
       "<style scoped>\n",
       "    .dataframe tbody tr th:only-of-type {\n",
       "        vertical-align: middle;\n",
       "    }\n",
       "\n",
       "    .dataframe tbody tr th {\n",
       "        vertical-align: top;\n",
       "    }\n",
       "\n",
       "    .dataframe thead th {\n",
       "        text-align: right;\n",
       "    }\n",
       "</style>\n",
       "<table border=\"1\" class=\"dataframe\">\n",
       "  <thead>\n",
       "    <tr style=\"text-align: right;\">\n",
       "      <th></th>\n",
       "      <th>jp_sales</th>\n",
       "      <th>percent_total</th>\n",
       "    </tr>\n",
       "    <tr>\n",
       "      <th>platform</th>\n",
       "      <th></th>\n",
       "      <th></th>\n",
       "    </tr>\n",
       "  </thead>\n",
       "  <tbody>\n",
       "    <tr>\n",
       "      <th>3DS</th>\n",
       "      <td>67.81</td>\n",
       "      <td>0.57</td>\n",
       "    </tr>\n",
       "    <tr>\n",
       "      <th>PS3</th>\n",
       "      <td>23.35</td>\n",
       "      <td>0.20</td>\n",
       "    </tr>\n",
       "    <tr>\n",
       "      <th>PS4</th>\n",
       "      <td>15.96</td>\n",
       "      <td>0.13</td>\n",
       "    </tr>\n",
       "    <tr>\n",
       "      <th>WiiU</th>\n",
       "      <td>10.88</td>\n",
       "      <td>0.09</td>\n",
       "    </tr>\n",
       "    <tr>\n",
       "      <th>X360</th>\n",
       "      <td>0.51</td>\n",
       "      <td>0.00</td>\n",
       "    </tr>\n",
       "  </tbody>\n",
       "</table>\n",
       "</div>"
      ],
      "text/plain": [
       "          jp_sales  percent_total\n",
       "platform                         \n",
       "3DS          67.81           0.57\n",
       "PS3          23.35           0.20\n",
       "PS4          15.96           0.13\n",
       "WiiU         10.88           0.09\n",
       "X360          0.51           0.00"
      ]
     },
     "metadata": {},
     "output_type": "display_data"
    }
   ],
   "source": [
    "data_jp = data_13_16.pivot_table(index = 'platform', values = 'jp_sales', aggfunc = 'sum').sort_values('jp_sales', ascending = False)\n",
    "data_jp['percent_total'] = round(data_jp['jp_sales'] / data_jp['jp_sales'].sum(), 2)\n",
    "display(data_jp.head(5))"
   ]
  },
  {
   "cell_type": "code",
   "execution_count": 71,
   "metadata": {},
   "outputs": [
    {
     "data": {
      "text/html": [
       "<div>\n",
       "<style scoped>\n",
       "    .dataframe tbody tr th:only-of-type {\n",
       "        vertical-align: middle;\n",
       "    }\n",
       "\n",
       "    .dataframe tbody tr th {\n",
       "        vertical-align: top;\n",
       "    }\n",
       "\n",
       "    .dataframe thead th {\n",
       "        text-align: right;\n",
       "    }\n",
       "</style>\n",
       "<table border=\"1\" class=\"dataframe\">\n",
       "  <thead>\n",
       "    <tr style=\"text-align: right;\">\n",
       "      <th></th>\n",
       "      <th>jp_sales</th>\n",
       "      <th>percent_total</th>\n",
       "    </tr>\n",
       "    <tr>\n",
       "      <th>genre</th>\n",
       "      <th></th>\n",
       "      <th></th>\n",
       "    </tr>\n",
       "  </thead>\n",
       "  <tbody>\n",
       "    <tr>\n",
       "      <th>Role-Playing</th>\n",
       "      <td>43.17</td>\n",
       "      <td>0.36</td>\n",
       "    </tr>\n",
       "    <tr>\n",
       "      <th>Action</th>\n",
       "      <td>33.78</td>\n",
       "      <td>0.28</td>\n",
       "    </tr>\n",
       "    <tr>\n",
       "      <th>Fighting</th>\n",
       "      <td>6.98</td>\n",
       "      <td>0.06</td>\n",
       "    </tr>\n",
       "    <tr>\n",
       "      <th>Misc</th>\n",
       "      <td>6.94</td>\n",
       "      <td>0.06</td>\n",
       "    </tr>\n",
       "    <tr>\n",
       "      <th>Shooter</th>\n",
       "      <td>6.56</td>\n",
       "      <td>0.06</td>\n",
       "    </tr>\n",
       "  </tbody>\n",
       "</table>\n",
       "</div>"
      ],
      "text/plain": [
       "              jp_sales  percent_total\n",
       "genre                                \n",
       "Role-Playing     43.17           0.36\n",
       "Action           33.78           0.28\n",
       "Fighting          6.98           0.06\n",
       "Misc              6.94           0.06\n",
       "Shooter           6.56           0.06"
      ]
     },
     "metadata": {},
     "output_type": "display_data"
    }
   ],
   "source": [
    "data_jp = data_13_16.pivot_table(index = 'genre', values = 'jp_sales', aggfunc = 'sum').sort_values('jp_sales', ascending = False)\n",
    "data_jp['percent_total'] = round(data_jp['jp_sales'] / data_jp['jp_sales'].sum(), 2)\n",
    "display(data_jp.head(5))"
   ]
  },
  {
   "cell_type": "code",
   "execution_count": 72,
   "metadata": {},
   "outputs": [
    {
     "data": {
      "text/plain": [
       "<AxesSubplot:xlabel='rating'>"
      ]
     },
     "execution_count": 72,
     "metadata": {},
     "output_type": "execute_result"
    },
    {
     "data": {
      "image/png": "[encoded data removed]",
      "text/plain": [
       "<Figure size 432x288 with 1 Axes>"
      ]
     },
     "metadata": {
      "needs_background": "light"
     },
     "output_type": "display_data"
    }
   ],
   "source": [
    "data_13_16.groupby('rating').agg({'jp_sales' : 'sum'}).plot(color = 'crimson')"
   ]
  },
  {
   "cell_type": "markdown",
   "metadata": {},
   "source": [
    "<div class=\"alert alert-block alert-success\">\n",
    " \n",
    "### Комментарий ревьюера\n",
    "    \n",
    "#### Успех\n",
    "    \n",
    "А вот Япония не похожа на другие регионы. Это надо обязательно учитывать.\n",
    "</div>"
   ]
  },
  {
   "cell_type": "markdown",
   "metadata": {},
   "source": [
    "Other regions"
   ]
  },
  {
   "cell_type": "code",
   "execution_count": 73,
   "metadata": {},
   "outputs": [
    {
     "data": {
      "text/html": [
       "<div>\n",
       "<style scoped>\n",
       "    .dataframe tbody tr th:only-of-type {\n",
       "        vertical-align: middle;\n",
       "    }\n",
       "\n",
       "    .dataframe tbody tr th {\n",
       "        vertical-align: top;\n",
       "    }\n",
       "\n",
       "    .dataframe thead th {\n",
       "        text-align: right;\n",
       "    }\n",
       "</style>\n",
       "<table border=\"1\" class=\"dataframe\">\n",
       "  <thead>\n",
       "    <tr style=\"text-align: right;\">\n",
       "      <th></th>\n",
       "      <th>other_sales</th>\n",
       "      <th>percent_total</th>\n",
       "    </tr>\n",
       "    <tr>\n",
       "      <th>platform</th>\n",
       "      <th></th>\n",
       "      <th></th>\n",
       "    </tr>\n",
       "  </thead>\n",
       "  <tbody>\n",
       "    <tr>\n",
       "      <th>PS4</th>\n",
       "      <td>48.35</td>\n",
       "      <td>0.43</td>\n",
       "    </tr>\n",
       "    <tr>\n",
       "      <th>PS3</th>\n",
       "      <td>26.77</td>\n",
       "      <td>0.24</td>\n",
       "    </tr>\n",
       "    <tr>\n",
       "      <th>XOne</th>\n",
       "      <td>14.27</td>\n",
       "      <td>0.13</td>\n",
       "    </tr>\n",
       "    <tr>\n",
       "      <th>X360</th>\n",
       "      <td>12.11</td>\n",
       "      <td>0.11</td>\n",
       "    </tr>\n",
       "    <tr>\n",
       "      <th>3DS</th>\n",
       "      <td>6.28</td>\n",
       "      <td>0.06</td>\n",
       "    </tr>\n",
       "  </tbody>\n",
       "</table>\n",
       "</div>"
      ],
      "text/plain": [
       "          other_sales  percent_total\n",
       "platform                            \n",
       "PS4             48.35           0.43\n",
       "PS3             26.77           0.24\n",
       "XOne            14.27           0.13\n",
       "X360            12.11           0.11\n",
       "3DS              6.28           0.06"
      ]
     },
     "metadata": {},
     "output_type": "display_data"
    }
   ],
   "source": [
    "data_other = data_13_16.pivot_table(index = 'platform', values = 'other_sales', aggfunc = 'sum').sort_values('other_sales', ascending = False)\n",
    "data_other['percent_total'] = round(data_other['other_sales'] / data_other['other_sales'].sum(), 2)\n",
    "display(data_other.head(5))"
   ]
  },
  {
   "cell_type": "code",
   "execution_count": 74,
   "metadata": {},
   "outputs": [
    {
     "data": {
      "text/html": [
       "<div>\n",
       "<style scoped>\n",
       "    .dataframe tbody tr th:only-of-type {\n",
       "        vertical-align: middle;\n",
       "    }\n",
       "\n",
       "    .dataframe tbody tr th {\n",
       "        vertical-align: top;\n",
       "    }\n",
       "\n",
       "    .dataframe thead th {\n",
       "        text-align: right;\n",
       "    }\n",
       "</style>\n",
       "<table border=\"1\" class=\"dataframe\">\n",
       "  <thead>\n",
       "    <tr style=\"text-align: right;\">\n",
       "      <th></th>\n",
       "      <th>other_sales</th>\n",
       "      <th>percent_total</th>\n",
       "    </tr>\n",
       "    <tr>\n",
       "      <th>genre</th>\n",
       "      <th></th>\n",
       "      <th></th>\n",
       "    </tr>\n",
       "  </thead>\n",
       "  <tbody>\n",
       "    <tr>\n",
       "      <th>Action</th>\n",
       "      <td>35.56</td>\n",
       "      <td>0.32</td>\n",
       "    </tr>\n",
       "    <tr>\n",
       "      <th>Shooter</th>\n",
       "      <td>27.66</td>\n",
       "      <td>0.25</td>\n",
       "    </tr>\n",
       "    <tr>\n",
       "      <th>Sports</th>\n",
       "      <td>18.94</td>\n",
       "      <td>0.17</td>\n",
       "    </tr>\n",
       "    <tr>\n",
       "      <th>Role-Playing</th>\n",
       "      <td>10.35</td>\n",
       "      <td>0.09</td>\n",
       "    </tr>\n",
       "    <tr>\n",
       "      <th>Misc</th>\n",
       "      <td>5.02</td>\n",
       "      <td>0.04</td>\n",
       "    </tr>\n",
       "  </tbody>\n",
       "</table>\n",
       "</div>"
      ],
      "text/plain": [
       "              other_sales  percent_total\n",
       "genre                                   \n",
       "Action              35.56           0.32\n",
       "Shooter             27.66           0.25\n",
       "Sports              18.94           0.17\n",
       "Role-Playing        10.35           0.09\n",
       "Misc                 5.02           0.04"
      ]
     },
     "metadata": {},
     "output_type": "display_data"
    }
   ],
   "source": [
    "data_other = data_13_16.pivot_table(index = 'genre', values = 'other_sales', aggfunc = 'sum').sort_values('other_sales', ascending = False)\n",
    "data_other['percent_total'] = round(data_other['other_sales'] / data_other['other_sales'].sum(), 2)\n",
    "display(data_other.head(5))"
   ]
  },
  {
   "cell_type": "code",
   "execution_count": 75,
   "metadata": {},
   "outputs": [
    {
     "data": {
      "text/plain": [
       "<AxesSubplot:xlabel='rating'>"
      ]
     },
     "execution_count": 75,
     "metadata": {},
     "output_type": "execute_result"
    },
    {
     "data": {
      "image/png": "[encoded data removed]",
      "text/plain": [
       "<Figure size 432x288 with 1 Axes>"
      ]
     },
     "metadata": {
      "needs_background": "light"
     },
     "output_type": "display_data"
    }
   ],
   "source": [
    "data_13_16.groupby('rating').agg({'other_sales' : 'sum'}).plot(color = 'crimson')"
   ]
  },
  {
   "cell_type": "markdown",
   "metadata": {},
   "source": [
    "Вывод:\n",
    "\n",
    "- Во всех регионах кроме JP превалирует рейтинг M, самыми непопулярными являются E10+ и T. \n",
    "- В самой Японии ситуация иная, там идинственный рейтинг, который продается, считается Unknown\n",
    "\n",
    "Насчет жанров ситуация также различается. Доминируют жанры action and shooter на консолях от playstation (во главе) и xbox. Но в Японии, конечно, все иначе. Там предпочитают жанр Role playing больше оствльных. Также они предпочитают поддерживать не западую продукцию."
   ]
  },
  {
   "cell_type": "markdown",
   "metadata": {},
   "source": [
    "<div class=\"alert alert-block alert-success\">\n",
    " \n",
    "### Комментарий ревьюера\n",
    "    \n",
    "#### Успех\n",
    "    \n",
    "Хорошо разобрал данный вопрос. Отлично. \n",
    "</div>"
   ]
  },
  {
   "cell_type": "markdown",
   "metadata": {},
   "source": [
    "## Шаг. Проверка гипотез "
   ]
  },
  {
   "cell_type": "code",
   "execution_count": 76,
   "metadata": {},
   "outputs": [],
   "source": [
    "data_13_16 = data.query('year_of_release > 2012')"
   ]
  },
  {
   "cell_type": "markdown",
   "metadata": {},
   "source": [
    "Hypothese: Средние пользовательские рейтинги платформ Xbox One и PC одинаковые\n",
    "\n",
    "- H0: Средние пользовательские рейтинги платформ Xbox One и PC одинаковые\n",
    "- H1: Средние пользовательские рейтинги платформ Xbox One и PC неодинаковые"
   ]
  },
  {
   "cell_type": "markdown",
   "metadata": {},
   "source": [
    "<div class=\"alert alert-block alert-success\">\n",
    " \n",
    "### Комментарий ревьюера\n",
    "    \n",
    "#### Успех\n",
    "    \n",
    "Гипотезы сформулированы. Отлично\n",
    "</div>"
   ]
  },
  {
   "cell_type": "code",
   "execution_count": 77,
   "metadata": {},
   "outputs": [
    {
     "name": "stdout",
     "output_type": "stream",
     "text": [
      "9.644061367994883\n",
      "8.273014753226393\n"
     ]
    }
   ],
   "source": [
    "data_xone = data_13_16.query('platform == \"XOne\"')\n",
    "data_pc = data_13_16.query('platform == \"PC\"')\n",
    "\n",
    "print(np.var(data_xone['user_score']))\n",
    "print(np.var(data_pc['user_score']))"
   ]
  },
  {
   "cell_type": "code",
   "execution_count": 78,
   "metadata": {},
   "outputs": [
    {
     "name": "stdout",
     "output_type": "stream",
     "text": [
      "247\n",
      "189\n"
     ]
    }
   ],
   "source": [
    "print(data_xone['user_score'].count())\n",
    "print(data_pc['user_score'].count())"
   ]
  },
  {
   "cell_type": "code",
   "execution_count": 79,
   "metadata": {},
   "outputs": [
    {
     "name": "stdout",
     "output_type": "stream",
     "text": [
      "p-value: 0.24875948537089854\n",
      "Not able to deny the H0\n"
     ]
    }
   ],
   "source": [
    "xone = data_xone['user_score']\n",
    "pc = data_pc['user_score']\n",
    "\n",
    "alpha = .05\n",
    "\n",
    "results = st.ttest_ind(\n",
    "    xone, \n",
    "    pc, \n",
    "    equal_var = True)\n",
    "\n",
    "print('p-value:', results.pvalue)\n",
    "\n",
    "if results.pvalue < alpha:\n",
    "    print('H0 denied')\n",
    "else:\n",
    "    print('Not able to deny the H0')"
   ]
  },
  {
   "cell_type": "markdown",
   "metadata": {},
   "source": [
    "<div class=\"alert alert-block alert-success\">\n",
    " \n",
    "### Комментарий ревьюера\n",
    "    \n",
    "#### Успех\n",
    "    \n",
    "Метод для проверки выбран верно. С выводом солидарен. \n",
    "</div>"
   ]
  },
  {
   "cell_type": "markdown",
   "metadata": {},
   "source": [
    "Hypothese: Средние пользовательские рейтинги жанров Action и Sports одинаковые\n",
    "\n",
    "- H0: Средние пользовательские рейтинги жанров Action и Sports не различаются\n",
    "- H1: Средние пользовательские рейтинги жанров Action и Sports разные"
   ]
  },
  {
   "cell_type": "code",
   "execution_count": 80,
   "metadata": {},
   "outputs": [
    {
     "name": "stdout",
     "output_type": "stream",
     "text": [
      "13.462296458319484\n",
      "13.26199112726031\n"
     ]
    }
   ],
   "source": [
    "data_action = data.query('genre == \"Action\"')\n",
    "data_sports = data.query('genre == \"Sports\"')\n",
    "\n",
    "print(np.var(data_action['user_score']))\n",
    "print(np.var(data_sports['user_score']))"
   ]
  },
  {
   "cell_type": "code",
   "execution_count": 81,
   "metadata": {},
   "outputs": [
    {
     "name": "stdout",
     "output_type": "stream",
     "text": [
      "3307\n",
      "2306\n"
     ]
    }
   ],
   "source": [
    "print(data_action['user_score'].count())\n",
    "print(data_sports['user_score'].count())"
   ]
  },
  {
   "cell_type": "code",
   "execution_count": 82,
   "metadata": {},
   "outputs": [
    {
     "name": "stdout",
     "output_type": "stream",
     "text": [
      "p-value: 7.492568776804889e-09\n",
      "H0 denied\n"
     ]
    }
   ],
   "source": [
    "action = data_action['user_score']\n",
    "sport = data_sports['user_score']\n",
    "\n",
    "alpha = .05\n",
    "\n",
    "results = st.ttest_ind(\n",
    "    action, \n",
    "    sport, \n",
    "    equal_var = True)\n",
    "\n",
    "print('p-value:', results.pvalue)\n",
    "\n",
    "if results.pvalue < alpha:\n",
    "    print('H0 denied')\n",
    "else:\n",
    "    print('Not able to deny the H0')"
   ]
  },
  {
   "cell_type": "markdown",
   "metadata": {},
   "source": [
    "Поясните:\n",
    "\n",
    "- как вы формулировали нулевую и альтернативную гипотезы;\n",
    "- какой критерий использовали для проверки гипотез и почему.\n",
    "\n",
    "В нулевой гипотезе я проверял положительную зависимость, а в альтернативной - отрицательную. Стандардная процедура, проверяю значение p-value и сравниваю с alpha. В двух случаях разные по размеру выборки с разными дисперсиями, также применил equal_var = False."
   ]
  },
  {
   "cell_type": "markdown",
   "metadata": {},
   "source": [
    "<div class=\"alert alert-block alert-success\">\n",
    " \n",
    "### Комментарий ревьюера\n",
    "    \n",
    "#### Успех\n",
    "    \n",
    "Да, ты все сделал правильно в данном случае.\n",
    "</div>"
   ]
  },
  {
   "cell_type": "markdown",
   "metadata": {},
   "source": [
    "## Шаг. Общий вывод"
   ]
  },
  {
   "cell_type": "markdown",
   "metadata": {},
   "source": [
    "Общий вывод:\n",
    "\n",
    "1) С самого начала было выявлено множество пропусков в некоторых столбцах, а также интересное значение tbd, которое было проанализированно далее. Большенство пропусков находились в последних трёх столбцах. Могу предположить, что оценки просто не успели добавить, так как игра только вышла, либо их и не собираются добавлять, так как игра имеет очень низкие продажи, или данные потеряны. Дубликаты отсутствали.\n",
    "\n",
    "2) Далее были отредактированы названия столбцов, а так же измененны их типы для дальнейшего анализа данных. Также добавлены кумулятивные продажи по регионам.\n",
    "\n",
    "3) До этого продажи на консолях держались около 10 лет, за исключкнием XB. Продажи игр все падают и их еще меньше на новых консолях (и это понятно, ибо с каждым поколением цены на консоли растут, а средний доход людей не учеличивается). Новые консоли вышли в 2013 году и уже через 3 года намечается низкое падение до уровня тех продаж, когда уже поступали в продажу новые платформы (10-20 мил.). Видно, что в этот раз продолжительность нового поколения будет точно меньше предыдущего. По продажам игр на платформы - PS4 на коне! В  top5 входят еще платформы прошлого поколения, но это ненадолго, так как их продажи игр стремительно падают. А если смотреть на картину в общем, то за 2016 сбавили все. Также была проанализирована связь между оценками критиков\\пользователей и продажами игра на разных консолях. Слабо видно, конечно, что при высокой оценке критиков, больше продаж. Но вот ситуация с оценками пользователей, очень хаотична. На DS3 вообще все наоборот, если оценка выше 85 ио 8.5, то продажи игр начинают стремительно падать. По жанрам, в общем, видно, что жанры action, shooter and sports сильно выделяется от остальных. Можно сказать, что пользователям нравится стрелялки с кучей экшона, ну и конечно футбольчик.\n",
    "\n",
    "4) После анаиза данных по регионам было выявлено, что во всех регионах кроме JP превалирует рейтинг M, а самыми непопулярными являются E10+ и T. В самой Японии ситуация иная, там идинственный рейтинг, который продается, считается Unknown. Насчет жанров ситуация также различается. Доминируют жанры action and shooter на консолях от playstation (во главе) и xbox. Но в Японии, конечно, все по-другому. Там предпочитают жанр Role playing больше остальных. Также они не предпочитают поддерживать западую продукцию.\n",
    "\n",
    "5) В заключение, я проверил нулевые гипотезы. Результат показал, что средние пользовательские рейтинги жанров Action и Sports, а также средние пользовательские рейтинги платформ Xbox и PC различаются."
   ]
  },
  {
   "cell_type": "markdown",
   "metadata": {},
   "source": [
    "<div class=\"alert alert-block alert-success\">\n",
    " \n",
    "### Комментарий ревьюера\n",
    "    \n",
    "#### Успех\n",
    "    \n",
    "Очень подробный и хороший итоговый вывод получился. На его основе мы легком можем спрогнозировать продажи в 2017.\n",
    "</div>"
   ]
  },
  {
   "cell_type": "markdown",
   "metadata": {},
   "source": [
    "<div class=\"alert alert-block alert-info\">\n",
    "\n",
    "## Итоговый комментарии от ревьюера:\n",
    "\n",
    "    \n",
    "#### Успех\n",
    "\n",
    "Очень классный проект ты сделал. Мне очень понравилось проверять твою работу. Ты применяешь правильные методы для работы с данными. В работе не содержится лишнего кода. Каждое действие подкреплено комментариями. С визуализациями у тебя тоже все отлично. Отдельно отмечу раздел по Знакомству с данными и Предобработке. Очень надеюсь, что и следующие проекты ты будешь выполнять на таком же высоком уровне.\n",
    "    \n",
    "В проекте есть лишь одно замечание, которое надо подправить:\n",
    "    \n",
    "* Переделать Ящик с усами так, чтобы были хорошо видны Медиана и квантили.\n",
    "    \n",
    "Жду проект после доработки. Уверен, ты справишься.\n",
    "</div>"
   ]
  }
 ],
 "metadata": {
  "ExecuteTimeLog": [
   {
    "duration": 1265,
    "start_time": "2022-06-03T15:55:50.369Z"
   },
   {
    "duration": 3,
    "start_time": "2022-06-03T15:55:59.955Z"
   },
   {
    "duration": 104,
    "start_time": "2022-06-03T15:56:07.408Z"
   },
   {
    "duration": 17,
    "start_time": "2022-06-03T15:56:15.446Z"
   },
   {
    "duration": 9,
    "start_time": "2022-06-03T15:56:25.064Z"
   },
   {
    "duration": 5,
    "start_time": "2022-06-03T15:56:42.665Z"
   },
   {
    "duration": 33,
    "start_time": "2022-06-03T15:56:50.431Z"
   },
   {
    "duration": 4,
    "start_time": "2022-06-03T15:56:59.411Z"
   },
   {
    "duration": 17,
    "start_time": "2022-06-03T15:57:16.025Z"
   },
   {
    "duration": 8,
    "start_time": "2022-06-03T15:58:24.148Z"
   },
   {
    "duration": 6,
    "start_time": "2022-06-03T15:58:42.476Z"
   },
   {
    "duration": 8,
    "start_time": "2022-06-03T15:59:02.534Z"
   },
   {
    "duration": 8,
    "start_time": "2022-06-03T16:00:19.385Z"
   },
   {
    "duration": 20,
    "start_time": "2022-06-03T16:01:15.222Z"
   },
   {
    "duration": 16,
    "start_time": "2022-06-03T16:02:13.999Z"
   },
   {
    "duration": 246,
    "start_time": "2022-06-03T16:02:28.669Z"
   },
   {
    "duration": 14,
    "start_time": "2022-06-03T16:02:41.163Z"
   },
   {
    "duration": 15,
    "start_time": "2022-06-03T16:03:28.152Z"
   },
   {
    "duration": 5,
    "start_time": "2022-06-03T16:03:47.386Z"
   },
   {
    "duration": 21,
    "start_time": "2022-06-03T16:04:06.250Z"
   },
   {
    "duration": 39,
    "start_time": "2022-06-03T16:04:25.010Z"
   },
   {
    "duration": 40,
    "start_time": "2022-06-03T16:04:34.508Z"
   },
   {
    "duration": 39,
    "start_time": "2022-06-03T16:04:44.965Z"
   },
   {
    "duration": 205,
    "start_time": "2022-06-03T16:04:56.419Z"
   },
   {
    "duration": 25,
    "start_time": "2022-06-03T16:05:47.051Z"
   },
   {
    "duration": 247,
    "start_time": "2022-06-03T16:05:53.098Z"
   },
   {
    "duration": 22,
    "start_time": "2022-06-03T16:06:13.269Z"
   },
   {
    "duration": 14,
    "start_time": "2022-06-03T16:06:21.949Z"
   },
   {
    "duration": 15,
    "start_time": "2022-06-03T16:06:32.117Z"
   },
   {
    "duration": 130,
    "start_time": "2022-06-03T16:06:39.076Z"
   },
   {
    "duration": 568,
    "start_time": "2022-06-03T16:07:21.809Z"
   },
   {
    "duration": 47,
    "start_time": "2022-06-03T16:07:34.539Z"
   },
   {
    "duration": 25,
    "start_time": "2022-06-03T16:07:49.469Z"
   },
   {
    "duration": 7,
    "start_time": "2022-06-03T16:07:57.388Z"
   },
   {
    "duration": 38,
    "start_time": "2022-06-03T16:08:04.337Z"
   },
   {
    "duration": 94,
    "start_time": "2022-06-03T16:08:10.064Z"
   },
   {
    "duration": 100,
    "start_time": "2022-06-03T16:08:57.986Z"
   },
   {
    "duration": 105,
    "start_time": "2022-06-03T16:09:14.401Z"
   },
   {
    "duration": 86,
    "start_time": "2022-06-03T16:09:30.895Z"
   },
   {
    "duration": 83,
    "start_time": "2022-06-03T16:11:18.217Z"
   },
   {
    "duration": 12,
    "start_time": "2022-06-03T16:11:26.719Z"
   },
   {
    "duration": 102,
    "start_time": "2022-06-03T16:11:32.963Z"
   },
   {
    "duration": 86,
    "start_time": "2022-06-03T16:11:40.731Z"
   },
   {
    "duration": 101,
    "start_time": "2022-06-03T16:11:47.419Z"
   },
   {
    "duration": 121,
    "start_time": "2022-06-03T16:11:53.747Z"
   },
   {
    "duration": 108,
    "start_time": "2022-06-03T16:12:00.316Z"
   },
   {
    "duration": 11,
    "start_time": "2022-06-03T16:12:58.078Z"
   },
   {
    "duration": 143,
    "start_time": "2022-06-03T16:13:06.526Z"
   },
   {
    "duration": 214,
    "start_time": "2022-06-03T16:13:13.702Z"
   },
   {
    "duration": 7,
    "start_time": "2022-06-03T16:13:20.319Z"
   },
   {
    "duration": 131,
    "start_time": "2022-06-03T16:13:26.164Z"
   },
   {
    "duration": 141,
    "start_time": "2022-06-03T16:13:31.588Z"
   },
   {
    "duration": 13,
    "start_time": "2022-06-03T16:13:38.441Z"
   },
   {
    "duration": 161,
    "start_time": "2022-06-03T16:13:50.133Z"
   },
   {
    "duration": 150,
    "start_time": "2022-06-03T16:13:57.496Z"
   },
   {
    "duration": 7,
    "start_time": "2022-06-03T16:14:06.845Z"
   },
   {
    "duration": 132,
    "start_time": "2022-06-03T16:14:13.638Z"
   },
   {
    "duration": 136,
    "start_time": "2022-06-03T16:14:20.390Z"
   },
   {
    "duration": 12,
    "start_time": "2022-06-03T16:14:27.021Z"
   },
   {
    "duration": 133,
    "start_time": "2022-06-03T16:14:33.082Z"
   },
   {
    "duration": 132,
    "start_time": "2022-06-03T16:14:39.302Z"
   },
   {
    "duration": 6,
    "start_time": "2022-06-03T16:14:48.007Z"
   },
   {
    "duration": 151,
    "start_time": "2022-06-03T16:14:54.093Z"
   },
   {
    "duration": 129,
    "start_time": "2022-06-03T16:15:06.323Z"
   },
   {
    "duration": 157,
    "start_time": "2022-06-03T16:16:55.950Z"
   },
   {
    "duration": 144,
    "start_time": "2022-06-03T16:17:02.683Z"
   },
   {
    "duration": 17,
    "start_time": "2022-06-03T16:19:26.335Z"
   },
   {
    "duration": 17,
    "start_time": "2022-06-03T16:19:33.102Z"
   },
   {
    "duration": 143,
    "start_time": "2022-06-03T16:19:39.518Z"
   },
   {
    "duration": 18,
    "start_time": "2022-06-03T16:19:54.592Z"
   },
   {
    "duration": 16,
    "start_time": "2022-06-03T16:20:04.052Z"
   },
   {
    "duration": 130,
    "start_time": "2022-06-03T16:20:12.982Z"
   },
   {
    "duration": 16,
    "start_time": "2022-06-03T16:20:42.438Z"
   },
   {
    "duration": 16,
    "start_time": "2022-06-03T16:20:54.471Z"
   },
   {
    "duration": 129,
    "start_time": "2022-06-03T16:21:03.773Z"
   },
   {
    "duration": 16,
    "start_time": "2022-06-03T16:21:19.825Z"
   },
   {
    "duration": 16,
    "start_time": "2022-06-03T16:21:27.190Z"
   },
   {
    "duration": 133,
    "start_time": "2022-06-03T16:21:34.078Z"
   },
   {
    "duration": 6,
    "start_time": "2022-06-03T16:23:03.384Z"
   },
   {
    "duration": 10,
    "start_time": "2022-06-03T16:23:28.331Z"
   },
   {
    "duration": 5,
    "start_time": "2022-06-03T16:23:35.189Z"
   },
   {
    "duration": 4,
    "start_time": "2022-06-03T16:23:47.543Z"
   },
   {
    "duration": 12,
    "start_time": "2022-06-03T16:24:12.705Z"
   },
   {
    "duration": 4,
    "start_time": "2022-06-03T16:24:18.261Z"
   },
   {
    "duration": 6,
    "start_time": "2022-06-03T16:24:31.472Z"
   },
   {
    "duration": 74,
    "start_time": "2022-06-04T13:57:40.555Z"
   },
   {
    "duration": 8,
    "start_time": "2022-06-04T13:57:51.965Z"
   },
   {
    "duration": 1510,
    "start_time": "2022-06-04T13:58:03.940Z"
   },
   {
    "duration": 3,
    "start_time": "2022-06-04T13:58:05.452Z"
   },
   {
    "duration": 584,
    "start_time": "2022-06-04T13:58:05.457Z"
   },
   {
    "duration": 19,
    "start_time": "2022-06-04T13:58:06.043Z"
   },
   {
    "duration": 13,
    "start_time": "2022-06-04T13:58:06.066Z"
   },
   {
    "duration": 18,
    "start_time": "2022-06-04T13:58:06.082Z"
   },
   {
    "duration": 25,
    "start_time": "2022-06-04T13:58:06.107Z"
   },
   {
    "duration": 5,
    "start_time": "2022-06-04T13:58:06.134Z"
   },
   {
    "duration": 19,
    "start_time": "2022-06-04T13:58:06.141Z"
   },
   {
    "duration": 8,
    "start_time": "2022-06-04T13:58:06.161Z"
   },
   {
    "duration": 27,
    "start_time": "2022-06-04T13:58:06.170Z"
   },
   {
    "duration": 17,
    "start_time": "2022-06-04T13:58:06.198Z"
   },
   {
    "duration": 25,
    "start_time": "2022-06-04T13:58:06.216Z"
   },
   {
    "duration": 16,
    "start_time": "2022-06-04T13:58:06.245Z"
   },
   {
    "duration": 321,
    "start_time": "2022-06-04T13:58:06.263Z"
   },
   {
    "duration": 34,
    "start_time": "2022-06-04T13:58:06.586Z"
   },
   {
    "duration": 15,
    "start_time": "2022-06-04T13:58:06.622Z"
   },
   {
    "duration": 5,
    "start_time": "2022-06-04T13:58:06.638Z"
   },
   {
    "duration": 20,
    "start_time": "2022-06-04T13:58:06.644Z"
   },
   {
    "duration": 54,
    "start_time": "2022-06-04T13:58:06.665Z"
   },
   {
    "duration": 41,
    "start_time": "2022-06-04T13:58:06.720Z"
   },
   {
    "duration": 235,
    "start_time": "2022-06-04T13:58:06.763Z"
   },
   {
    "duration": 29,
    "start_time": "2022-06-04T13:58:07.008Z"
   },
   {
    "duration": 342,
    "start_time": "2022-06-04T13:58:07.039Z"
   },
   {
    "duration": 40,
    "start_time": "2022-06-04T13:58:07.383Z"
   },
   {
    "duration": 22,
    "start_time": "2022-06-04T13:58:07.425Z"
   },
   {
    "duration": 23,
    "start_time": "2022-06-04T13:58:07.449Z"
   },
   {
    "duration": 196,
    "start_time": "2022-06-04T13:58:07.473Z"
   },
   {
    "duration": 47,
    "start_time": "2022-06-04T13:58:07.671Z"
   },
   {
    "duration": 7,
    "start_time": "2022-06-04T13:58:07.721Z"
   },
   {
    "duration": 39,
    "start_time": "2022-06-04T13:58:07.730Z"
   },
   {
    "duration": 126,
    "start_time": "2022-06-04T13:58:07.771Z"
   },
   {
    "duration": 114,
    "start_time": "2022-06-04T13:58:07.904Z"
   },
   {
    "duration": 116,
    "start_time": "2022-06-04T13:58:08.020Z"
   },
   {
    "duration": 121,
    "start_time": "2022-06-04T13:58:08.138Z"
   },
   {
    "duration": 146,
    "start_time": "2022-06-04T13:58:08.261Z"
   },
   {
    "duration": 17,
    "start_time": "2022-06-04T13:58:08.409Z"
   },
   {
    "duration": 142,
    "start_time": "2022-06-04T13:58:08.427Z"
   },
   {
    "duration": 149,
    "start_time": "2022-06-04T13:58:08.571Z"
   },
   {
    "duration": 165,
    "start_time": "2022-06-04T13:58:08.722Z"
   },
   {
    "duration": 138,
    "start_time": "2022-06-04T13:58:08.893Z"
   },
   {
    "duration": 139,
    "start_time": "2022-06-04T13:58:09.033Z"
   },
   {
    "duration": 34,
    "start_time": "2022-06-04T13:58:09.174Z"
   },
   {
    "duration": 203,
    "start_time": "2022-06-04T13:58:09.209Z"
   },
   {
    "duration": 250,
    "start_time": "2022-06-04T13:58:09.416Z"
   },
   {
    "duration": 7,
    "start_time": "2022-06-04T13:58:09.668Z"
   },
   {
    "duration": 197,
    "start_time": "2022-06-04T13:58:09.689Z"
   },
   {
    "duration": 192,
    "start_time": "2022-06-04T13:58:09.887Z"
   },
   {
    "duration": 13,
    "start_time": "2022-06-04T13:58:10.081Z"
   },
   {
    "duration": 210,
    "start_time": "2022-06-04T13:58:10.096Z"
   },
   {
    "duration": 173,
    "start_time": "2022-06-04T13:58:10.315Z"
   },
   {
    "duration": 19,
    "start_time": "2022-06-04T13:58:10.493Z"
   },
   {
    "duration": 165,
    "start_time": "2022-06-04T13:58:10.513Z"
   },
   {
    "duration": 179,
    "start_time": "2022-06-04T13:58:10.680Z"
   },
   {
    "duration": 12,
    "start_time": "2022-06-04T13:58:10.861Z"
   },
   {
    "duration": 161,
    "start_time": "2022-06-04T13:58:10.896Z"
   },
   {
    "duration": 161,
    "start_time": "2022-06-04T13:58:11.058Z"
   },
   {
    "duration": 7,
    "start_time": "2022-06-04T13:58:11.220Z"
   },
   {
    "duration": 197,
    "start_time": "2022-06-04T13:58:11.229Z"
   },
   {
    "duration": 158,
    "start_time": "2022-06-04T13:58:11.427Z"
   },
   {
    "duration": 182,
    "start_time": "2022-06-04T13:58:11.587Z"
   },
   {
    "duration": 173,
    "start_time": "2022-06-04T13:58:11.770Z"
   },
   {
    "duration": 18,
    "start_time": "2022-06-04T13:58:11.945Z"
   },
   {
    "duration": 39,
    "start_time": "2022-06-04T13:58:11.964Z"
   },
   {
    "duration": 172,
    "start_time": "2022-06-04T13:58:12.004Z"
   },
   {
    "duration": 29,
    "start_time": "2022-06-04T13:58:12.178Z"
   },
   {
    "duration": 23,
    "start_time": "2022-06-04T13:58:12.211Z"
   },
   {
    "duration": 174,
    "start_time": "2022-06-04T13:58:12.236Z"
   },
   {
    "duration": 21,
    "start_time": "2022-06-04T13:58:12.416Z"
   },
   {
    "duration": 18,
    "start_time": "2022-06-04T13:58:12.439Z"
   },
   {
    "duration": 166,
    "start_time": "2022-06-04T13:58:12.459Z"
   },
   {
    "duration": 18,
    "start_time": "2022-06-04T13:58:12.627Z"
   },
   {
    "duration": 22,
    "start_time": "2022-06-04T13:58:12.646Z"
   },
   {
    "duration": 197,
    "start_time": "2022-06-04T13:58:12.670Z"
   },
   {
    "duration": 6,
    "start_time": "2022-06-04T13:58:12.869Z"
   },
   {
    "duration": 26,
    "start_time": "2022-06-04T13:58:12.876Z"
   },
   {
    "duration": 10,
    "start_time": "2022-06-04T13:58:12.911Z"
   },
   {
    "duration": 5,
    "start_time": "2022-06-04T13:58:12.923Z"
   },
   {
    "duration": 13,
    "start_time": "2022-06-04T13:58:12.930Z"
   },
   {
    "duration": 4,
    "start_time": "2022-06-04T13:58:12.945Z"
   },
   {
    "duration": 8,
    "start_time": "2022-06-04T13:58:12.951Z"
   },
   {
    "duration": 350,
    "start_time": "2022-06-04T13:58:34.214Z"
   },
   {
    "duration": 136,
    "start_time": "2022-06-04T14:00:02.029Z"
   },
   {
    "duration": 116,
    "start_time": "2022-06-04T14:01:00.621Z"
   },
   {
    "duration": 112,
    "start_time": "2022-06-04T14:01:11.517Z"
   },
   {
    "duration": 112,
    "start_time": "2022-06-04T14:01:17.642Z"
   },
   {
    "duration": 135,
    "start_time": "2022-06-04T14:01:28.806Z"
   },
   {
    "duration": 18,
    "start_time": "2022-06-04T14:02:01.390Z"
   },
   {
    "duration": 18,
    "start_time": "2022-06-04T14:02:31.190Z"
   },
   {
    "duration": 12,
    "start_time": "2022-06-04T14:02:35.857Z"
   },
   {
    "duration": 11,
    "start_time": "2022-06-04T14:02:39.652Z"
   },
   {
    "duration": 1247,
    "start_time": "2022-06-04T14:02:53.340Z"
   },
   {
    "duration": 15,
    "start_time": "2022-06-04T14:02:54.590Z"
   },
   {
    "duration": 99,
    "start_time": "2022-06-04T14:02:54.607Z"
   },
   {
    "duration": 22,
    "start_time": "2022-06-04T14:02:54.710Z"
   },
   {
    "duration": 10,
    "start_time": "2022-06-04T14:02:54.735Z"
   },
   {
    "duration": 10,
    "start_time": "2022-06-04T14:02:54.746Z"
   },
   {
    "duration": 51,
    "start_time": "2022-06-04T14:02:54.758Z"
   },
   {
    "duration": 7,
    "start_time": "2022-06-04T14:02:54.811Z"
   },
   {
    "duration": 27,
    "start_time": "2022-06-04T14:02:54.820Z"
   },
   {
    "duration": 9,
    "start_time": "2022-06-04T14:02:54.851Z"
   },
   {
    "duration": 35,
    "start_time": "2022-06-04T14:02:54.862Z"
   },
   {
    "duration": 12,
    "start_time": "2022-06-04T14:02:54.903Z"
   },
   {
    "duration": 21,
    "start_time": "2022-06-04T14:02:54.917Z"
   },
   {
    "duration": 17,
    "start_time": "2022-06-04T14:02:54.940Z"
   },
   {
    "duration": 309,
    "start_time": "2022-06-04T14:02:54.959Z"
   },
   {
    "duration": 29,
    "start_time": "2022-06-04T14:02:55.270Z"
   },
   {
    "duration": 18,
    "start_time": "2022-06-04T14:02:55.301Z"
   },
   {
    "duration": 5,
    "start_time": "2022-06-04T14:02:55.320Z"
   },
   {
    "duration": 19,
    "start_time": "2022-06-04T14:02:55.327Z"
   },
   {
    "duration": 58,
    "start_time": "2022-06-04T14:02:55.348Z"
   },
   {
    "duration": 43,
    "start_time": "2022-06-04T14:02:55.408Z"
   },
   {
    "duration": 223,
    "start_time": "2022-06-04T14:02:55.453Z"
   },
   {
    "duration": 41,
    "start_time": "2022-06-04T14:02:55.678Z"
   },
   {
    "duration": 319,
    "start_time": "2022-06-04T14:02:55.721Z"
   },
   {
    "duration": 27,
    "start_time": "2022-06-04T14:02:56.042Z"
   },
   {
    "duration": 39,
    "start_time": "2022-06-04T14:02:56.071Z"
   },
   {
    "duration": 20,
    "start_time": "2022-06-04T14:02:56.113Z"
   },
   {
    "duration": 188,
    "start_time": "2022-06-04T14:02:56.139Z"
   },
   {
    "duration": 31,
    "start_time": "2022-06-04T14:02:56.329Z"
   },
   {
    "duration": 7,
    "start_time": "2022-06-04T14:02:56.362Z"
   },
   {
    "duration": 72,
    "start_time": "2022-06-04T14:02:56.370Z"
   },
   {
    "duration": 121,
    "start_time": "2022-06-04T14:02:56.444Z"
   },
   {
    "duration": 137,
    "start_time": "2022-06-04T14:02:56.567Z"
   },
   {
    "duration": 116,
    "start_time": "2022-06-04T14:02:56.705Z"
   },
   {
    "duration": 124,
    "start_time": "2022-06-04T14:02:56.823Z"
   },
   {
    "duration": 130,
    "start_time": "2022-06-04T14:02:56.949Z"
   },
   {
    "duration": 27,
    "start_time": "2022-06-04T14:02:57.081Z"
   },
   {
    "duration": 131,
    "start_time": "2022-06-04T14:02:57.109Z"
   },
   {
    "duration": 121,
    "start_time": "2022-06-04T14:02:57.245Z"
   },
   {
    "duration": 148,
    "start_time": "2022-06-04T14:02:57.368Z"
   },
   {
    "duration": 147,
    "start_time": "2022-06-04T14:02:57.518Z"
   },
   {
    "duration": 143,
    "start_time": "2022-06-04T14:02:57.666Z"
   },
   {
    "duration": 12,
    "start_time": "2022-06-04T14:02:57.811Z"
   },
   {
    "duration": 189,
    "start_time": "2022-06-04T14:02:57.825Z"
   },
   {
    "duration": 315,
    "start_time": "2022-06-04T14:02:58.015Z"
   },
   {
    "duration": 8,
    "start_time": "2022-06-04T14:02:58.332Z"
   },
   {
    "duration": 226,
    "start_time": "2022-06-04T14:02:58.342Z"
   },
   {
    "duration": 232,
    "start_time": "2022-06-04T14:02:58.571Z"
   },
   {
    "duration": 17,
    "start_time": "2022-06-04T14:02:58.806Z"
   },
   {
    "duration": 210,
    "start_time": "2022-06-04T14:02:58.825Z"
   },
   {
    "duration": 202,
    "start_time": "2022-06-04T14:02:59.037Z"
   },
   {
    "duration": 11,
    "start_time": "2022-06-04T14:02:59.241Z"
   },
   {
    "duration": 201,
    "start_time": "2022-06-04T14:02:59.254Z"
   },
   {
    "duration": 202,
    "start_time": "2022-06-04T14:02:59.457Z"
   },
   {
    "duration": 18,
    "start_time": "2022-06-04T14:02:59.661Z"
   },
   {
    "duration": 179,
    "start_time": "2022-06-04T14:02:59.692Z"
   },
   {
    "duration": 173,
    "start_time": "2022-06-04T14:02:59.873Z"
   },
   {
    "duration": 8,
    "start_time": "2022-06-04T14:03:00.048Z"
   },
   {
    "duration": 191,
    "start_time": "2022-06-04T14:03:00.058Z"
   },
   {
    "duration": 189,
    "start_time": "2022-06-04T14:03:00.252Z"
   },
   {
    "duration": 196,
    "start_time": "2022-06-04T14:03:00.444Z"
   },
   {
    "duration": 191,
    "start_time": "2022-06-04T14:03:00.642Z"
   },
   {
    "duration": 20,
    "start_time": "2022-06-04T14:03:00.836Z"
   },
   {
    "duration": 47,
    "start_time": "2022-06-04T14:03:00.858Z"
   },
   {
    "duration": 211,
    "start_time": "2022-06-04T14:03:00.907Z"
   },
   {
    "duration": 17,
    "start_time": "2022-06-04T14:03:01.119Z"
   },
   {
    "duration": 21,
    "start_time": "2022-06-04T14:03:01.138Z"
   },
   {
    "duration": 173,
    "start_time": "2022-06-04T14:03:01.160Z"
   },
   {
    "duration": 28,
    "start_time": "2022-06-04T14:03:01.335Z"
   },
   {
    "duration": 45,
    "start_time": "2022-06-04T14:03:01.365Z"
   },
   {
    "duration": 199,
    "start_time": "2022-06-04T14:03:01.413Z"
   },
   {
    "duration": 25,
    "start_time": "2022-06-04T14:03:01.613Z"
   },
   {
    "duration": 23,
    "start_time": "2022-06-04T14:03:01.640Z"
   },
   {
    "duration": 208,
    "start_time": "2022-06-04T14:03:01.664Z"
   },
   {
    "duration": 17,
    "start_time": "2022-06-04T14:03:01.875Z"
   },
   {
    "duration": 37,
    "start_time": "2022-06-04T14:03:01.894Z"
   },
   {
    "duration": 19,
    "start_time": "2022-06-04T14:03:01.934Z"
   },
   {
    "duration": 28,
    "start_time": "2022-06-04T14:03:01.955Z"
   },
   {
    "duration": 52,
    "start_time": "2022-06-04T14:03:01.986Z"
   },
   {
    "duration": 18,
    "start_time": "2022-06-04T14:03:02.040Z"
   },
   {
    "duration": 26,
    "start_time": "2022-06-04T14:03:02.064Z"
   },
   {
    "duration": 151,
    "start_time": "2022-06-04T14:03:35.989Z"
   },
   {
    "duration": 10,
    "start_time": "2022-06-04T14:04:08.840Z"
   },
   {
    "duration": 1290,
    "start_time": "2022-06-04T14:04:22.026Z"
   },
   {
    "duration": 3,
    "start_time": "2022-06-04T14:04:23.318Z"
   },
   {
    "duration": 89,
    "start_time": "2022-06-04T14:04:23.322Z"
   },
   {
    "duration": 16,
    "start_time": "2022-06-04T14:04:23.413Z"
   },
   {
    "duration": 10,
    "start_time": "2022-06-04T14:04:23.432Z"
   },
   {
    "duration": 6,
    "start_time": "2022-06-04T14:04:23.444Z"
   },
   {
    "duration": 59,
    "start_time": "2022-06-04T14:04:23.452Z"
   },
   {
    "duration": 4,
    "start_time": "2022-06-04T14:04:23.513Z"
   },
   {
    "duration": 26,
    "start_time": "2022-06-04T14:04:23.519Z"
   },
   {
    "duration": 15,
    "start_time": "2022-06-04T14:04:23.547Z"
   },
   {
    "duration": 16,
    "start_time": "2022-06-04T14:04:23.564Z"
   },
   {
    "duration": 39,
    "start_time": "2022-06-04T14:04:23.591Z"
   },
   {
    "duration": 41,
    "start_time": "2022-06-04T14:04:23.632Z"
   },
   {
    "duration": 29,
    "start_time": "2022-06-04T14:04:23.676Z"
   },
   {
    "duration": 292,
    "start_time": "2022-06-04T14:04:23.708Z"
   },
   {
    "duration": 17,
    "start_time": "2022-06-04T14:04:24.001Z"
   },
   {
    "duration": 17,
    "start_time": "2022-06-04T14:04:24.020Z"
   },
   {
    "duration": 9,
    "start_time": "2022-06-04T14:04:24.039Z"
   },
   {
    "duration": 57,
    "start_time": "2022-06-04T14:04:24.050Z"
   },
   {
    "duration": 26,
    "start_time": "2022-06-04T14:04:24.108Z"
   },
   {
    "duration": 40,
    "start_time": "2022-06-04T14:04:24.136Z"
   },
   {
    "duration": 234,
    "start_time": "2022-06-04T14:04:24.178Z"
   },
   {
    "duration": 28,
    "start_time": "2022-06-04T14:04:24.414Z"
   },
   {
    "duration": 324,
    "start_time": "2022-06-04T14:04:24.443Z"
   },
   {
    "duration": 43,
    "start_time": "2022-06-04T14:04:24.770Z"
   },
   {
    "duration": 15,
    "start_time": "2022-06-04T14:04:24.814Z"
   },
   {
    "duration": 14,
    "start_time": "2022-06-04T14:04:24.831Z"
   },
   {
    "duration": 184,
    "start_time": "2022-06-04T14:04:24.847Z"
   },
   {
    "duration": 29,
    "start_time": "2022-06-04T14:04:25.032Z"
   },
   {
    "duration": 36,
    "start_time": "2022-06-04T14:04:25.063Z"
   },
   {
    "duration": 70,
    "start_time": "2022-06-04T14:04:25.102Z"
   },
   {
    "duration": 137,
    "start_time": "2022-06-04T14:04:25.174Z"
   },
   {
    "duration": 127,
    "start_time": "2022-06-04T14:04:25.313Z"
   },
   {
    "duration": 118,
    "start_time": "2022-06-04T14:04:25.441Z"
   },
   {
    "duration": 116,
    "start_time": "2022-06-04T14:04:25.561Z"
   },
   {
    "duration": 120,
    "start_time": "2022-06-04T14:04:25.679Z"
   },
   {
    "duration": 15,
    "start_time": "2022-06-04T14:04:25.803Z"
   },
   {
    "duration": 129,
    "start_time": "2022-06-04T14:04:25.819Z"
   },
   {
    "duration": 133,
    "start_time": "2022-06-04T14:04:25.950Z"
   },
   {
    "duration": 132,
    "start_time": "2022-06-04T14:04:26.084Z"
   },
   {
    "duration": 146,
    "start_time": "2022-06-04T14:04:26.220Z"
   },
   {
    "duration": 147,
    "start_time": "2022-06-04T14:04:26.368Z"
   },
   {
    "duration": 13,
    "start_time": "2022-06-04T14:04:26.516Z"
   },
   {
    "duration": 211,
    "start_time": "2022-06-04T14:04:26.531Z"
   },
   {
    "duration": 274,
    "start_time": "2022-06-04T14:04:26.744Z"
   },
   {
    "duration": 8,
    "start_time": "2022-06-04T14:04:27.021Z"
   },
   {
    "duration": 203,
    "start_time": "2022-06-04T14:04:27.030Z"
   },
   {
    "duration": 195,
    "start_time": "2022-06-04T14:04:27.236Z"
   },
   {
    "duration": 13,
    "start_time": "2022-06-04T14:04:27.433Z"
   },
   {
    "duration": 214,
    "start_time": "2022-06-04T14:04:27.449Z"
   },
   {
    "duration": 186,
    "start_time": "2022-06-04T14:04:27.665Z"
   },
   {
    "duration": 7,
    "start_time": "2022-06-04T14:04:27.853Z"
   },
   {
    "duration": 189,
    "start_time": "2022-06-04T14:04:27.862Z"
   },
   {
    "duration": 197,
    "start_time": "2022-06-04T14:04:28.053Z"
   },
   {
    "duration": 16,
    "start_time": "2022-06-04T14:04:28.253Z"
   },
   {
    "duration": 230,
    "start_time": "2022-06-04T14:04:28.271Z"
   },
   {
    "duration": 218,
    "start_time": "2022-06-04T14:04:28.503Z"
   },
   {
    "duration": 8,
    "start_time": "2022-06-04T14:04:28.724Z"
   },
   {
    "duration": 216,
    "start_time": "2022-06-04T14:04:28.734Z"
   },
   {
    "duration": 175,
    "start_time": "2022-06-04T14:04:28.952Z"
   },
   {
    "duration": 195,
    "start_time": "2022-06-04T14:04:29.129Z"
   },
   {
    "duration": 189,
    "start_time": "2022-06-04T14:04:29.326Z"
   },
   {
    "duration": 19,
    "start_time": "2022-06-04T14:04:29.517Z"
   },
   {
    "duration": 17,
    "start_time": "2022-06-04T14:04:29.538Z"
   },
   {
    "duration": 180,
    "start_time": "2022-06-04T14:04:29.556Z"
   },
   {
    "duration": 18,
    "start_time": "2022-06-04T14:04:29.738Z"
   },
   {
    "duration": 16,
    "start_time": "2022-06-04T14:04:29.758Z"
   },
   {
    "duration": 160,
    "start_time": "2022-06-04T14:04:29.800Z"
   },
   {
    "duration": 40,
    "start_time": "2022-06-04T14:04:29.962Z"
   },
   {
    "duration": 25,
    "start_time": "2022-06-04T14:04:30.008Z"
   },
   {
    "duration": 169,
    "start_time": "2022-06-04T14:04:30.035Z"
   },
   {
    "duration": 17,
    "start_time": "2022-06-04T14:04:30.206Z"
   },
   {
    "duration": 26,
    "start_time": "2022-06-04T14:04:30.225Z"
   },
   {
    "duration": 203,
    "start_time": "2022-06-04T14:04:30.253Z"
   },
   {
    "duration": 7,
    "start_time": "2022-06-04T14:04:30.458Z"
   },
   {
    "duration": 33,
    "start_time": "2022-06-04T14:04:30.466Z"
   },
   {
    "duration": 23,
    "start_time": "2022-06-04T14:04:30.504Z"
   },
   {
    "duration": 25,
    "start_time": "2022-06-04T14:04:30.530Z"
   },
   {
    "duration": 26,
    "start_time": "2022-06-04T14:04:30.558Z"
   },
   {
    "duration": 5,
    "start_time": "2022-06-04T14:04:30.586Z"
   },
   {
    "duration": 26,
    "start_time": "2022-06-04T14:04:30.592Z"
   },
   {
    "duration": 131,
    "start_time": "2022-06-04T14:05:30.029Z"
   },
   {
    "duration": 239,
    "start_time": "2022-06-04T14:05:49.701Z"
   },
   {
    "duration": 113,
    "start_time": "2022-06-04T14:05:57.432Z"
   },
   {
    "duration": 119,
    "start_time": "2022-06-04T14:06:25.226Z"
   },
   {
    "duration": 124,
    "start_time": "2022-06-04T14:06:33.458Z"
   },
   {
    "duration": 155,
    "start_time": "2022-06-04T14:07:08.521Z"
   },
   {
    "duration": 1264,
    "start_time": "2022-06-04T14:07:40.502Z"
   },
   {
    "duration": 4,
    "start_time": "2022-06-04T14:07:41.768Z"
   },
   {
    "duration": 89,
    "start_time": "2022-06-04T14:07:41.774Z"
   },
   {
    "duration": 15,
    "start_time": "2022-06-04T14:07:41.865Z"
   },
   {
    "duration": 24,
    "start_time": "2022-06-04T14:07:41.881Z"
   },
   {
    "duration": 6,
    "start_time": "2022-06-04T14:07:41.907Z"
   },
   {
    "duration": 22,
    "start_time": "2022-06-04T14:07:41.914Z"
   },
   {
    "duration": 4,
    "start_time": "2022-06-04T14:07:41.938Z"
   },
   {
    "duration": 18,
    "start_time": "2022-06-04T14:07:41.944Z"
   },
   {
    "duration": 25,
    "start_time": "2022-06-04T14:07:41.965Z"
   },
   {
    "duration": 14,
    "start_time": "2022-06-04T14:07:41.991Z"
   },
   {
    "duration": 11,
    "start_time": "2022-06-04T14:07:42.007Z"
   },
   {
    "duration": 20,
    "start_time": "2022-06-04T14:07:42.021Z"
   },
   {
    "duration": 17,
    "start_time": "2022-06-04T14:07:42.043Z"
   },
   {
    "duration": 318,
    "start_time": "2022-06-04T14:07:42.062Z"
   },
   {
    "duration": 24,
    "start_time": "2022-06-04T14:07:42.381Z"
   },
   {
    "duration": 17,
    "start_time": "2022-06-04T14:07:42.407Z"
   },
   {
    "duration": 6,
    "start_time": "2022-06-04T14:07:42.425Z"
   },
   {
    "duration": 29,
    "start_time": "2022-06-04T14:07:42.432Z"
   },
   {
    "duration": 50,
    "start_time": "2022-06-04T14:07:42.463Z"
   },
   {
    "duration": 46,
    "start_time": "2022-06-04T14:07:42.515Z"
   },
   {
    "duration": 258,
    "start_time": "2022-06-04T14:07:42.563Z"
   },
   {
    "duration": 30,
    "start_time": "2022-06-04T14:07:42.823Z"
   },
   {
    "duration": 324,
    "start_time": "2022-06-04T14:07:42.855Z"
   },
   {
    "duration": 34,
    "start_time": "2022-06-04T14:07:43.180Z"
   },
   {
    "duration": 15,
    "start_time": "2022-06-04T14:07:43.216Z"
   },
   {
    "duration": 16,
    "start_time": "2022-06-04T14:07:43.233Z"
   },
   {
    "duration": 187,
    "start_time": "2022-06-04T14:07:43.253Z"
   },
   {
    "duration": 29,
    "start_time": "2022-06-04T14:07:43.442Z"
   },
   {
    "duration": 31,
    "start_time": "2022-06-04T14:07:43.473Z"
   },
   {
    "duration": 54,
    "start_time": "2022-06-04T14:07:43.506Z"
   },
   {
    "duration": 121,
    "start_time": "2022-06-04T14:07:43.562Z"
   },
   {
    "duration": 126,
    "start_time": "2022-06-04T14:07:43.690Z"
   },
   {
    "duration": 117,
    "start_time": "2022-06-04T14:07:43.818Z"
   },
   {
    "duration": 112,
    "start_time": "2022-06-04T14:07:43.937Z"
   },
   {
    "duration": 117,
    "start_time": "2022-06-04T14:07:44.051Z"
   },
   {
    "duration": 29,
    "start_time": "2022-06-04T14:07:44.170Z"
   },
   {
    "duration": 117,
    "start_time": "2022-06-04T14:07:44.201Z"
   },
   {
    "duration": 144,
    "start_time": "2022-06-04T14:07:44.320Z"
   },
   {
    "duration": 146,
    "start_time": "2022-06-04T14:07:44.466Z"
   },
   {
    "duration": 147,
    "start_time": "2022-06-04T14:07:44.614Z"
   },
   {
    "duration": 141,
    "start_time": "2022-06-04T14:07:44.763Z"
   },
   {
    "duration": 12,
    "start_time": "2022-06-04T14:07:44.906Z"
   },
   {
    "duration": 190,
    "start_time": "2022-06-04T14:07:44.920Z"
   },
   {
    "duration": 259,
    "start_time": "2022-06-04T14:07:45.112Z"
   },
   {
    "duration": 7,
    "start_time": "2022-06-04T14:07:45.373Z"
   },
   {
    "duration": 171,
    "start_time": "2022-06-04T14:07:45.389Z"
   },
   {
    "duration": 176,
    "start_time": "2022-06-04T14:07:45.562Z"
   },
   {
    "duration": 13,
    "start_time": "2022-06-04T14:07:45.740Z"
   },
   {
    "duration": 198,
    "start_time": "2022-06-04T14:07:45.754Z"
   },
   {
    "duration": 171,
    "start_time": "2022-06-04T14:07:45.954Z"
   },
   {
    "duration": 7,
    "start_time": "2022-06-04T14:07:46.127Z"
   },
   {
    "duration": 180,
    "start_time": "2022-06-04T14:07:46.136Z"
   },
   {
    "duration": 188,
    "start_time": "2022-06-04T14:07:46.318Z"
   },
   {
    "duration": 12,
    "start_time": "2022-06-04T14:07:46.508Z"
   },
   {
    "duration": 182,
    "start_time": "2022-06-04T14:07:46.522Z"
   },
   {
    "duration": 165,
    "start_time": "2022-06-04T14:07:46.706Z"
   },
   {
    "duration": 26,
    "start_time": "2022-06-04T14:07:46.873Z"
   },
   {
    "duration": 154,
    "start_time": "2022-06-04T14:07:46.904Z"
   },
   {
    "duration": 164,
    "start_time": "2022-06-04T14:07:47.060Z"
   },
   {
    "duration": 182,
    "start_time": "2022-06-04T14:07:47.226Z"
   },
   {
    "duration": 194,
    "start_time": "2022-06-04T14:07:47.410Z"
   },
   {
    "duration": 17,
    "start_time": "2022-06-04T14:07:47.606Z"
   },
   {
    "duration": 18,
    "start_time": "2022-06-04T14:07:47.625Z"
   },
   {
    "duration": 190,
    "start_time": "2022-06-04T14:07:47.645Z"
   },
   {
    "duration": 19,
    "start_time": "2022-06-04T14:07:47.837Z"
   },
   {
    "duration": 24,
    "start_time": "2022-06-04T14:07:47.857Z"
   },
   {
    "duration": 163,
    "start_time": "2022-06-04T14:07:47.890Z"
   },
   {
    "duration": 17,
    "start_time": "2022-06-04T14:07:48.055Z"
   },
   {
    "duration": 34,
    "start_time": "2022-06-04T14:07:48.074Z"
   },
   {
    "duration": 200,
    "start_time": "2022-06-04T14:07:48.109Z"
   },
   {
    "duration": 22,
    "start_time": "2022-06-04T14:07:48.311Z"
   },
   {
    "duration": 23,
    "start_time": "2022-06-04T14:07:48.334Z"
   },
   {
    "duration": 227,
    "start_time": "2022-06-04T14:07:48.359Z"
   },
   {
    "duration": 17,
    "start_time": "2022-06-04T14:07:48.592Z"
   },
   {
    "duration": 15,
    "start_time": "2022-06-04T14:07:48.611Z"
   },
   {
    "duration": 5,
    "start_time": "2022-06-04T14:07:48.627Z"
   },
   {
    "duration": 6,
    "start_time": "2022-06-04T14:07:48.634Z"
   },
   {
    "duration": 14,
    "start_time": "2022-06-04T14:07:48.642Z"
   },
   {
    "duration": 4,
    "start_time": "2022-06-04T14:07:48.657Z"
   },
   {
    "duration": 27,
    "start_time": "2022-06-04T14:07:48.662Z"
   },
   {
    "duration": 261,
    "start_time": "2022-06-04T14:11:53.193Z"
   },
   {
    "duration": 125,
    "start_time": "2022-06-04T14:11:59.654Z"
   },
   {
    "duration": 122,
    "start_time": "2022-06-04T14:12:24.760Z"
   },
   {
    "duration": 169,
    "start_time": "2022-06-04T14:12:31.901Z"
   },
   {
    "duration": 4,
    "start_time": "2022-06-04T15:00:44.426Z"
   },
   {
    "duration": 7,
    "start_time": "2022-06-04T15:00:44.431Z"
   },
   {
    "duration": 73,
    "start_time": "2022-06-04T15:00:44.440Z"
   },
   {
    "duration": 15,
    "start_time": "2022-06-04T15:00:44.515Z"
   },
   {
    "duration": 11,
    "start_time": "2022-06-04T15:00:44.532Z"
   },
   {
    "duration": 9,
    "start_time": "2022-06-04T15:00:44.545Z"
   },
   {
    "duration": 47,
    "start_time": "2022-06-04T15:00:44.556Z"
   },
   {
    "duration": 5,
    "start_time": "2022-06-04T15:00:44.605Z"
   },
   {
    "duration": 18,
    "start_time": "2022-06-04T15:00:44.611Z"
   },
   {
    "duration": 7,
    "start_time": "2022-06-04T15:00:44.631Z"
   },
   {
    "duration": 8,
    "start_time": "2022-06-04T15:00:44.640Z"
   },
   {
    "duration": 41,
    "start_time": "2022-06-04T15:00:44.649Z"
   },
   {
    "duration": 23,
    "start_time": "2022-06-04T15:00:44.693Z"
   },
   {
    "duration": 18,
    "start_time": "2022-06-04T15:00:44.718Z"
   },
   {
    "duration": 303,
    "start_time": "2022-06-04T15:00:44.738Z"
   },
   {
    "duration": 16,
    "start_time": "2022-06-04T15:00:45.042Z"
   },
   {
    "duration": 32,
    "start_time": "2022-06-04T15:00:45.059Z"
   },
   {
    "duration": 5,
    "start_time": "2022-06-04T15:00:45.092Z"
   },
   {
    "duration": 22,
    "start_time": "2022-06-04T15:00:45.099Z"
   },
   {
    "duration": 29,
    "start_time": "2022-06-04T15:00:45.123Z"
   },
   {
    "duration": 67,
    "start_time": "2022-06-04T15:00:45.153Z"
   },
   {
    "duration": 209,
    "start_time": "2022-06-04T15:00:45.221Z"
   },
   {
    "duration": 29,
    "start_time": "2022-06-04T15:00:45.431Z"
   },
   {
    "duration": 311,
    "start_time": "2022-06-04T15:00:45.461Z"
   },
   {
    "duration": 34,
    "start_time": "2022-06-04T15:00:45.774Z"
   },
   {
    "duration": 17,
    "start_time": "2022-06-04T15:00:45.810Z"
   },
   {
    "duration": 17,
    "start_time": "2022-06-04T15:00:45.828Z"
   },
   {
    "duration": 171,
    "start_time": "2022-06-04T15:00:45.847Z"
   },
   {
    "duration": 28,
    "start_time": "2022-06-04T15:00:46.023Z"
   },
   {
    "duration": 14,
    "start_time": "2022-06-04T15:00:46.052Z"
   },
   {
    "duration": 56,
    "start_time": "2022-06-04T15:00:46.068Z"
   },
   {
    "duration": 111,
    "start_time": "2022-06-04T15:00:46.126Z"
   },
   {
    "duration": 122,
    "start_time": "2022-06-04T15:00:46.239Z"
   },
   {
    "duration": 110,
    "start_time": "2022-06-04T15:00:46.362Z"
   },
   {
    "duration": 108,
    "start_time": "2022-06-04T15:00:46.473Z"
   },
   {
    "duration": 109,
    "start_time": "2022-06-04T15:00:46.589Z"
   },
   {
    "duration": 13,
    "start_time": "2022-06-04T15:00:46.700Z"
   },
   {
    "duration": 124,
    "start_time": "2022-06-04T15:00:46.715Z"
   },
   {
    "duration": 123,
    "start_time": "2022-06-04T15:00:46.840Z"
   },
   {
    "duration": 126,
    "start_time": "2022-06-04T15:00:46.965Z"
   },
   {
    "duration": 148,
    "start_time": "2022-06-04T15:00:47.093Z"
   },
   {
    "duration": 127,
    "start_time": "2022-06-04T15:00:47.243Z"
   },
   {
    "duration": 137,
    "start_time": "2022-06-04T15:01:22.268Z"
   },
   {
    "duration": 128,
    "start_time": "2022-06-04T15:01:59.503Z"
   },
   {
    "duration": 1087,
    "start_time": "2022-08-14T13:52:28.223Z"
   },
   {
    "duration": 2,
    "start_time": "2022-08-14T13:52:29.312Z"
   },
   {
    "duration": 204,
    "start_time": "2022-08-14T13:52:29.315Z"
   },
   {
    "duration": 14,
    "start_time": "2022-08-14T13:52:29.521Z"
   },
   {
    "duration": 11,
    "start_time": "2022-08-14T13:52:29.536Z"
   },
   {
    "duration": 7,
    "start_time": "2022-08-14T13:52:29.548Z"
   },
   {
    "duration": 20,
    "start_time": "2022-08-14T13:52:29.556Z"
   },
   {
    "duration": 4,
    "start_time": "2022-08-14T13:52:29.577Z"
   },
   {
    "duration": 15,
    "start_time": "2022-08-14T13:52:29.582Z"
   },
   {
    "duration": 7,
    "start_time": "2022-08-14T13:52:29.599Z"
   },
   {
    "duration": 6,
    "start_time": "2022-08-14T13:52:29.607Z"
   },
   {
    "duration": 8,
    "start_time": "2022-08-14T13:52:29.614Z"
   },
   {
    "duration": 48,
    "start_time": "2022-08-14T13:52:29.623Z"
   },
   {
    "duration": 14,
    "start_time": "2022-08-14T13:52:29.673Z"
   },
   {
    "duration": 231,
    "start_time": "2022-08-14T13:52:29.688Z"
   },
   {
    "duration": 12,
    "start_time": "2022-08-14T13:52:29.920Z"
   },
   {
    "duration": 22,
    "start_time": "2022-08-14T13:52:29.933Z"
   },
   {
    "duration": 4,
    "start_time": "2022-08-14T13:52:29.957Z"
   },
   {
    "duration": 15,
    "start_time": "2022-08-14T13:52:29.962Z"
   },
   {
    "duration": 21,
    "start_time": "2022-08-14T13:52:29.979Z"
   },
   {
    "duration": 54,
    "start_time": "2022-08-14T13:52:30.001Z"
   },
   {
    "duration": 171,
    "start_time": "2022-08-14T13:52:30.057Z"
   },
   {
    "duration": 34,
    "start_time": "2022-08-14T13:52:30.229Z"
   },
   {
    "duration": 178,
    "start_time": "2022-08-14T13:52:30.265Z"
   },
   {
    "duration": 28,
    "start_time": "2022-08-14T13:52:30.445Z"
   },
   {
    "duration": 13,
    "start_time": "2022-08-14T13:52:30.474Z"
   },
   {
    "duration": 33,
    "start_time": "2022-08-14T13:52:30.489Z"
   },
   {
    "duration": 153,
    "start_time": "2022-08-14T13:52:30.526Z"
   },
   {
    "duration": 24,
    "start_time": "2022-08-14T13:52:30.681Z"
   },
   {
    "duration": 5,
    "start_time": "2022-08-14T13:52:30.707Z"
   },
   {
    "duration": 55,
    "start_time": "2022-08-14T13:52:30.714Z"
   },
   {
    "duration": 101,
    "start_time": "2022-08-14T13:52:30.771Z"
   },
   {
    "duration": 106,
    "start_time": "2022-08-14T13:52:30.873Z"
   },
   {
    "duration": 100,
    "start_time": "2022-08-14T13:52:30.980Z"
   },
   {
    "duration": 88,
    "start_time": "2022-08-14T13:52:31.082Z"
   },
   {
    "duration": 86,
    "start_time": "2022-08-14T13:52:31.172Z"
   },
   {
    "duration": 11,
    "start_time": "2022-08-14T13:52:31.260Z"
   },
   {
    "duration": 155,
    "start_time": "2022-08-14T13:52:31.273Z"
   },
   {
    "duration": 95,
    "start_time": "2022-08-14T13:52:31.430Z"
   },
   {
    "duration": 102,
    "start_time": "2022-08-14T13:52:31.527Z"
   },
   {
    "duration": 104,
    "start_time": "2022-08-14T13:52:31.630Z"
   },
   {
    "duration": 107,
    "start_time": "2022-08-14T13:52:31.736Z"
   },
   {
    "duration": 111,
    "start_time": "2022-08-14T13:52:31.844Z"
   },
   {
    "duration": 10,
    "start_time": "2022-08-14T13:52:31.957Z"
   },
   {
    "duration": 133,
    "start_time": "2022-08-14T13:52:31.969Z"
   },
   {
    "duration": 137,
    "start_time": "2022-08-14T13:52:32.103Z"
   },
   {
    "duration": 14,
    "start_time": "2022-08-14T13:52:32.242Z"
   },
   {
    "duration": 129,
    "start_time": "2022-08-14T13:52:32.258Z"
   },
   {
    "duration": 130,
    "start_time": "2022-08-14T13:52:32.389Z"
   },
   {
    "duration": 10,
    "start_time": "2022-08-14T13:52:32.520Z"
   },
   {
    "duration": 143,
    "start_time": "2022-08-14T13:52:32.532Z"
   },
   {
    "duration": 136,
    "start_time": "2022-08-14T13:52:32.677Z"
   },
   {
    "duration": 6,
    "start_time": "2022-08-14T13:52:32.815Z"
   },
   {
    "duration": 132,
    "start_time": "2022-08-14T13:52:32.823Z"
   },
   {
    "duration": 135,
    "start_time": "2022-08-14T13:52:32.957Z"
   },
   {
    "duration": 10,
    "start_time": "2022-08-14T13:52:33.093Z"
   },
   {
    "duration": 206,
    "start_time": "2022-08-14T13:52:33.104Z"
   },
   {
    "duration": 114,
    "start_time": "2022-08-14T13:52:33.311Z"
   },
   {
    "duration": 7,
    "start_time": "2022-08-14T13:52:33.426Z"
   },
   {
    "duration": 134,
    "start_time": "2022-08-14T13:52:33.434Z"
   },
   {
    "duration": 128,
    "start_time": "2022-08-14T13:52:33.569Z"
   },
   {
    "duration": 134,
    "start_time": "2022-08-14T13:52:33.698Z"
   },
   {
    "duration": 126,
    "start_time": "2022-08-14T13:52:33.833Z"
   },
   {
    "duration": 15,
    "start_time": "2022-08-14T13:52:33.960Z"
   },
   {
    "duration": 16,
    "start_time": "2022-08-14T13:52:33.976Z"
   },
   {
    "duration": 135,
    "start_time": "2022-08-14T13:52:33.994Z"
   },
   {
    "duration": 25,
    "start_time": "2022-08-14T13:52:34.130Z"
   },
   {
    "duration": 13,
    "start_time": "2022-08-14T13:52:34.156Z"
   },
   {
    "duration": 128,
    "start_time": "2022-08-14T13:52:34.171Z"
   },
   {
    "duration": 15,
    "start_time": "2022-08-14T13:52:34.301Z"
   },
   {
    "duration": 15,
    "start_time": "2022-08-14T13:52:34.317Z"
   },
   {
    "duration": 139,
    "start_time": "2022-08-14T13:52:34.333Z"
   },
   {
    "duration": 14,
    "start_time": "2022-08-14T13:52:34.474Z"
   },
   {
    "duration": 14,
    "start_time": "2022-08-14T13:52:34.490Z"
   },
   {
    "duration": 131,
    "start_time": "2022-08-14T13:52:34.505Z"
   },
   {
    "duration": 5,
    "start_time": "2022-08-14T13:52:34.637Z"
   },
   {
    "duration": 8,
    "start_time": "2022-08-14T13:52:34.654Z"
   },
   {
    "duration": 7,
    "start_time": "2022-08-14T13:52:34.664Z"
   },
   {
    "duration": 7,
    "start_time": "2022-08-14T13:52:34.672Z"
   },
   {
    "duration": 12,
    "start_time": "2022-08-14T13:52:34.680Z"
   },
   {
    "duration": 3,
    "start_time": "2022-08-14T13:52:34.694Z"
   },
   {
    "duration": 5,
    "start_time": "2022-08-14T13:52:34.702Z"
   }
  ],
  "kernelspec": {
   "display_name": "Python 3 (ipykernel)",
   "language": "python",
   "name": "python3"
  },
  "language_info": {
   "codemirror_mode": {
    "name": "ipython",
    "version": 3
   },
   "file_extension": ".py",
   "mimetype": "text/x-python",
   "name": "python",
   "nbconvert_exporter": "python",
   "pygments_lexer": "ipython3",
   "version": "3.9.5"
  },
  "toc": {
   "base_numbering": 1,
   "nav_menu": {},
   "number_sections": true,
   "sideBar": true,
   "skip_h1_title": true,
   "title_cell": "Table of Contents",
   "title_sidebar": "Contents",
   "toc_cell": false,
   "toc_position": {},
   "toc_section_display": true,
   "toc_window_display": false
  }
 },
 "nbformat": 4,
 "nbformat_minor": 2
}
