{
 "cells": [
  {
   "cell_type": "markdown",
   "metadata": {},
   "source": [
    "<font color='DarkBlue' size=+2><b>Комментарий ревьюера</b></font><br>\n",
    "<font color='DarkBlue'>Привет, Руслан! <br>Меня зовут Олег Мазуренко, и я буду проверять этот проект. Спасибо за проделанную работу! <br>Ко мне можно обращаться на «ты». Как мне обращаться, напиши.</font><br>\n",
    "<font color='DarkBlue'>Я буду использовать различные цвета, чтобы было удобнее воспринимать мои комментарии:</font><br>\n",
    "<font color='DarkBlue'>Синий текст &mdash; просто текст комментария.</font><br>\n",
    "<font color='DarkGreen'>👌 Зеленый текст &mdash; все отлично.</font><br>\n",
    "<font color='DarkMagenta'>👉 Фиолетовый текст &mdash; сделано все правильно, однако есть рекомендации, на что стоит обратить внимание. Реализованные рекомендации позволят нам наработать опыт решения задачи разными способами или посмотреть на задачу под иным углом.</font><br>\n",
    "<font color='Red'>🛠 Красный текст &mdash; есть недочеты, они иногда бывают. </font><br><font color='DarkBlue'>Любая ошибка это возможность посмотреть на задачу с другой стороны и освоить новые знания, по этому не надо расстраиваться, если они есть.</font><br>\n",
    "<font color='DarkBlue'>Пожалуйста, не удаляй мои комментарии в случае возврата работы, так будет проще разобраться, какие были недочеты и сразу увидеть исправленное. <br>\n",
    "Ответы на мои комментарии лучше тоже помечать. \n",
    "Например: </font><font color='Blue'><b>Комментарий студента</b></font><br>\n",
    "<font color='DarkBlue'><b>Теперь посмотрим, что у нас получилось!</b></font>"
   ]
  },
  {
   "cell_type": "markdown",
   "metadata": {},
   "source": [
    "Цель проекта: Федеральный оператор сотовой связи \"Мегалайн\" планирует скорректировать рекламный бюджет. Для этого необходимо проанализировать, какой из тарифых планов: \"Смарт\" или \"Ультра\", приносит больше денег. Для анализа предоставлены данные 500 пользователей \"Мегалайн\"."
   ]
  },
  {
   "cell_type": "markdown",
   "metadata": {},
   "source": [
    "Описание тарифов:"
   ]
  },
  {
   "cell_type": "markdown",
   "metadata": {},
   "source": [
    "Tариф «Смарт» Ежемесячная плата: 550 рублей Включено 500 минут разговора, 50 сообщений и 15 Гб интернет-трафика Стоимость услуг сверх тарифного пакета:\n",
    "\n",
    "- минута разговора: 3 рубля\n",
    "- сообщение: 3 рубля\n",
    "- 1 Гб интернет-трафика: 200 рублей\n",
    "\n",
    "Тариф «Ультра» Ежемесячная плата: 1950 рублей Включено 3000 минут разговора, 1000 сообщений и 30 Гб интернет-трафика Стоимость услуг сверх тарифного пакета:\n",
    "\n",
    "- минута разговора: 1 рубль\n",
    "- сообщение: 1 рубль\n",
    "- 1 Гб интернет-трафика: 150 рублей"
   ]
  },
  {
   "cell_type": "markdown",
   "metadata": {},
   "source": [
    "Задачи исследования:\n",
    " - 1) Ознакомление с данными\n",
    "    - посмотрим наборы данных\n",
    "    - сделаем предварительные выводы\n",
    "    - поищем аномалии\n",
    "    - найти и обработать пропуски\n",
    "    - заменить некорректные типы данных\n",
    "    - удалить дубликаты\n",
    "    - привести данные к нужным типам\n",
    " - 2) Приготовление данных \n",
    "    - подсчитать количество сделанных звонков и израсходованных минут разговора по месяцам\n",
    "    - количество отправленных сообщений по месяцам\n",
    "    - объем израсходованного интернет-трафика по месяцам\n",
    "    - помесячную выручку с каждого пользователя\n",
    " - 3) Анализ данных\n",
    "    - описать поведение клиентов оператора, исходя из выборки\n",
    "    - сколько минут разговора, сколько сообщений и какой объём интернет-трафика требуется пользователям каждого тарифа?\n",
    "    - посчитать среднее количество, дисперсию и стандартное отклонение\n",
    "    - построить гистограммы. Описать распределения\n",
    " - 4) Проверка гипотез\n",
    "    - средняя выручка пользователей тарифов «Ультра» и «Смарт» различаются\n",
    "    - средняя выручка пользователей из Москвы отличается от выручки пользователей из других регионов\n",
    " - 5) Общий вывод"
   ]
  },
  {
   "cell_type": "markdown",
   "metadata": {},
   "source": [
    "<font color='DarkBlue'><b>Комментарий ревьюера</b></font><br>\n",
    "<font color='DarkMagenta'>👉 Желательно подробнее давать описание проекта с указанием ключевых данных (описания тарифов, условия тарификации и т.д.). Описание может содержать краткий план исследования.</font>"
   ]
  },
  {
   "cell_type": "markdown",
   "metadata": {},
   "source": [
    "<font color='DarkBlue'><b>Комментарий ревьюера 2</b></font><br>\n",
    "<font color='DarkGreen'>👌 Все проекты, это как часть реального исследования, за которое деньги заплатят или не заплатят. 😲<br>А отчет читают: сначало описание, о чем идет речь и что делаем, потом выводы: что в итоге получили. А когда у заказчика в голове все сложилось, то смотрят как это делалось. Вспомним первый проект, там, как пример, был подробно описан проект. Предполагается, что дальше студенты из инструкции сами будут его писать. </font>"
   ]
  },
  {
   "cell_type": "markdown",
   "metadata": {},
   "source": [
    "# 1 Шаг. Ознакомление с данными"
   ]
  },
  {
   "cell_type": "code",
   "execution_count": 1,
   "metadata": {},
   "outputs": [],
   "source": [
    "import pandas as pd\n",
    "import math\n",
    "import numpy as np\n",
    "import matplotlib.pyplot as plt\n",
    "from scipy import stats as st"
   ]
  },
  {
   "cell_type": "code",
   "execution_count": 2,
   "metadata": {},
   "outputs": [
    {
     "data": {
      "text/html": [
       "<div>\n",
       "<style scoped>\n",
       "    .dataframe tbody tr th:only-of-type {\n",
       "        vertical-align: middle;\n",
       "    }\n",
       "\n",
       "    .dataframe tbody tr th {\n",
       "        vertical-align: top;\n",
       "    }\n",
       "\n",
       "    .dataframe thead th {\n",
       "        text-align: right;\n",
       "    }\n",
       "</style>\n",
       "<table border=\"1\" class=\"dataframe\">\n",
       "  <thead>\n",
       "    <tr style=\"text-align: right;\">\n",
       "      <th></th>\n",
       "      <th>id</th>\n",
       "      <th>call_date</th>\n",
       "      <th>duration</th>\n",
       "      <th>user_id</th>\n",
       "    </tr>\n",
       "  </thead>\n",
       "  <tbody>\n",
       "    <tr>\n",
       "      <th>0</th>\n",
       "      <td>1000_0</td>\n",
       "      <td>2018-07-25</td>\n",
       "      <td>0.00</td>\n",
       "      <td>1000</td>\n",
       "    </tr>\n",
       "    <tr>\n",
       "      <th>1</th>\n",
       "      <td>1000_1</td>\n",
       "      <td>2018-08-17</td>\n",
       "      <td>0.00</td>\n",
       "      <td>1000</td>\n",
       "    </tr>\n",
       "    <tr>\n",
       "      <th>2</th>\n",
       "      <td>1000_2</td>\n",
       "      <td>2018-06-11</td>\n",
       "      <td>2.85</td>\n",
       "      <td>1000</td>\n",
       "    </tr>\n",
       "    <tr>\n",
       "      <th>3</th>\n",
       "      <td>1000_3</td>\n",
       "      <td>2018-09-21</td>\n",
       "      <td>13.80</td>\n",
       "      <td>1000</td>\n",
       "    </tr>\n",
       "    <tr>\n",
       "      <th>4</th>\n",
       "      <td>1000_4</td>\n",
       "      <td>2018-12-15</td>\n",
       "      <td>5.18</td>\n",
       "      <td>1000</td>\n",
       "    </tr>\n",
       "    <tr>\n",
       "      <th>5</th>\n",
       "      <td>1000_5</td>\n",
       "      <td>2018-11-02</td>\n",
       "      <td>0.00</td>\n",
       "      <td>1000</td>\n",
       "    </tr>\n",
       "    <tr>\n",
       "      <th>6</th>\n",
       "      <td>1000_6</td>\n",
       "      <td>2018-10-18</td>\n",
       "      <td>0.00</td>\n",
       "      <td>1000</td>\n",
       "    </tr>\n",
       "    <tr>\n",
       "      <th>7</th>\n",
       "      <td>1000_7</td>\n",
       "      <td>2018-08-22</td>\n",
       "      <td>18.31</td>\n",
       "      <td>1000</td>\n",
       "    </tr>\n",
       "    <tr>\n",
       "      <th>8</th>\n",
       "      <td>1000_8</td>\n",
       "      <td>2018-09-15</td>\n",
       "      <td>18.44</td>\n",
       "      <td>1000</td>\n",
       "    </tr>\n",
       "    <tr>\n",
       "      <th>9</th>\n",
       "      <td>1000_9</td>\n",
       "      <td>2018-08-15</td>\n",
       "      <td>0.00</td>\n",
       "      <td>1000</td>\n",
       "    </tr>\n",
       "  </tbody>\n",
       "</table>\n",
       "</div>"
      ],
      "text/plain": [
       "       id   call_date  duration  user_id\n",
       "0  1000_0  2018-07-25      0.00     1000\n",
       "1  1000_1  2018-08-17      0.00     1000\n",
       "2  1000_2  2018-06-11      2.85     1000\n",
       "3  1000_3  2018-09-21     13.80     1000\n",
       "4  1000_4  2018-12-15      5.18     1000\n",
       "5  1000_5  2018-11-02      0.00     1000\n",
       "6  1000_6  2018-10-18      0.00     1000\n",
       "7  1000_7  2018-08-22     18.31     1000\n",
       "8  1000_8  2018-09-15     18.44     1000\n",
       "9  1000_9  2018-08-15      0.00     1000"
      ]
     },
     "metadata": {},
     "output_type": "display_data"
    }
   ],
   "source": [
    "called = pd.read_csv('/datasets/calls.csv')\n",
    "\n",
    "display(called.head(10))"
   ]
  },
  {
   "cell_type": "code",
   "execution_count": 3,
   "metadata": {},
   "outputs": [
    {
     "name": "stdout",
     "output_type": "stream",
     "text": [
      "<class 'pandas.core.frame.DataFrame'>\n",
      "RangeIndex: 202607 entries, 0 to 202606\n",
      "Data columns (total 4 columns):\n",
      " #   Column     Non-Null Count   Dtype  \n",
      "---  ------     --------------   -----  \n",
      " 0   id         202607 non-null  object \n",
      " 1   call_date  202607 non-null  object \n",
      " 2   duration   202607 non-null  float64\n",
      " 3   user_id    202607 non-null  int64  \n",
      "dtypes: float64(1), int64(1), object(2)\n",
      "memory usage: 6.2+ MB\n"
     ]
    }
   ],
   "source": [
    "called.info()"
   ]
  },
  {
   "cell_type": "code",
   "execution_count": 4,
   "metadata": {},
   "outputs": [
    {
     "data": {
      "text/plain": [
       "0"
      ]
     },
     "execution_count": 4,
     "metadata": {},
     "output_type": "execute_result"
    }
   ],
   "source": [
    "called.duplicated().sum()"
   ]
  },
  {
   "cell_type": "markdown",
   "metadata": {},
   "source": [
    "<font color='DarkBlue'><b>Комментарий ревьюера</b></font><br>\n",
    "<font color='DarkGreen'>👌 Хорошо, что проверили дубликаты, многие студенты забывают.</font>"
   ]
  },
  {
   "cell_type": "code",
   "execution_count": 5,
   "metadata": {},
   "outputs": [
    {
     "data": {
      "text/html": [
       "<div>\n",
       "<style scoped>\n",
       "    .dataframe tbody tr th:only-of-type {\n",
       "        vertical-align: middle;\n",
       "    }\n",
       "\n",
       "    .dataframe tbody tr th {\n",
       "        vertical-align: top;\n",
       "    }\n",
       "\n",
       "    .dataframe thead th {\n",
       "        text-align: right;\n",
       "    }\n",
       "</style>\n",
       "<table border=\"1\" class=\"dataframe\">\n",
       "  <thead>\n",
       "    <tr style=\"text-align: right;\">\n",
       "      <th></th>\n",
       "      <th>Unnamed: 0</th>\n",
       "      <th>id</th>\n",
       "      <th>mb_used</th>\n",
       "      <th>session_date</th>\n",
       "      <th>user_id</th>\n",
       "    </tr>\n",
       "  </thead>\n",
       "  <tbody>\n",
       "    <tr>\n",
       "      <th>0</th>\n",
       "      <td>0</td>\n",
       "      <td>1000_0</td>\n",
       "      <td>112.95</td>\n",
       "      <td>2018-11-25</td>\n",
       "      <td>1000</td>\n",
       "    </tr>\n",
       "    <tr>\n",
       "      <th>1</th>\n",
       "      <td>1</td>\n",
       "      <td>1000_1</td>\n",
       "      <td>1052.81</td>\n",
       "      <td>2018-09-07</td>\n",
       "      <td>1000</td>\n",
       "    </tr>\n",
       "    <tr>\n",
       "      <th>2</th>\n",
       "      <td>2</td>\n",
       "      <td>1000_2</td>\n",
       "      <td>1197.26</td>\n",
       "      <td>2018-06-25</td>\n",
       "      <td>1000</td>\n",
       "    </tr>\n",
       "    <tr>\n",
       "      <th>3</th>\n",
       "      <td>3</td>\n",
       "      <td>1000_3</td>\n",
       "      <td>550.27</td>\n",
       "      <td>2018-08-22</td>\n",
       "      <td>1000</td>\n",
       "    </tr>\n",
       "    <tr>\n",
       "      <th>4</th>\n",
       "      <td>4</td>\n",
       "      <td>1000_4</td>\n",
       "      <td>302.56</td>\n",
       "      <td>2018-09-24</td>\n",
       "      <td>1000</td>\n",
       "    </tr>\n",
       "    <tr>\n",
       "      <th>5</th>\n",
       "      <td>5</td>\n",
       "      <td>1000_5</td>\n",
       "      <td>399.97</td>\n",
       "      <td>2018-10-02</td>\n",
       "      <td>1000</td>\n",
       "    </tr>\n",
       "    <tr>\n",
       "      <th>6</th>\n",
       "      <td>6</td>\n",
       "      <td>1000_6</td>\n",
       "      <td>540.08</td>\n",
       "      <td>2018-09-07</td>\n",
       "      <td>1000</td>\n",
       "    </tr>\n",
       "    <tr>\n",
       "      <th>7</th>\n",
       "      <td>7</td>\n",
       "      <td>1000_7</td>\n",
       "      <td>415.70</td>\n",
       "      <td>2018-07-11</td>\n",
       "      <td>1000</td>\n",
       "    </tr>\n",
       "    <tr>\n",
       "      <th>8</th>\n",
       "      <td>8</td>\n",
       "      <td>1000_8</td>\n",
       "      <td>505.40</td>\n",
       "      <td>2018-10-08</td>\n",
       "      <td>1000</td>\n",
       "    </tr>\n",
       "    <tr>\n",
       "      <th>9</th>\n",
       "      <td>9</td>\n",
       "      <td>1000_9</td>\n",
       "      <td>345.54</td>\n",
       "      <td>2018-09-03</td>\n",
       "      <td>1000</td>\n",
       "    </tr>\n",
       "  </tbody>\n",
       "</table>\n",
       "</div>"
      ],
      "text/plain": [
       "   Unnamed: 0      id  mb_used session_date  user_id\n",
       "0           0  1000_0   112.95   2018-11-25     1000\n",
       "1           1  1000_1  1052.81   2018-09-07     1000\n",
       "2           2  1000_2  1197.26   2018-06-25     1000\n",
       "3           3  1000_3   550.27   2018-08-22     1000\n",
       "4           4  1000_4   302.56   2018-09-24     1000\n",
       "5           5  1000_5   399.97   2018-10-02     1000\n",
       "6           6  1000_6   540.08   2018-09-07     1000\n",
       "7           7  1000_7   415.70   2018-07-11     1000\n",
       "8           8  1000_8   505.40   2018-10-08     1000\n",
       "9           9  1000_9   345.54   2018-09-03     1000"
      ]
     },
     "metadata": {},
     "output_type": "display_data"
    }
   ],
   "source": [
    "internet = pd.read_csv('/datasets/internet.csv')\n",
    "\n",
    "display(internet.head(10))"
   ]
  },
  {
   "cell_type": "code",
   "execution_count": 6,
   "metadata": {},
   "outputs": [
    {
     "name": "stdout",
     "output_type": "stream",
     "text": [
      "<class 'pandas.core.frame.DataFrame'>\n",
      "RangeIndex: 149396 entries, 0 to 149395\n",
      "Data columns (total 5 columns):\n",
      " #   Column        Non-Null Count   Dtype  \n",
      "---  ------        --------------   -----  \n",
      " 0   Unnamed: 0    149396 non-null  int64  \n",
      " 1   id            149396 non-null  object \n",
      " 2   mb_used       149396 non-null  float64\n",
      " 3   session_date  149396 non-null  object \n",
      " 4   user_id       149396 non-null  int64  \n",
      "dtypes: float64(1), int64(2), object(2)\n",
      "memory usage: 5.7+ MB\n"
     ]
    }
   ],
   "source": [
    "internet.info()"
   ]
  },
  {
   "cell_type": "code",
   "execution_count": 7,
   "metadata": {},
   "outputs": [
    {
     "data": {
      "text/plain": [
       "0"
      ]
     },
     "execution_count": 7,
     "metadata": {},
     "output_type": "execute_result"
    }
   ],
   "source": [
    "internet.duplicated().sum()"
   ]
  },
  {
   "cell_type": "markdown",
   "metadata": {},
   "source": [
    "<font color='DarkBlue'><b>Комментарий ревьюера</b></font><br>\n",
    "<font color='DarkMagenta'>👉 Было бы правильно сделать анализ аномалий в датасете по интернет-трафику, лучше визуализировать гистограммой. Проанализировать их причину и принять решение по обработке.</font>"
   ]
  },
  {
   "cell_type": "code",
   "execution_count": 8,
   "metadata": {},
   "outputs": [
    {
     "name": "stdout",
     "output_type": "stream",
     "text": [
      "Нулевых интернет-сессий: 0.13 %\n"
     ]
    },
    {
     "data": {
      "image/png": "[encoded data removed]",
      "text/plain": [
       "<Figure size 432x288 with 1 Axes>"
      ]
     },
     "metadata": {
      "needs_background": "light"
     },
     "output_type": "display_data"
    }
   ],
   "source": [
    "# Комментарий ревьюера 2\n",
    "temp = internet.copy()\n",
    "temp['mb_used'].hist(bins = 20)\n",
    "print('Нулевых интернет-сессий:',round(temp['mb_used'].value_counts().sort_index()[0]/temp['mb_used'].count(),2), '%')"
   ]
  },
  {
   "cell_type": "markdown",
   "metadata": {},
   "source": [
    "<font color='DarkBlue'><b>Комментарий ревьюера 2</b></font><br>\n",
    "<font color='DarkMagenta'>👉 Таблица содержит идентификатор сессий и идентификатор пользователя. Значит пользователь устанавливал соединение и авторизовался. Но трафик нулевой. И это аномалия, возможно, что она связана с техничесткими проблемами оператора. Нам в данном проекте нулевые сессии не мешают, но в выводах исследования мы должны этот факт указать, так как это не полученная выручка оператора при существующем спросе на услугу пользователей.</font>"
   ]
  },
  {
   "cell_type": "code",
   "execution_count": 9,
   "metadata": {},
   "outputs": [
    {
     "data": {
      "text/html": [
       "<div>\n",
       "<style scoped>\n",
       "    .dataframe tbody tr th:only-of-type {\n",
       "        vertical-align: middle;\n",
       "    }\n",
       "\n",
       "    .dataframe tbody tr th {\n",
       "        vertical-align: top;\n",
       "    }\n",
       "\n",
       "    .dataframe thead th {\n",
       "        text-align: right;\n",
       "    }\n",
       "</style>\n",
       "<table border=\"1\" class=\"dataframe\">\n",
       "  <thead>\n",
       "    <tr style=\"text-align: right;\">\n",
       "      <th></th>\n",
       "      <th>id</th>\n",
       "      <th>message_date</th>\n",
       "      <th>user_id</th>\n",
       "    </tr>\n",
       "  </thead>\n",
       "  <tbody>\n",
       "    <tr>\n",
       "      <th>0</th>\n",
       "      <td>1000_0</td>\n",
       "      <td>2018-06-27</td>\n",
       "      <td>1000</td>\n",
       "    </tr>\n",
       "    <tr>\n",
       "      <th>1</th>\n",
       "      <td>1000_1</td>\n",
       "      <td>2018-10-08</td>\n",
       "      <td>1000</td>\n",
       "    </tr>\n",
       "    <tr>\n",
       "      <th>2</th>\n",
       "      <td>1000_2</td>\n",
       "      <td>2018-08-04</td>\n",
       "      <td>1000</td>\n",
       "    </tr>\n",
       "    <tr>\n",
       "      <th>3</th>\n",
       "      <td>1000_3</td>\n",
       "      <td>2018-06-16</td>\n",
       "      <td>1000</td>\n",
       "    </tr>\n",
       "    <tr>\n",
       "      <th>4</th>\n",
       "      <td>1000_4</td>\n",
       "      <td>2018-12-05</td>\n",
       "      <td>1000</td>\n",
       "    </tr>\n",
       "    <tr>\n",
       "      <th>5</th>\n",
       "      <td>1000_5</td>\n",
       "      <td>2018-06-20</td>\n",
       "      <td>1000</td>\n",
       "    </tr>\n",
       "    <tr>\n",
       "      <th>6</th>\n",
       "      <td>1000_6</td>\n",
       "      <td>2018-11-19</td>\n",
       "      <td>1000</td>\n",
       "    </tr>\n",
       "    <tr>\n",
       "      <th>7</th>\n",
       "      <td>1000_7</td>\n",
       "      <td>2018-10-29</td>\n",
       "      <td>1000</td>\n",
       "    </tr>\n",
       "    <tr>\n",
       "      <th>8</th>\n",
       "      <td>1000_8</td>\n",
       "      <td>2018-06-25</td>\n",
       "      <td>1000</td>\n",
       "    </tr>\n",
       "    <tr>\n",
       "      <th>9</th>\n",
       "      <td>1000_9</td>\n",
       "      <td>2018-12-18</td>\n",
       "      <td>1000</td>\n",
       "    </tr>\n",
       "  </tbody>\n",
       "</table>\n",
       "</div>"
      ],
      "text/plain": [
       "       id message_date  user_id\n",
       "0  1000_0   2018-06-27     1000\n",
       "1  1000_1   2018-10-08     1000\n",
       "2  1000_2   2018-08-04     1000\n",
       "3  1000_3   2018-06-16     1000\n",
       "4  1000_4   2018-12-05     1000\n",
       "5  1000_5   2018-06-20     1000\n",
       "6  1000_6   2018-11-19     1000\n",
       "7  1000_7   2018-10-29     1000\n",
       "8  1000_8   2018-06-25     1000\n",
       "9  1000_9   2018-12-18     1000"
      ]
     },
     "metadata": {},
     "output_type": "display_data"
    }
   ],
   "source": [
    "messages = pd.read_csv('/datasets/messages.csv')\n",
    "\n",
    "display(messages.head(10))"
   ]
  },
  {
   "cell_type": "code",
   "execution_count": 10,
   "metadata": {},
   "outputs": [
    {
     "name": "stdout",
     "output_type": "stream",
     "text": [
      "<class 'pandas.core.frame.DataFrame'>\n",
      "RangeIndex: 123036 entries, 0 to 123035\n",
      "Data columns (total 3 columns):\n",
      " #   Column        Non-Null Count   Dtype \n",
      "---  ------        --------------   ----- \n",
      " 0   id            123036 non-null  object\n",
      " 1   message_date  123036 non-null  object\n",
      " 2   user_id       123036 non-null  int64 \n",
      "dtypes: int64(1), object(2)\n",
      "memory usage: 2.8+ MB\n"
     ]
    }
   ],
   "source": [
    "messages.info()"
   ]
  },
  {
   "cell_type": "code",
   "execution_count": 11,
   "metadata": {},
   "outputs": [
    {
     "data": {
      "text/plain": [
       "0"
      ]
     },
     "execution_count": 11,
     "metadata": {},
     "output_type": "execute_result"
    }
   ],
   "source": [
    "messages.duplicated().sum()"
   ]
  },
  {
   "cell_type": "code",
   "execution_count": 12,
   "metadata": {},
   "outputs": [
    {
     "data": {
      "text/html": [
       "<div>\n",
       "<style scoped>\n",
       "    .dataframe tbody tr th:only-of-type {\n",
       "        vertical-align: middle;\n",
       "    }\n",
       "\n",
       "    .dataframe tbody tr th {\n",
       "        vertical-align: top;\n",
       "    }\n",
       "\n",
       "    .dataframe thead th {\n",
       "        text-align: right;\n",
       "    }\n",
       "</style>\n",
       "<table border=\"1\" class=\"dataframe\">\n",
       "  <thead>\n",
       "    <tr style=\"text-align: right;\">\n",
       "      <th></th>\n",
       "      <th>messages_included</th>\n",
       "      <th>mb_per_month_included</th>\n",
       "      <th>minutes_included</th>\n",
       "      <th>rub_monthly_fee</th>\n",
       "      <th>rub_per_gb</th>\n",
       "      <th>rub_per_message</th>\n",
       "      <th>rub_per_minute</th>\n",
       "      <th>tariff_name</th>\n",
       "    </tr>\n",
       "  </thead>\n",
       "  <tbody>\n",
       "    <tr>\n",
       "      <th>0</th>\n",
       "      <td>50</td>\n",
       "      <td>15360</td>\n",
       "      <td>500</td>\n",
       "      <td>550</td>\n",
       "      <td>200</td>\n",
       "      <td>3</td>\n",
       "      <td>3</td>\n",
       "      <td>smart</td>\n",
       "    </tr>\n",
       "    <tr>\n",
       "      <th>1</th>\n",
       "      <td>1000</td>\n",
       "      <td>30720</td>\n",
       "      <td>3000</td>\n",
       "      <td>1950</td>\n",
       "      <td>150</td>\n",
       "      <td>1</td>\n",
       "      <td>1</td>\n",
       "      <td>ultra</td>\n",
       "    </tr>\n",
       "  </tbody>\n",
       "</table>\n",
       "</div>"
      ],
      "text/plain": [
       "   messages_included  mb_per_month_included  minutes_included  \\\n",
       "0                 50                  15360               500   \n",
       "1               1000                  30720              3000   \n",
       "\n",
       "   rub_monthly_fee  rub_per_gb  rub_per_message  rub_per_minute tariff_name  \n",
       "0              550         200                3               3       smart  \n",
       "1             1950         150                1               1       ultra  "
      ]
     },
     "metadata": {},
     "output_type": "display_data"
    }
   ],
   "source": [
    "tariffs = pd.read_csv('/datasets/tariffs.csv')\n",
    "\n",
    "display(tariffs)"
   ]
  },
  {
   "cell_type": "code",
   "execution_count": 13,
   "metadata": {},
   "outputs": [
    {
     "data": {
      "text/html": [
       "<div>\n",
       "<style scoped>\n",
       "    .dataframe tbody tr th:only-of-type {\n",
       "        vertical-align: middle;\n",
       "    }\n",
       "\n",
       "    .dataframe tbody tr th {\n",
       "        vertical-align: top;\n",
       "    }\n",
       "\n",
       "    .dataframe thead th {\n",
       "        text-align: right;\n",
       "    }\n",
       "</style>\n",
       "<table border=\"1\" class=\"dataframe\">\n",
       "  <thead>\n",
       "    <tr style=\"text-align: right;\">\n",
       "      <th></th>\n",
       "      <th>user_id</th>\n",
       "      <th>age</th>\n",
       "      <th>churn_date</th>\n",
       "      <th>city</th>\n",
       "      <th>first_name</th>\n",
       "      <th>last_name</th>\n",
       "      <th>reg_date</th>\n",
       "      <th>tariff</th>\n",
       "    </tr>\n",
       "  </thead>\n",
       "  <tbody>\n",
       "    <tr>\n",
       "      <th>0</th>\n",
       "      <td>1000</td>\n",
       "      <td>52</td>\n",
       "      <td>NaN</td>\n",
       "      <td>Краснодар</td>\n",
       "      <td>Рафаил</td>\n",
       "      <td>Верещагин</td>\n",
       "      <td>2018-05-25</td>\n",
       "      <td>ultra</td>\n",
       "    </tr>\n",
       "    <tr>\n",
       "      <th>1</th>\n",
       "      <td>1001</td>\n",
       "      <td>41</td>\n",
       "      <td>NaN</td>\n",
       "      <td>Москва</td>\n",
       "      <td>Иван</td>\n",
       "      <td>Ежов</td>\n",
       "      <td>2018-11-01</td>\n",
       "      <td>smart</td>\n",
       "    </tr>\n",
       "    <tr>\n",
       "      <th>2</th>\n",
       "      <td>1002</td>\n",
       "      <td>59</td>\n",
       "      <td>NaN</td>\n",
       "      <td>Стерлитамак</td>\n",
       "      <td>Евгений</td>\n",
       "      <td>Абрамович</td>\n",
       "      <td>2018-06-17</td>\n",
       "      <td>smart</td>\n",
       "    </tr>\n",
       "    <tr>\n",
       "      <th>3</th>\n",
       "      <td>1003</td>\n",
       "      <td>23</td>\n",
       "      <td>NaN</td>\n",
       "      <td>Москва</td>\n",
       "      <td>Белла</td>\n",
       "      <td>Белякова</td>\n",
       "      <td>2018-08-17</td>\n",
       "      <td>ultra</td>\n",
       "    </tr>\n",
       "    <tr>\n",
       "      <th>4</th>\n",
       "      <td>1004</td>\n",
       "      <td>68</td>\n",
       "      <td>NaN</td>\n",
       "      <td>Новокузнецк</td>\n",
       "      <td>Татьяна</td>\n",
       "      <td>Авдеенко</td>\n",
       "      <td>2018-05-14</td>\n",
       "      <td>ultra</td>\n",
       "    </tr>\n",
       "    <tr>\n",
       "      <th>5</th>\n",
       "      <td>1005</td>\n",
       "      <td>67</td>\n",
       "      <td>NaN</td>\n",
       "      <td>Набережные Челны</td>\n",
       "      <td>Афанасий</td>\n",
       "      <td>Горлов</td>\n",
       "      <td>2018-01-25</td>\n",
       "      <td>smart</td>\n",
       "    </tr>\n",
       "    <tr>\n",
       "      <th>6</th>\n",
       "      <td>1006</td>\n",
       "      <td>21</td>\n",
       "      <td>NaN</td>\n",
       "      <td>Ульяновск</td>\n",
       "      <td>Леонид</td>\n",
       "      <td>Ермолаев</td>\n",
       "      <td>2018-02-26</td>\n",
       "      <td>smart</td>\n",
       "    </tr>\n",
       "    <tr>\n",
       "      <th>7</th>\n",
       "      <td>1007</td>\n",
       "      <td>65</td>\n",
       "      <td>NaN</td>\n",
       "      <td>Москва</td>\n",
       "      <td>Юна</td>\n",
       "      <td>Березина</td>\n",
       "      <td>2018-04-19</td>\n",
       "      <td>smart</td>\n",
       "    </tr>\n",
       "    <tr>\n",
       "      <th>8</th>\n",
       "      <td>1008</td>\n",
       "      <td>63</td>\n",
       "      <td>NaN</td>\n",
       "      <td>Челябинск</td>\n",
       "      <td>Рустэм</td>\n",
       "      <td>Пономарёв</td>\n",
       "      <td>2018-12-19</td>\n",
       "      <td>smart</td>\n",
       "    </tr>\n",
       "    <tr>\n",
       "      <th>9</th>\n",
       "      <td>1009</td>\n",
       "      <td>24</td>\n",
       "      <td>NaN</td>\n",
       "      <td>Пермь</td>\n",
       "      <td>Василиса</td>\n",
       "      <td>Блинова</td>\n",
       "      <td>2018-03-22</td>\n",
       "      <td>smart</td>\n",
       "    </tr>\n",
       "  </tbody>\n",
       "</table>\n",
       "</div>"
      ],
      "text/plain": [
       "   user_id  age churn_date              city first_name  last_name  \\\n",
       "0     1000   52        NaN         Краснодар     Рафаил  Верещагин   \n",
       "1     1001   41        NaN            Москва       Иван       Ежов   \n",
       "2     1002   59        NaN       Стерлитамак    Евгений  Абрамович   \n",
       "3     1003   23        NaN            Москва      Белла   Белякова   \n",
       "4     1004   68        NaN       Новокузнецк    Татьяна   Авдеенко   \n",
       "5     1005   67        NaN  Набережные Челны   Афанасий     Горлов   \n",
       "6     1006   21        NaN         Ульяновск     Леонид   Ермолаев   \n",
       "7     1007   65        NaN            Москва        Юна   Березина   \n",
       "8     1008   63        NaN         Челябинск     Рустэм  Пономарёв   \n",
       "9     1009   24        NaN             Пермь   Василиса    Блинова   \n",
       "\n",
       "     reg_date tariff  \n",
       "0  2018-05-25  ultra  \n",
       "1  2018-11-01  smart  \n",
       "2  2018-06-17  smart  \n",
       "3  2018-08-17  ultra  \n",
       "4  2018-05-14  ultra  \n",
       "5  2018-01-25  smart  \n",
       "6  2018-02-26  smart  \n",
       "7  2018-04-19  smart  \n",
       "8  2018-12-19  smart  \n",
       "9  2018-03-22  smart  "
      ]
     },
     "metadata": {},
     "output_type": "display_data"
    }
   ],
   "source": [
    "users = pd.read_csv('/datasets/users.csv')\n",
    "\n",
    "display(users.head(10))"
   ]
  },
  {
   "cell_type": "code",
   "execution_count": 14,
   "metadata": {},
   "outputs": [
    {
     "name": "stdout",
     "output_type": "stream",
     "text": [
      "<class 'pandas.core.frame.DataFrame'>\n",
      "RangeIndex: 500 entries, 0 to 499\n",
      "Data columns (total 8 columns):\n",
      " #   Column      Non-Null Count  Dtype \n",
      "---  ------      --------------  ----- \n",
      " 0   user_id     500 non-null    int64 \n",
      " 1   age         500 non-null    int64 \n",
      " 2   churn_date  38 non-null     object\n",
      " 3   city        500 non-null    object\n",
      " 4   first_name  500 non-null    object\n",
      " 5   last_name   500 non-null    object\n",
      " 6   reg_date    500 non-null    object\n",
      " 7   tariff      500 non-null    object\n",
      "dtypes: int64(2), object(6)\n",
      "memory usage: 31.4+ KB\n"
     ]
    }
   ],
   "source": [
    "users.info()"
   ]
  },
  {
   "cell_type": "code",
   "execution_count": 15,
   "metadata": {},
   "outputs": [
    {
     "data": {
      "text/plain": [
       "0"
      ]
     },
     "execution_count": 15,
     "metadata": {},
     "output_type": "execute_result"
    }
   ],
   "source": [
    "users.duplicated().sum()"
   ]
  },
  {
   "cell_type": "markdown",
   "metadata": {},
   "source": [
    "Во всех данных, кроме users, не было обнаруженно дубликатов или пропусков."
   ]
  },
  {
   "cell_type": "markdown",
   "metadata": {},
   "source": [
    "# 2  Шаг. Приготовление данных"
   ]
  },
  {
   "cell_type": "code",
   "execution_count": 16,
   "metadata": {},
   "outputs": [],
   "source": [
    "called['duration'] = np.ceil(called['duration'])\n",
    "called['duration'] = called['duration'].astype('int64')\n",
    "internet['mb_used'] = internet['mb_used'].astype('int64')"
   ]
  },
  {
   "cell_type": "markdown",
   "metadata": {},
   "source": [
    "<font color='DarkBlue'><b>Комментарий ревьюера</b></font><br>\n",
    "<font color='DarkGreen'>👌 Хорошо, что для округления используется np.ceil, так как он работает сразу со всем столбцом. 👍</font>"
   ]
  },
  {
   "cell_type": "code",
   "execution_count": 17,
   "metadata": {},
   "outputs": [
    {
     "data": {
      "text/plain": [
       "array([     0,      1,      2, ..., 149393, 149394, 149395])"
      ]
     },
     "execution_count": 17,
     "metadata": {},
     "output_type": "execute_result"
    }
   ],
   "source": [
    "internet['Unnamed: 0'].unique()"
   ]
  },
  {
   "cell_type": "markdown",
   "metadata": {},
   "source": [
    "Выглядит как бесполезный столбец."
   ]
  },
  {
   "cell_type": "code",
   "execution_count": 18,
   "metadata": {},
   "outputs": [],
   "source": [
    "internet = internet.drop(labels = 'Unnamed: 0', axis = 1)"
   ]
  },
  {
   "cell_type": "markdown",
   "metadata": {},
   "source": [
    "<font color='DarkBlue'><b>Комментарий ревьюера</b></font><br>\n",
    "<font color='DarkGreen'>👌 Хорошо, что удалили колонку Unnamed: 0, в принципе, от нее можно было избавиться на этапе загрузки датасета вот таким кодом: <br>`pd.read_csv(..., index_col=False)`. 😉</font>"
   ]
  },
  {
   "cell_type": "code",
   "execution_count": 19,
   "metadata": {},
   "outputs": [],
   "source": [
    "# Приведём дату к DatetimeIndex и выведем месяц\n",
    "called['month'] = pd.DatetimeIndex(called['call_date']).month\n",
    "messages['month'] = pd.DatetimeIndex(messages['message_date']).month\n",
    "internet['month'] = pd.DatetimeIndex(internet['session_date']).month"
   ]
  },
  {
   "cell_type": "markdown",
   "metadata": {},
   "source": [
    "<font color='DarkBlue'><b>Комментарий ревьюера</b></font><br>\n",
    "<font color='DarkGreen'>👌 Хорошо, добавили колонку с категорией месяца.</font>"
   ]
  },
  {
   "cell_type": "code",
   "execution_count": 20,
   "metadata": {},
   "outputs": [
    {
     "data": {
      "text/html": [
       "<div>\n",
       "<style scoped>\n",
       "    .dataframe tbody tr th:only-of-type {\n",
       "        vertical-align: middle;\n",
       "    }\n",
       "\n",
       "    .dataframe tbody tr th {\n",
       "        vertical-align: top;\n",
       "    }\n",
       "\n",
       "    .dataframe thead th {\n",
       "        text-align: right;\n",
       "    }\n",
       "</style>\n",
       "<table border=\"1\" class=\"dataframe\">\n",
       "  <thead>\n",
       "    <tr style=\"text-align: right;\">\n",
       "      <th></th>\n",
       "      <th>id</th>\n",
       "      <th>call_date</th>\n",
       "      <th>duration</th>\n",
       "      <th>user_id</th>\n",
       "      <th>month</th>\n",
       "    </tr>\n",
       "  </thead>\n",
       "  <tbody>\n",
       "    <tr>\n",
       "      <th>0</th>\n",
       "      <td>1000_0</td>\n",
       "      <td>2018-07-25</td>\n",
       "      <td>0</td>\n",
       "      <td>1000</td>\n",
       "      <td>7</td>\n",
       "    </tr>\n",
       "    <tr>\n",
       "      <th>1</th>\n",
       "      <td>1000_1</td>\n",
       "      <td>2018-08-17</td>\n",
       "      <td>0</td>\n",
       "      <td>1000</td>\n",
       "      <td>8</td>\n",
       "    </tr>\n",
       "    <tr>\n",
       "      <th>2</th>\n",
       "      <td>1000_2</td>\n",
       "      <td>2018-06-11</td>\n",
       "      <td>3</td>\n",
       "      <td>1000</td>\n",
       "      <td>6</td>\n",
       "    </tr>\n",
       "    <tr>\n",
       "      <th>3</th>\n",
       "      <td>1000_3</td>\n",
       "      <td>2018-09-21</td>\n",
       "      <td>14</td>\n",
       "      <td>1000</td>\n",
       "      <td>9</td>\n",
       "    </tr>\n",
       "    <tr>\n",
       "      <th>4</th>\n",
       "      <td>1000_4</td>\n",
       "      <td>2018-12-15</td>\n",
       "      <td>6</td>\n",
       "      <td>1000</td>\n",
       "      <td>12</td>\n",
       "    </tr>\n",
       "  </tbody>\n",
       "</table>\n",
       "</div>"
      ],
      "text/plain": [
       "       id   call_date  duration  user_id  month\n",
       "0  1000_0  2018-07-25         0     1000      7\n",
       "1  1000_1  2018-08-17         0     1000      8\n",
       "2  1000_2  2018-06-11         3     1000      6\n",
       "3  1000_3  2018-09-21        14     1000      9\n",
       "4  1000_4  2018-12-15         6     1000     12"
      ]
     },
     "metadata": {},
     "output_type": "display_data"
    },
    {
     "data": {
      "text/html": [
       "<div>\n",
       "<style scoped>\n",
       "    .dataframe tbody tr th:only-of-type {\n",
       "        vertical-align: middle;\n",
       "    }\n",
       "\n",
       "    .dataframe tbody tr th {\n",
       "        vertical-align: top;\n",
       "    }\n",
       "\n",
       "    .dataframe thead th {\n",
       "        text-align: right;\n",
       "    }\n",
       "</style>\n",
       "<table border=\"1\" class=\"dataframe\">\n",
       "  <thead>\n",
       "    <tr style=\"text-align: right;\">\n",
       "      <th></th>\n",
       "      <th>id</th>\n",
       "      <th>message_date</th>\n",
       "      <th>user_id</th>\n",
       "      <th>month</th>\n",
       "    </tr>\n",
       "  </thead>\n",
       "  <tbody>\n",
       "    <tr>\n",
       "      <th>0</th>\n",
       "      <td>1000_0</td>\n",
       "      <td>2018-06-27</td>\n",
       "      <td>1000</td>\n",
       "      <td>6</td>\n",
       "    </tr>\n",
       "    <tr>\n",
       "      <th>1</th>\n",
       "      <td>1000_1</td>\n",
       "      <td>2018-10-08</td>\n",
       "      <td>1000</td>\n",
       "      <td>10</td>\n",
       "    </tr>\n",
       "    <tr>\n",
       "      <th>2</th>\n",
       "      <td>1000_2</td>\n",
       "      <td>2018-08-04</td>\n",
       "      <td>1000</td>\n",
       "      <td>8</td>\n",
       "    </tr>\n",
       "    <tr>\n",
       "      <th>3</th>\n",
       "      <td>1000_3</td>\n",
       "      <td>2018-06-16</td>\n",
       "      <td>1000</td>\n",
       "      <td>6</td>\n",
       "    </tr>\n",
       "    <tr>\n",
       "      <th>4</th>\n",
       "      <td>1000_4</td>\n",
       "      <td>2018-12-05</td>\n",
       "      <td>1000</td>\n",
       "      <td>12</td>\n",
       "    </tr>\n",
       "  </tbody>\n",
       "</table>\n",
       "</div>"
      ],
      "text/plain": [
       "       id message_date  user_id  month\n",
       "0  1000_0   2018-06-27     1000      6\n",
       "1  1000_1   2018-10-08     1000     10\n",
       "2  1000_2   2018-08-04     1000      8\n",
       "3  1000_3   2018-06-16     1000      6\n",
       "4  1000_4   2018-12-05     1000     12"
      ]
     },
     "metadata": {},
     "output_type": "display_data"
    },
    {
     "data": {
      "text/html": [
       "<div>\n",
       "<style scoped>\n",
       "    .dataframe tbody tr th:only-of-type {\n",
       "        vertical-align: middle;\n",
       "    }\n",
       "\n",
       "    .dataframe tbody tr th {\n",
       "        vertical-align: top;\n",
       "    }\n",
       "\n",
       "    .dataframe thead th {\n",
       "        text-align: right;\n",
       "    }\n",
       "</style>\n",
       "<table border=\"1\" class=\"dataframe\">\n",
       "  <thead>\n",
       "    <tr style=\"text-align: right;\">\n",
       "      <th></th>\n",
       "      <th>id</th>\n",
       "      <th>mb_used</th>\n",
       "      <th>session_date</th>\n",
       "      <th>user_id</th>\n",
       "      <th>month</th>\n",
       "    </tr>\n",
       "  </thead>\n",
       "  <tbody>\n",
       "    <tr>\n",
       "      <th>0</th>\n",
       "      <td>1000_0</td>\n",
       "      <td>112</td>\n",
       "      <td>2018-11-25</td>\n",
       "      <td>1000</td>\n",
       "      <td>11</td>\n",
       "    </tr>\n",
       "    <tr>\n",
       "      <th>1</th>\n",
       "      <td>1000_1</td>\n",
       "      <td>1052</td>\n",
       "      <td>2018-09-07</td>\n",
       "      <td>1000</td>\n",
       "      <td>9</td>\n",
       "    </tr>\n",
       "    <tr>\n",
       "      <th>2</th>\n",
       "      <td>1000_2</td>\n",
       "      <td>1197</td>\n",
       "      <td>2018-06-25</td>\n",
       "      <td>1000</td>\n",
       "      <td>6</td>\n",
       "    </tr>\n",
       "    <tr>\n",
       "      <th>3</th>\n",
       "      <td>1000_3</td>\n",
       "      <td>550</td>\n",
       "      <td>2018-08-22</td>\n",
       "      <td>1000</td>\n",
       "      <td>8</td>\n",
       "    </tr>\n",
       "    <tr>\n",
       "      <th>4</th>\n",
       "      <td>1000_4</td>\n",
       "      <td>302</td>\n",
       "      <td>2018-09-24</td>\n",
       "      <td>1000</td>\n",
       "      <td>9</td>\n",
       "    </tr>\n",
       "  </tbody>\n",
       "</table>\n",
       "</div>"
      ],
      "text/plain": [
       "       id  mb_used session_date  user_id  month\n",
       "0  1000_0      112   2018-11-25     1000     11\n",
       "1  1000_1     1052   2018-09-07     1000      9\n",
       "2  1000_2     1197   2018-06-25     1000      6\n",
       "3  1000_3      550   2018-08-22     1000      8\n",
       "4  1000_4      302   2018-09-24     1000      9"
      ]
     },
     "metadata": {},
     "output_type": "display_data"
    }
   ],
   "source": [
    "display(called.head(5))\n",
    "display(messages.head(5))\n",
    "display(internet.head(5))"
   ]
  },
  {
   "cell_type": "code",
   "execution_count": 21,
   "metadata": {},
   "outputs": [
    {
     "data": {
      "text/html": [
       "<div>\n",
       "<style scoped>\n",
       "    .dataframe tbody tr th:only-of-type {\n",
       "        vertical-align: middle;\n",
       "    }\n",
       "\n",
       "    .dataframe tbody tr th {\n",
       "        vertical-align: top;\n",
       "    }\n",
       "\n",
       "    .dataframe thead th {\n",
       "        text-align: right;\n",
       "    }\n",
       "</style>\n",
       "<table border=\"1\" class=\"dataframe\">\n",
       "  <thead>\n",
       "    <tr style=\"text-align: right;\">\n",
       "      <th></th>\n",
       "      <th></th>\n",
       "      <th>calls_per_month</th>\n",
       "    </tr>\n",
       "    <tr>\n",
       "      <th>user_id</th>\n",
       "      <th>month</th>\n",
       "      <th></th>\n",
       "    </tr>\n",
       "  </thead>\n",
       "  <tbody>\n",
       "    <tr>\n",
       "      <th rowspan=\"5\" valign=\"top\">1000</th>\n",
       "      <th>5</th>\n",
       "      <td>159</td>\n",
       "    </tr>\n",
       "    <tr>\n",
       "      <th>6</th>\n",
       "      <td>172</td>\n",
       "    </tr>\n",
       "    <tr>\n",
       "      <th>7</th>\n",
       "      <td>340</td>\n",
       "    </tr>\n",
       "    <tr>\n",
       "      <th>8</th>\n",
       "      <td>408</td>\n",
       "    </tr>\n",
       "    <tr>\n",
       "      <th>9</th>\n",
       "      <td>466</td>\n",
       "    </tr>\n",
       "  </tbody>\n",
       "</table>\n",
       "</div>"
      ],
      "text/plain": [
       "               calls_per_month\n",
       "user_id month                 \n",
       "1000    5                  159\n",
       "        6                  172\n",
       "        7                  340\n",
       "        8                  408\n",
       "        9                  466"
      ]
     },
     "execution_count": 21,
     "metadata": {},
     "output_type": "execute_result"
    }
   ],
   "source": [
    "calls_per = called.groupby(['user_id', 'month']).agg({'duration':'sum'})\n",
    "calls_per.columns = ['calls_per_month']\n",
    "\n",
    "calls_per.head()"
   ]
  },
  {
   "cell_type": "code",
   "execution_count": 22,
   "metadata": {},
   "outputs": [
    {
     "data": {
      "text/plain": [
       "calls_per_month    0\n",
       "dtype: int64"
      ]
     },
     "execution_count": 22,
     "metadata": {},
     "output_type": "execute_result"
    }
   ],
   "source": [
    "calls_per.isna().sum()"
   ]
  },
  {
   "cell_type": "code",
   "execution_count": 23,
   "metadata": {},
   "outputs": [
    {
     "data": {
      "text/html": [
       "<div>\n",
       "<style scoped>\n",
       "    .dataframe tbody tr th:only-of-type {\n",
       "        vertical-align: middle;\n",
       "    }\n",
       "\n",
       "    .dataframe tbody tr th {\n",
       "        vertical-align: top;\n",
       "    }\n",
       "\n",
       "    .dataframe thead th {\n",
       "        text-align: right;\n",
       "    }\n",
       "</style>\n",
       "<table border=\"1\" class=\"dataframe\">\n",
       "  <thead>\n",
       "    <tr style=\"text-align: right;\">\n",
       "      <th></th>\n",
       "      <th></th>\n",
       "      <th>messg_per_month</th>\n",
       "    </tr>\n",
       "    <tr>\n",
       "      <th>user_id</th>\n",
       "      <th>month</th>\n",
       "      <th></th>\n",
       "    </tr>\n",
       "  </thead>\n",
       "  <tbody>\n",
       "    <tr>\n",
       "      <th rowspan=\"5\" valign=\"top\">1000</th>\n",
       "      <th>5</th>\n",
       "      <td>22</td>\n",
       "    </tr>\n",
       "    <tr>\n",
       "      <th>6</th>\n",
       "      <td>60</td>\n",
       "    </tr>\n",
       "    <tr>\n",
       "      <th>7</th>\n",
       "      <td>75</td>\n",
       "    </tr>\n",
       "    <tr>\n",
       "      <th>8</th>\n",
       "      <td>81</td>\n",
       "    </tr>\n",
       "    <tr>\n",
       "      <th>9</th>\n",
       "      <td>57</td>\n",
       "    </tr>\n",
       "  </tbody>\n",
       "</table>\n",
       "</div>"
      ],
      "text/plain": [
       "               messg_per_month\n",
       "user_id month                 \n",
       "1000    5                   22\n",
       "        6                   60\n",
       "        7                   75\n",
       "        8                   81\n",
       "        9                   57"
      ]
     },
     "execution_count": 23,
     "metadata": {},
     "output_type": "execute_result"
    }
   ],
   "source": [
    "messages_per = messages.groupby(['user_id', 'month']).agg({'id':'count'})\n",
    "messages_per.columns = ['messg_per_month']\n",
    "\n",
    "messages_per.head()"
   ]
  },
  {
   "cell_type": "code",
   "execution_count": 24,
   "metadata": {},
   "outputs": [
    {
     "data": {
      "text/plain": [
       "messg_per_month    0\n",
       "dtype: int64"
      ]
     },
     "execution_count": 24,
     "metadata": {},
     "output_type": "execute_result"
    }
   ],
   "source": [
    "messages_per.isna().sum()"
   ]
  },
  {
   "cell_type": "code",
   "execution_count": 25,
   "metadata": {},
   "outputs": [
    {
     "data": {
      "text/html": [
       "<div>\n",
       "<style scoped>\n",
       "    .dataframe tbody tr th:only-of-type {\n",
       "        vertical-align: middle;\n",
       "    }\n",
       "\n",
       "    .dataframe tbody tr th {\n",
       "        vertical-align: top;\n",
       "    }\n",
       "\n",
       "    .dataframe thead th {\n",
       "        text-align: right;\n",
       "    }\n",
       "</style>\n",
       "<table border=\"1\" class=\"dataframe\">\n",
       "  <thead>\n",
       "    <tr style=\"text-align: right;\">\n",
       "      <th></th>\n",
       "      <th></th>\n",
       "      <th>mb_per_month</th>\n",
       "    </tr>\n",
       "    <tr>\n",
       "      <th>user_id</th>\n",
       "      <th>month</th>\n",
       "      <th></th>\n",
       "    </tr>\n",
       "  </thead>\n",
       "  <tbody>\n",
       "    <tr>\n",
       "      <th rowspan=\"5\" valign=\"top\">1000</th>\n",
       "      <th>5</th>\n",
       "      <td>2252</td>\n",
       "    </tr>\n",
       "    <tr>\n",
       "      <th>6</th>\n",
       "      <td>23213</td>\n",
       "    </tr>\n",
       "    <tr>\n",
       "      <th>7</th>\n",
       "      <td>13988</td>\n",
       "    </tr>\n",
       "    <tr>\n",
       "      <th>8</th>\n",
       "      <td>14043</td>\n",
       "    </tr>\n",
       "    <tr>\n",
       "      <th>9</th>\n",
       "      <td>14556</td>\n",
       "    </tr>\n",
       "  </tbody>\n",
       "</table>\n",
       "</div>"
      ],
      "text/plain": [
       "               mb_per_month\n",
       "user_id month              \n",
       "1000    5              2252\n",
       "        6             23213\n",
       "        7             13988\n",
       "        8             14043\n",
       "        9             14556"
      ]
     },
     "execution_count": 25,
     "metadata": {},
     "output_type": "execute_result"
    }
   ],
   "source": [
    "internet_per = internet.groupby(['user_id', 'month']).agg({'mb_used':'sum'})\n",
    "internet_per.columns = ['mb_per_month']\n",
    "\n",
    "internet_per.head()"
   ]
  },
  {
   "cell_type": "code",
   "execution_count": 26,
   "metadata": {},
   "outputs": [
    {
     "data": {
      "text/html": [
       "<div>\n",
       "<style scoped>\n",
       "    .dataframe tbody tr th:only-of-type {\n",
       "        vertical-align: middle;\n",
       "    }\n",
       "\n",
       "    .dataframe tbody tr th {\n",
       "        vertical-align: top;\n",
       "    }\n",
       "\n",
       "    .dataframe thead th {\n",
       "        text-align: right;\n",
       "    }\n",
       "</style>\n",
       "<table border=\"1\" class=\"dataframe\">\n",
       "  <thead>\n",
       "    <tr style=\"text-align: right;\">\n",
       "      <th></th>\n",
       "      <th></th>\n",
       "      <th>calls_per_month</th>\n",
       "      <th>messg_per_month</th>\n",
       "      <th>mb_per_month</th>\n",
       "    </tr>\n",
       "    <tr>\n",
       "      <th>user_id</th>\n",
       "      <th>month</th>\n",
       "      <th></th>\n",
       "      <th></th>\n",
       "      <th></th>\n",
       "    </tr>\n",
       "  </thead>\n",
       "  <tbody>\n",
       "    <tr>\n",
       "      <th rowspan=\"5\" valign=\"top\">1000</th>\n",
       "      <th>5</th>\n",
       "      <td>159.0</td>\n",
       "      <td>22.0</td>\n",
       "      <td>2252.0</td>\n",
       "    </tr>\n",
       "    <tr>\n",
       "      <th>6</th>\n",
       "      <td>172.0</td>\n",
       "      <td>60.0</td>\n",
       "      <td>23213.0</td>\n",
       "    </tr>\n",
       "    <tr>\n",
       "      <th>7</th>\n",
       "      <td>340.0</td>\n",
       "      <td>75.0</td>\n",
       "      <td>13988.0</td>\n",
       "    </tr>\n",
       "    <tr>\n",
       "      <th>8</th>\n",
       "      <td>408.0</td>\n",
       "      <td>81.0</td>\n",
       "      <td>14043.0</td>\n",
       "    </tr>\n",
       "    <tr>\n",
       "      <th>9</th>\n",
       "      <td>466.0</td>\n",
       "      <td>57.0</td>\n",
       "      <td>14556.0</td>\n",
       "    </tr>\n",
       "    <tr>\n",
       "      <th>...</th>\n",
       "      <th>...</th>\n",
       "      <td>...</td>\n",
       "      <td>...</td>\n",
       "      <td>...</td>\n",
       "    </tr>\n",
       "    <tr>\n",
       "      <th rowspan=\"4\" valign=\"top\">1489</th>\n",
       "      <th>9</th>\n",
       "      <td>NaN</td>\n",
       "      <td>32.0</td>\n",
       "      <td>17183.0</td>\n",
       "    </tr>\n",
       "    <tr>\n",
       "      <th>10</th>\n",
       "      <td>NaN</td>\n",
       "      <td>21.0</td>\n",
       "      <td>19538.0</td>\n",
       "    </tr>\n",
       "    <tr>\n",
       "      <th>11</th>\n",
       "      <td>NaN</td>\n",
       "      <td>20.0</td>\n",
       "      <td>17471.0</td>\n",
       "    </tr>\n",
       "    <tr>\n",
       "      <th>12</th>\n",
       "      <td>NaN</td>\n",
       "      <td>35.0</td>\n",
       "      <td>17298.0</td>\n",
       "    </tr>\n",
       "    <tr>\n",
       "      <th>1476</th>\n",
       "      <th>4</th>\n",
       "      <td>NaN</td>\n",
       "      <td>NaN</td>\n",
       "      <td>530.0</td>\n",
       "    </tr>\n",
       "  </tbody>\n",
       "</table>\n",
       "<p>3214 rows × 3 columns</p>\n",
       "</div>"
      ],
      "text/plain": [
       "               calls_per_month  messg_per_month  mb_per_month\n",
       "user_id month                                                \n",
       "1000    5                159.0             22.0        2252.0\n",
       "        6                172.0             60.0       23213.0\n",
       "        7                340.0             75.0       13988.0\n",
       "        8                408.0             81.0       14043.0\n",
       "        9                466.0             57.0       14556.0\n",
       "...                        ...              ...           ...\n",
       "1489    9                  NaN             32.0       17183.0\n",
       "        10                 NaN             21.0       19538.0\n",
       "        11                 NaN             20.0       17471.0\n",
       "        12                 NaN             35.0       17298.0\n",
       "1476    4                  NaN              NaN         530.0\n",
       "\n",
       "[3214 rows x 3 columns]"
      ]
     },
     "metadata": {},
     "output_type": "display_data"
    }
   ],
   "source": [
    "data_merged = calls_per.merge(messages_per, on=['user_id', 'month'], how = 'outer')\n",
    "data_merged = data_merged.merge(internet_per, on= ['user_id', 'month'], how = 'outer')\n",
    "\n",
    "display(data_merged)"
   ]
  },
  {
   "cell_type": "markdown",
   "metadata": {},
   "source": [
    "<font color='DarkBlue'><b>Комментарий ревьюера</b></font><br>\n",
    "<font color='Red'>🛠 Надо проанализировать куда у нас пропало два пользователя после объединения таблиц, см. код ниже. Вот только не надо их сразу включать в сводную таблицу и считать на них выручку. Надо по ним принять правильное решение. </font>"
   ]
  },
  {
   "cell_type": "markdown",
   "metadata": {},
   "source": [
    "<font color='Blue'><b> По правде говоря так и не разобрался что конкретно нужно сделать."
   ]
  },
  {
   "cell_type": "markdown",
   "metadata": {},
   "source": [
    "<font color='DarkBlue'><b>Комментарий ревьюера 2</b></font><br>\n",
    "<font color='Red'>🛠 При анализе датасетов мы не проанализировали все ли клиенты пользовались всеми тремя услугами оператора. Всего клиентов 500, в нашей сводной таблице 498. Куда пропало 2 пользователя.</font>"
   ]
  },
  {
   "cell_type": "markdown",
   "metadata": {},
   "source": [
    "В сводной таблице оказлось 498 клиентов, хотя всего было 500. 2 абонента \"потерялись\", ибо пользовались интернетом/смс, но не звонили. Специально была применена функция how = 'outer'. На дальнейший анализ это не повлияет. "
   ]
  },
  {
   "cell_type": "markdown",
   "metadata": {},
   "source": [
    "<font color='DarkBlue'><b>Комментарий ревьюера 3</b></font><br>\n",
    "<font color='DarkGreen'>👌 Наша задача подробно анализировать данные и стоило проверить при анализе датасетов, сколько клиентов используют каждую услугу. И мы бы еще на этом этапе обнаружили, что не все клиенты пользуются всеми тремя услугами. Тогда бы мы ранее обнаружили, что два клиента через 5 и 8 дней сбежали. Соответственно, в проекте мы должны отметить этот факт, так как эта информация будет полезна коммерческому департаменту для выяснения причин ухода клиентов. </font>"
   ]
  },
  {
   "cell_type": "code",
   "execution_count": 27,
   "metadata": {},
   "outputs": [
    {
     "data": {
      "text/plain": [
       "498"
      ]
     },
     "execution_count": 27,
     "metadata": {},
     "output_type": "execute_result"
    }
   ],
   "source": [
    "# Комментарий ревьюера\n",
    "len(data_merged.unstack())"
   ]
  },
  {
   "cell_type": "code",
   "execution_count": 28,
   "metadata": {},
   "outputs": [
    {
     "data": {
      "text/plain": [
       "calls_per_month     40\n",
       "messg_per_month    497\n",
       "mb_per_month        11\n",
       "dtype: int64"
      ]
     },
     "execution_count": 28,
     "metadata": {},
     "output_type": "execute_result"
    }
   ],
   "source": [
    "data_merged.isna().sum()"
   ]
  },
  {
   "cell_type": "code",
   "execution_count": 29,
   "metadata": {},
   "outputs": [],
   "source": [
    "data_merged['calls_per_month'] = data_merged['calls_per_month'].fillna(0)\n",
    "data_merged['messg_per_month'] = data_merged['messg_per_month'].fillna(0)\n",
    "data_merged['mb_per_month'] = data_merged['mb_per_month'].fillna(0)"
   ]
  },
  {
   "cell_type": "markdown",
   "metadata": {},
   "source": [
    "<font color='DarkBlue'><b>Комментарий ревьюера</b></font><br>\n",
    "<font color='DarkGreen'>👌 Хорошо, что заполнили пропуски нулями. 👍</font>"
   ]
  },
  {
   "cell_type": "code",
   "execution_count": 30,
   "metadata": {},
   "outputs": [],
   "source": [
    "data_merged['calls_per_month'] = data_merged['calls_per_month'].astype('int64')\n",
    "data_merged['messg_per_month'] = data_merged['messg_per_month'].astype('int64')\n",
    "data_merged['mb_per_month'] = data_merged['mb_per_month'].astype('int64') "
   ]
  },
  {
   "cell_type": "code",
   "execution_count": 31,
   "metadata": {},
   "outputs": [],
   "source": [
    "def to_gg (row):\n",
    "    gg = row['mb_per_month']\n",
    "    if gg != 0:\n",
    "        return np.ceil(gg/1024)\n",
    "    else:\n",
    "        return 0"
   ]
  },
  {
   "cell_type": "code",
   "execution_count": 32,
   "metadata": {},
   "outputs": [],
   "source": [
    "data_merged['gg'] = data_merged.apply(to_gg, axis = 1)"
   ]
  },
  {
   "cell_type": "markdown",
   "metadata": {},
   "source": [
    "<font color='DarkBlue'><b>Комментарий ревьюера</b></font><br>\n",
    "<font color='DarkMagenta'>👉 math.ceil с помощью apply - не оптимальный способ. np.ceil подойдет лучше, т.к. может работать сразу со всем столбцом</font>"
   ]
  },
  {
   "cell_type": "markdown",
   "metadata": {},
   "source": [
    "</font><font color='Blue'><b>Исправил"
   ]
  },
  {
   "cell_type": "markdown",
   "metadata": {},
   "source": [
    "<font color='DarkBlue'><b>Комментарий ревьюера 2</b></font><br>\n",
    "<font color='DarkGreen'>👌 Хорошо, так оптимальнее.</font>"
   ]
  },
  {
   "cell_type": "code",
   "execution_count": 33,
   "metadata": {},
   "outputs": [
    {
     "data": {
      "text/html": [
       "<div>\n",
       "<style scoped>\n",
       "    .dataframe tbody tr th:only-of-type {\n",
       "        vertical-align: middle;\n",
       "    }\n",
       "\n",
       "    .dataframe tbody tr th {\n",
       "        vertical-align: top;\n",
       "    }\n",
       "\n",
       "    .dataframe thead th {\n",
       "        text-align: right;\n",
       "    }\n",
       "</style>\n",
       "<table border=\"1\" class=\"dataframe\">\n",
       "  <thead>\n",
       "    <tr style=\"text-align: right;\">\n",
       "      <th></th>\n",
       "      <th></th>\n",
       "      <th>calls_per_month</th>\n",
       "      <th>messg_per_month</th>\n",
       "      <th>mb_per_month</th>\n",
       "      <th>gg</th>\n",
       "    </tr>\n",
       "    <tr>\n",
       "      <th>user_id</th>\n",
       "      <th>month</th>\n",
       "      <th></th>\n",
       "      <th></th>\n",
       "      <th></th>\n",
       "      <th></th>\n",
       "    </tr>\n",
       "  </thead>\n",
       "  <tbody>\n",
       "    <tr>\n",
       "      <th rowspan=\"8\" valign=\"top\">1000</th>\n",
       "      <th>5</th>\n",
       "      <td>159</td>\n",
       "      <td>22</td>\n",
       "      <td>2252</td>\n",
       "      <td>3.0</td>\n",
       "    </tr>\n",
       "    <tr>\n",
       "      <th>6</th>\n",
       "      <td>172</td>\n",
       "      <td>60</td>\n",
       "      <td>23213</td>\n",
       "      <td>23.0</td>\n",
       "    </tr>\n",
       "    <tr>\n",
       "      <th>7</th>\n",
       "      <td>340</td>\n",
       "      <td>75</td>\n",
       "      <td>13988</td>\n",
       "      <td>14.0</td>\n",
       "    </tr>\n",
       "    <tr>\n",
       "      <th>8</th>\n",
       "      <td>408</td>\n",
       "      <td>81</td>\n",
       "      <td>14043</td>\n",
       "      <td>14.0</td>\n",
       "    </tr>\n",
       "    <tr>\n",
       "      <th>9</th>\n",
       "      <td>466</td>\n",
       "      <td>57</td>\n",
       "      <td>14556</td>\n",
       "      <td>15.0</td>\n",
       "    </tr>\n",
       "    <tr>\n",
       "      <th>10</th>\n",
       "      <td>350</td>\n",
       "      <td>73</td>\n",
       "      <td>14690</td>\n",
       "      <td>15.0</td>\n",
       "    </tr>\n",
       "    <tr>\n",
       "      <th>11</th>\n",
       "      <td>338</td>\n",
       "      <td>58</td>\n",
       "      <td>14745</td>\n",
       "      <td>15.0</td>\n",
       "    </tr>\n",
       "    <tr>\n",
       "      <th>12</th>\n",
       "      <td>333</td>\n",
       "      <td>70</td>\n",
       "      <td>9808</td>\n",
       "      <td>10.0</td>\n",
       "    </tr>\n",
       "    <tr>\n",
       "      <th rowspan=\"2\" valign=\"top\">1001</th>\n",
       "      <th>11</th>\n",
       "      <td>430</td>\n",
       "      <td>0</td>\n",
       "      <td>18405</td>\n",
       "      <td>18.0</td>\n",
       "    </tr>\n",
       "    <tr>\n",
       "      <th>12</th>\n",
       "      <td>414</td>\n",
       "      <td>0</td>\n",
       "      <td>14018</td>\n",
       "      <td>14.0</td>\n",
       "    </tr>\n",
       "  </tbody>\n",
       "</table>\n",
       "</div>"
      ],
      "text/plain": [
       "               calls_per_month  messg_per_month  mb_per_month    gg\n",
       "user_id month                                                      \n",
       "1000    5                  159               22          2252   3.0\n",
       "        6                  172               60         23213  23.0\n",
       "        7                  340               75         13988  14.0\n",
       "        8                  408               81         14043  14.0\n",
       "        9                  466               57         14556  15.0\n",
       "        10                 350               73         14690  15.0\n",
       "        11                 338               58         14745  15.0\n",
       "        12                 333               70          9808  10.0\n",
       "1001    11                 430                0         18405  18.0\n",
       "        12                 414                0         14018  14.0"
      ]
     },
     "execution_count": 33,
     "metadata": {},
     "output_type": "execute_result"
    }
   ],
   "source": [
    "data_merged.head(10)"
   ]
  },
  {
   "cell_type": "code",
   "execution_count": 34,
   "metadata": {},
   "outputs": [
    {
     "name": "stdout",
     "output_type": "stream",
     "text": [
      "<class 'pandas.core.frame.DataFrame'>\n",
      "MultiIndex: 3214 entries, (1000, 5) to (1476, 4)\n",
      "Data columns (total 4 columns):\n",
      " #   Column           Non-Null Count  Dtype  \n",
      "---  ------           --------------  -----  \n",
      " 0   calls_per_month  3214 non-null   int64  \n",
      " 1   messg_per_month  3214 non-null   int64  \n",
      " 2   mb_per_month     3214 non-null   int64  \n",
      " 3   gg               3214 non-null   float64\n",
      "dtypes: float64(1), int64(3)\n",
      "memory usage: 130.4 KB\n"
     ]
    }
   ],
   "source": [
    "data_merged.info()"
   ]
  },
  {
   "cell_type": "code",
   "execution_count": 35,
   "metadata": {},
   "outputs": [],
   "source": [
    "data_merged = data_merged.reset_index()"
   ]
  },
  {
   "cell_type": "code",
   "execution_count": 36,
   "metadata": {},
   "outputs": [
    {
     "data": {
      "text/html": [
       "<div>\n",
       "<style scoped>\n",
       "    .dataframe tbody tr th:only-of-type {\n",
       "        vertical-align: middle;\n",
       "    }\n",
       "\n",
       "    .dataframe tbody tr th {\n",
       "        vertical-align: top;\n",
       "    }\n",
       "\n",
       "    .dataframe thead th {\n",
       "        text-align: right;\n",
       "    }\n",
       "</style>\n",
       "<table border=\"1\" class=\"dataframe\">\n",
       "  <thead>\n",
       "    <tr style=\"text-align: right;\">\n",
       "      <th></th>\n",
       "      <th>user_id</th>\n",
       "      <th>month</th>\n",
       "      <th>calls_per_month</th>\n",
       "      <th>messg_per_month</th>\n",
       "      <th>mb_per_month</th>\n",
       "      <th>gg</th>\n",
       "      <th>age</th>\n",
       "      <th>churn_date</th>\n",
       "      <th>city</th>\n",
       "      <th>first_name</th>\n",
       "      <th>last_name</th>\n",
       "      <th>reg_date</th>\n",
       "      <th>tariff</th>\n",
       "    </tr>\n",
       "  </thead>\n",
       "  <tbody>\n",
       "    <tr>\n",
       "      <th>0</th>\n",
       "      <td>1000</td>\n",
       "      <td>5.0</td>\n",
       "      <td>159.0</td>\n",
       "      <td>22.0</td>\n",
       "      <td>2252.0</td>\n",
       "      <td>3.0</td>\n",
       "      <td>52</td>\n",
       "      <td>NaN</td>\n",
       "      <td>Краснодар</td>\n",
       "      <td>Рафаил</td>\n",
       "      <td>Верещагин</td>\n",
       "      <td>2018-05-25</td>\n",
       "      <td>ultra</td>\n",
       "    </tr>\n",
       "    <tr>\n",
       "      <th>1</th>\n",
       "      <td>1000</td>\n",
       "      <td>6.0</td>\n",
       "      <td>172.0</td>\n",
       "      <td>60.0</td>\n",
       "      <td>23213.0</td>\n",
       "      <td>23.0</td>\n",
       "      <td>52</td>\n",
       "      <td>NaN</td>\n",
       "      <td>Краснодар</td>\n",
       "      <td>Рафаил</td>\n",
       "      <td>Верещагин</td>\n",
       "      <td>2018-05-25</td>\n",
       "      <td>ultra</td>\n",
       "    </tr>\n",
       "    <tr>\n",
       "      <th>2</th>\n",
       "      <td>1000</td>\n",
       "      <td>7.0</td>\n",
       "      <td>340.0</td>\n",
       "      <td>75.0</td>\n",
       "      <td>13988.0</td>\n",
       "      <td>14.0</td>\n",
       "      <td>52</td>\n",
       "      <td>NaN</td>\n",
       "      <td>Краснодар</td>\n",
       "      <td>Рафаил</td>\n",
       "      <td>Верещагин</td>\n",
       "      <td>2018-05-25</td>\n",
       "      <td>ultra</td>\n",
       "    </tr>\n",
       "    <tr>\n",
       "      <th>3</th>\n",
       "      <td>1000</td>\n",
       "      <td>8.0</td>\n",
       "      <td>408.0</td>\n",
       "      <td>81.0</td>\n",
       "      <td>14043.0</td>\n",
       "      <td>14.0</td>\n",
       "      <td>52</td>\n",
       "      <td>NaN</td>\n",
       "      <td>Краснодар</td>\n",
       "      <td>Рафаил</td>\n",
       "      <td>Верещагин</td>\n",
       "      <td>2018-05-25</td>\n",
       "      <td>ultra</td>\n",
       "    </tr>\n",
       "    <tr>\n",
       "      <th>4</th>\n",
       "      <td>1000</td>\n",
       "      <td>9.0</td>\n",
       "      <td>466.0</td>\n",
       "      <td>57.0</td>\n",
       "      <td>14556.0</td>\n",
       "      <td>15.0</td>\n",
       "      <td>52</td>\n",
       "      <td>NaN</td>\n",
       "      <td>Краснодар</td>\n",
       "      <td>Рафаил</td>\n",
       "      <td>Верещагин</td>\n",
       "      <td>2018-05-25</td>\n",
       "      <td>ultra</td>\n",
       "    </tr>\n",
       "    <tr>\n",
       "      <th>...</th>\n",
       "      <td>...</td>\n",
       "      <td>...</td>\n",
       "      <td>...</td>\n",
       "      <td>...</td>\n",
       "      <td>...</td>\n",
       "      <td>...</td>\n",
       "      <td>...</td>\n",
       "      <td>...</td>\n",
       "      <td>...</td>\n",
       "      <td>...</td>\n",
       "      <td>...</td>\n",
       "      <td>...</td>\n",
       "      <td>...</td>\n",
       "    </tr>\n",
       "    <tr>\n",
       "      <th>3211</th>\n",
       "      <td>1489</td>\n",
       "      <td>10.0</td>\n",
       "      <td>0.0</td>\n",
       "      <td>21.0</td>\n",
       "      <td>19538.0</td>\n",
       "      <td>20.0</td>\n",
       "      <td>35</td>\n",
       "      <td>NaN</td>\n",
       "      <td>Санкт-Петербург</td>\n",
       "      <td>Павел</td>\n",
       "      <td>Гончаров</td>\n",
       "      <td>2018-08-15</td>\n",
       "      <td>smart</td>\n",
       "    </tr>\n",
       "    <tr>\n",
       "      <th>3212</th>\n",
       "      <td>1489</td>\n",
       "      <td>11.0</td>\n",
       "      <td>0.0</td>\n",
       "      <td>20.0</td>\n",
       "      <td>17471.0</td>\n",
       "      <td>18.0</td>\n",
       "      <td>35</td>\n",
       "      <td>NaN</td>\n",
       "      <td>Санкт-Петербург</td>\n",
       "      <td>Павел</td>\n",
       "      <td>Гончаров</td>\n",
       "      <td>2018-08-15</td>\n",
       "      <td>smart</td>\n",
       "    </tr>\n",
       "    <tr>\n",
       "      <th>3213</th>\n",
       "      <td>1489</td>\n",
       "      <td>12.0</td>\n",
       "      <td>0.0</td>\n",
       "      <td>35.0</td>\n",
       "      <td>17298.0</td>\n",
       "      <td>17.0</td>\n",
       "      <td>35</td>\n",
       "      <td>NaN</td>\n",
       "      <td>Санкт-Петербург</td>\n",
       "      <td>Павел</td>\n",
       "      <td>Гончаров</td>\n",
       "      <td>2018-08-15</td>\n",
       "      <td>smart</td>\n",
       "    </tr>\n",
       "    <tr>\n",
       "      <th>3214</th>\n",
       "      <td>1128</td>\n",
       "      <td>NaN</td>\n",
       "      <td>NaN</td>\n",
       "      <td>NaN</td>\n",
       "      <td>NaN</td>\n",
       "      <td>NaN</td>\n",
       "      <td>51</td>\n",
       "      <td>2018-12-23</td>\n",
       "      <td>Волжский</td>\n",
       "      <td>Ксения</td>\n",
       "      <td>Агаева</td>\n",
       "      <td>2018-12-15</td>\n",
       "      <td>ultra</td>\n",
       "    </tr>\n",
       "    <tr>\n",
       "      <th>3215</th>\n",
       "      <td>1371</td>\n",
       "      <td>NaN</td>\n",
       "      <td>NaN</td>\n",
       "      <td>NaN</td>\n",
       "      <td>NaN</td>\n",
       "      <td>NaN</td>\n",
       "      <td>50</td>\n",
       "      <td>2018-12-30</td>\n",
       "      <td>Омск</td>\n",
       "      <td>Ириней</td>\n",
       "      <td>Трофимов</td>\n",
       "      <td>2018-12-25</td>\n",
       "      <td>smart</td>\n",
       "    </tr>\n",
       "  </tbody>\n",
       "</table>\n",
       "<p>3216 rows × 13 columns</p>\n",
       "</div>"
      ],
      "text/plain": [
       "      user_id  month  calls_per_month  messg_per_month  mb_per_month    gg  \\\n",
       "0        1000    5.0            159.0             22.0        2252.0   3.0   \n",
       "1        1000    6.0            172.0             60.0       23213.0  23.0   \n",
       "2        1000    7.0            340.0             75.0       13988.0  14.0   \n",
       "3        1000    8.0            408.0             81.0       14043.0  14.0   \n",
       "4        1000    9.0            466.0             57.0       14556.0  15.0   \n",
       "...       ...    ...              ...              ...           ...   ...   \n",
       "3211     1489   10.0              0.0             21.0       19538.0  20.0   \n",
       "3212     1489   11.0              0.0             20.0       17471.0  18.0   \n",
       "3213     1489   12.0              0.0             35.0       17298.0  17.0   \n",
       "3214     1128    NaN              NaN              NaN           NaN   NaN   \n",
       "3215     1371    NaN              NaN              NaN           NaN   NaN   \n",
       "\n",
       "      age  churn_date             city first_name  last_name    reg_date  \\\n",
       "0      52         NaN        Краснодар     Рафаил  Верещагин  2018-05-25   \n",
       "1      52         NaN        Краснодар     Рафаил  Верещагин  2018-05-25   \n",
       "2      52         NaN        Краснодар     Рафаил  Верещагин  2018-05-25   \n",
       "3      52         NaN        Краснодар     Рафаил  Верещагин  2018-05-25   \n",
       "4      52         NaN        Краснодар     Рафаил  Верещагин  2018-05-25   \n",
       "...   ...         ...              ...        ...        ...         ...   \n",
       "3211   35         NaN  Санкт-Петербург      Павел   Гончаров  2018-08-15   \n",
       "3212   35         NaN  Санкт-Петербург      Павел   Гончаров  2018-08-15   \n",
       "3213   35         NaN  Санкт-Петербург      Павел   Гончаров  2018-08-15   \n",
       "3214   51  2018-12-23         Волжский     Ксения     Агаева  2018-12-15   \n",
       "3215   50  2018-12-30             Омск     Ириней   Трофимов  2018-12-25   \n",
       "\n",
       "     tariff  \n",
       "0     ultra  \n",
       "1     ultra  \n",
       "2     ultra  \n",
       "3     ultra  \n",
       "4     ultra  \n",
       "...     ...  \n",
       "3211  smart  \n",
       "3212  smart  \n",
       "3213  smart  \n",
       "3214  ultra  \n",
       "3215  smart  \n",
       "\n",
       "[3216 rows x 13 columns]"
      ]
     },
     "execution_count": 36,
     "metadata": {},
     "output_type": "execute_result"
    }
   ],
   "source": [
    "data_combined = data_merged.merge(users, on ='user_id', how='outer')\n",
    "data_combined"
   ]
  },
  {
   "cell_type": "code",
   "execution_count": 37,
   "metadata": {},
   "outputs": [],
   "source": [
    "data_combined['gg'] = data_combined['gg'].fillna(0)\n",
    "data_combined['mb_per_month'] = data_combined['mb_per_month'].fillna(0)"
   ]
  },
  {
   "cell_type": "code",
   "execution_count": 38,
   "metadata": {},
   "outputs": [],
   "source": [
    "data_combined['gg'] = data_combined['gg'].astype('int64')\n",
    "data_combined['mb_per_month'] = data_combined['mb_per_month'].astype('int64') "
   ]
  },
  {
   "cell_type": "markdown",
   "metadata": {},
   "source": [
    "<font color='DarkBlue'><b>Комментарий ревьюера</b></font><br>\n",
    "<font color='DarkMagenta'>👉 Данную информацию лучше размещать в описании проекта.</font>"
   ]
  },
  {
   "cell_type": "markdown",
   "metadata": {},
   "source": [
    "</font><font color='Blue'><b> Описание тарифов перевёл в начало проекта."
   ]
  },
  {
   "cell_type": "code",
   "execution_count": 39,
   "metadata": {},
   "outputs": [],
   "source": [
    "def net_income (row):\n",
    "    gg = row['gg']\n",
    "    calls = row['calls_per_month']\n",
    "    messg = row['messg_per_month']\n",
    "    tar = row['tariff']\n",
    "    \n",
    "    pay_ultra_month = []\n",
    "    pay_smart_month = []\n",
    "    \n",
    "    if tar == 'ultra':\n",
    "        gg_pure = gg - 30\n",
    "        calls_pure = calls - 3000\n",
    "        messg_pure = messg - 1000\n",
    "            \n",
    "        if gg_pure > 0:\n",
    "            pay_ultra_month.append(gg_pure * 150)\n",
    "        if calls_pure > 0:\n",
    "            pay_ultra_month.append(calls_pure * 1)\n",
    "        if messg_pure > 0:\n",
    "            pay_ultra_month.append(messg_pure * 1)\n",
    "            \n",
    "        return 1950 + sum(pay_ultra_month)\n",
    "    \n",
    "    else:\n",
    "        gg_pure = gg - 15\n",
    "        calls_pure = calls - 500\n",
    "        messg_pure = messg - 50\n",
    "            \n",
    "        if gg_pure > 0:\n",
    "            pay_smart_month.append(gg_pure * 200)\n",
    "        if calls_pure > 0:\n",
    "            pay_smart_month.append(calls_pure * 3)\n",
    "        if messg_pure > 0:\n",
    "            pay_smart_month.append(messg_pure * 3)\n",
    "            \n",
    "        return 550 + sum(pay_smart_month)"
   ]
  },
  {
   "cell_type": "markdown",
   "metadata": {},
   "source": [
    "<font color='DarkBlue'><b>Комментарий ревьюера</b></font><br>\n",
    "<font color='DarkMagenta'>👉 Рекомендуется не использовать в коде значения переменных, которые есть в датасете. Тогда при изменении тарифов мы можем использовать ранее написанный код при анализе просто загрузив новый датсет. 😲</font>"
   ]
  },
  {
   "cell_type": "markdown",
   "metadata": {},
   "source": [
    "</font><font color='Blue'><b> Понял"
   ]
  },
  {
   "cell_type": "code",
   "execution_count": 40,
   "metadata": {
    "scrolled": true
   },
   "outputs": [
    {
     "data": {
      "text/html": [
       "<div>\n",
       "<style scoped>\n",
       "    .dataframe tbody tr th:only-of-type {\n",
       "        vertical-align: middle;\n",
       "    }\n",
       "\n",
       "    .dataframe tbody tr th {\n",
       "        vertical-align: top;\n",
       "    }\n",
       "\n",
       "    .dataframe thead th {\n",
       "        text-align: right;\n",
       "    }\n",
       "</style>\n",
       "<table border=\"1\" class=\"dataframe\">\n",
       "  <thead>\n",
       "    <tr style=\"text-align: right;\">\n",
       "      <th></th>\n",
       "      <th>user_id</th>\n",
       "      <th>month</th>\n",
       "      <th>calls_per_month</th>\n",
       "      <th>messg_per_month</th>\n",
       "      <th>mb_per_month</th>\n",
       "      <th>gg</th>\n",
       "      <th>age</th>\n",
       "      <th>churn_date</th>\n",
       "      <th>city</th>\n",
       "      <th>first_name</th>\n",
       "      <th>last_name</th>\n",
       "      <th>reg_date</th>\n",
       "      <th>tariff</th>\n",
       "      <th>net_income</th>\n",
       "    </tr>\n",
       "  </thead>\n",
       "  <tbody>\n",
       "    <tr>\n",
       "      <th>0</th>\n",
       "      <td>1000</td>\n",
       "      <td>5.0</td>\n",
       "      <td>159.0</td>\n",
       "      <td>22.0</td>\n",
       "      <td>2252</td>\n",
       "      <td>3</td>\n",
       "      <td>52</td>\n",
       "      <td>NaN</td>\n",
       "      <td>Краснодар</td>\n",
       "      <td>Рафаил</td>\n",
       "      <td>Верещагин</td>\n",
       "      <td>2018-05-25</td>\n",
       "      <td>ultra</td>\n",
       "      <td>1950.0</td>\n",
       "    </tr>\n",
       "    <tr>\n",
       "      <th>1</th>\n",
       "      <td>1000</td>\n",
       "      <td>6.0</td>\n",
       "      <td>172.0</td>\n",
       "      <td>60.0</td>\n",
       "      <td>23213</td>\n",
       "      <td>23</td>\n",
       "      <td>52</td>\n",
       "      <td>NaN</td>\n",
       "      <td>Краснодар</td>\n",
       "      <td>Рафаил</td>\n",
       "      <td>Верещагин</td>\n",
       "      <td>2018-05-25</td>\n",
       "      <td>ultra</td>\n",
       "      <td>1950.0</td>\n",
       "    </tr>\n",
       "    <tr>\n",
       "      <th>2</th>\n",
       "      <td>1000</td>\n",
       "      <td>7.0</td>\n",
       "      <td>340.0</td>\n",
       "      <td>75.0</td>\n",
       "      <td>13988</td>\n",
       "      <td>14</td>\n",
       "      <td>52</td>\n",
       "      <td>NaN</td>\n",
       "      <td>Краснодар</td>\n",
       "      <td>Рафаил</td>\n",
       "      <td>Верещагин</td>\n",
       "      <td>2018-05-25</td>\n",
       "      <td>ultra</td>\n",
       "      <td>1950.0</td>\n",
       "    </tr>\n",
       "    <tr>\n",
       "      <th>3</th>\n",
       "      <td>1000</td>\n",
       "      <td>8.0</td>\n",
       "      <td>408.0</td>\n",
       "      <td>81.0</td>\n",
       "      <td>14043</td>\n",
       "      <td>14</td>\n",
       "      <td>52</td>\n",
       "      <td>NaN</td>\n",
       "      <td>Краснодар</td>\n",
       "      <td>Рафаил</td>\n",
       "      <td>Верещагин</td>\n",
       "      <td>2018-05-25</td>\n",
       "      <td>ultra</td>\n",
       "      <td>1950.0</td>\n",
       "    </tr>\n",
       "    <tr>\n",
       "      <th>4</th>\n",
       "      <td>1000</td>\n",
       "      <td>9.0</td>\n",
       "      <td>466.0</td>\n",
       "      <td>57.0</td>\n",
       "      <td>14556</td>\n",
       "      <td>15</td>\n",
       "      <td>52</td>\n",
       "      <td>NaN</td>\n",
       "      <td>Краснодар</td>\n",
       "      <td>Рафаил</td>\n",
       "      <td>Верещагин</td>\n",
       "      <td>2018-05-25</td>\n",
       "      <td>ultra</td>\n",
       "      <td>1950.0</td>\n",
       "    </tr>\n",
       "    <tr>\n",
       "      <th>...</th>\n",
       "      <td>...</td>\n",
       "      <td>...</td>\n",
       "      <td>...</td>\n",
       "      <td>...</td>\n",
       "      <td>...</td>\n",
       "      <td>...</td>\n",
       "      <td>...</td>\n",
       "      <td>...</td>\n",
       "      <td>...</td>\n",
       "      <td>...</td>\n",
       "      <td>...</td>\n",
       "      <td>...</td>\n",
       "      <td>...</td>\n",
       "      <td>...</td>\n",
       "    </tr>\n",
       "    <tr>\n",
       "      <th>3211</th>\n",
       "      <td>1489</td>\n",
       "      <td>10.0</td>\n",
       "      <td>0.0</td>\n",
       "      <td>21.0</td>\n",
       "      <td>19538</td>\n",
       "      <td>20</td>\n",
       "      <td>35</td>\n",
       "      <td>NaN</td>\n",
       "      <td>Санкт-Петербург</td>\n",
       "      <td>Павел</td>\n",
       "      <td>Гончаров</td>\n",
       "      <td>2018-08-15</td>\n",
       "      <td>smart</td>\n",
       "      <td>1550.0</td>\n",
       "    </tr>\n",
       "    <tr>\n",
       "      <th>3212</th>\n",
       "      <td>1489</td>\n",
       "      <td>11.0</td>\n",
       "      <td>0.0</td>\n",
       "      <td>20.0</td>\n",
       "      <td>17471</td>\n",
       "      <td>18</td>\n",
       "      <td>35</td>\n",
       "      <td>NaN</td>\n",
       "      <td>Санкт-Петербург</td>\n",
       "      <td>Павел</td>\n",
       "      <td>Гончаров</td>\n",
       "      <td>2018-08-15</td>\n",
       "      <td>smart</td>\n",
       "      <td>1150.0</td>\n",
       "    </tr>\n",
       "    <tr>\n",
       "      <th>3213</th>\n",
       "      <td>1489</td>\n",
       "      <td>12.0</td>\n",
       "      <td>0.0</td>\n",
       "      <td>35.0</td>\n",
       "      <td>17298</td>\n",
       "      <td>17</td>\n",
       "      <td>35</td>\n",
       "      <td>NaN</td>\n",
       "      <td>Санкт-Петербург</td>\n",
       "      <td>Павел</td>\n",
       "      <td>Гончаров</td>\n",
       "      <td>2018-08-15</td>\n",
       "      <td>smart</td>\n",
       "      <td>950.0</td>\n",
       "    </tr>\n",
       "    <tr>\n",
       "      <th>3214</th>\n",
       "      <td>1128</td>\n",
       "      <td>NaN</td>\n",
       "      <td>NaN</td>\n",
       "      <td>NaN</td>\n",
       "      <td>0</td>\n",
       "      <td>0</td>\n",
       "      <td>51</td>\n",
       "      <td>2018-12-23</td>\n",
       "      <td>Волжский</td>\n",
       "      <td>Ксения</td>\n",
       "      <td>Агаева</td>\n",
       "      <td>2018-12-15</td>\n",
       "      <td>ultra</td>\n",
       "      <td>1950.0</td>\n",
       "    </tr>\n",
       "    <tr>\n",
       "      <th>3215</th>\n",
       "      <td>1371</td>\n",
       "      <td>NaN</td>\n",
       "      <td>NaN</td>\n",
       "      <td>NaN</td>\n",
       "      <td>0</td>\n",
       "      <td>0</td>\n",
       "      <td>50</td>\n",
       "      <td>2018-12-30</td>\n",
       "      <td>Омск</td>\n",
       "      <td>Ириней</td>\n",
       "      <td>Трофимов</td>\n",
       "      <td>2018-12-25</td>\n",
       "      <td>smart</td>\n",
       "      <td>550.0</td>\n",
       "    </tr>\n",
       "  </tbody>\n",
       "</table>\n",
       "<p>3216 rows × 14 columns</p>\n",
       "</div>"
      ],
      "text/plain": [
       "      user_id  month  calls_per_month  messg_per_month  mb_per_month  gg  age  \\\n",
       "0        1000    5.0            159.0             22.0          2252   3   52   \n",
       "1        1000    6.0            172.0             60.0         23213  23   52   \n",
       "2        1000    7.0            340.0             75.0         13988  14   52   \n",
       "3        1000    8.0            408.0             81.0         14043  14   52   \n",
       "4        1000    9.0            466.0             57.0         14556  15   52   \n",
       "...       ...    ...              ...              ...           ...  ..  ...   \n",
       "3211     1489   10.0              0.0             21.0         19538  20   35   \n",
       "3212     1489   11.0              0.0             20.0         17471  18   35   \n",
       "3213     1489   12.0              0.0             35.0         17298  17   35   \n",
       "3214     1128    NaN              NaN              NaN             0   0   51   \n",
       "3215     1371    NaN              NaN              NaN             0   0   50   \n",
       "\n",
       "      churn_date             city first_name  last_name    reg_date tariff  \\\n",
       "0            NaN        Краснодар     Рафаил  Верещагин  2018-05-25  ultra   \n",
       "1            NaN        Краснодар     Рафаил  Верещагин  2018-05-25  ultra   \n",
       "2            NaN        Краснодар     Рафаил  Верещагин  2018-05-25  ultra   \n",
       "3            NaN        Краснодар     Рафаил  Верещагин  2018-05-25  ultra   \n",
       "4            NaN        Краснодар     Рафаил  Верещагин  2018-05-25  ultra   \n",
       "...          ...              ...        ...        ...         ...    ...   \n",
       "3211         NaN  Санкт-Петербург      Павел   Гончаров  2018-08-15  smart   \n",
       "3212         NaN  Санкт-Петербург      Павел   Гончаров  2018-08-15  smart   \n",
       "3213         NaN  Санкт-Петербург      Павел   Гончаров  2018-08-15  smart   \n",
       "3214  2018-12-23         Волжский     Ксения     Агаева  2018-12-15  ultra   \n",
       "3215  2018-12-30             Омск     Ириней   Трофимов  2018-12-25  smart   \n",
       "\n",
       "      net_income  \n",
       "0         1950.0  \n",
       "1         1950.0  \n",
       "2         1950.0  \n",
       "3         1950.0  \n",
       "4         1950.0  \n",
       "...          ...  \n",
       "3211      1550.0  \n",
       "3212      1150.0  \n",
       "3213       950.0  \n",
       "3214      1950.0  \n",
       "3215       550.0  \n",
       "\n",
       "[3216 rows x 14 columns]"
      ]
     },
     "execution_count": 40,
     "metadata": {},
     "output_type": "execute_result"
    }
   ],
   "source": [
    "data_combined['net_income'] = data_combined.apply(net_income, axis = 1)\n",
    "\n",
    "data_combined"
   ]
  },
  {
   "cell_type": "markdown",
   "metadata": {},
   "source": [
    "<font color='DarkBlue'><b>Комментарий ревьюера</b></font><br>\n",
    "<font color='Red'>🛠 Но после после создания объединеной таблицы мы не проверили наличие пропусков и не приняли решения по ним. Надо это сделать.</font>"
   ]
  },
  {
   "cell_type": "markdown",
   "metadata": {},
   "source": [
    "<font color='DarkBlue'><b>Комментарий ревьюера 2</b></font><br>\n",
    "<font color='Red'>🛠 Мы так и не приняли решение о пропусках.</font>"
   ]
  },
  {
   "cell_type": "markdown",
   "metadata": {},
   "source": [
    "churn_date — дата прекращения пользования тарифом (если значение пропущено, то тариф ещё действовал на момент выгрузки данных)"
   ]
  },
  {
   "cell_type": "markdown",
   "metadata": {},
   "source": [
    "Есть по 2 пропуска в month, calls_per_month, messg_per_month. Там видно, что пользователи просто не успели приступить к использованию тарифа, как уже завершили его пользвание в течении нескольких дней. Данные пропуски можно оставить."
   ]
  },
  {
   "cell_type": "markdown",
   "metadata": {},
   "source": [
    "</font><font color='Blue'><b> Решение по пропускам"
   ]
  },
  {
   "cell_type": "markdown",
   "metadata": {},
   "source": [
    "<font color='DarkBlue'><b>Комментарий ревьюера 3</b></font><br>\n",
    "<font color='DarkMagenta'>👉 Тогда надо было пропуски заполнить нулями или удалить этих пользователей.</font>"
   ]
  },
  {
   "cell_type": "code",
   "execution_count": 41,
   "metadata": {},
   "outputs": [
    {
     "data": {
      "text/html": [
       "<div>\n",
       "<style scoped>\n",
       "    .dataframe tbody tr th:only-of-type {\n",
       "        vertical-align: middle;\n",
       "    }\n",
       "\n",
       "    .dataframe tbody tr th {\n",
       "        vertical-align: top;\n",
       "    }\n",
       "\n",
       "    .dataframe thead th {\n",
       "        text-align: right;\n",
       "    }\n",
       "</style>\n",
       "<table border=\"1\" class=\"dataframe\">\n",
       "  <thead>\n",
       "    <tr style=\"text-align: right;\">\n",
       "      <th></th>\n",
       "      <th>user_id</th>\n",
       "      <th>month</th>\n",
       "      <th>calls_per_month</th>\n",
       "      <th>messg_per_month</th>\n",
       "      <th>mb_per_month</th>\n",
       "      <th>gg</th>\n",
       "      <th>age</th>\n",
       "      <th>churn_date</th>\n",
       "      <th>city</th>\n",
       "      <th>first_name</th>\n",
       "      <th>last_name</th>\n",
       "      <th>reg_date</th>\n",
       "      <th>tariff</th>\n",
       "      <th>net_income</th>\n",
       "    </tr>\n",
       "  </thead>\n",
       "  <tbody>\n",
       "    <tr>\n",
       "      <th>3214</th>\n",
       "      <td>1128</td>\n",
       "      <td>NaN</td>\n",
       "      <td>NaN</td>\n",
       "      <td>NaN</td>\n",
       "      <td>0</td>\n",
       "      <td>0</td>\n",
       "      <td>51</td>\n",
       "      <td>2018-12-23</td>\n",
       "      <td>Волжский</td>\n",
       "      <td>Ксения</td>\n",
       "      <td>Агаева</td>\n",
       "      <td>2018-12-15</td>\n",
       "      <td>ultra</td>\n",
       "      <td>1950.0</td>\n",
       "    </tr>\n",
       "    <tr>\n",
       "      <th>3215</th>\n",
       "      <td>1371</td>\n",
       "      <td>NaN</td>\n",
       "      <td>NaN</td>\n",
       "      <td>NaN</td>\n",
       "      <td>0</td>\n",
       "      <td>0</td>\n",
       "      <td>50</td>\n",
       "      <td>2018-12-30</td>\n",
       "      <td>Омск</td>\n",
       "      <td>Ириней</td>\n",
       "      <td>Трофимов</td>\n",
       "      <td>2018-12-25</td>\n",
       "      <td>smart</td>\n",
       "      <td>550.0</td>\n",
       "    </tr>\n",
       "  </tbody>\n",
       "</table>\n",
       "</div>"
      ],
      "text/plain": [
       "      user_id  month  calls_per_month  messg_per_month  mb_per_month  gg  age  \\\n",
       "3214     1128    NaN              NaN              NaN             0   0   51   \n",
       "3215     1371    NaN              NaN              NaN             0   0   50   \n",
       "\n",
       "      churn_date      city first_name last_name    reg_date tariff  net_income  \n",
       "3214  2018-12-23  Волжский     Ксения    Агаева  2018-12-15  ultra      1950.0  \n",
       "3215  2018-12-30      Омск     Ириней  Трофимов  2018-12-25  smart       550.0  "
      ]
     },
     "execution_count": 41,
     "metadata": {},
     "output_type": "execute_result"
    }
   ],
   "source": [
    "# Комментарий ревьюера 3\n",
    "temp = data_combined.copy()\n",
    "temp[(temp.user_id ==  1128) | (temp.user_id ==  1371)]"
   ]
  },
  {
   "cell_type": "code",
   "execution_count": 42,
   "metadata": {},
   "outputs": [
    {
     "data": {
      "text/plain": [
       "user_id               0\n",
       "month                 2\n",
       "calls_per_month       2\n",
       "messg_per_month       2\n",
       "mb_per_month          0\n",
       "gg                    0\n",
       "age                   0\n",
       "churn_date         3027\n",
       "city                  0\n",
       "first_name            0\n",
       "last_name             0\n",
       "reg_date              0\n",
       "tariff                0\n",
       "net_income            0\n",
       "dtype: int64"
      ]
     },
     "execution_count": 42,
     "metadata": {},
     "output_type": "execute_result"
    }
   ],
   "source": [
    "# Комментарий ревьюера\n",
    "data_combined.isna().sum()"
   ]
  },
  {
   "cell_type": "markdown",
   "metadata": {},
   "source": [
    "# 3  Шаг. Анализ данных"
   ]
  },
  {
   "cell_type": "code",
   "execution_count": 43,
   "metadata": {},
   "outputs": [
    {
     "data": {
      "text/plain": [
       "smart    2230\n",
       "ultra     986\n",
       "Name: tariff, dtype: int64"
      ]
     },
     "execution_count": 43,
     "metadata": {},
     "output_type": "execute_result"
    }
   ],
   "source": [
    "data_combined['tariff'].value_counts()"
   ]
  },
  {
   "cell_type": "code",
   "execution_count": 44,
   "metadata": {},
   "outputs": [
    {
     "data": {
      "text/html": [
       "<div>\n",
       "<style scoped>\n",
       "    .dataframe tbody tr th:only-of-type {\n",
       "        vertical-align: middle;\n",
       "    }\n",
       "\n",
       "    .dataframe tbody tr th {\n",
       "        vertical-align: top;\n",
       "    }\n",
       "\n",
       "    .dataframe thead th {\n",
       "        text-align: right;\n",
       "    }\n",
       "</style>\n",
       "<table border=\"1\" class=\"dataframe\">\n",
       "  <thead>\n",
       "    <tr style=\"text-align: right;\">\n",
       "      <th></th>\n",
       "      <th>user_id</th>\n",
       "      <th>month</th>\n",
       "      <th>calls_per_month</th>\n",
       "      <th>messg_per_month</th>\n",
       "      <th>mb_per_month</th>\n",
       "      <th>gg</th>\n",
       "      <th>age</th>\n",
       "      <th>churn_date</th>\n",
       "      <th>city</th>\n",
       "      <th>first_name</th>\n",
       "      <th>last_name</th>\n",
       "      <th>reg_date</th>\n",
       "      <th>tariff</th>\n",
       "      <th>net_income</th>\n",
       "    </tr>\n",
       "  </thead>\n",
       "  <tbody>\n",
       "    <tr>\n",
       "      <th>8</th>\n",
       "      <td>1001</td>\n",
       "      <td>11.0</td>\n",
       "      <td>430.0</td>\n",
       "      <td>0.0</td>\n",
       "      <td>18405</td>\n",
       "      <td>18</td>\n",
       "      <td>41</td>\n",
       "      <td>NaN</td>\n",
       "      <td>Москва</td>\n",
       "      <td>Иван</td>\n",
       "      <td>Ежов</td>\n",
       "      <td>2018-11-01</td>\n",
       "      <td>smart</td>\n",
       "      <td>1150.0</td>\n",
       "    </tr>\n",
       "    <tr>\n",
       "      <th>9</th>\n",
       "      <td>1001</td>\n",
       "      <td>12.0</td>\n",
       "      <td>414.0</td>\n",
       "      <td>0.0</td>\n",
       "      <td>14018</td>\n",
       "      <td>14</td>\n",
       "      <td>41</td>\n",
       "      <td>NaN</td>\n",
       "      <td>Москва</td>\n",
       "      <td>Иван</td>\n",
       "      <td>Ежов</td>\n",
       "      <td>2018-11-01</td>\n",
       "      <td>smart</td>\n",
       "      <td>550.0</td>\n",
       "    </tr>\n",
       "    <tr>\n",
       "      <th>10</th>\n",
       "      <td>1002</td>\n",
       "      <td>6.0</td>\n",
       "      <td>117.0</td>\n",
       "      <td>4.0</td>\n",
       "      <td>10844</td>\n",
       "      <td>11</td>\n",
       "      <td>59</td>\n",
       "      <td>NaN</td>\n",
       "      <td>Стерлитамак</td>\n",
       "      <td>Евгений</td>\n",
       "      <td>Абрамович</td>\n",
       "      <td>2018-06-17</td>\n",
       "      <td>smart</td>\n",
       "      <td>550.0</td>\n",
       "    </tr>\n",
       "    <tr>\n",
       "      <th>11</th>\n",
       "      <td>1002</td>\n",
       "      <td>7.0</td>\n",
       "      <td>214.0</td>\n",
       "      <td>11.0</td>\n",
       "      <td>17557</td>\n",
       "      <td>18</td>\n",
       "      <td>59</td>\n",
       "      <td>NaN</td>\n",
       "      <td>Стерлитамак</td>\n",
       "      <td>Евгений</td>\n",
       "      <td>Абрамович</td>\n",
       "      <td>2018-06-17</td>\n",
       "      <td>smart</td>\n",
       "      <td>1150.0</td>\n",
       "    </tr>\n",
       "    <tr>\n",
       "      <th>12</th>\n",
       "      <td>1002</td>\n",
       "      <td>8.0</td>\n",
       "      <td>289.0</td>\n",
       "      <td>13.0</td>\n",
       "      <td>20298</td>\n",
       "      <td>20</td>\n",
       "      <td>59</td>\n",
       "      <td>NaN</td>\n",
       "      <td>Стерлитамак</td>\n",
       "      <td>Евгений</td>\n",
       "      <td>Абрамович</td>\n",
       "      <td>2018-06-17</td>\n",
       "      <td>smart</td>\n",
       "      <td>1550.0</td>\n",
       "    </tr>\n",
       "    <tr>\n",
       "      <th>13</th>\n",
       "      <td>1002</td>\n",
       "      <td>9.0</td>\n",
       "      <td>206.0</td>\n",
       "      <td>4.0</td>\n",
       "      <td>16669</td>\n",
       "      <td>17</td>\n",
       "      <td>59</td>\n",
       "      <td>NaN</td>\n",
       "      <td>Стерлитамак</td>\n",
       "      <td>Евгений</td>\n",
       "      <td>Абрамович</td>\n",
       "      <td>2018-06-17</td>\n",
       "      <td>smart</td>\n",
       "      <td>950.0</td>\n",
       "    </tr>\n",
       "    <tr>\n",
       "      <th>14</th>\n",
       "      <td>1002</td>\n",
       "      <td>10.0</td>\n",
       "      <td>212.0</td>\n",
       "      <td>10.0</td>\n",
       "      <td>13869</td>\n",
       "      <td>14</td>\n",
       "      <td>59</td>\n",
       "      <td>NaN</td>\n",
       "      <td>Стерлитамак</td>\n",
       "      <td>Евгений</td>\n",
       "      <td>Абрамович</td>\n",
       "      <td>2018-06-17</td>\n",
       "      <td>smart</td>\n",
       "      <td>550.0</td>\n",
       "    </tr>\n",
       "    <tr>\n",
       "      <th>15</th>\n",
       "      <td>1002</td>\n",
       "      <td>11.0</td>\n",
       "      <td>243.0</td>\n",
       "      <td>16.0</td>\n",
       "      <td>18566</td>\n",
       "      <td>19</td>\n",
       "      <td>59</td>\n",
       "      <td>NaN</td>\n",
       "      <td>Стерлитамак</td>\n",
       "      <td>Евгений</td>\n",
       "      <td>Абрамович</td>\n",
       "      <td>2018-06-17</td>\n",
       "      <td>smart</td>\n",
       "      <td>1350.0</td>\n",
       "    </tr>\n",
       "    <tr>\n",
       "      <th>16</th>\n",
       "      <td>1002</td>\n",
       "      <td>12.0</td>\n",
       "      <td>236.0</td>\n",
       "      <td>12.0</td>\n",
       "      <td>18087</td>\n",
       "      <td>18</td>\n",
       "      <td>59</td>\n",
       "      <td>NaN</td>\n",
       "      <td>Стерлитамак</td>\n",
       "      <td>Евгений</td>\n",
       "      <td>Абрамович</td>\n",
       "      <td>2018-06-17</td>\n",
       "      <td>smart</td>\n",
       "      <td>1150.0</td>\n",
       "    </tr>\n",
       "    <tr>\n",
       "      <th>30</th>\n",
       "      <td>1005</td>\n",
       "      <td>1.0</td>\n",
       "      <td>95.0</td>\n",
       "      <td>7.0</td>\n",
       "      <td>2724</td>\n",
       "      <td>3</td>\n",
       "      <td>67</td>\n",
       "      <td>NaN</td>\n",
       "      <td>Набережные Челны</td>\n",
       "      <td>Афанасий</td>\n",
       "      <td>Горлов</td>\n",
       "      <td>2018-01-25</td>\n",
       "      <td>smart</td>\n",
       "      <td>550.0</td>\n",
       "    </tr>\n",
       "  </tbody>\n",
       "</table>\n",
       "</div>"
      ],
      "text/plain": [
       "    user_id  month  calls_per_month  messg_per_month  mb_per_month  gg  age  \\\n",
       "8      1001   11.0            430.0              0.0         18405  18   41   \n",
       "9      1001   12.0            414.0              0.0         14018  14   41   \n",
       "10     1002    6.0            117.0              4.0         10844  11   59   \n",
       "11     1002    7.0            214.0             11.0         17557  18   59   \n",
       "12     1002    8.0            289.0             13.0         20298  20   59   \n",
       "13     1002    9.0            206.0              4.0         16669  17   59   \n",
       "14     1002   10.0            212.0             10.0         13869  14   59   \n",
       "15     1002   11.0            243.0             16.0         18566  19   59   \n",
       "16     1002   12.0            236.0             12.0         18087  18   59   \n",
       "30     1005    1.0             95.0              7.0          2724   3   67   \n",
       "\n",
       "   churn_date              city first_name  last_name    reg_date tariff  \\\n",
       "8         NaN            Москва       Иван       Ежов  2018-11-01  smart   \n",
       "9         NaN            Москва       Иван       Ежов  2018-11-01  smart   \n",
       "10        NaN       Стерлитамак    Евгений  Абрамович  2018-06-17  smart   \n",
       "11        NaN       Стерлитамак    Евгений  Абрамович  2018-06-17  smart   \n",
       "12        NaN       Стерлитамак    Евгений  Абрамович  2018-06-17  smart   \n",
       "13        NaN       Стерлитамак    Евгений  Абрамович  2018-06-17  smart   \n",
       "14        NaN       Стерлитамак    Евгений  Абрамович  2018-06-17  smart   \n",
       "15        NaN       Стерлитамак    Евгений  Абрамович  2018-06-17  smart   \n",
       "16        NaN       Стерлитамак    Евгений  Абрамович  2018-06-17  smart   \n",
       "30        NaN  Набережные Челны   Афанасий     Горлов  2018-01-25  smart   \n",
       "\n",
       "    net_income  \n",
       "8       1150.0  \n",
       "9        550.0  \n",
       "10       550.0  \n",
       "11      1150.0  \n",
       "12      1550.0  \n",
       "13       950.0  \n",
       "14       550.0  \n",
       "15      1350.0  \n",
       "16      1150.0  \n",
       "30       550.0  "
      ]
     },
     "execution_count": 44,
     "metadata": {},
     "output_type": "execute_result"
    }
   ],
   "source": [
    "data_smart = data_combined.query('tariff == \"smart\"')\n",
    "\n",
    "data_smart.head(10)"
   ]
  },
  {
   "cell_type": "code",
   "execution_count": 45,
   "metadata": {},
   "outputs": [
    {
     "data": {
      "text/html": [
       "<div>\n",
       "<style scoped>\n",
       "    .dataframe tbody tr th:only-of-type {\n",
       "        vertical-align: middle;\n",
       "    }\n",
       "\n",
       "    .dataframe tbody tr th {\n",
       "        vertical-align: top;\n",
       "    }\n",
       "\n",
       "    .dataframe thead th {\n",
       "        text-align: right;\n",
       "    }\n",
       "</style>\n",
       "<table border=\"1\" class=\"dataframe\">\n",
       "  <thead>\n",
       "    <tr style=\"text-align: right;\">\n",
       "      <th></th>\n",
       "      <th>messg_per_month</th>\n",
       "    </tr>\n",
       "    <tr>\n",
       "      <th>month</th>\n",
       "      <th></th>\n",
       "    </tr>\n",
       "  </thead>\n",
       "  <tbody>\n",
       "    <tr>\n",
       "      <th>1.0</th>\n",
       "      <td>620.0</td>\n",
       "    </tr>\n",
       "    <tr>\n",
       "      <th>2.0</th>\n",
       "      <td>1397.0</td>\n",
       "    </tr>\n",
       "    <tr>\n",
       "      <th>3.0</th>\n",
       "      <td>2453.0</td>\n",
       "    </tr>\n",
       "    <tr>\n",
       "      <th>4.0</th>\n",
       "      <td>3443.0</td>\n",
       "    </tr>\n",
       "    <tr>\n",
       "      <th>5.0</th>\n",
       "      <td>4762.0</td>\n",
       "    </tr>\n",
       "    <tr>\n",
       "      <th>6.0</th>\n",
       "      <td>5478.0</td>\n",
       "    </tr>\n",
       "    <tr>\n",
       "      <th>7.0</th>\n",
       "      <td>6784.0</td>\n",
       "    </tr>\n",
       "    <tr>\n",
       "      <th>8.0</th>\n",
       "      <td>7905.0</td>\n",
       "    </tr>\n",
       "    <tr>\n",
       "      <th>9.0</th>\n",
       "      <td>8746.0</td>\n",
       "    </tr>\n",
       "    <tr>\n",
       "      <th>10.0</th>\n",
       "      <td>9927.0</td>\n",
       "    </tr>\n",
       "    <tr>\n",
       "      <th>11.0</th>\n",
       "      <td>10768.0</td>\n",
       "    </tr>\n",
       "    <tr>\n",
       "      <th>12.0</th>\n",
       "      <td>12130.0</td>\n",
       "    </tr>\n",
       "  </tbody>\n",
       "</table>\n",
       "</div>"
      ],
      "text/plain": [
       "       messg_per_month\n",
       "month                 \n",
       "1.0              620.0\n",
       "2.0             1397.0\n",
       "3.0             2453.0\n",
       "4.0             3443.0\n",
       "5.0             4762.0\n",
       "6.0             5478.0\n",
       "7.0             6784.0\n",
       "8.0             7905.0\n",
       "9.0             8746.0\n",
       "10.0            9927.0\n",
       "11.0           10768.0\n",
       "12.0           12130.0"
      ]
     },
     "metadata": {},
     "output_type": "display_data"
    },
    {
     "name": "stdout",
     "output_type": "stream",
     "text": [
      "Mean: 6201.083333333333\n",
      "Variance: 13173969.243055554\n",
      "Standard Deviation: 3629.596292021408\n"
     ]
    }
   ],
   "source": [
    "data_smart_messg = data_smart.pivot_table(index = 'month', values = 'messg_per_month', aggfunc = 'sum')\n",
    "\n",
    "display(data_smart_messg)\n",
    "print('Mean:', data_smart_messg['messg_per_month'].mean())\n",
    "print('Variance:', np.var(data_smart_messg['messg_per_month']))\n",
    "print('Standard Deviation:', np.sqrt(np.var(data_smart_messg['messg_per_month'])))"
   ]
  },
  {
   "cell_type": "code",
   "execution_count": 46,
   "metadata": {},
   "outputs": [
    {
     "data": {
      "text/plain": [
       "Text(0, 0.5, 'cummulated')"
      ]
     },
     "execution_count": 46,
     "metadata": {},
     "output_type": "execute_result"
    },
    {
     "data": {
      "image/png": "[encoded data removed]",
      "text/plain": [
       "<Figure size 432x288 with 1 Axes>"
      ]
     },
     "metadata": {
      "needs_background": "light"
     },
     "output_type": "display_data"
    }
   ],
   "source": [
    "data_smart['messg_per_month'].hist()\n",
    "plt.title('info_messages_smart')\n",
    "plt.xlabel('amount_of_messages_sent')\n",
    "plt.ylabel('cummulated')"
   ]
  },
  {
   "cell_type": "markdown",
   "metadata": {},
   "source": [
    "Гистограмма похожа на негативную линейную зависимость: клиенты smart в среднем пишут мало сообщений, чем больше человек пишет сообщений, тем меньше у него единомышленников."
   ]
  },
  {
   "cell_type": "code",
   "execution_count": 47,
   "metadata": {},
   "outputs": [
    {
     "data": {
      "image/png": "[encoded data removed]",
      "text/plain": [
       "<Figure size 432x288 with 1 Axes>"
      ]
     },
     "metadata": {
      "needs_background": "light"
     },
     "output_type": "display_data"
    }
   ],
   "source": [
    "data_smart_messg.plot(grid = True)\n",
    "\n",
    "plt.title('messages_per_month_smart')\n",
    "plt.xlabel('month')\n",
    "plt.ylabel('messg_per_month')\n",
    "plt.show()"
   ]
  },
  {
   "cell_type": "code",
   "execution_count": 48,
   "metadata": {},
   "outputs": [
    {
     "data": {
      "text/html": [
       "<div>\n",
       "<style scoped>\n",
       "    .dataframe tbody tr th:only-of-type {\n",
       "        vertical-align: middle;\n",
       "    }\n",
       "\n",
       "    .dataframe tbody tr th {\n",
       "        vertical-align: top;\n",
       "    }\n",
       "\n",
       "    .dataframe thead th {\n",
       "        text-align: right;\n",
       "    }\n",
       "</style>\n",
       "<table border=\"1\" class=\"dataframe\">\n",
       "  <thead>\n",
       "    <tr style=\"text-align: right;\">\n",
       "      <th></th>\n",
       "      <th>calls_per_month</th>\n",
       "    </tr>\n",
       "    <tr>\n",
       "      <th>month</th>\n",
       "      <th></th>\n",
       "    </tr>\n",
       "  </thead>\n",
       "  <tbody>\n",
       "    <tr>\n",
       "      <th>1.0</th>\n",
       "      <td>6931.0</td>\n",
       "    </tr>\n",
       "    <tr>\n",
       "      <th>2.0</th>\n",
       "      <td>17324.0</td>\n",
       "    </tr>\n",
       "    <tr>\n",
       "      <th>3.0</th>\n",
       "      <td>30034.0</td>\n",
       "    </tr>\n",
       "    <tr>\n",
       "      <th>4.0</th>\n",
       "      <td>41119.0</td>\n",
       "    </tr>\n",
       "    <tr>\n",
       "      <th>5.0</th>\n",
       "      <td>54618.0</td>\n",
       "    </tr>\n",
       "    <tr>\n",
       "      <th>6.0</th>\n",
       "      <td>64885.0</td>\n",
       "    </tr>\n",
       "    <tr>\n",
       "      <th>7.0</th>\n",
       "      <td>82079.0</td>\n",
       "    </tr>\n",
       "    <tr>\n",
       "      <th>8.0</th>\n",
       "      <td>99045.0</td>\n",
       "    </tr>\n",
       "    <tr>\n",
       "      <th>9.0</th>\n",
       "      <td>111439.0</td>\n",
       "    </tr>\n",
       "    <tr>\n",
       "      <th>10.0</th>\n",
       "      <td>125284.0</td>\n",
       "    </tr>\n",
       "    <tr>\n",
       "      <th>11.0</th>\n",
       "      <td>137544.0</td>\n",
       "    </tr>\n",
       "    <tr>\n",
       "      <th>12.0</th>\n",
       "      <td>161275.0</td>\n",
       "    </tr>\n",
       "  </tbody>\n",
       "</table>\n",
       "</div>"
      ],
      "text/plain": [
       "       calls_per_month\n",
       "month                 \n",
       "1.0             6931.0\n",
       "2.0            17324.0\n",
       "3.0            30034.0\n",
       "4.0            41119.0\n",
       "5.0            54618.0\n",
       "6.0            64885.0\n",
       "7.0            82079.0\n",
       "8.0            99045.0\n",
       "9.0           111439.0\n",
       "10.0          125284.0\n",
       "11.0          137544.0\n",
       "12.0          161275.0"
      ]
     },
     "metadata": {},
     "output_type": "display_data"
    },
    {
     "name": "stdout",
     "output_type": "stream",
     "text": [
      "Mean: 77631.41666666667\n",
      "Variance: 2283675263.576389\n",
      "Standard Deviation: 47787.81501153185\n"
     ]
    }
   ],
   "source": [
    "data_smart_calls = data_smart.pivot_table(index = 'month', values = 'calls_per_month', aggfunc = 'sum')\n",
    "\n",
    "display(data_smart_calls)\n",
    "print('Mean:', data_smart_calls['calls_per_month'].mean())\n",
    "print('Variance:', np.var(data_smart_calls['calls_per_month']))\n",
    "print('Standard Deviation:', np.sqrt(np.var(data_smart_calls['calls_per_month'])))"
   ]
  },
  {
   "cell_type": "code",
   "execution_count": 49,
   "metadata": {},
   "outputs": [
    {
     "data": {
      "text/plain": [
       "Text(0, 0.5, 'cummulated')"
      ]
     },
     "execution_count": 49,
     "metadata": {},
     "output_type": "execute_result"
    },
    {
     "data": {
      "image/png": "[encoded data removed]",
      "text/plain": [
       "<Figure size 432x288 with 1 Axes>"
      ]
     },
     "metadata": {
      "needs_background": "light"
     },
     "output_type": "display_data"
    }
   ],
   "source": [
    "data_smart['calls_per_month'].hist()\n",
    "plt.title('info_calls_smart')\n",
    "plt.xlabel('amount_of_calls_made')\n",
    "plt.ylabel('cummulated')"
   ]
  },
  {
   "cell_type": "markdown",
   "metadata": {},
   "source": [
    "Клиенты smart, в среднем, за месяц тратят 400 минут на звонки. Наблюдается нормальное распределение с skewness вправо."
   ]
  },
  {
   "cell_type": "code",
   "execution_count": 50,
   "metadata": {},
   "outputs": [
    {
     "data": {
      "image/png": "[encoded data removed]",
      "text/plain": [
       "<Figure size 432x288 with 1 Axes>"
      ]
     },
     "metadata": {
      "needs_background": "light"
     },
     "output_type": "display_data"
    }
   ],
   "source": [
    "data_smart_calls.plot(grid = True)\n",
    "\n",
    "plt.title('calls_made_per_month_smart')\n",
    "plt.xlabel('month')\n",
    "plt.ylabel('calls_per_month')\n",
    "plt.show()"
   ]
  },
  {
   "cell_type": "code",
   "execution_count": 51,
   "metadata": {},
   "outputs": [
    {
     "data": {
      "text/html": [
       "<div>\n",
       "<style scoped>\n",
       "    .dataframe tbody tr th:only-of-type {\n",
       "        vertical-align: middle;\n",
       "    }\n",
       "\n",
       "    .dataframe tbody tr th {\n",
       "        vertical-align: top;\n",
       "    }\n",
       "\n",
       "    .dataframe thead th {\n",
       "        text-align: right;\n",
       "    }\n",
       "</style>\n",
       "<table border=\"1\" class=\"dataframe\">\n",
       "  <thead>\n",
       "    <tr style=\"text-align: right;\">\n",
       "      <th></th>\n",
       "      <th>gg</th>\n",
       "    </tr>\n",
       "    <tr>\n",
       "      <th>month</th>\n",
       "      <th></th>\n",
       "    </tr>\n",
       "  </thead>\n",
       "  <tbody>\n",
       "    <tr>\n",
       "      <th>1.0</th>\n",
       "      <td>297</td>\n",
       "    </tr>\n",
       "    <tr>\n",
       "      <th>2.0</th>\n",
       "      <td>687</td>\n",
       "    </tr>\n",
       "    <tr>\n",
       "      <th>3.0</th>\n",
       "      <td>1172</td>\n",
       "    </tr>\n",
       "    <tr>\n",
       "      <th>4.0</th>\n",
       "      <td>1524</td>\n",
       "    </tr>\n",
       "    <tr>\n",
       "      <th>5.0</th>\n",
       "      <td>2241</td>\n",
       "    </tr>\n",
       "    <tr>\n",
       "      <th>6.0</th>\n",
       "      <td>2614</td>\n",
       "    </tr>\n",
       "    <tr>\n",
       "      <th>7.0</th>\n",
       "      <td>3184</td>\n",
       "    </tr>\n",
       "    <tr>\n",
       "      <th>8.0</th>\n",
       "      <td>3925</td>\n",
       "    </tr>\n",
       "    <tr>\n",
       "      <th>9.0</th>\n",
       "      <td>4259</td>\n",
       "    </tr>\n",
       "    <tr>\n",
       "      <th>10.0</th>\n",
       "      <td>4955</td>\n",
       "    </tr>\n",
       "    <tr>\n",
       "      <th>11.0</th>\n",
       "      <td>5367</td>\n",
       "    </tr>\n",
       "    <tr>\n",
       "      <th>12.0</th>\n",
       "      <td>6127</td>\n",
       "    </tr>\n",
       "  </tbody>\n",
       "</table>\n",
       "</div>"
      ],
      "text/plain": [
       "         gg\n",
       "month      \n",
       "1.0     297\n",
       "2.0     687\n",
       "3.0    1172\n",
       "4.0    1524\n",
       "5.0    2241\n",
       "6.0    2614\n",
       "7.0    3184\n",
       "8.0    3925\n",
       "9.0    4259\n",
       "10.0   4955\n",
       "11.0   5367\n",
       "12.0   6127"
      ]
     },
     "metadata": {},
     "output_type": "display_data"
    },
    {
     "name": "stdout",
     "output_type": "stream",
     "text": [
      "Mean: 3029.3333333333335\n",
      "Variance: 3380707.8888888895\n",
      "Standard Deviation: 1838.6701414035333\n"
     ]
    }
   ],
   "source": [
    "data_smart_gg = data_smart.pivot_table(index = 'month', values = 'gg', aggfunc = 'sum')\n",
    "\n",
    "display(data_smart_gg)\n",
    "print('Mean:', data_smart_gg['gg'].mean())\n",
    "print('Variance:', np.var(data_smart_gg['gg']))\n",
    "print('Standard Deviation:', np.sqrt(np.var(data_smart_gg['gg'])))"
   ]
  },
  {
   "cell_type": "code",
   "execution_count": 52,
   "metadata": {},
   "outputs": [
    {
     "data": {
      "text/plain": [
       "Text(0, 0.5, 'cummulated')"
      ]
     },
     "execution_count": 52,
     "metadata": {},
     "output_type": "execute_result"
    },
    {
     "data": {
      "image/png": "[encoded data removed]",
      "text/plain": [
       "<Figure size 432x288 with 1 Axes>"
      ]
     },
     "metadata": {
      "needs_background": "light"
     },
     "output_type": "display_data"
    }
   ],
   "source": [
    "data_smart['gg'].hist()\n",
    "plt.title('info_gg_smart')\n",
    "plt.xlabel('amount_of_gg_used')\n",
    "plt.ylabel('cummulated')"
   ]
  },
  {
   "cell_type": "markdown",
   "metadata": {},
   "source": [
    "Клиенты smart, в среднем, за месяц тратят от 15 до 20 гигов интернета. Наблюдается обычное нормальное распределение."
   ]
  },
  {
   "cell_type": "code",
   "execution_count": 53,
   "metadata": {},
   "outputs": [
    {
     "data": {
      "image/png": "[encoded data removed]",
      "text/plain": [
       "<Figure size 432x288 with 1 Axes>"
      ]
     },
     "metadata": {
      "needs_background": "light"
     },
     "output_type": "display_data"
    }
   ],
   "source": [
    "data_smart_gg.plot(grid = True)\n",
    "\n",
    "plt.title('gg_used_per_month_smart')\n",
    "plt.xlabel('month')\n",
    "plt.ylabel('gg')\n",
    "plt.show()"
   ]
  },
  {
   "cell_type": "markdown",
   "metadata": {},
   "source": [
    "Можно сказать, что количество сообщений, минут и гигов у клиентов smart стремительно растет от начала года до его конца."
   ]
  },
  {
   "cell_type": "code",
   "execution_count": 54,
   "metadata": {},
   "outputs": [
    {
     "data": {
      "text/html": [
       "<div>\n",
       "<style scoped>\n",
       "    .dataframe tbody tr th:only-of-type {\n",
       "        vertical-align: middle;\n",
       "    }\n",
       "\n",
       "    .dataframe tbody tr th {\n",
       "        vertical-align: top;\n",
       "    }\n",
       "\n",
       "    .dataframe thead th {\n",
       "        text-align: right;\n",
       "    }\n",
       "</style>\n",
       "<table border=\"1\" class=\"dataframe\">\n",
       "  <thead>\n",
       "    <tr style=\"text-align: right;\">\n",
       "      <th></th>\n",
       "      <th>user_id</th>\n",
       "      <th>month</th>\n",
       "      <th>calls_per_month</th>\n",
       "      <th>messg_per_month</th>\n",
       "      <th>mb_per_month</th>\n",
       "      <th>gg</th>\n",
       "      <th>age</th>\n",
       "      <th>churn_date</th>\n",
       "      <th>city</th>\n",
       "      <th>first_name</th>\n",
       "      <th>last_name</th>\n",
       "      <th>reg_date</th>\n",
       "      <th>tariff</th>\n",
       "      <th>net_income</th>\n",
       "    </tr>\n",
       "  </thead>\n",
       "  <tbody>\n",
       "    <tr>\n",
       "      <th>0</th>\n",
       "      <td>1000</td>\n",
       "      <td>5.0</td>\n",
       "      <td>159.0</td>\n",
       "      <td>22.0</td>\n",
       "      <td>2252</td>\n",
       "      <td>3</td>\n",
       "      <td>52</td>\n",
       "      <td>NaN</td>\n",
       "      <td>Краснодар</td>\n",
       "      <td>Рафаил</td>\n",
       "      <td>Верещагин</td>\n",
       "      <td>2018-05-25</td>\n",
       "      <td>ultra</td>\n",
       "      <td>1950.0</td>\n",
       "    </tr>\n",
       "    <tr>\n",
       "      <th>1</th>\n",
       "      <td>1000</td>\n",
       "      <td>6.0</td>\n",
       "      <td>172.0</td>\n",
       "      <td>60.0</td>\n",
       "      <td>23213</td>\n",
       "      <td>23</td>\n",
       "      <td>52</td>\n",
       "      <td>NaN</td>\n",
       "      <td>Краснодар</td>\n",
       "      <td>Рафаил</td>\n",
       "      <td>Верещагин</td>\n",
       "      <td>2018-05-25</td>\n",
       "      <td>ultra</td>\n",
       "      <td>1950.0</td>\n",
       "    </tr>\n",
       "    <tr>\n",
       "      <th>2</th>\n",
       "      <td>1000</td>\n",
       "      <td>7.0</td>\n",
       "      <td>340.0</td>\n",
       "      <td>75.0</td>\n",
       "      <td>13988</td>\n",
       "      <td>14</td>\n",
       "      <td>52</td>\n",
       "      <td>NaN</td>\n",
       "      <td>Краснодар</td>\n",
       "      <td>Рафаил</td>\n",
       "      <td>Верещагин</td>\n",
       "      <td>2018-05-25</td>\n",
       "      <td>ultra</td>\n",
       "      <td>1950.0</td>\n",
       "    </tr>\n",
       "    <tr>\n",
       "      <th>3</th>\n",
       "      <td>1000</td>\n",
       "      <td>8.0</td>\n",
       "      <td>408.0</td>\n",
       "      <td>81.0</td>\n",
       "      <td>14043</td>\n",
       "      <td>14</td>\n",
       "      <td>52</td>\n",
       "      <td>NaN</td>\n",
       "      <td>Краснодар</td>\n",
       "      <td>Рафаил</td>\n",
       "      <td>Верещагин</td>\n",
       "      <td>2018-05-25</td>\n",
       "      <td>ultra</td>\n",
       "      <td>1950.0</td>\n",
       "    </tr>\n",
       "    <tr>\n",
       "      <th>4</th>\n",
       "      <td>1000</td>\n",
       "      <td>9.0</td>\n",
       "      <td>466.0</td>\n",
       "      <td>57.0</td>\n",
       "      <td>14556</td>\n",
       "      <td>15</td>\n",
       "      <td>52</td>\n",
       "      <td>NaN</td>\n",
       "      <td>Краснодар</td>\n",
       "      <td>Рафаил</td>\n",
       "      <td>Верещагин</td>\n",
       "      <td>2018-05-25</td>\n",
       "      <td>ultra</td>\n",
       "      <td>1950.0</td>\n",
       "    </tr>\n",
       "    <tr>\n",
       "      <th>5</th>\n",
       "      <td>1000</td>\n",
       "      <td>10.0</td>\n",
       "      <td>350.0</td>\n",
       "      <td>73.0</td>\n",
       "      <td>14690</td>\n",
       "      <td>15</td>\n",
       "      <td>52</td>\n",
       "      <td>NaN</td>\n",
       "      <td>Краснодар</td>\n",
       "      <td>Рафаил</td>\n",
       "      <td>Верещагин</td>\n",
       "      <td>2018-05-25</td>\n",
       "      <td>ultra</td>\n",
       "      <td>1950.0</td>\n",
       "    </tr>\n",
       "    <tr>\n",
       "      <th>6</th>\n",
       "      <td>1000</td>\n",
       "      <td>11.0</td>\n",
       "      <td>338.0</td>\n",
       "      <td>58.0</td>\n",
       "      <td>14745</td>\n",
       "      <td>15</td>\n",
       "      <td>52</td>\n",
       "      <td>NaN</td>\n",
       "      <td>Краснодар</td>\n",
       "      <td>Рафаил</td>\n",
       "      <td>Верещагин</td>\n",
       "      <td>2018-05-25</td>\n",
       "      <td>ultra</td>\n",
       "      <td>1950.0</td>\n",
       "    </tr>\n",
       "    <tr>\n",
       "      <th>7</th>\n",
       "      <td>1000</td>\n",
       "      <td>12.0</td>\n",
       "      <td>333.0</td>\n",
       "      <td>70.0</td>\n",
       "      <td>9808</td>\n",
       "      <td>10</td>\n",
       "      <td>52</td>\n",
       "      <td>NaN</td>\n",
       "      <td>Краснодар</td>\n",
       "      <td>Рафаил</td>\n",
       "      <td>Верещагин</td>\n",
       "      <td>2018-05-25</td>\n",
       "      <td>ultra</td>\n",
       "      <td>1950.0</td>\n",
       "    </tr>\n",
       "    <tr>\n",
       "      <th>17</th>\n",
       "      <td>1003</td>\n",
       "      <td>8.0</td>\n",
       "      <td>380.0</td>\n",
       "      <td>37.0</td>\n",
       "      <td>8557</td>\n",
       "      <td>9</td>\n",
       "      <td>23</td>\n",
       "      <td>NaN</td>\n",
       "      <td>Москва</td>\n",
       "      <td>Белла</td>\n",
       "      <td>Белякова</td>\n",
       "      <td>2018-08-17</td>\n",
       "      <td>ultra</td>\n",
       "      <td>1950.0</td>\n",
       "    </tr>\n",
       "    <tr>\n",
       "      <th>18</th>\n",
       "      <td>1003</td>\n",
       "      <td>9.0</td>\n",
       "      <td>961.0</td>\n",
       "      <td>91.0</td>\n",
       "      <td>12457</td>\n",
       "      <td>13</td>\n",
       "      <td>23</td>\n",
       "      <td>NaN</td>\n",
       "      <td>Москва</td>\n",
       "      <td>Белла</td>\n",
       "      <td>Белякова</td>\n",
       "      <td>2018-08-17</td>\n",
       "      <td>ultra</td>\n",
       "      <td>1950.0</td>\n",
       "    </tr>\n",
       "  </tbody>\n",
       "</table>\n",
       "</div>"
      ],
      "text/plain": [
       "    user_id  month  calls_per_month  messg_per_month  mb_per_month  gg  age  \\\n",
       "0      1000    5.0            159.0             22.0          2252   3   52   \n",
       "1      1000    6.0            172.0             60.0         23213  23   52   \n",
       "2      1000    7.0            340.0             75.0         13988  14   52   \n",
       "3      1000    8.0            408.0             81.0         14043  14   52   \n",
       "4      1000    9.0            466.0             57.0         14556  15   52   \n",
       "5      1000   10.0            350.0             73.0         14690  15   52   \n",
       "6      1000   11.0            338.0             58.0         14745  15   52   \n",
       "7      1000   12.0            333.0             70.0          9808  10   52   \n",
       "17     1003    8.0            380.0             37.0          8557   9   23   \n",
       "18     1003    9.0            961.0             91.0         12457  13   23   \n",
       "\n",
       "   churn_date       city first_name  last_name    reg_date tariff  net_income  \n",
       "0         NaN  Краснодар     Рафаил  Верещагин  2018-05-25  ultra      1950.0  \n",
       "1         NaN  Краснодар     Рафаил  Верещагин  2018-05-25  ultra      1950.0  \n",
       "2         NaN  Краснодар     Рафаил  Верещагин  2018-05-25  ultra      1950.0  \n",
       "3         NaN  Краснодар     Рафаил  Верещагин  2018-05-25  ultra      1950.0  \n",
       "4         NaN  Краснодар     Рафаил  Верещагин  2018-05-25  ultra      1950.0  \n",
       "5         NaN  Краснодар     Рафаил  Верещагин  2018-05-25  ultra      1950.0  \n",
       "6         NaN  Краснодар     Рафаил  Верещагин  2018-05-25  ultra      1950.0  \n",
       "7         NaN  Краснодар     Рафаил  Верещагин  2018-05-25  ultra      1950.0  \n",
       "17        NaN     Москва      Белла   Белякова  2018-08-17  ultra      1950.0  \n",
       "18        NaN     Москва      Белла   Белякова  2018-08-17  ultra      1950.0  "
      ]
     },
     "execution_count": 54,
     "metadata": {},
     "output_type": "execute_result"
    }
   ],
   "source": [
    "data_ultra = data_combined.query('tariff == \"ultra\"')\n",
    "                                 \n",
    "data_ultra.head(10)                                 "
   ]
  },
  {
   "cell_type": "code",
   "execution_count": 55,
   "metadata": {},
   "outputs": [
    {
     "data": {
      "text/html": [
       "<div>\n",
       "<style scoped>\n",
       "    .dataframe tbody tr th:only-of-type {\n",
       "        vertical-align: middle;\n",
       "    }\n",
       "\n",
       "    .dataframe tbody tr th {\n",
       "        vertical-align: top;\n",
       "    }\n",
       "\n",
       "    .dataframe thead th {\n",
       "        text-align: right;\n",
       "    }\n",
       "</style>\n",
       "<table border=\"1\" class=\"dataframe\">\n",
       "  <thead>\n",
       "    <tr style=\"text-align: right;\">\n",
       "      <th></th>\n",
       "      <th>calls_per_month</th>\n",
       "    </tr>\n",
       "    <tr>\n",
       "      <th>month</th>\n",
       "      <th></th>\n",
       "    </tr>\n",
       "  </thead>\n",
       "  <tbody>\n",
       "    <tr>\n",
       "      <th>1.0</th>\n",
       "      <td>3853.0</td>\n",
       "    </tr>\n",
       "    <tr>\n",
       "      <th>2.0</th>\n",
       "      <td>7131.0</td>\n",
       "    </tr>\n",
       "    <tr>\n",
       "      <th>3.0</th>\n",
       "      <td>18117.0</td>\n",
       "    </tr>\n",
       "    <tr>\n",
       "      <th>4.0</th>\n",
       "      <td>25191.0</td>\n",
       "    </tr>\n",
       "    <tr>\n",
       "      <th>5.0</th>\n",
       "      <td>34192.0</td>\n",
       "    </tr>\n",
       "    <tr>\n",
       "      <th>6.0</th>\n",
       "      <td>40295.0</td>\n",
       "    </tr>\n",
       "    <tr>\n",
       "      <th>7.0</th>\n",
       "      <td>49667.0</td>\n",
       "    </tr>\n",
       "    <tr>\n",
       "      <th>8.0</th>\n",
       "      <td>54653.0</td>\n",
       "    </tr>\n",
       "    <tr>\n",
       "      <th>9.0</th>\n",
       "      <td>62036.0</td>\n",
       "    </tr>\n",
       "    <tr>\n",
       "      <th>10.0</th>\n",
       "      <td>68644.0</td>\n",
       "    </tr>\n",
       "    <tr>\n",
       "      <th>11.0</th>\n",
       "      <td>72545.0</td>\n",
       "    </tr>\n",
       "    <tr>\n",
       "      <th>12.0</th>\n",
       "      <td>82400.0</td>\n",
       "    </tr>\n",
       "  </tbody>\n",
       "</table>\n",
       "</div>"
      ],
      "text/plain": [
       "       calls_per_month\n",
       "month                 \n",
       "1.0             3853.0\n",
       "2.0             7131.0\n",
       "3.0            18117.0\n",
       "4.0            25191.0\n",
       "5.0            34192.0\n",
       "6.0            40295.0\n",
       "7.0            49667.0\n",
       "8.0            54653.0\n",
       "9.0            62036.0\n",
       "10.0           68644.0\n",
       "11.0           72545.0\n",
       "12.0           82400.0"
      ]
     },
     "metadata": {},
     "output_type": "display_data"
    },
    {
     "name": "stdout",
     "output_type": "stream",
     "text": [
      "Mean: 43227.0\n",
      "Variance: 622097403.0\n",
      "Standard Deviation: 24941.880502480162\n"
     ]
    }
   ],
   "source": [
    "data_ultra_calls = data_ultra.pivot_table(index = 'month', values = 'calls_per_month', aggfunc = 'sum')\n",
    "\n",
    "display(data_ultra_calls)\n",
    "print('Mean:', data_ultra_calls['calls_per_month'].mean())\n",
    "print('Variance:', np.var(data_ultra_calls['calls_per_month']))\n",
    "print('Standard Deviation:', np.sqrt(np.var(data_ultra_calls['calls_per_month'])))"
   ]
  },
  {
   "cell_type": "code",
   "execution_count": 56,
   "metadata": {},
   "outputs": [
    {
     "data": {
      "text/plain": [
       "Text(0, 0.5, 'cummulated')"
      ]
     },
     "execution_count": 56,
     "metadata": {},
     "output_type": "execute_result"
    },
    {
     "data": {
      "image/png": "[encoded data removed]",
      "text/plain": [
       "<Figure size 432x288 with 1 Axes>"
      ]
     },
     "metadata": {
      "needs_background": "light"
     },
     "output_type": "display_data"
    }
   ],
   "source": [
    "data_ultra['calls_per_month'].hist()\n",
    "plt.title('info_calls_ultra')\n",
    "plt.xlabel('amount_of_calls_made')\n",
    "plt.ylabel('cummulated')"
   ]
  },
  {
   "cell_type": "markdown",
   "metadata": {},
   "source": [
    "<font color='DarkBlue'><b>Комментарий ревьюера</b></font><br>\n",
    "<font color='DarkMagenta'>👉 При проведении сравнительного анализа лучше на графики выводить данные обоих тарифов в одной координатной сетке с указанием меток тарифов. Сделаем?</font>"
   ]
  },
  {
   "cell_type": "markdown",
   "metadata": {},
   "source": [
    "Гистограмма похожа на расспределение Пауссона: в среднем клиенты ultra используют 400 минут на звонки за месяц."
   ]
  },
  {
   "cell_type": "code",
   "execution_count": 57,
   "metadata": {},
   "outputs": [
    {
     "data": {
      "image/png": "[encoded data removed]",
      "text/plain": [
       "<Figure size 432x288 with 1 Axes>"
      ]
     },
     "metadata": {
      "needs_background": "light"
     },
     "output_type": "display_data"
    }
   ],
   "source": [
    "data_ultra_calls.plot(grid = True)\n",
    "\n",
    "plt.title('calls_made_per_month_ultra')\n",
    "plt.xlabel('month')\n",
    "plt.ylabel('calls_per_month')\n",
    "plt.show()"
   ]
  },
  {
   "cell_type": "code",
   "execution_count": 58,
   "metadata": {},
   "outputs": [
    {
     "data": {
      "text/html": [
       "<div>\n",
       "<style scoped>\n",
       "    .dataframe tbody tr th:only-of-type {\n",
       "        vertical-align: middle;\n",
       "    }\n",
       "\n",
       "    .dataframe tbody tr th {\n",
       "        vertical-align: top;\n",
       "    }\n",
       "\n",
       "    .dataframe thead th {\n",
       "        text-align: right;\n",
       "    }\n",
       "</style>\n",
       "<table border=\"1\" class=\"dataframe\">\n",
       "  <thead>\n",
       "    <tr style=\"text-align: right;\">\n",
       "      <th></th>\n",
       "      <th>messg_per_month</th>\n",
       "    </tr>\n",
       "    <tr>\n",
       "      <th>month</th>\n",
       "      <th></th>\n",
       "    </tr>\n",
       "  </thead>\n",
       "  <tbody>\n",
       "    <tr>\n",
       "      <th>1.0</th>\n",
       "      <td>304.0</td>\n",
       "    </tr>\n",
       "    <tr>\n",
       "      <th>2.0</th>\n",
       "      <td>527.0</td>\n",
       "    </tr>\n",
       "    <tr>\n",
       "      <th>3.0</th>\n",
       "      <td>1195.0</td>\n",
       "    </tr>\n",
       "    <tr>\n",
       "      <th>4.0</th>\n",
       "      <td>1736.0</td>\n",
       "    </tr>\n",
       "    <tr>\n",
       "      <th>5.0</th>\n",
       "      <td>2536.0</td>\n",
       "    </tr>\n",
       "    <tr>\n",
       "      <th>6.0</th>\n",
       "      <td>3505.0</td>\n",
       "    </tr>\n",
       "    <tr>\n",
       "      <th>7.0</th>\n",
       "      <td>4536.0</td>\n",
       "    </tr>\n",
       "    <tr>\n",
       "      <th>8.0</th>\n",
       "      <td>5183.0</td>\n",
       "    </tr>\n",
       "    <tr>\n",
       "      <th>9.0</th>\n",
       "      <td>6013.0</td>\n",
       "    </tr>\n",
       "    <tr>\n",
       "      <th>10.0</th>\n",
       "      <td>7187.0</td>\n",
       "    </tr>\n",
       "    <tr>\n",
       "      <th>11.0</th>\n",
       "      <td>7476.0</td>\n",
       "    </tr>\n",
       "    <tr>\n",
       "      <th>12.0</th>\n",
       "      <td>8425.0</td>\n",
       "    </tr>\n",
       "  </tbody>\n",
       "</table>\n",
       "</div>"
      ],
      "text/plain": [
       "       messg_per_month\n",
       "month                 \n",
       "1.0              304.0\n",
       "2.0              527.0\n",
       "3.0             1195.0\n",
       "4.0             1736.0\n",
       "5.0             2536.0\n",
       "6.0             3505.0\n",
       "7.0             4536.0\n",
       "8.0             5183.0\n",
       "9.0             6013.0\n",
       "10.0            7187.0\n",
       "11.0            7476.0\n",
       "12.0            8425.0"
      ]
     },
     "metadata": {},
     "output_type": "display_data"
    },
    {
     "name": "stdout",
     "output_type": "stream",
     "text": [
      "Mean: 4051.9166666666665\n",
      "Variance: 7385913.909722224\n",
      "Standard Deviation: 2717.703793595289\n"
     ]
    }
   ],
   "source": [
    "data_ultra_messg = data_ultra.pivot_table(index = 'month', values = 'messg_per_month', aggfunc = 'sum')\n",
    "\n",
    "display(data_ultra_messg)\n",
    "print('Mean:', data_ultra_messg['messg_per_month'].mean())\n",
    "print('Variance:', np.var(data_ultra_messg['messg_per_month']))\n",
    "print('Standard Deviation:', np.sqrt(np.var(data_ultra_messg['messg_per_month'])))"
   ]
  },
  {
   "cell_type": "code",
   "execution_count": 59,
   "metadata": {},
   "outputs": [
    {
     "data": {
      "text/plain": [
       "Text(0, 0.5, 'cummulated')"
      ]
     },
     "execution_count": 59,
     "metadata": {},
     "output_type": "execute_result"
    },
    {
     "data": {
      "image/png": "[encoded data removed]",
      "text/plain": [
       "<Figure size 432x288 with 1 Axes>"
      ]
     },
     "metadata": {
      "needs_background": "light"
     },
     "output_type": "display_data"
    }
   ],
   "source": [
    "data_ultra['messg_per_month'].hist()\n",
    "plt.title('info_messages_ultra')\n",
    "plt.xlabel('amount_of_messages_sent')\n",
    "plt.ylabel('cummulated')"
   ]
  },
  {
   "cell_type": "markdown",
   "metadata": {},
   "source": [
    "Тут примерно таже ситуация как и с клиентами smart: люди практические не пользуются СМС. Уж если пишут, то чем больше сообщений, тем меньше таких как ты."
   ]
  },
  {
   "cell_type": "code",
   "execution_count": 60,
   "metadata": {},
   "outputs": [
    {
     "data": {
      "image/png": "[encoded data removed]",
      "text/plain": [
       "<Figure size 432x288 with 1 Axes>"
      ]
     },
     "metadata": {
      "needs_background": "light"
     },
     "output_type": "display_data"
    }
   ],
   "source": [
    "data_ultra_messg.plot(grid = True)\n",
    "\n",
    "plt.title('messeges_sent_per_month_ultra')\n",
    "plt.xlabel('month')\n",
    "plt.ylabel('messg_per_month')\n",
    "plt.show()"
   ]
  },
  {
   "cell_type": "code",
   "execution_count": 61,
   "metadata": {},
   "outputs": [
    {
     "data": {
      "text/html": [
       "<div>\n",
       "<style scoped>\n",
       "    .dataframe tbody tr th:only-of-type {\n",
       "        vertical-align: middle;\n",
       "    }\n",
       "\n",
       "    .dataframe tbody tr th {\n",
       "        vertical-align: top;\n",
       "    }\n",
       "\n",
       "    .dataframe thead th {\n",
       "        text-align: right;\n",
       "    }\n",
       "</style>\n",
       "<table border=\"1\" class=\"dataframe\">\n",
       "  <thead>\n",
       "    <tr style=\"text-align: right;\">\n",
       "      <th></th>\n",
       "      <th>gg</th>\n",
       "    </tr>\n",
       "    <tr>\n",
       "      <th>month</th>\n",
       "      <th></th>\n",
       "    </tr>\n",
       "  </thead>\n",
       "  <tbody>\n",
       "    <tr>\n",
       "      <th>1.0</th>\n",
       "      <td>119</td>\n",
       "    </tr>\n",
       "    <tr>\n",
       "      <th>2.0</th>\n",
       "      <td>287</td>\n",
       "    </tr>\n",
       "    <tr>\n",
       "      <th>3.0</th>\n",
       "      <td>651</td>\n",
       "    </tr>\n",
       "    <tr>\n",
       "      <th>4.0</th>\n",
       "      <td>931</td>\n",
       "    </tr>\n",
       "    <tr>\n",
       "      <th>5.0</th>\n",
       "      <td>1298</td>\n",
       "    </tr>\n",
       "    <tr>\n",
       "      <th>6.0</th>\n",
       "      <td>1591</td>\n",
       "    </tr>\n",
       "    <tr>\n",
       "      <th>7.0</th>\n",
       "      <td>1865</td>\n",
       "    </tr>\n",
       "    <tr>\n",
       "      <th>8.0</th>\n",
       "      <td>2096</td>\n",
       "    </tr>\n",
       "    <tr>\n",
       "      <th>9.0</th>\n",
       "      <td>2211</td>\n",
       "    </tr>\n",
       "    <tr>\n",
       "      <th>10.0</th>\n",
       "      <td>2467</td>\n",
       "    </tr>\n",
       "    <tr>\n",
       "      <th>11.0</th>\n",
       "      <td>2653</td>\n",
       "    </tr>\n",
       "    <tr>\n",
       "      <th>12.0</th>\n",
       "      <td>3018</td>\n",
       "    </tr>\n",
       "  </tbody>\n",
       "</table>\n",
       "</div>"
      ],
      "text/plain": [
       "         gg\n",
       "month      \n",
       "1.0     119\n",
       "2.0     287\n",
       "3.0     651\n",
       "4.0     931\n",
       "5.0    1298\n",
       "6.0    1591\n",
       "7.0    1865\n",
       "8.0    2096\n",
       "9.0    2211\n",
       "10.0   2467\n",
       "11.0   2653\n",
       "12.0   3018"
      ]
     },
     "metadata": {},
     "output_type": "display_data"
    },
    {
     "name": "stdout",
     "output_type": "stream",
     "text": [
      "Mean: 1598.9166666666667\n",
      "Variance: 826462.2430555555\n",
      "Standard Deviation: 909.0996881836202\n"
     ]
    }
   ],
   "source": [
    "data_ultra_gg = data_ultra.pivot_table(index = 'month', values = 'gg', aggfunc = 'sum')\n",
    "\n",
    "display(data_ultra_gg)\n",
    "print('Mean:', data_ultra_gg['gg'].mean())\n",
    "print('Variance:', np.var(data_ultra_gg['gg']))\n",
    "print('Standard Deviation:', np.sqrt(np.var(data_ultra_gg['gg'])))"
   ]
  },
  {
   "cell_type": "code",
   "execution_count": 62,
   "metadata": {},
   "outputs": [
    {
     "data": {
      "text/plain": [
       "Text(0, 0.5, 'cummulated')"
      ]
     },
     "execution_count": 62,
     "metadata": {},
     "output_type": "execute_result"
    },
    {
     "data": {
      "image/png": "[encoded data removed]",
      "text/plain": [
       "<Figure size 432x288 with 1 Axes>"
      ]
     },
     "metadata": {
      "needs_background": "light"
     },
     "output_type": "display_data"
    }
   ],
   "source": [
    "data_ultra['gg'].hist()\n",
    "plt.title('info_gg_ultra')\n",
    "plt.xlabel('amount_of_gg_used')\n",
    "plt.ylabel('cummulated')"
   ]
  },
  {
   "cell_type": "markdown",
   "metadata": {},
   "source": [
    "Наблюдается обычное нормальное распределение. Клиенты ultra в среднем используют 20 гигов за месяц."
   ]
  },
  {
   "cell_type": "code",
   "execution_count": 63,
   "metadata": {},
   "outputs": [
    {
     "data": {
      "image/png": "[encoded data removed]",
      "text/plain": [
       "<Figure size 432x288 with 1 Axes>"
      ]
     },
     "metadata": {
      "needs_background": "light"
     },
     "output_type": "display_data"
    }
   ],
   "source": [
    "data_ultra_gg.plot(grid = True)\n",
    "\n",
    "plt.title('gg_used_per_month_ultra')\n",
    "plt.xlabel('month')\n",
    "plt.ylabel('gg')\n",
    "plt.show()"
   ]
  },
  {
   "cell_type": "markdown",
   "metadata": {},
   "source": [
    "Определенно видно, что у клиентов с тарифом ultra, также как и у клиентов с тарифом smart, линейно возрастают с каждым месяцем количество сообщений, минут и гигов."
   ]
  },
  {
   "cell_type": "markdown",
   "metadata": {},
   "source": [
    "<font color='DarkBlue'><b>Комментарий ревьюера</b></font><br>\n",
    "<font color='DarkMagenta'>👉 Как инструкция на выполнение проекта, так и технические задания на проведение исследования не всегда содержат всю информацию, что необходимо сделать. Но указывается задача исследования, у нас это: \"коммерческий департамент хочет понять, какой тариф приносит больше денег\". Но мы ограничиваемся в анализе только количеством сообщений, длительностью звонков и интернет-трафиком. При этом у нас уже посчитано сколько пользователи платят за эти услуги, но сам анализ выручки в разрезе тарифа мы не делаем. Тогда, как мы получим ответ на вопрос какой тариф выгоднее?</font><br>\n",
    "<font color='Red'>🛠 Давай сделаем то же самое, но по выручке в разрезе тарифов. Хорошо?</font>"
   ]
  },
  {
   "cell_type": "markdown",
   "metadata": {},
   "source": [
    "<font color='DarkBlue'><b>Комментарий ревьюера 2</b></font><br>\n",
    "<font color='Red'>🛠 Мы не сделали анализ выручки в разрезе тарифов, не посчитали дисперсию и стандартное отклонение, не построили гистограммы.</font>"
   ]
  },
  {
   "cell_type": "markdown",
   "metadata": {},
   "source": [
    "</font><font color='Blue'><b> 3 Шаг я долго переделывал, ниже уже анализ по выручке в разрезе тарифов."
   ]
  },
  {
   "cell_type": "code",
   "execution_count": 64,
   "metadata": {},
   "outputs": [
    {
     "data": {
      "text/html": [
       "<div>\n",
       "<style scoped>\n",
       "    .dataframe tbody tr th:only-of-type {\n",
       "        vertical-align: middle;\n",
       "    }\n",
       "\n",
       "    .dataframe tbody tr th {\n",
       "        vertical-align: top;\n",
       "    }\n",
       "\n",
       "    .dataframe thead th {\n",
       "        text-align: right;\n",
       "    }\n",
       "</style>\n",
       "<table border=\"1\" class=\"dataframe\">\n",
       "  <thead>\n",
       "    <tr style=\"text-align: right;\">\n",
       "      <th></th>\n",
       "      <th>user_id</th>\n",
       "      <th>month</th>\n",
       "      <th>calls_per_month</th>\n",
       "      <th>messg_per_month</th>\n",
       "      <th>mb_per_month</th>\n",
       "      <th>gg</th>\n",
       "      <th>age</th>\n",
       "      <th>churn_date</th>\n",
       "      <th>city</th>\n",
       "      <th>first_name</th>\n",
       "      <th>last_name</th>\n",
       "      <th>reg_date</th>\n",
       "      <th>tariff</th>\n",
       "      <th>net_income</th>\n",
       "    </tr>\n",
       "  </thead>\n",
       "  <tbody>\n",
       "    <tr>\n",
       "      <th>0</th>\n",
       "      <td>1000</td>\n",
       "      <td>5.0</td>\n",
       "      <td>159.0</td>\n",
       "      <td>22.0</td>\n",
       "      <td>2252</td>\n",
       "      <td>3</td>\n",
       "      <td>52</td>\n",
       "      <td>NaN</td>\n",
       "      <td>Краснодар</td>\n",
       "      <td>Рафаил</td>\n",
       "      <td>Верещагин</td>\n",
       "      <td>2018-05-25</td>\n",
       "      <td>ultra</td>\n",
       "      <td>1950.0</td>\n",
       "    </tr>\n",
       "    <tr>\n",
       "      <th>1</th>\n",
       "      <td>1000</td>\n",
       "      <td>6.0</td>\n",
       "      <td>172.0</td>\n",
       "      <td>60.0</td>\n",
       "      <td>23213</td>\n",
       "      <td>23</td>\n",
       "      <td>52</td>\n",
       "      <td>NaN</td>\n",
       "      <td>Краснодар</td>\n",
       "      <td>Рафаил</td>\n",
       "      <td>Верещагин</td>\n",
       "      <td>2018-05-25</td>\n",
       "      <td>ultra</td>\n",
       "      <td>1950.0</td>\n",
       "    </tr>\n",
       "    <tr>\n",
       "      <th>2</th>\n",
       "      <td>1000</td>\n",
       "      <td>7.0</td>\n",
       "      <td>340.0</td>\n",
       "      <td>75.0</td>\n",
       "      <td>13988</td>\n",
       "      <td>14</td>\n",
       "      <td>52</td>\n",
       "      <td>NaN</td>\n",
       "      <td>Краснодар</td>\n",
       "      <td>Рафаил</td>\n",
       "      <td>Верещагин</td>\n",
       "      <td>2018-05-25</td>\n",
       "      <td>ultra</td>\n",
       "      <td>1950.0</td>\n",
       "    </tr>\n",
       "    <tr>\n",
       "      <th>3</th>\n",
       "      <td>1000</td>\n",
       "      <td>8.0</td>\n",
       "      <td>408.0</td>\n",
       "      <td>81.0</td>\n",
       "      <td>14043</td>\n",
       "      <td>14</td>\n",
       "      <td>52</td>\n",
       "      <td>NaN</td>\n",
       "      <td>Краснодар</td>\n",
       "      <td>Рафаил</td>\n",
       "      <td>Верещагин</td>\n",
       "      <td>2018-05-25</td>\n",
       "      <td>ultra</td>\n",
       "      <td>1950.0</td>\n",
       "    </tr>\n",
       "    <tr>\n",
       "      <th>4</th>\n",
       "      <td>1000</td>\n",
       "      <td>9.0</td>\n",
       "      <td>466.0</td>\n",
       "      <td>57.0</td>\n",
       "      <td>14556</td>\n",
       "      <td>15</td>\n",
       "      <td>52</td>\n",
       "      <td>NaN</td>\n",
       "      <td>Краснодар</td>\n",
       "      <td>Рафаил</td>\n",
       "      <td>Верещагин</td>\n",
       "      <td>2018-05-25</td>\n",
       "      <td>ultra</td>\n",
       "      <td>1950.0</td>\n",
       "    </tr>\n",
       "  </tbody>\n",
       "</table>\n",
       "</div>"
      ],
      "text/plain": [
       "   user_id  month  calls_per_month  messg_per_month  mb_per_month  gg  age  \\\n",
       "0     1000    5.0            159.0             22.0          2252   3   52   \n",
       "1     1000    6.0            172.0             60.0         23213  23   52   \n",
       "2     1000    7.0            340.0             75.0         13988  14   52   \n",
       "3     1000    8.0            408.0             81.0         14043  14   52   \n",
       "4     1000    9.0            466.0             57.0         14556  15   52   \n",
       "\n",
       "  churn_date       city first_name  last_name    reg_date tariff  net_income  \n",
       "0        NaN  Краснодар     Рафаил  Верещагин  2018-05-25  ultra      1950.0  \n",
       "1        NaN  Краснодар     Рафаил  Верещагин  2018-05-25  ultra      1950.0  \n",
       "2        NaN  Краснодар     Рафаил  Верещагин  2018-05-25  ultra      1950.0  \n",
       "3        NaN  Краснодар     Рафаил  Верещагин  2018-05-25  ultra      1950.0  \n",
       "4        NaN  Краснодар     Рафаил  Верещагин  2018-05-25  ultra      1950.0  "
      ]
     },
     "execution_count": 64,
     "metadata": {},
     "output_type": "execute_result"
    }
   ],
   "source": [
    "data_combined.head()"
   ]
  },
  {
   "cell_type": "code",
   "execution_count": 65,
   "metadata": {
    "scrolled": true
   },
   "outputs": [
    {
     "data": {
      "text/plain": [
       "(0.0, 7000.0)"
      ]
     },
     "execution_count": 65,
     "metadata": {},
     "output_type": "execute_result"
    },
    {
     "data": {
      "image/png": "[encoded data removed]",
      "text/plain": [
       "<Figure size 720x720 with 1 Axes>"
      ]
     },
     "metadata": {
      "needs_background": "light"
     },
     "output_type": "display_data"
    }
   ],
   "source": [
    "data_combined.boxplot('net_income', by='tariff', figsize=(10,10)).set_ylim(0,7000)"
   ]
  },
  {
   "cell_type": "code",
   "execution_count": 66,
   "metadata": {},
   "outputs": [
    {
     "data": {
      "text/plain": [
       "<AxesSubplot:ylabel='Frequency'>"
      ]
     },
     "execution_count": 66,
     "metadata": {},
     "output_type": "execute_result"
    },
    {
     "data": {
      "image/png": "[encoded data removed]",
      "text/plain": [
       "<Figure size 432x288 with 1 Axes>"
      ]
     },
     "metadata": {
      "needs_background": "light"
     },
     "output_type": "display_data"
    }
   ],
   "source": [
    "data_combined[data_combined['tariff'] == 'ultra']['net_income'].plot(kind='hist', bins=10)"
   ]
  },
  {
   "cell_type": "code",
   "execution_count": 67,
   "metadata": {},
   "outputs": [
    {
     "data": {
      "text/plain": [
       "<AxesSubplot:ylabel='Frequency'>"
      ]
     },
     "execution_count": 67,
     "metadata": {},
     "output_type": "execute_result"
    },
    {
     "data": {
      "image/png": "[encoded data removed]",
      "text/plain": [
       "<Figure size 432x288 with 1 Axes>"
      ]
     },
     "metadata": {
      "needs_background": "light"
     },
     "output_type": "display_data"
    }
   ],
   "source": [
    "data_combined[data_combined['tariff'] == 'smart']['net_income'].plot(kind='hist', bins=10)"
   ]
  },
  {
   "cell_type": "code",
   "execution_count": 68,
   "metadata": {},
   "outputs": [
    {
     "data": {
      "text/html": [
       "<style  type=\"text/css\" >\n",
       "</style><table id=\"T_17fb4_\" ><thead>    <tr>        <th class=\"blank level0\" ></th>        <th class=\"col_heading level0 col0\" colspan=\"4\">net_income</th>    </tr>    <tr>        <th class=\"blank level1\" ></th>        <th class=\"col_heading level1 col0\" >median</th>        <th class=\"col_heading level1 col1\" >mean</th>        <th class=\"col_heading level1 col2\" >var</th>        <th class=\"col_heading level1 col3\" >std</th>    </tr>    <tr>        <th class=\"index_name level0\" >tariff</th>        <th class=\"blank\" ></th>        <th class=\"blank\" ></th>        <th class=\"blank\" ></th>        <th class=\"blank\" ></th>    </tr></thead><tbody>\n",
       "                <tr>\n",
       "                        <th id=\"T_17fb4_level0_row0\" class=\"row_heading level0 row0\" >smart</th>\n",
       "                        <td id=\"T_17fb4_row0_col0\" class=\"data row0 col0\" >1016.50</td>\n",
       "                        <td id=\"T_17fb4_row0_col1\" class=\"data row0 col1\" >1286.23</td>\n",
       "                        <td id=\"T_17fb4_row0_col2\" class=\"data row0 col2\" >666653.98</td>\n",
       "                        <td id=\"T_17fb4_row0_col3\" class=\"data row0 col3\" >816.49</td>\n",
       "            </tr>\n",
       "            <tr>\n",
       "                        <th id=\"T_17fb4_level0_row1\" class=\"row_heading level0 row1\" >ultra</th>\n",
       "                        <td id=\"T_17fb4_row1_col0\" class=\"data row1 col0\" >1950.00</td>\n",
       "                        <td id=\"T_17fb4_row1_col1\" class=\"data row1 col1\" >2069.42</td>\n",
       "                        <td id=\"T_17fb4_row1_col2\" class=\"data row1 col2\" >140254.39</td>\n",
       "                        <td id=\"T_17fb4_row1_col3\" class=\"data row1 col3\" >374.51</td>\n",
       "            </tr>\n",
       "    </tbody></table>"
      ],
      "text/plain": [
       "<pandas.io.formats.style.Styler at 0x7eff9ed19730>"
      ]
     },
     "execution_count": 68,
     "metadata": {},
     "output_type": "execute_result"
    }
   ],
   "source": [
    "data_combined.groupby('tariff')\\\n",
    "  .agg({'net_income':['median','mean','var','std']})\\\n",
    "  .style.format(\"{:.2f}\")"
   ]
  },
  {
   "cell_type": "markdown",
   "metadata": {},
   "source": [
    "<font color='DarkBlue'><b>Комментарий ревьюера 3</b></font><br>\n",
    "<font color='DarkGreen'>👌 Хорошо, теперь правильно. 👍</font>"
   ]
  },
  {
   "cell_type": "markdown",
   "metadata": {},
   "source": [
    "Ага, Ультру, видимо, в основном платят по тарифу и мелкими группами вылазят на каждую тысячу рублей. А у Смарта люди вылезают за абонентскую плату чаще, для них это как будто дело привычное"
   ]
  },
  {
   "cell_type": "code",
   "execution_count": 69,
   "metadata": {},
   "outputs": [
    {
     "data": {
      "text/html": [
       "<style  type=\"text/css\" >\n",
       "</style><table id=\"T_11af8_\" ><thead>    <tr>        <th class=\"blank level0\" ></th>        <th class=\"col_heading level0 col0\" colspan=\"4\">calls_per_month</th>    </tr>    <tr>        <th class=\"blank level1\" ></th>        <th class=\"col_heading level1 col0\" >median</th>        <th class=\"col_heading level1 col1\" >mean</th>        <th class=\"col_heading level1 col2\" >var</th>        <th class=\"col_heading level1 col3\" >std</th>    </tr>    <tr>        <th class=\"index_name level0\" >tariff</th>        <th class=\"blank\" ></th>        <th class=\"blank\" ></th>        <th class=\"blank\" ></th>        <th class=\"blank\" ></th>    </tr></thead><tbody>\n",
       "                <tr>\n",
       "                        <th id=\"T_11af8_level0_row0\" class=\"row_heading level0 row0\" >smart</th>\n",
       "                        <td id=\"T_11af8_row0_col0\" class=\"data row0 col0\" >422.00</td>\n",
       "                        <td id=\"T_11af8_row0_col1\" class=\"data row0 col1\" >417.93</td>\n",
       "                        <td id=\"T_11af8_row0_col2\" class=\"data row0 col2\" >36219.32</td>\n",
       "                        <td id=\"T_11af8_row0_col3\" class=\"data row0 col3\" >190.31</td>\n",
       "            </tr>\n",
       "            <tr>\n",
       "                        <th id=\"T_11af8_level0_row1\" class=\"row_heading level0 row1\" >ultra</th>\n",
       "                        <td id=\"T_11af8_row1_col0\" class=\"data row1 col0\" >518.00</td>\n",
       "                        <td id=\"T_11af8_row1_col1\" class=\"data row1 col1\" >526.62</td>\n",
       "                        <td id=\"T_11af8_row1_col2\" class=\"data row1 col2\" >100873.63</td>\n",
       "                        <td id=\"T_11af8_row1_col3\" class=\"data row1 col3\" >317.61</td>\n",
       "            </tr>\n",
       "    </tbody></table>"
      ],
      "text/plain": [
       "<pandas.io.formats.style.Styler at 0x7eff9f3c5040>"
      ]
     },
     "execution_count": 69,
     "metadata": {},
     "output_type": "execute_result"
    }
   ],
   "source": [
    "data_combined.groupby('tariff')\\\n",
    "  .agg({'calls_per_month':['median','mean','var','std']})\\\n",
    "  .style.format(\"{:.2f}\")"
   ]
  },
  {
   "cell_type": "code",
   "execution_count": 70,
   "metadata": {},
   "outputs": [
    {
     "data": {
      "text/plain": [
       "Text(0.5, 1.0, 'Смарт — Звонки в минутах в месяц')"
      ]
     },
     "execution_count": 70,
     "metadata": {},
     "output_type": "execute_result"
    },
    {
     "data": {
      "image/png": "[encoded data removed]",
      "text/plain": [
       "<Figure size 432x288 with 1 Axes>"
      ]
     },
     "metadata": {
      "needs_background": "light"
     },
     "output_type": "display_data"
    }
   ],
   "source": [
    "data_combined[data_combined['tariff'] == 'smart']['calls_per_month'].plot(kind='hist', bins=10)\n",
    "plt.title('Смарт — Звонки в минутах в месяц')"
   ]
  },
  {
   "cell_type": "code",
   "execution_count": 71,
   "metadata": {},
   "outputs": [
    {
     "data": {
      "text/plain": [
       "Text(0.5, 1.0, 'Ультра — Звонки в минутах в месяц')"
      ]
     },
     "execution_count": 71,
     "metadata": {},
     "output_type": "execute_result"
    },
    {
     "data": {
      "image/png": "[encoded data removed]",
      "text/plain": [
       "<Figure size 432x288 with 1 Axes>"
      ]
     },
     "metadata": {
      "needs_background": "light"
     },
     "output_type": "display_data"
    }
   ],
   "source": [
    "data_combined[data_combined['tariff'] == 'ultra']['calls_per_month'].plot(kind='hist', bins=10)\n",
    "plt.title('Ультра — Звонки в минутах в месяц')"
   ]
  },
  {
   "cell_type": "markdown",
   "metadata": {},
   "source": [
    "На Смарте люди в месяц говорят около 450 минут, на Ультре 550 минут в месяц. То есть на Смарте люди подходят к краю своего тарифа, а на Ультре у них остается запас 2500 минут. Среднее и медиана лежат рядом и там и там — ничего экстремального, видимо"
   ]
  },
  {
   "cell_type": "code",
   "execution_count": 72,
   "metadata": {},
   "outputs": [
    {
     "data": {
      "text/html": [
       "<style  type=\"text/css\" >\n",
       "</style><table id=\"T_8d442_\" ><thead>    <tr>        <th class=\"blank level0\" ></th>        <th class=\"col_heading level0 col0\" colspan=\"4\">mb_per_month</th>    </tr>    <tr>        <th class=\"blank level1\" ></th>        <th class=\"col_heading level1 col0\" >median</th>        <th class=\"col_heading level1 col1\" >mean</th>        <th class=\"col_heading level1 col2\" >var</th>        <th class=\"col_heading level1 col3\" >std</th>    </tr>    <tr>        <th class=\"index_name level0\" >tariff</th>        <th class=\"blank\" ></th>        <th class=\"blank\" ></th>        <th class=\"blank\" ></th>        <th class=\"blank\" ></th>    </tr></thead><tbody>\n",
       "                <tr>\n",
       "                        <th id=\"T_8d442_level0_row0\" class=\"row_heading level0 row0\" >smart</th>\n",
       "                        <td id=\"T_8d442_row0_col0\" class=\"data row0 col0\" >16481.00</td>\n",
       "                        <td id=\"T_8d442_row0_col1\" class=\"data row0 col1\" >16180.32</td>\n",
       "                        <td id=\"T_8d442_row0_col2\" class=\"data row0 col2\" >34481896.73</td>\n",
       "                        <td id=\"T_8d442_row0_col3\" class=\"data row0 col3\" >5872.13</td>\n",
       "            </tr>\n",
       "            <tr>\n",
       "                        <th id=\"T_8d442_level0_row1\" class=\"row_heading level0 row1\" >ultra</th>\n",
       "                        <td id=\"T_8d442_row1_col0\" class=\"data row1 col0\" >19286.50</td>\n",
       "                        <td id=\"T_8d442_row1_col1\" class=\"data row1 col1\" >19430.92</td>\n",
       "                        <td id=\"T_8d442_row1_col2\" class=\"data row1 col2\" >101846665.40</td>\n",
       "                        <td id=\"T_8d442_row1_col3\" class=\"data row1 col3\" >10091.91</td>\n",
       "            </tr>\n",
       "    </tbody></table>"
      ],
      "text/plain": [
       "<pandas.io.formats.style.Styler at 0x7eff9dfcd8b0>"
      ]
     },
     "execution_count": 72,
     "metadata": {},
     "output_type": "execute_result"
    }
   ],
   "source": [
    "data_combined.groupby('tariff')\\\n",
    "  .agg({'mb_per_month':['median','mean','var','std']})\\\n",
    "  .style.format(\"{:.2f}\")"
   ]
  },
  {
   "cell_type": "code",
   "execution_count": 73,
   "metadata": {},
   "outputs": [
    {
     "data": {
      "text/plain": [
       "Text(0.5, 1.0, 'Смарт — Интернет в МБ в месяц')"
      ]
     },
     "execution_count": 73,
     "metadata": {},
     "output_type": "execute_result"
    },
    {
     "data": {
      "image/png": "[encoded data removed]",
      "text/plain": [
       "<Figure size 432x288 with 1 Axes>"
      ]
     },
     "metadata": {
      "needs_background": "light"
     },
     "output_type": "display_data"
    }
   ],
   "source": [
    "data_combined[data_combined['tariff'] == 'smart']['mb_per_month'].plot(kind='hist', bins=10)\n",
    "plt.title('Смарт — Интернет в МБ в месяц')"
   ]
  },
  {
   "cell_type": "code",
   "execution_count": 74,
   "metadata": {},
   "outputs": [
    {
     "data": {
      "text/plain": [
       "Text(0.5, 1.0, 'Ультра — Интернет в МБ в месяц')"
      ]
     },
     "execution_count": 74,
     "metadata": {},
     "output_type": "execute_result"
    },
    {
     "data": {
      "image/png": "[encoded data removed]",
      "text/plain": [
       "<Figure size 432x288 with 1 Axes>"
      ]
     },
     "metadata": {
      "needs_background": "light"
     },
     "output_type": "display_data"
    }
   ],
   "source": [
    "data_combined[data_combined['tariff'] == 'ultra']['mb_per_month'].plot(kind='hist', bins=10)\n",
    "plt.title('Ультра — Интернет в МБ в месяц')"
   ]
  },
  {
   "cell_type": "markdown",
   "metadata": {},
   "source": [
    "Среднее и медиана лежат рядом и там и там и тут тоже. На Смарте люди выходят за пределы тарифа больше, у Ультры снова запас — в 10 Гб, но и разброс больше"
   ]
  },
  {
   "cell_type": "code",
   "execution_count": 75,
   "metadata": {},
   "outputs": [
    {
     "data": {
      "text/html": [
       "<style  type=\"text/css\" >\n",
       "</style><table id=\"T_8f9d5_\" ><thead>    <tr>        <th class=\"blank level0\" ></th>        <th class=\"col_heading level0 col0\" colspan=\"4\">messg_per_month</th>    </tr>    <tr>        <th class=\"blank level1\" ></th>        <th class=\"col_heading level1 col0\" >median</th>        <th class=\"col_heading level1 col1\" >mean</th>        <th class=\"col_heading level1 col2\" >var</th>        <th class=\"col_heading level1 col3\" >std</th>    </tr>    <tr>        <th class=\"index_name level0\" >tariff</th>        <th class=\"blank\" ></th>        <th class=\"blank\" ></th>        <th class=\"blank\" ></th>        <th class=\"blank\" ></th>    </tr></thead><tbody>\n",
       "                <tr>\n",
       "                        <th id=\"T_8f9d5_level0_row0\" class=\"row_heading level0 row0\" >smart</th>\n",
       "                        <td id=\"T_8f9d5_row0_col0\" class=\"data row0 col0\" >28.00</td>\n",
       "                        <td id=\"T_8f9d5_row0_col1\" class=\"data row0 col1\" >33.38</td>\n",
       "                        <td id=\"T_8f9d5_row0_col2\" class=\"data row0 col2\" >796.81</td>\n",
       "                        <td id=\"T_8f9d5_row0_col3\" class=\"data row0 col3\" >28.23</td>\n",
       "            </tr>\n",
       "            <tr>\n",
       "                        <th id=\"T_8f9d5_level0_row1\" class=\"row_heading level0 row1\" >ultra</th>\n",
       "                        <td id=\"T_8f9d5_row1_col0\" class=\"data row1 col0\" >38.00</td>\n",
       "                        <td id=\"T_8f9d5_row1_col1\" class=\"data row1 col1\" >49.36</td>\n",
       "                        <td id=\"T_8f9d5_row1_col2\" class=\"data row1 col2\" >2285.27</td>\n",
       "                        <td id=\"T_8f9d5_row1_col3\" class=\"data row1 col3\" >47.80</td>\n",
       "            </tr>\n",
       "    </tbody></table>"
      ],
      "text/plain": [
       "<pandas.io.formats.style.Styler at 0x7eff9df923a0>"
      ]
     },
     "execution_count": 75,
     "metadata": {},
     "output_type": "execute_result"
    }
   ],
   "source": [
    "data_combined.groupby('tariff')\\\n",
    "  .agg({'messg_per_month':['median','mean','var','std']})\\\n",
    "  .style.format(\"{:.2f}\")"
   ]
  },
  {
   "cell_type": "code",
   "execution_count": 76,
   "metadata": {},
   "outputs": [
    {
     "data": {
      "text/plain": [
       "Text(0.5, 1.0, 'Смарт — СМС в месяц')"
      ]
     },
     "execution_count": 76,
     "metadata": {},
     "output_type": "execute_result"
    },
    {
     "data": {
      "image/png": "[encoded data removed]",
      "text/plain": [
       "<Figure size 432x288 with 1 Axes>"
      ]
     },
     "metadata": {
      "needs_background": "light"
     },
     "output_type": "display_data"
    }
   ],
   "source": [
    "data_combined[data_combined['tariff'] == 'smart']['messg_per_month'].plot(kind='hist', bins=10)\n",
    "plt.title('Смарт — СМС в месяц')"
   ]
  },
  {
   "cell_type": "code",
   "execution_count": 77,
   "metadata": {},
   "outputs": [
    {
     "data": {
      "text/plain": [
       "Text(0.5, 1.0, 'Ультра — СМС в месяц')"
      ]
     },
     "execution_count": 77,
     "metadata": {},
     "output_type": "execute_result"
    },
    {
     "data": {
      "image/png": "[encoded data removed]",
      "text/plain": [
       "<Figure size 432x288 with 1 Axes>"
      ]
     },
     "metadata": {
      "needs_background": "light"
     },
     "output_type": "display_data"
    }
   ],
   "source": [
    "data_combined[data_combined['tariff'] == 'ultra']['messg_per_month'].plot(kind='hist', bins=10)\n",
    "plt.title('Ультра — СМС в месяц')"
   ]
  },
  {
   "cell_type": "markdown",
   "metadata": {},
   "source": [
    "Поведение пользователей выглядит похожим. Смс-ки никому не нужны. Совсем."
   ]
  },
  {
   "cell_type": "markdown",
   "metadata": {},
   "source": [
    "# 4  Шаг. Проверка гипотез"
   ]
  },
  {
   "cell_type": "markdown",
   "metadata": {},
   "source": [
    "Hypothese: средняя выручка пользователей тарифов «Ультра» и «Смарт» различается.\n",
    "\n",
    "- H0: средняя выручка с пользователей тарифов «Ультра» и «Смарт» не различается \n",
    "- H1: средняя выручка с пользователей тарифов «Ультра» и «Смарт» различается "
   ]
  },
  {
   "cell_type": "markdown",
   "metadata": {},
   "source": [
    "<font color='DarkBlue'><b>Комментарий ревьюера</b></font><br>\n",
    "<font color='DarkGreen'>👌 Хорошо, правильно сформулированы гипотезы.</font>"
   ]
  },
  {
   "cell_type": "code",
   "execution_count": 78,
   "metadata": {},
   "outputs": [
    {
     "name": "stdout",
     "output_type": "stream",
     "text": [
      "666355.0337567616\n",
      "140112.14045315966\n"
     ]
    }
   ],
   "source": [
    "print(np.var(data_smart['net_income']))\n",
    "print(np.var(data_ultra['net_income']))"
   ]
  },
  {
   "cell_type": "code",
   "execution_count": 79,
   "metadata": {},
   "outputs": [
    {
     "name": "stdout",
     "output_type": "stream",
     "text": [
      "p-value: 3.78133573707916e-253\n",
      "H0 denied\n"
     ]
    }
   ],
   "source": [
    "smart_net_income = data_smart['net_income']\n",
    "ultra_net_income = data_ultra['net_income']\n",
    "\n",
    "alpha = .05\n",
    "\n",
    "results = st.ttest_ind(\n",
    "    smart_net_income, \n",
    "    ultra_net_income, \n",
    "    equal_var = False)\n",
    "\n",
    "print('p-value:', results.pvalue)\n",
    "\n",
    "if results.pvalue < alpha:\n",
    "    print('H0 denied')\n",
    "else:\n",
    "    print('Not able to deny the H0')"
   ]
  },
  {
   "cell_type": "markdown",
   "metadata": {},
   "source": [
    "Hypothese: средняя выручка пользователей из Москвы отличается от выручки пользователей из других регионов.\n",
    "\n",
    "- H0: средняя выручка пользователей из Москвы не отличается от выручки пользователей из других регионов\n",
    "- H1: средняя выручка пользователей из Москвы отличается от выручки пользователей из других регионов"
   ]
  },
  {
   "cell_type": "code",
   "execution_count": 80,
   "metadata": {},
   "outputs": [
    {
     "name": "stdout",
     "output_type": "stream",
     "text": [
      "564856.1190503616\n",
      "651868.4818423156\n"
     ]
    }
   ],
   "source": [
    "data_moscow = data_combined.query('city == \"Москва\"')\n",
    "data_not_moscow = data_combined.query('city != \"Москва\"')\n",
    "\n",
    "print(np.var(data_moscow['net_income']))\n",
    "print(np.var(data_not_moscow['net_income']))"
   ]
  },
  {
   "cell_type": "code",
   "execution_count": 81,
   "metadata": {},
   "outputs": [
    {
     "name": "stdout",
     "output_type": "stream",
     "text": [
      "611\n",
      "2605\n"
     ]
    }
   ],
   "source": [
    "print(data_moscow['city'].count())\n",
    "print(data_not_moscow['city'].count())"
   ]
  },
  {
   "cell_type": "code",
   "execution_count": 82,
   "metadata": {},
   "outputs": [
    {
     "name": "stdout",
     "output_type": "stream",
     "text": [
      "p-value: 0.5136829862911095\n",
      "Not able to deny the H0\n"
     ]
    }
   ],
   "source": [
    "data_moscow_ni = data_moscow['net_income']\n",
    "data_not_moscow_ni = data_not_moscow['net_income']\n",
    "\n",
    "alpha = .05\n",
    "\n",
    "results_city = st.ttest_ind( \n",
    "    data_moscow_ni, \n",
    "    data_not_moscow_ni, \n",
    "    equal_var = False)\n",
    "\n",
    "print('p-value:', results_city.pvalue)\n",
    "\n",
    "if results_city.pvalue < alpha:\n",
    "    print('H0 denied')\n",
    "else:\n",
    "    print('Not able to deny the H0')"
   ]
  },
  {
   "cell_type": "markdown",
   "metadata": {},
   "source": [
    "Поясните:\n",
    "\n",
    "- как вы формулировали нулевую и альтернативную гипотезы;\n",
    "- какой критерий использовали для проверки гипотез и почему."
   ]
  },
  {
   "cell_type": "markdown",
   "metadata": {},
   "source": [
    "В нулевой гипотезе я проверял положительную зависимость, а в альтернативной - отрицательную. Стандардная процедура, проверяю значение p-value и сравниваю с alpha. В двух случаях разные по размеру выборки с разными дисперсиями, также применил equal_var = False."
   ]
  },
  {
   "cell_type": "markdown",
   "metadata": {},
   "source": [
    "<font color='DarkBlue'><b>Комментарий ревьюера</b></font><br>\n",
    "<font color='DarkMagenta'>👉 Было бы правильным показать дополнительно средние выручки и по тарифам, и по регионам, как иллюстрации не противоречивости нашей проверки гипотез.</font>"
   ]
  },
  {
   "cell_type": "markdown",
   "metadata": {},
   "source": [
    "# 5  Шаг. Общий вывод"
   ]
  },
  {
   "cell_type": "markdown",
   "metadata": {},
   "source": [
    "Результаты исследования:"
   ]
  },
  {
   "cell_type": "markdown",
   "metadata": {},
   "source": [
    "Люди на разных тарифах ведут себя по-разному, что наверно и хорошо. Так и должно работать сегментирование. Но и переплачивают, а это, особенно в Смарте, может приводить к разочарованию и оттоку."
   ]
  },
  {
   "cell_type": "markdown",
   "metadata": {},
   "source": [
    "- СМС-ки никому не нужны на обоих тарифах. Но если в Смарте люди близки к своим лимитам, то на Ультре остаются большие неизрасходованные \"запасы\" — возможно, имеет смысл подумать, как использовать эту, по сути, упущенную выгоду\n",
    "- Деньги одинаково текут и из регионов и из Москвы, и вероятно это не связано с уровнем жизни, а с поведением: ~8-10 часов в месяц — это предел у среднего клиента на обоих тарифах\n",
    "- Тарифы приносят разные деньги, значимые различия есть"
   ]
  },
  {
   "cell_type": "markdown",
   "metadata": {},
   "source": [
    "С самого начала были проанализированы все данные. Не было найденно никаких дубликатов и больших неточностей.\n",
    "\n",
    "Во время анализа тарифов было выявленно, что, в общем, количество СМС, минут и гигабайт положительно линейно растут в течение всего года. Несмотря на то, что клиентов с тарифом smart в два раза больше, клиенты smart и ultra в среднем используют 20 гигов и 400 минут в месяц, а также практически не пользуют СМС."
   ]
  },
  {
   "cell_type": "markdown",
   "metadata": {},
   "source": [
    "Далее были проверены две гипотезы:\n",
    "\n",
    "- средняя выручка пользователей тарифов «Ультра» и «Смарт» не различается\n",
    "- средняя выручка пользователей из Москвы не отличается от выручки пользователей из других регионов."
   ]
  },
  {
   "cell_type": "markdown",
   "metadata": {},
   "source": [
    "Первая гипотеза не подтвердилась, а вторая наоборот показала, что средняя выручка пользователей из Москвы не отличается от выручки пользователей из других регионов."
   ]
  },
  {
   "cell_type": "markdown",
   "metadata": {},
   "source": [
    "<font color='DarkBlue'><b>Комментарий ревьюера</b></font><br>\n",
    "<font color='Red'>🛠 ОЙ! У нас была цель исследования и в общих выводах мы должны ее отразить.</font><br>\n",
    "<font color='DarkMagenta'>👉 И очень пригодился бы график динамики выручки по месяцам в разрезе тарифов. Есть ли там тренды, выручка по какому-то тарифу растет или падает? Сделаем?</font>"
   ]
  },
  {
   "cell_type": "markdown",
   "metadata": {},
   "source": [
    "</font><font color='Blue'><b> Не совсем понял, нужно продублировать цель исследования в выводе?"
   ]
  },
  {
   "cell_type": "markdown",
   "metadata": {},
   "source": [
    "<font color='DarkBlue'><b>Комментарий ревьюера 2</b></font><br>\n",
    "<font color='Red'>🛠 Нужно сформулировать ответ на вопрос поставленный в цели исследования.</font>"
   ]
  },
  {
   "cell_type": "markdown",
   "metadata": {},
   "source": [
    "</font><font color='Blue'><b> Прописал результаты исследования"
   ]
  },
  {
   "cell_type": "markdown",
   "metadata": {},
   "source": [
    "<font color='DarkBlue'><b>Комментарий ревьюера 3</b></font><br>\n",
    "<font color='DarkMagenta'>👉 В задании написано: \"коммерческий департамент хочет понять, какой тариф приносит больше денег\". Так какой тариф приносит больше денег?</font>"
   ]
  },
  {
   "cell_type": "code",
   "execution_count": 83,
   "metadata": {},
   "outputs": [
    {
     "data": {
      "text/plain": [
       "Text(0, 0.5, 'Рубли')"
      ]
     },
     "execution_count": 83,
     "metadata": {},
     "output_type": "execute_result"
    },
    {
     "data": {
      "image/png": "[encoded data removed]",
      "text/plain": [
       "<Figure size 432x288 with 1 Axes>"
      ]
     },
     "metadata": {
      "needs_background": "light"
     },
     "output_type": "display_data"
    }
   ],
   "source": [
    "# Комментарий ревьюера 3\n",
    "(data_combined.pivot_table(index='tariff', columns='month', values='net_income', aggfunc='mean')\n",
    " .T.plot(kind='bar', alpha=0.5)\n",
    ")\n",
    "plt.title('Средняя ежемесячная выручка по 2-м тарифам за год'+ \"\\n\")\n",
    "plt.xlabel('Месяц')\n",
    "plt.ylabel('Рубли')"
   ]
  },
  {
   "cell_type": "markdown",
   "metadata": {},
   "source": [
    "<font color='DarkBlue'><b>Комментарий ревьюера 3</b></font><br>\n",
    "<font color='DarkMagenta'>👉 Вот такой ожидался график. <br>\n",
    "Что теперь получается. Мы провели исследование в соответствии с заданием, но если бы мы показали динамику выручки. То обнаружили бы, что в течение года выручка по тарифу Смарт растет быстрее Ультра. И это надо было отразить в выводах исследования. <br>Реклама это все-таки вложение в будущее, то есть отдача от нее не будет мгновенной. Тогда может рекламой стимулировать растущий тариф? <br>На основе нашего исследования может быть принято обоснованное решение по рекламе тарифа, это повышает ценность нашей работы и наш авторитет, как профессионала. И это повод и зарплату поднять.</font>"
   ]
  },
  {
   "cell_type": "markdown",
   "metadata": {},
   "source": [
    "<font color='DarkBlue'><b>Заключительный комментарий ревьюера</b></font><br><br>\n",
    "<font color='DarkGreen'>👌 Руслан, проект очень хорошо и детально проработан. И дальше так держать!<br></font>\n",
    "<font color='Red'>🛠 А что бы еще лучше сделать проект нам надо:</font><br>\n",
    "<font color='Red'>🛠 Проанализировать пропажу пользователей после объединения таблиц. Надо проверить на пропуски итоговую таблицу после объединения и принять решение по ним. Необходимо провести анализ выручки в разрезе тарифов. В итоговом выводе должна найти свое отражение цель исследования. <br></font>\n",
    "<font color='DarkMagenta'>👉 При исправлении ошибок и недочетов мы приобретем дополнительный опыт и навыки!</font><br>\n",
    "<font color='DarkGreen'>👌 Жду окончательный вариант! Удачи. </font>"
   ]
  },
  {
   "cell_type": "markdown",
   "metadata": {},
   "source": [
    "<font color='DarkBlue'><b>Заключительный комментарий ревьюера 2</b></font><br><br>\n",
    "<font color='DarkGreen'>👌 Руслан, мы почему-то не исправили ни одной ошибки. Или была выслана не та тетрадка?<br></font>\n",
    "<font color='Red'>🛠 Нужно сделать:</font><br>\n",
    "<font color='Red'>🛠 Проанализировать пропажу пользователей после объединения таблиц. Надо проверить на пропуски итоговую таблицу после объединения и принять решение по ним. Необходимо провести анализ выручки в разрезе тарифов. В итоговом выводе должна найти свое отражение цель исследования. <br></font>\n",
    "<font color='DarkGreen'>👌 Жду исправленный вариант! Удачи. </font>"
   ]
  },
  {
   "cell_type": "markdown",
   "metadata": {},
   "source": [
    "<font color='DarkBlue'><b>Заключительный комментарий ревьюера 3</b></font><br><br>\n",
    "<font color='DarkGreen'>👌 Руслан, нам удалось улучшить проект. <br>Мы научились собирать из отдельных датасетов общую таблицу для дальнейшего анализа. Мы молодцы! 👍<br></font>\n",
    "<font color='DarkGreen'>👌 А теперь нас ждут новые знания в новом проекте! Удачи! 😉</font>"
   ]
  }
 ],
 "metadata": {
  "ExecuteTimeLog": [
   {
    "duration": 1505,
    "start_time": "2022-05-22T17:02:01.716Z"
   },
   {
    "duration": 575,
    "start_time": "2022-05-22T17:02:11.275Z"
   },
   {
    "duration": 25,
    "start_time": "2022-05-22T17:02:22.625Z"
   },
   {
    "duration": 127,
    "start_time": "2022-05-22T17:02:34.850Z"
   },
   {
    "duration": 434,
    "start_time": "2022-05-22T17:02:43.582Z"
   },
   {
    "duration": 31,
    "start_time": "2022-05-22T17:02:57.714Z"
   },
   {
    "duration": 68,
    "start_time": "2022-05-22T17:03:10.187Z"
   },
   {
    "duration": 330,
    "start_time": "2022-05-22T17:03:16.739Z"
   },
   {
    "duration": 18,
    "start_time": "2022-05-22T17:05:30.488Z"
   },
   {
    "duration": 1061,
    "start_time": "2022-05-22T17:05:35.445Z"
   },
   {
    "duration": 168,
    "start_time": "2022-05-22T17:05:36.508Z"
   },
   {
    "duration": 34,
    "start_time": "2022-05-22T17:05:36.678Z"
   },
   {
    "duration": 108,
    "start_time": "2022-05-22T17:05:36.714Z"
   },
   {
    "duration": 137,
    "start_time": "2022-05-22T17:05:36.824Z"
   },
   {
    "duration": 22,
    "start_time": "2022-05-22T17:05:36.963Z"
   },
   {
    "duration": 81,
    "start_time": "2022-05-22T17:05:36.986Z"
   },
   {
    "duration": 90,
    "start_time": "2022-05-22T17:05:37.069Z"
   },
   {
    "duration": 25,
    "start_time": "2022-05-22T17:05:37.160Z"
   },
   {
    "duration": 47,
    "start_time": "2022-05-22T17:05:44.351Z"
   },
   {
    "duration": 84,
    "start_time": "2022-05-22T17:05:50.369Z"
   },
   {
    "duration": 99,
    "start_time": "2022-05-22T17:05:57.153Z"
   },
   {
    "duration": 16,
    "start_time": "2022-05-22T17:06:04.343Z"
   },
   {
    "duration": 6,
    "start_time": "2022-05-22T17:06:13.941Z"
   },
   {
    "duration": 7,
    "start_time": "2022-05-22T17:07:11.890Z"
   },
   {
    "duration": 11,
    "start_time": "2022-05-22T17:07:25.895Z"
   },
   {
    "duration": 13,
    "start_time": "2022-05-22T17:08:16.812Z"
   },
   {
    "duration": 116,
    "start_time": "2022-05-22T17:08:24.785Z"
   },
   {
    "duration": 112,
    "start_time": "2022-05-22T17:09:48.734Z"
   },
   {
    "duration": 19,
    "start_time": "2022-05-22T17:09:56.755Z"
   },
   {
    "duration": 20,
    "start_time": "2022-05-22T17:10:19.589Z"
   },
   {
    "duration": 6,
    "start_time": "2022-05-22T17:10:35.534Z"
   },
   {
    "duration": 18,
    "start_time": "2022-05-22T17:10:41.982Z"
   },
   {
    "duration": 6,
    "start_time": "2022-05-22T17:10:50.595Z"
   },
   {
    "duration": 23,
    "start_time": "2022-05-22T17:10:57.007Z"
   },
   {
    "duration": 34,
    "start_time": "2022-05-22T17:11:10.918Z"
   },
   {
    "duration": 6,
    "start_time": "2022-05-22T17:11:18.889Z"
   },
   {
    "duration": 6,
    "start_time": "2022-05-22T17:11:26.495Z"
   },
   {
    "duration": 5,
    "start_time": "2022-05-22T17:11:34.496Z"
   },
   {
    "duration": 3,
    "start_time": "2022-05-22T17:11:50.387Z"
   },
   {
    "duration": 32,
    "start_time": "2022-05-22T17:11:58.788Z"
   },
   {
    "duration": 9,
    "start_time": "2022-05-22T17:12:05.290Z"
   },
   {
    "duration": 14,
    "start_time": "2022-05-22T17:12:12.312Z"
   },
   {
    "duration": 5,
    "start_time": "2022-05-22T17:12:18.225Z"
   },
   {
    "duration": 24,
    "start_time": "2022-05-22T17:12:23.586Z"
   },
   {
    "duration": 4,
    "start_time": "2022-05-22T17:12:41.915Z"
   },
   {
    "duration": 6,
    "start_time": "2022-05-22T17:12:47.876Z"
   },
   {
    "duration": 1180,
    "start_time": "2022-05-22T17:15:33.378Z"
   },
   {
    "duration": 189,
    "start_time": "2022-05-22T17:15:34.561Z"
   },
   {
    "duration": 27,
    "start_time": "2022-05-22T17:15:34.751Z"
   },
   {
    "duration": 141,
    "start_time": "2022-05-22T17:15:34.781Z"
   },
   {
    "duration": 148,
    "start_time": "2022-05-22T17:15:34.924Z"
   },
   {
    "duration": 24,
    "start_time": "2022-05-22T17:15:35.074Z"
   },
   {
    "duration": 83,
    "start_time": "2022-05-22T17:15:35.100Z"
   },
   {
    "duration": 97,
    "start_time": "2022-05-22T17:15:35.185Z"
   },
   {
    "duration": 28,
    "start_time": "2022-05-22T17:15:35.284Z"
   },
   {
    "duration": 48,
    "start_time": "2022-05-22T17:15:35.314Z"
   },
   {
    "duration": 21,
    "start_time": "2022-05-22T17:15:35.364Z"
   },
   {
    "duration": 38,
    "start_time": "2022-05-22T17:15:35.387Z"
   },
   {
    "duration": 11,
    "start_time": "2022-05-22T17:15:35.426Z"
   },
   {
    "duration": 14,
    "start_time": "2022-05-22T17:15:35.439Z"
   },
   {
    "duration": 17,
    "start_time": "2022-05-22T17:15:35.455Z"
   },
   {
    "duration": 13,
    "start_time": "2022-05-22T17:15:35.474Z"
   },
   {
    "duration": 28,
    "start_time": "2022-05-22T17:15:35.489Z"
   },
   {
    "duration": 132,
    "start_time": "2022-05-22T17:15:35.519Z"
   },
   {
    "duration": 18,
    "start_time": "2022-05-22T17:15:35.653Z"
   },
   {
    "duration": 23,
    "start_time": "2022-05-22T17:15:35.672Z"
   },
   {
    "duration": 6,
    "start_time": "2022-05-22T17:15:35.712Z"
   },
   {
    "duration": 43,
    "start_time": "2022-05-22T17:15:35.720Z"
   },
   {
    "duration": 4,
    "start_time": "2022-05-22T17:15:35.765Z"
   },
   {
    "duration": 28,
    "start_time": "2022-05-22T17:15:35.771Z"
   },
   {
    "duration": 27,
    "start_time": "2022-05-22T17:15:35.800Z"
   },
   {
    "duration": 8,
    "start_time": "2022-05-22T17:15:35.829Z"
   },
   {
    "duration": 13,
    "start_time": "2022-05-22T17:15:35.839Z"
   },
   {
    "duration": 17,
    "start_time": "2022-05-22T17:15:35.854Z"
   },
   {
    "duration": 30,
    "start_time": "2022-05-22T17:15:35.873Z"
   },
   {
    "duration": 42,
    "start_time": "2022-05-22T17:15:35.904Z"
   },
   {
    "duration": 12,
    "start_time": "2022-05-22T17:15:35.948Z"
   },
   {
    "duration": 31,
    "start_time": "2022-05-22T17:15:35.962Z"
   },
   {
    "duration": 25,
    "start_time": "2022-05-22T17:15:35.994Z"
   },
   {
    "duration": 34,
    "start_time": "2022-05-22T17:15:36.021Z"
   },
   {
    "duration": 6,
    "start_time": "2022-05-22T17:15:36.057Z"
   },
   {
    "duration": 24,
    "start_time": "2022-05-22T17:15:36.065Z"
   },
   {
    "duration": 5,
    "start_time": "2022-05-22T17:15:50.037Z"
   },
   {
    "duration": 66,
    "start_time": "2022-05-22T17:15:56.508Z"
   },
   {
    "duration": 6,
    "start_time": "2022-05-22T17:16:15.898Z"
   },
   {
    "duration": 20,
    "start_time": "2022-05-22T17:16:21.839Z"
   },
   {
    "duration": 23,
    "start_time": "2022-05-22T17:16:28.205Z"
   },
   {
    "duration": 186,
    "start_time": "2022-05-22T17:16:34.764Z"
   },
   {
    "duration": 138,
    "start_time": "2022-05-22T17:16:55.252Z"
   },
   {
    "duration": 18,
    "start_time": "2022-05-22T17:17:02.670Z"
   },
   {
    "duration": 235,
    "start_time": "2022-05-22T17:17:09.884Z"
   },
   {
    "duration": 152,
    "start_time": "2022-05-22T17:17:32.477Z"
   },
   {
    "duration": 16,
    "start_time": "2022-05-22T17:17:40.327Z"
   },
   {
    "duration": 210,
    "start_time": "2022-05-22T17:17:47.272Z"
   },
   {
    "duration": 143,
    "start_time": "2022-05-22T17:18:08.156Z"
   },
   {
    "duration": 20,
    "start_time": "2022-05-22T17:18:48.717Z"
   },
   {
    "duration": 21,
    "start_time": "2022-05-22T17:18:57.236Z"
   },
   {
    "duration": 158,
    "start_time": "2022-05-22T17:19:04.359Z"
   },
   {
    "duration": 155,
    "start_time": "2022-05-22T17:19:24.265Z"
   },
   {
    "duration": 18,
    "start_time": "2022-05-22T17:19:42.152Z"
   },
   {
    "duration": 145,
    "start_time": "2022-05-22T17:19:48.638Z"
   },
   {
    "duration": 152,
    "start_time": "2022-05-22T17:20:06.116Z"
   },
   {
    "duration": 17,
    "start_time": "2022-05-22T17:20:13.234Z"
   },
   {
    "duration": 154,
    "start_time": "2022-05-22T17:20:19.330Z"
   },
   {
    "duration": 167,
    "start_time": "2022-05-22T17:20:34.384Z"
   },
   {
    "duration": 5,
    "start_time": "2022-05-22T17:21:38.884Z"
   },
   {
    "duration": 5,
    "start_time": "2022-05-22T17:21:47.670Z"
   },
   {
    "duration": 10,
    "start_time": "2022-05-22T17:22:12.267Z"
   },
   {
    "duration": 6,
    "start_time": "2022-05-22T17:22:18.975Z"
   },
   {
    "duration": 6,
    "start_time": "2022-05-22T17:22:27.145Z"
   },
   {
    "duration": 1092,
    "start_time": "2022-05-22T22:01:42.929Z"
   },
   {
    "duration": 189,
    "start_time": "2022-05-22T22:01:44.023Z"
   },
   {
    "duration": 28,
    "start_time": "2022-05-22T22:01:44.214Z"
   },
   {
    "duration": 133,
    "start_time": "2022-05-22T22:01:44.245Z"
   },
   {
    "duration": 152,
    "start_time": "2022-05-22T22:01:44.380Z"
   },
   {
    "duration": 23,
    "start_time": "2022-05-22T22:01:44.534Z"
   },
   {
    "duration": 89,
    "start_time": "2022-05-22T22:01:44.559Z"
   },
   {
    "duration": 100,
    "start_time": "2022-05-22T22:01:44.650Z"
   },
   {
    "duration": 21,
    "start_time": "2022-05-22T22:01:44.751Z"
   },
   {
    "duration": 66,
    "start_time": "2022-05-22T22:01:44.775Z"
   },
   {
    "duration": 21,
    "start_time": "2022-05-22T22:01:44.843Z"
   },
   {
    "duration": 35,
    "start_time": "2022-05-22T22:01:44.866Z"
   },
   {
    "duration": 12,
    "start_time": "2022-05-22T22:01:44.903Z"
   },
   {
    "duration": 10,
    "start_time": "2022-05-22T22:01:44.917Z"
   },
   {
    "duration": 11,
    "start_time": "2022-05-22T22:01:44.928Z"
   },
   {
    "duration": 12,
    "start_time": "2022-05-22T22:01:44.941Z"
   },
   {
    "duration": 10,
    "start_time": "2022-05-22T22:01:44.954Z"
   },
   {
    "duration": 157,
    "start_time": "2022-05-22T22:01:44.966Z"
   },
   {
    "duration": 20,
    "start_time": "2022-05-22T22:01:45.125Z"
   },
   {
    "duration": 21,
    "start_time": "2022-05-22T22:01:45.147Z"
   },
   {
    "duration": 5,
    "start_time": "2022-05-22T22:01:45.170Z"
   },
   {
    "duration": 19,
    "start_time": "2022-05-22T22:01:45.202Z"
   },
   {
    "duration": 5,
    "start_time": "2022-05-22T22:01:45.223Z"
   },
   {
    "duration": 21,
    "start_time": "2022-05-22T22:01:45.229Z"
   },
   {
    "duration": 52,
    "start_time": "2022-05-22T22:01:45.252Z"
   },
   {
    "duration": 8,
    "start_time": "2022-05-22T22:01:45.306Z"
   },
   {
    "duration": 7,
    "start_time": "2022-05-22T22:01:45.315Z"
   },
   {
    "duration": 5,
    "start_time": "2022-05-22T22:01:45.326Z"
   },
   {
    "duration": 5,
    "start_time": "2022-05-22T22:01:45.333Z"
   },
   {
    "duration": 32,
    "start_time": "2022-05-22T22:01:45.339Z"
   },
   {
    "duration": 36,
    "start_time": "2022-05-22T22:01:45.373Z"
   },
   {
    "duration": 11,
    "start_time": "2022-05-22T22:01:45.411Z"
   },
   {
    "duration": 23,
    "start_time": "2022-05-22T22:01:45.424Z"
   },
   {
    "duration": 32,
    "start_time": "2022-05-22T22:01:45.449Z"
   },
   {
    "duration": 4,
    "start_time": "2022-05-22T22:01:45.482Z"
   },
   {
    "duration": 16,
    "start_time": "2022-05-22T22:01:45.487Z"
   },
   {
    "duration": 5,
    "start_time": "2022-05-22T22:01:45.504Z"
   },
   {
    "duration": 77,
    "start_time": "2022-05-22T22:01:45.511Z"
   },
   {
    "duration": 16,
    "start_time": "2022-05-22T22:01:45.590Z"
   },
   {
    "duration": 23,
    "start_time": "2022-05-22T22:01:45.607Z"
   },
   {
    "duration": 19,
    "start_time": "2022-05-22T22:01:45.632Z"
   },
   {
    "duration": 214,
    "start_time": "2022-05-22T22:01:45.652Z"
   },
   {
    "duration": 160,
    "start_time": "2022-05-22T22:01:45.868Z"
   },
   {
    "duration": 17,
    "start_time": "2022-05-22T22:01:46.029Z"
   },
   {
    "duration": 245,
    "start_time": "2022-05-22T22:01:46.048Z"
   },
   {
    "duration": 172,
    "start_time": "2022-05-22T22:01:46.301Z"
   },
   {
    "duration": 28,
    "start_time": "2022-05-22T22:01:46.474Z"
   },
   {
    "duration": 166,
    "start_time": "2022-05-22T22:01:46.504Z"
   },
   {
    "duration": 165,
    "start_time": "2022-05-22T22:01:46.672Z"
   },
   {
    "duration": 22,
    "start_time": "2022-05-22T22:01:46.839Z"
   },
   {
    "duration": 17,
    "start_time": "2022-05-22T22:01:46.863Z"
   },
   {
    "duration": 195,
    "start_time": "2022-05-22T22:01:46.881Z"
   },
   {
    "duration": 177,
    "start_time": "2022-05-22T22:01:47.077Z"
   },
   {
    "duration": 19,
    "start_time": "2022-05-22T22:01:47.255Z"
   },
   {
    "duration": 172,
    "start_time": "2022-05-22T22:01:47.276Z"
   },
   {
    "duration": 184,
    "start_time": "2022-05-22T22:01:47.450Z"
   },
   {
    "duration": 20,
    "start_time": "2022-05-22T22:01:47.635Z"
   },
   {
    "duration": 196,
    "start_time": "2022-05-22T22:01:47.656Z"
   },
   {
    "duration": 153,
    "start_time": "2022-05-22T22:01:47.854Z"
   },
   {
    "duration": 5,
    "start_time": "2022-05-22T22:01:48.009Z"
   },
   {
    "duration": 26,
    "start_time": "2022-05-22T22:01:48.016Z"
   },
   {
    "duration": 15,
    "start_time": "2022-05-22T22:01:48.044Z"
   },
   {
    "duration": 15,
    "start_time": "2022-05-22T22:01:48.061Z"
   },
   {
    "duration": 6,
    "start_time": "2022-05-22T22:01:48.078Z"
   },
   {
    "duration": 98,
    "start_time": "2022-05-22T22:05:46.989Z"
   },
   {
    "duration": 6,
    "start_time": "2022-05-22T22:07:08.571Z"
   },
   {
    "duration": 10,
    "start_time": "2022-05-22T22:08:03.442Z"
   },
   {
    "duration": 1204,
    "start_time": "2022-05-22T22:08:47.815Z"
   },
   {
    "duration": 187,
    "start_time": "2022-05-22T22:08:49.021Z"
   },
   {
    "duration": 27,
    "start_time": "2022-05-22T22:08:49.209Z"
   },
   {
    "duration": 128,
    "start_time": "2022-05-22T22:08:49.238Z"
   },
   {
    "duration": 148,
    "start_time": "2022-05-22T22:08:49.367Z"
   },
   {
    "duration": 23,
    "start_time": "2022-05-22T22:08:49.516Z"
   },
   {
    "duration": 81,
    "start_time": "2022-05-22T22:08:49.541Z"
   },
   {
    "duration": 98,
    "start_time": "2022-05-22T22:08:49.623Z"
   },
   {
    "duration": 19,
    "start_time": "2022-05-22T22:08:49.723Z"
   },
   {
    "duration": 68,
    "start_time": "2022-05-22T22:08:49.745Z"
   },
   {
    "duration": 23,
    "start_time": "2022-05-22T22:08:49.814Z"
   },
   {
    "duration": 36,
    "start_time": "2022-05-22T22:08:49.838Z"
   },
   {
    "duration": 11,
    "start_time": "2022-05-22T22:08:49.876Z"
   },
   {
    "duration": 37,
    "start_time": "2022-05-22T22:08:49.889Z"
   },
   {
    "duration": 8,
    "start_time": "2022-05-22T22:08:49.927Z"
   },
   {
    "duration": 15,
    "start_time": "2022-05-22T22:08:49.936Z"
   },
   {
    "duration": 10,
    "start_time": "2022-05-22T22:08:49.952Z"
   },
   {
    "duration": 124,
    "start_time": "2022-05-22T22:08:49.964Z"
   },
   {
    "duration": 20,
    "start_time": "2022-05-22T22:08:50.090Z"
   },
   {
    "duration": 37,
    "start_time": "2022-05-22T22:08:50.112Z"
   },
   {
    "duration": 8,
    "start_time": "2022-05-22T22:08:50.151Z"
   },
   {
    "duration": 33,
    "start_time": "2022-05-22T22:08:50.161Z"
   },
   {
    "duration": 8,
    "start_time": "2022-05-22T22:08:50.196Z"
   },
   {
    "duration": 62,
    "start_time": "2022-05-22T22:08:50.205Z"
   },
   {
    "duration": 57,
    "start_time": "2022-05-22T22:08:50.268Z"
   },
   {
    "duration": 23,
    "start_time": "2022-05-22T22:08:50.327Z"
   },
   {
    "duration": 34,
    "start_time": "2022-05-22T22:08:50.352Z"
   },
   {
    "duration": 28,
    "start_time": "2022-05-22T22:08:50.392Z"
   },
   {
    "duration": 73,
    "start_time": "2022-05-22T22:08:50.422Z"
   },
   {
    "duration": 26,
    "start_time": "2022-05-22T22:08:50.497Z"
   },
   {
    "duration": 39,
    "start_time": "2022-05-22T22:08:50.525Z"
   },
   {
    "duration": 9,
    "start_time": "2022-05-22T22:08:50.565Z"
   },
   {
    "duration": 25,
    "start_time": "2022-05-22T22:08:50.575Z"
   },
   {
    "duration": 12,
    "start_time": "2022-05-22T22:08:50.602Z"
   },
   {
    "duration": 39,
    "start_time": "2022-05-22T22:08:50.616Z"
   },
   {
    "duration": 4,
    "start_time": "2022-05-22T22:08:50.657Z"
   },
   {
    "duration": 18,
    "start_time": "2022-05-22T22:08:50.662Z"
   },
   {
    "duration": 12,
    "start_time": "2022-05-22T22:08:50.682Z"
   },
   {
    "duration": 90,
    "start_time": "2022-05-22T22:08:50.695Z"
   },
   {
    "duration": 7,
    "start_time": "2022-05-22T22:08:50.786Z"
   },
   {
    "duration": 24,
    "start_time": "2022-05-22T22:08:50.794Z"
   },
   {
    "duration": 18,
    "start_time": "2022-05-22T22:08:50.819Z"
   },
   {
    "duration": 196,
    "start_time": "2022-05-22T22:08:50.838Z"
   },
   {
    "duration": 195,
    "start_time": "2022-05-22T22:08:51.036Z"
   },
   {
    "duration": 23,
    "start_time": "2022-05-22T22:08:51.232Z"
   },
   {
    "duration": 257,
    "start_time": "2022-05-22T22:08:51.257Z"
   },
   {
    "duration": 172,
    "start_time": "2022-05-22T22:08:51.516Z"
   },
   {
    "duration": 19,
    "start_time": "2022-05-22T22:08:51.690Z"
   },
   {
    "duration": 176,
    "start_time": "2022-05-22T22:08:51.710Z"
   },
   {
    "duration": 168,
    "start_time": "2022-05-22T22:08:51.888Z"
   },
   {
    "duration": 21,
    "start_time": "2022-05-22T22:08:52.058Z"
   },
   {
    "duration": 31,
    "start_time": "2022-05-22T22:08:52.081Z"
   },
   {
    "duration": 177,
    "start_time": "2022-05-22T22:08:52.114Z"
   },
   {
    "duration": 175,
    "start_time": "2022-05-22T22:08:52.293Z"
   },
   {
    "duration": 18,
    "start_time": "2022-05-22T22:08:52.469Z"
   },
   {
    "duration": 165,
    "start_time": "2022-05-22T22:08:52.502Z"
   },
   {
    "duration": 181,
    "start_time": "2022-05-22T22:08:52.669Z"
   },
   {
    "duration": 19,
    "start_time": "2022-05-22T22:08:52.852Z"
   },
   {
    "duration": 185,
    "start_time": "2022-05-22T22:08:52.873Z"
   },
   {
    "duration": 158,
    "start_time": "2022-05-22T22:08:53.060Z"
   },
   {
    "duration": 5,
    "start_time": "2022-05-22T22:08:53.220Z"
   },
   {
    "duration": 8,
    "start_time": "2022-05-22T22:08:53.226Z"
   },
   {
    "duration": 17,
    "start_time": "2022-05-22T22:08:53.236Z"
   },
   {
    "duration": 4,
    "start_time": "2022-05-22T22:08:53.255Z"
   },
   {
    "duration": 10,
    "start_time": "2022-05-22T22:08:53.260Z"
   },
   {
    "duration": 26,
    "start_time": "2022-05-22T22:16:27.388Z"
   },
   {
    "duration": 9,
    "start_time": "2022-05-22T22:17:09.772Z"
   },
   {
    "duration": 9,
    "start_time": "2022-06-01T09:43:31.917Z"
   },
   {
    "duration": 1268,
    "start_time": "2022-06-01T09:43:38.638Z"
   },
   {
    "duration": 246,
    "start_time": "2022-06-01T09:43:39.908Z"
   },
   {
    "duration": 25,
    "start_time": "2022-06-01T09:43:40.156Z"
   },
   {
    "duration": 106,
    "start_time": "2022-06-01T09:43:40.183Z"
   },
   {
    "duration": 320,
    "start_time": "2022-06-01T09:43:40.290Z"
   },
   {
    "duration": 20,
    "start_time": "2022-06-01T09:43:40.612Z"
   },
   {
    "duration": 76,
    "start_time": "2022-06-01T09:43:40.633Z"
   },
   {
    "duration": 298,
    "start_time": "2022-06-01T09:43:40.711Z"
   },
   {
    "duration": 19,
    "start_time": "2022-06-01T09:43:41.011Z"
   },
   {
    "duration": 46,
    "start_time": "2022-06-01T09:43:41.033Z"
   },
   {
    "duration": 67,
    "start_time": "2022-06-01T09:43:41.081Z"
   },
   {
    "duration": 59,
    "start_time": "2022-06-01T09:43:41.150Z"
   },
   {
    "duration": 10,
    "start_time": "2022-06-01T09:43:41.211Z"
   },
   {
    "duration": 16,
    "start_time": "2022-06-01T09:43:41.222Z"
   },
   {
    "duration": 7,
    "start_time": "2022-06-01T09:43:41.239Z"
   },
   {
    "duration": 11,
    "start_time": "2022-06-01T09:43:41.248Z"
   },
   {
    "duration": 9,
    "start_time": "2022-06-01T09:43:41.261Z"
   },
   {
    "duration": 139,
    "start_time": "2022-06-01T09:43:41.271Z"
   },
   {
    "duration": 21,
    "start_time": "2022-06-01T09:43:41.412Z"
   },
   {
    "duration": 20,
    "start_time": "2022-06-01T09:43:41.435Z"
   },
   {
    "duration": 5,
    "start_time": "2022-06-01T09:43:41.457Z"
   },
   {
    "duration": 47,
    "start_time": "2022-06-01T09:43:41.463Z"
   },
   {
    "duration": 6,
    "start_time": "2022-06-01T09:43:41.511Z"
   },
   {
    "duration": 19,
    "start_time": "2022-06-01T09:43:41.518Z"
   },
   {
    "duration": 25,
    "start_time": "2022-06-01T09:43:41.538Z"
   },
   {
    "duration": 36,
    "start_time": "2022-06-01T09:43:41.565Z"
   },
   {
    "duration": 6,
    "start_time": "2022-06-01T09:43:41.603Z"
   },
   {
    "duration": 9,
    "start_time": "2022-06-01T09:43:41.612Z"
   },
   {
    "duration": 9,
    "start_time": "2022-06-01T09:43:41.623Z"
   },
   {
    "duration": 6,
    "start_time": "2022-06-01T09:43:41.634Z"
   },
   {
    "duration": 38,
    "start_time": "2022-06-01T09:43:41.642Z"
   },
   {
    "duration": 23,
    "start_time": "2022-06-01T09:43:41.682Z"
   },
   {
    "duration": 11,
    "start_time": "2022-06-01T09:43:41.707Z"
   },
   {
    "duration": 5,
    "start_time": "2022-06-01T09:43:41.720Z"
   },
   {
    "duration": 27,
    "start_time": "2022-06-01T09:43:41.726Z"
   },
   {
    "duration": 4,
    "start_time": "2022-06-01T09:43:41.754Z"
   },
   {
    "duration": 19,
    "start_time": "2022-06-01T09:43:41.760Z"
   },
   {
    "duration": 22,
    "start_time": "2022-06-01T09:43:41.781Z"
   },
   {
    "duration": 95,
    "start_time": "2022-06-01T09:43:41.805Z"
   },
   {
    "duration": 9,
    "start_time": "2022-06-01T09:43:41.902Z"
   },
   {
    "duration": 11,
    "start_time": "2022-06-01T09:43:41.913Z"
   },
   {
    "duration": 34,
    "start_time": "2022-06-01T09:43:41.926Z"
   },
   {
    "duration": 42,
    "start_time": "2022-06-01T09:43:41.962Z"
   },
   {
    "duration": 196,
    "start_time": "2022-06-01T09:43:42.006Z"
   },
   {
    "duration": 215,
    "start_time": "2022-06-01T09:43:42.204Z"
   },
   {
    "duration": 17,
    "start_time": "2022-06-01T09:43:42.421Z"
   },
   {
    "duration": 172,
    "start_time": "2022-06-01T09:43:42.439Z"
   },
   {
    "duration": 178,
    "start_time": "2022-06-01T09:43:42.613Z"
   },
   {
    "duration": 21,
    "start_time": "2022-06-01T09:43:42.793Z"
   },
   {
    "duration": 167,
    "start_time": "2022-06-01T09:43:42.816Z"
   },
   {
    "duration": 160,
    "start_time": "2022-06-01T09:43:42.985Z"
   },
   {
    "duration": 22,
    "start_time": "2022-06-01T09:43:43.147Z"
   },
   {
    "duration": 36,
    "start_time": "2022-06-01T09:43:43.171Z"
   },
   {
    "duration": 181,
    "start_time": "2022-06-01T09:43:43.208Z"
   },
   {
    "duration": 181,
    "start_time": "2022-06-01T09:43:43.391Z"
   },
   {
    "duration": 27,
    "start_time": "2022-06-01T09:43:43.573Z"
   },
   {
    "duration": 159,
    "start_time": "2022-06-01T09:43:43.602Z"
   },
   {
    "duration": 170,
    "start_time": "2022-06-01T09:43:43.763Z"
   },
   {
    "duration": 17,
    "start_time": "2022-06-01T09:43:43.934Z"
   },
   {
    "duration": 180,
    "start_time": "2022-06-01T09:43:43.952Z"
   },
   {
    "duration": 159,
    "start_time": "2022-06-01T09:43:44.133Z"
   },
   {
    "duration": 7,
    "start_time": "2022-06-01T09:43:44.294Z"
   },
   {
    "duration": 26,
    "start_time": "2022-06-01T09:43:44.303Z"
   },
   {
    "duration": 18,
    "start_time": "2022-06-01T09:43:44.330Z"
   },
   {
    "duration": 8,
    "start_time": "2022-06-01T09:43:44.350Z"
   },
   {
    "duration": 10,
    "start_time": "2022-06-01T09:43:44.360Z"
   },
   {
    "duration": 1077,
    "start_time": "2022-06-01T22:32:46.940Z"
   },
   {
    "duration": 181,
    "start_time": "2022-06-01T22:32:48.019Z"
   },
   {
    "duration": 23,
    "start_time": "2022-06-01T22:32:48.201Z"
   },
   {
    "duration": 126,
    "start_time": "2022-06-01T22:32:48.227Z"
   },
   {
    "duration": 137,
    "start_time": "2022-06-01T22:32:48.355Z"
   },
   {
    "duration": 18,
    "start_time": "2022-06-01T22:32:48.493Z"
   },
   {
    "duration": 69,
    "start_time": "2022-06-01T22:32:48.513Z"
   },
   {
    "duration": 86,
    "start_time": "2022-06-01T22:32:48.583Z"
   },
   {
    "duration": 15,
    "start_time": "2022-06-01T22:32:48.671Z"
   },
   {
    "duration": 48,
    "start_time": "2022-06-01T22:32:48.688Z"
   },
   {
    "duration": 23,
    "start_time": "2022-06-01T22:32:48.738Z"
   },
   {
    "duration": 34,
    "start_time": "2022-06-01T22:32:48.763Z"
   },
   {
    "duration": 9,
    "start_time": "2022-06-01T22:32:48.799Z"
   },
   {
    "duration": 8,
    "start_time": "2022-06-01T22:32:48.810Z"
   },
   {
    "duration": 7,
    "start_time": "2022-06-01T22:32:48.819Z"
   },
   {
    "duration": 8,
    "start_time": "2022-06-01T22:32:48.828Z"
   },
   {
    "duration": 15,
    "start_time": "2022-06-01T22:32:48.837Z"
   },
   {
    "duration": 113,
    "start_time": "2022-06-01T22:32:48.853Z"
   },
   {
    "duration": 16,
    "start_time": "2022-06-01T22:32:48.967Z"
   },
   {
    "duration": 17,
    "start_time": "2022-06-01T22:32:48.984Z"
   },
   {
    "duration": 4,
    "start_time": "2022-06-01T22:32:49.003Z"
   },
   {
    "duration": 44,
    "start_time": "2022-06-01T22:32:49.009Z"
   },
   {
    "duration": 5,
    "start_time": "2022-06-01T22:32:49.054Z"
   },
   {
    "duration": 30,
    "start_time": "2022-06-01T22:32:49.061Z"
   },
   {
    "duration": 21,
    "start_time": "2022-06-01T22:32:49.093Z"
   },
   {
    "duration": 8,
    "start_time": "2022-06-01T22:32:49.116Z"
   },
   {
    "duration": 5,
    "start_time": "2022-06-01T22:32:49.125Z"
   },
   {
    "duration": 5,
    "start_time": "2022-06-01T22:32:49.154Z"
   },
   {
    "duration": 14,
    "start_time": "2022-06-01T22:32:49.160Z"
   },
   {
    "duration": 7,
    "start_time": "2022-06-01T22:32:49.175Z"
   },
   {
    "duration": 32,
    "start_time": "2022-06-01T22:32:49.183Z"
   },
   {
    "duration": 7,
    "start_time": "2022-06-01T22:32:49.217Z"
   },
   {
    "duration": 10,
    "start_time": "2022-06-01T22:32:49.226Z"
   },
   {
    "duration": 14,
    "start_time": "2022-06-01T22:32:49.238Z"
   },
   {
    "duration": 34,
    "start_time": "2022-06-01T22:32:49.254Z"
   },
   {
    "duration": 3,
    "start_time": "2022-06-01T22:32:49.290Z"
   },
   {
    "duration": 6,
    "start_time": "2022-06-01T22:32:49.295Z"
   },
   {
    "duration": 4,
    "start_time": "2022-06-01T22:32:49.302Z"
   },
   {
    "duration": 76,
    "start_time": "2022-06-01T22:32:49.308Z"
   },
   {
    "duration": 6,
    "start_time": "2022-06-01T22:32:49.385Z"
   },
   {
    "duration": 8,
    "start_time": "2022-06-01T22:32:49.392Z"
   },
   {
    "duration": 19,
    "start_time": "2022-06-01T22:32:49.402Z"
   },
   {
    "duration": 33,
    "start_time": "2022-06-01T22:32:49.422Z"
   },
   {
    "duration": 164,
    "start_time": "2022-06-01T22:32:49.457Z"
   },
   {
    "duration": 150,
    "start_time": "2022-06-01T22:32:49.622Z"
   },
   {
    "duration": 17,
    "start_time": "2022-06-01T22:32:49.774Z"
   },
   {
    "duration": 233,
    "start_time": "2022-06-01T22:32:49.793Z"
   },
   {
    "duration": 170,
    "start_time": "2022-06-01T22:32:50.028Z"
   },
   {
    "duration": 17,
    "start_time": "2022-06-01T22:32:50.200Z"
   },
   {
    "duration": 164,
    "start_time": "2022-06-01T22:32:50.219Z"
   },
   {
    "duration": 153,
    "start_time": "2022-06-01T22:32:50.384Z"
   },
   {
    "duration": 33,
    "start_time": "2022-06-01T22:32:50.539Z"
   },
   {
    "duration": 17,
    "start_time": "2022-06-01T22:32:50.574Z"
   },
   {
    "duration": 184,
    "start_time": "2022-06-01T22:32:50.592Z"
   },
   {
    "duration": 169,
    "start_time": "2022-06-01T22:32:50.777Z"
   },
   {
    "duration": 20,
    "start_time": "2022-06-01T22:32:50.947Z"
   },
   {
    "duration": 159,
    "start_time": "2022-06-01T22:32:50.969Z"
   },
   {
    "duration": 161,
    "start_time": "2022-06-01T22:32:51.130Z"
   },
   {
    "duration": 15,
    "start_time": "2022-06-01T22:32:51.292Z"
   },
   {
    "duration": 164,
    "start_time": "2022-06-01T22:32:51.309Z"
   },
   {
    "duration": 153,
    "start_time": "2022-06-01T22:32:51.475Z"
   },
   {
    "duration": 4,
    "start_time": "2022-06-01T22:32:51.630Z"
   },
   {
    "duration": 20,
    "start_time": "2022-06-01T22:32:51.636Z"
   },
   {
    "duration": 15,
    "start_time": "2022-06-01T22:32:51.657Z"
   },
   {
    "duration": 6,
    "start_time": "2022-06-01T22:32:51.673Z"
   },
   {
    "duration": 8,
    "start_time": "2022-06-01T22:32:51.680Z"
   },
   {
    "duration": 160,
    "start_time": "2022-06-01T22:37:29.208Z"
   },
   {
    "duration": 24,
    "start_time": "2022-06-02T14:05:49.494Z"
   },
   {
    "duration": 9,
    "start_time": "2022-06-02T14:05:52.959Z"
   },
   {
    "duration": 114,
    "start_time": "2022-06-02T14:06:18.424Z"
   },
   {
    "duration": 24,
    "start_time": "2022-06-02T14:06:27.897Z"
   },
   {
    "duration": 9,
    "start_time": "2022-06-02T14:06:31.232Z"
   },
   {
    "duration": 9,
    "start_time": "2022-06-02T14:07:53.720Z"
   },
   {
    "duration": 164,
    "start_time": "2022-06-02T14:11:55.671Z"
   },
   {
    "duration": 22,
    "start_time": "2022-06-02T14:18:36.384Z"
   },
   {
    "duration": 8,
    "start_time": "2022-06-02T14:18:40.112Z"
   },
   {
    "duration": 23,
    "start_time": "2022-06-02T14:18:51.870Z"
   },
   {
    "duration": 8,
    "start_time": "2022-06-02T14:18:55.286Z"
   },
   {
    "duration": 24,
    "start_time": "2022-06-02T14:19:02.176Z"
   },
   {
    "duration": 9,
    "start_time": "2022-06-02T14:19:06.766Z"
   },
   {
    "duration": 68,
    "start_time": "2022-06-02T14:25:18.508Z"
   },
   {
    "duration": 51,
    "start_time": "2022-06-02T14:29:04.832Z"
   },
   {
    "duration": 11,
    "start_time": "2022-06-02T16:07:16.318Z"
   },
   {
    "duration": 528,
    "start_time": "2022-06-02T16:08:29.537Z"
   },
   {
    "duration": 9,
    "start_time": "2022-06-02T16:11:06.631Z"
   },
   {
    "duration": 12,
    "start_time": "2022-06-02T16:11:56.196Z"
   },
   {
    "duration": 9,
    "start_time": "2022-06-02T16:12:08.845Z"
   },
   {
    "duration": 9,
    "start_time": "2022-06-02T16:12:15.726Z"
   },
   {
    "duration": 13,
    "start_time": "2022-06-02T16:12:58.314Z"
   },
   {
    "duration": 12,
    "start_time": "2022-06-02T16:13:30.613Z"
   },
   {
    "duration": 13,
    "start_time": "2022-06-02T16:14:03.305Z"
   },
   {
    "duration": 350,
    "start_time": "2022-06-02T16:16:54.606Z"
   },
   {
    "duration": 10,
    "start_time": "2022-06-02T16:17:30.834Z"
   },
   {
    "duration": 11,
    "start_time": "2022-06-02T16:18:07.396Z"
   },
   {
    "duration": 613,
    "start_time": "2022-06-02T16:19:20.137Z"
   },
   {
    "duration": 128,
    "start_time": "2022-06-02T16:19:34.698Z"
   },
   {
    "duration": 128,
    "start_time": "2022-06-02T16:20:53.346Z"
   },
   {
    "duration": 129,
    "start_time": "2022-06-02T16:21:32.201Z"
   },
   {
    "duration": 11,
    "start_time": "2022-06-02T16:22:25.431Z"
   },
   {
    "duration": 12,
    "start_time": "2022-06-02T16:23:02.836Z"
   },
   {
    "duration": 11,
    "start_time": "2022-06-02T16:23:23.393Z"
   },
   {
    "duration": 129,
    "start_time": "2022-06-02T16:24:12.596Z"
   },
   {
    "duration": 122,
    "start_time": "2022-06-02T16:24:41.124Z"
   },
   {
    "duration": 11,
    "start_time": "2022-06-02T16:26:09.962Z"
   },
   {
    "duration": 124,
    "start_time": "2022-06-02T16:26:45.775Z"
   },
   {
    "duration": 135,
    "start_time": "2022-06-02T16:27:21.388Z"
   },
   {
    "duration": 144,
    "start_time": "2022-06-02T16:29:25.217Z"
   },
   {
    "duration": 111,
    "start_time": "2022-06-02T16:30:16.266Z"
   },
   {
    "duration": 205,
    "start_time": "2022-06-02T16:30:42.826Z"
   },
   {
    "duration": 1048,
    "start_time": "2022-06-03T01:30:22.203Z"
   },
   {
    "duration": 161,
    "start_time": "2022-06-03T01:30:23.252Z"
   },
   {
    "duration": 21,
    "start_time": "2022-06-03T01:30:23.415Z"
   },
   {
    "duration": 104,
    "start_time": "2022-06-03T01:30:23.438Z"
   },
   {
    "duration": 125,
    "start_time": "2022-06-03T01:30:23.544Z"
   },
   {
    "duration": 20,
    "start_time": "2022-06-03T01:30:23.671Z"
   },
   {
    "duration": 67,
    "start_time": "2022-06-03T01:30:23.693Z"
   },
   {
    "duration": 184,
    "start_time": "2022-06-03T01:30:23.761Z"
   },
   {
    "duration": 92,
    "start_time": "2022-06-03T01:30:23.958Z"
   },
   {
    "duration": 17,
    "start_time": "2022-06-03T01:30:24.051Z"
   },
   {
    "duration": 41,
    "start_time": "2022-06-03T01:30:24.070Z"
   },
   {
    "duration": 20,
    "start_time": "2022-06-03T01:30:24.113Z"
   },
   {
    "duration": 33,
    "start_time": "2022-06-03T01:30:24.135Z"
   },
   {
    "duration": 9,
    "start_time": "2022-06-03T01:30:24.171Z"
   },
   {
    "duration": 7,
    "start_time": "2022-06-03T01:30:24.182Z"
   },
   {
    "duration": 7,
    "start_time": "2022-06-03T01:30:24.190Z"
   },
   {
    "duration": 10,
    "start_time": "2022-06-03T01:30:24.198Z"
   },
   {
    "duration": 10,
    "start_time": "2022-06-03T01:30:24.210Z"
   },
   {
    "duration": 127,
    "start_time": "2022-06-03T01:30:24.221Z"
   },
   {
    "duration": 23,
    "start_time": "2022-06-03T01:30:24.350Z"
   },
   {
    "duration": 18,
    "start_time": "2022-06-03T01:30:24.375Z"
   },
   {
    "duration": 5,
    "start_time": "2022-06-03T01:30:24.394Z"
   },
   {
    "duration": 25,
    "start_time": "2022-06-03T01:30:24.401Z"
   },
   {
    "duration": 33,
    "start_time": "2022-06-03T01:30:24.427Z"
   },
   {
    "duration": 19,
    "start_time": "2022-06-03T01:30:24.461Z"
   },
   {
    "duration": 24,
    "start_time": "2022-06-03T01:30:24.482Z"
   },
   {
    "duration": 8,
    "start_time": "2022-06-03T01:30:24.508Z"
   },
   {
    "duration": 6,
    "start_time": "2022-06-03T01:30:24.517Z"
   },
   {
    "duration": 35,
    "start_time": "2022-06-03T01:30:24.524Z"
   },
   {
    "duration": 7,
    "start_time": "2022-06-03T01:30:24.560Z"
   },
   {
    "duration": 5,
    "start_time": "2022-06-03T01:30:24.568Z"
   },
   {
    "duration": 31,
    "start_time": "2022-06-03T01:30:24.575Z"
   },
   {
    "duration": 9,
    "start_time": "2022-06-03T01:30:24.608Z"
   },
   {
    "duration": 12,
    "start_time": "2022-06-03T01:30:24.618Z"
   },
   {
    "duration": 26,
    "start_time": "2022-06-03T01:30:24.632Z"
   },
   {
    "duration": 24,
    "start_time": "2022-06-03T01:30:24.660Z"
   },
   {
    "duration": 3,
    "start_time": "2022-06-03T01:30:24.686Z"
   },
   {
    "duration": 7,
    "start_time": "2022-06-03T01:30:24.691Z"
   },
   {
    "duration": 6,
    "start_time": "2022-06-03T01:30:24.699Z"
   },
   {
    "duration": 90,
    "start_time": "2022-06-03T01:30:24.707Z"
   },
   {
    "duration": 7,
    "start_time": "2022-06-03T01:30:24.802Z"
   },
   {
    "duration": 7,
    "start_time": "2022-06-03T01:30:24.811Z"
   },
   {
    "duration": 21,
    "start_time": "2022-06-03T01:30:24.819Z"
   },
   {
    "duration": 41,
    "start_time": "2022-06-03T01:30:24.841Z"
   },
   {
    "duration": 221,
    "start_time": "2022-06-03T01:30:24.883Z"
   },
   {
    "duration": 147,
    "start_time": "2022-06-03T01:30:25.106Z"
   },
   {
    "duration": 16,
    "start_time": "2022-06-03T01:30:25.255Z"
   },
   {
    "duration": 169,
    "start_time": "2022-06-03T01:30:25.272Z"
   },
   {
    "duration": 166,
    "start_time": "2022-06-03T01:30:25.442Z"
   },
   {
    "duration": 16,
    "start_time": "2022-06-03T01:30:25.610Z"
   },
   {
    "duration": 154,
    "start_time": "2022-06-03T01:30:25.628Z"
   },
   {
    "duration": 140,
    "start_time": "2022-06-03T01:30:25.784Z"
   },
   {
    "duration": 18,
    "start_time": "2022-06-03T01:30:25.926Z"
   },
   {
    "duration": 16,
    "start_time": "2022-06-03T01:30:25.959Z"
   },
   {
    "duration": 173,
    "start_time": "2022-06-03T01:30:25.977Z"
   },
   {
    "duration": 158,
    "start_time": "2022-06-03T01:30:26.152Z"
   },
   {
    "duration": 16,
    "start_time": "2022-06-03T01:30:26.312Z"
   },
   {
    "duration": 149,
    "start_time": "2022-06-03T01:30:26.329Z"
   },
   {
    "duration": 158,
    "start_time": "2022-06-03T01:30:26.480Z"
   },
   {
    "duration": 22,
    "start_time": "2022-06-03T01:30:26.640Z"
   },
   {
    "duration": 156,
    "start_time": "2022-06-03T01:30:26.664Z"
   },
   {
    "duration": 146,
    "start_time": "2022-06-03T01:30:26.821Z"
   },
   {
    "duration": 14,
    "start_time": "2022-06-03T01:30:26.969Z"
   },
   {
    "duration": 288,
    "start_time": "2022-06-03T01:30:26.985Z"
   },
   {
    "duration": 140,
    "start_time": "2022-06-03T01:30:27.275Z"
   },
   {
    "duration": 132,
    "start_time": "2022-06-03T01:30:27.417Z"
   },
   {
    "duration": 42,
    "start_time": "2022-06-03T01:30:27.559Z"
   },
   {
    "duration": 10,
    "start_time": "2022-06-03T01:30:27.603Z"
   },
   {
    "duration": 156,
    "start_time": "2022-06-03T01:30:27.614Z"
   },
   {
    "duration": 147,
    "start_time": "2022-06-03T01:30:27.771Z"
   },
   {
    "duration": 13,
    "start_time": "2022-06-03T01:30:27.920Z"
   },
   {
    "duration": 165,
    "start_time": "2022-06-03T01:30:27.934Z"
   },
   {
    "duration": 138,
    "start_time": "2022-06-03T01:30:28.100Z"
   },
   {
    "duration": 10,
    "start_time": "2022-06-03T01:30:28.239Z"
   },
   {
    "duration": 135,
    "start_time": "2022-06-03T01:30:28.258Z"
   },
   {
    "duration": 145,
    "start_time": "2022-06-03T01:30:28.394Z"
   },
   {
    "duration": 4,
    "start_time": "2022-06-03T01:30:28.541Z"
   },
   {
    "duration": 12,
    "start_time": "2022-06-03T01:30:28.547Z"
   },
   {
    "duration": 16,
    "start_time": "2022-06-03T01:30:28.560Z"
   },
   {
    "duration": 8,
    "start_time": "2022-06-03T01:30:28.577Z"
   },
   {
    "duration": 10,
    "start_time": "2022-06-03T01:30:28.587Z"
   },
   {
    "duration": 18,
    "start_time": "2022-06-03T01:35:45.156Z"
   },
   {
    "duration": 255,
    "start_time": "2022-06-03T01:44:24.928Z"
   },
   {
    "duration": 213,
    "start_time": "2022-06-03T01:44:40.329Z"
   },
   {
    "duration": 995,
    "start_time": "2022-08-14T13:48:53.075Z"
   },
   {
    "duration": 516,
    "start_time": "2022-08-14T13:48:54.072Z"
   },
   {
    "duration": 21,
    "start_time": "2022-08-14T13:48:54.590Z"
   },
   {
    "duration": 93,
    "start_time": "2022-08-14T13:48:54.612Z"
   },
   {
    "duration": 402,
    "start_time": "2022-08-14T13:48:54.707Z"
   },
   {
    "duration": 16,
    "start_time": "2022-08-14T13:48:55.110Z"
   },
   {
    "duration": 52,
    "start_time": "2022-08-14T13:48:55.128Z"
   },
   {
    "duration": 163,
    "start_time": "2022-08-14T13:48:55.182Z"
   },
   {
    "duration": 150,
    "start_time": "2022-08-14T13:48:55.346Z"
   },
   {
    "duration": 15,
    "start_time": "2022-08-14T13:48:55.498Z"
   },
   {
    "duration": 43,
    "start_time": "2022-08-14T13:48:55.514Z"
   },
   {
    "duration": 55,
    "start_time": "2022-08-14T13:48:55.558Z"
   },
   {
    "duration": 65,
    "start_time": "2022-08-14T13:48:55.614Z"
   },
   {
    "duration": 10,
    "start_time": "2022-08-14T13:48:55.682Z"
   },
   {
    "duration": 9,
    "start_time": "2022-08-14T13:48:55.693Z"
   },
   {
    "duration": 6,
    "start_time": "2022-08-14T13:48:55.704Z"
   },
   {
    "duration": 10,
    "start_time": "2022-08-14T13:48:55.712Z"
   },
   {
    "duration": 10,
    "start_time": "2022-08-14T13:48:55.723Z"
   },
   {
    "duration": 100,
    "start_time": "2022-08-14T13:48:55.734Z"
   },
   {
    "duration": 30,
    "start_time": "2022-08-14T13:48:55.835Z"
   },
   {
    "duration": 16,
    "start_time": "2022-08-14T13:48:55.866Z"
   },
   {
    "duration": 5,
    "start_time": "2022-08-14T13:48:55.884Z"
   },
   {
    "duration": 17,
    "start_time": "2022-08-14T13:48:55.890Z"
   },
   {
    "duration": 5,
    "start_time": "2022-08-14T13:48:55.909Z"
   },
   {
    "duration": 46,
    "start_time": "2022-08-14T13:48:55.916Z"
   },
   {
    "duration": 23,
    "start_time": "2022-08-14T13:48:55.963Z"
   },
   {
    "duration": 8,
    "start_time": "2022-08-14T13:48:55.987Z"
   },
   {
    "duration": 5,
    "start_time": "2022-08-14T13:48:55.996Z"
   },
   {
    "duration": 5,
    "start_time": "2022-08-14T13:48:56.002Z"
   },
   {
    "duration": 9,
    "start_time": "2022-08-14T13:48:56.008Z"
   },
   {
    "duration": 4,
    "start_time": "2022-08-14T13:48:56.018Z"
   },
   {
    "duration": 55,
    "start_time": "2022-08-14T13:48:56.023Z"
   },
   {
    "duration": 8,
    "start_time": "2022-08-14T13:48:56.079Z"
   },
   {
    "duration": 11,
    "start_time": "2022-08-14T13:48:56.089Z"
   },
   {
    "duration": 4,
    "start_time": "2022-08-14T13:48:56.101Z"
   },
   {
    "duration": 24,
    "start_time": "2022-08-14T13:48:56.106Z"
   },
   {
    "duration": 3,
    "start_time": "2022-08-14T13:48:56.132Z"
   },
   {
    "duration": 21,
    "start_time": "2022-08-14T13:48:56.136Z"
   },
   {
    "duration": 4,
    "start_time": "2022-08-14T13:48:56.159Z"
   },
   {
    "duration": 70,
    "start_time": "2022-08-14T13:48:56.164Z"
   },
   {
    "duration": 29,
    "start_time": "2022-08-14T13:48:56.238Z"
   },
   {
    "duration": 8,
    "start_time": "2022-08-14T13:48:56.269Z"
   },
   {
    "duration": 6,
    "start_time": "2022-08-14T13:48:56.279Z"
   },
   {
    "duration": 18,
    "start_time": "2022-08-14T13:48:56.286Z"
   },
   {
    "duration": 14,
    "start_time": "2022-08-14T13:48:56.306Z"
   },
   {
    "duration": 167,
    "start_time": "2022-08-14T13:48:56.322Z"
   },
   {
    "duration": 135,
    "start_time": "2022-08-14T13:48:56.490Z"
   },
   {
    "duration": 15,
    "start_time": "2022-08-14T13:48:56.627Z"
   },
   {
    "duration": 170,
    "start_time": "2022-08-14T13:48:56.643Z"
   },
   {
    "duration": 151,
    "start_time": "2022-08-14T13:48:56.814Z"
   },
   {
    "duration": 15,
    "start_time": "2022-08-14T13:48:56.967Z"
   },
   {
    "duration": 139,
    "start_time": "2022-08-14T13:48:56.984Z"
   },
   {
    "duration": 121,
    "start_time": "2022-08-14T13:48:57.125Z"
   },
   {
    "duration": 21,
    "start_time": "2022-08-14T13:48:57.247Z"
   },
   {
    "duration": 15,
    "start_time": "2022-08-14T13:48:57.270Z"
   },
   {
    "duration": 198,
    "start_time": "2022-08-14T13:48:57.287Z"
   },
   {
    "duration": 210,
    "start_time": "2022-08-14T13:48:57.487Z"
   },
   {
    "duration": 15,
    "start_time": "2022-08-14T13:48:57.698Z"
   },
   {
    "duration": 146,
    "start_time": "2022-08-14T13:48:57.714Z"
   },
   {
    "duration": 140,
    "start_time": "2022-08-14T13:48:57.862Z"
   },
   {
    "duration": 16,
    "start_time": "2022-08-14T13:48:58.003Z"
   },
   {
    "duration": 151,
    "start_time": "2022-08-14T13:48:58.021Z"
   },
   {
    "duration": 130,
    "start_time": "2022-08-14T13:48:58.174Z"
   },
   {
    "duration": 13,
    "start_time": "2022-08-14T13:48:58.306Z"
   },
   {
    "duration": 150,
    "start_time": "2022-08-14T13:48:58.320Z"
   },
   {
    "duration": 111,
    "start_time": "2022-08-14T13:48:58.472Z"
   },
   {
    "duration": 124,
    "start_time": "2022-08-14T13:48:58.585Z"
   },
   {
    "duration": 47,
    "start_time": "2022-08-14T13:48:58.710Z"
   },
   {
    "duration": 10,
    "start_time": "2022-08-14T13:48:58.758Z"
   },
   {
    "duration": 146,
    "start_time": "2022-08-14T13:48:58.770Z"
   },
   {
    "duration": 139,
    "start_time": "2022-08-14T13:48:58.919Z"
   },
   {
    "duration": 9,
    "start_time": "2022-08-14T13:48:59.059Z"
   },
   {
    "duration": 210,
    "start_time": "2022-08-14T13:48:59.070Z"
   },
   {
    "duration": 136,
    "start_time": "2022-08-14T13:48:59.282Z"
   },
   {
    "duration": 9,
    "start_time": "2022-08-14T13:48:59.420Z"
   },
   {
    "duration": 146,
    "start_time": "2022-08-14T13:48:59.430Z"
   },
   {
    "duration": 131,
    "start_time": "2022-08-14T13:48:59.578Z"
   },
   {
    "duration": 5,
    "start_time": "2022-08-14T13:48:59.711Z"
   },
   {
    "duration": 7,
    "start_time": "2022-08-14T13:48:59.718Z"
   },
   {
    "duration": 12,
    "start_time": "2022-08-14T13:48:59.726Z"
   },
   {
    "duration": 17,
    "start_time": "2022-08-14T13:48:59.739Z"
   },
   {
    "duration": 5,
    "start_time": "2022-08-14T13:48:59.757Z"
   },
   {
    "duration": 216,
    "start_time": "2022-08-14T13:48:59.763Z"
   }
  ],
  "kernelspec": {
   "display_name": "Python 3 (ipykernel)",
   "language": "python",
   "name": "python3"
  },
  "language_info": {
   "codemirror_mode": {
    "name": "ipython",
    "version": 3
   },
   "file_extension": ".py",
   "mimetype": "text/x-python",
   "name": "python",
   "nbconvert_exporter": "python",
   "pygments_lexer": "ipython3",
   "version": "3.9.5"
  },
  "toc": {
   "base_numbering": 1,
   "nav_menu": {},
   "number_sections": true,
   "sideBar": true,
   "skip_h1_title": true,
   "title_cell": "Table of Contents",
   "title_sidebar": "Contents",
   "toc_cell": false,
   "toc_position": {},
   "toc_section_display": true,
   "toc_window_display": false
  }
 },
 "nbformat": 4,
 "nbformat_minor": 2
}
